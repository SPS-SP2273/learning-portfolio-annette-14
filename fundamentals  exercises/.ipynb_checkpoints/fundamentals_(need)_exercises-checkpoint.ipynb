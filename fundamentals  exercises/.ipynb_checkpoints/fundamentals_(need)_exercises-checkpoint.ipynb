{
 "cells": [
  {
   "attachments": {},
   "cell_type": "markdown",
   "id": "123456",
   "metadata": {},
   "source": [
    "<div style=\"text-align:left;font-size:2em\"><span style=\"font-weight:bolder;font-size:1.25em\">SP2273 | Learning Portfolio</span><br><br><span style=\"font-weight:bold;color:darkred\">Fundamentals (Need) Exercises</span></div>"
   ]
  },
  {
   "cell_type": "markdown",
   "id": "5ee997e4-70d7-41fc-816d-3fec35c4c134",
   "metadata": {},
   "source": [
    "**Exercise 1**\n"
   ]
  },
  {
   "cell_type": "markdown",
   "id": "20295b63-5ba5-416b-b3ba-c91f5be61b86",
   "metadata": {},
   "source": [
    "basic python features\n",
    "- print()\n",
    "- if, else\n",
    "- -, +, *, /\n",
    "- import\n",
    "- help ()\n",
    "- ==, =/=\n",
    "- > , < , >= , <=\n",
    "- while \n",
    "- for... in...\n",
    "- if\n",
    "- type ()\n",
    "- int(), str(), float()\n",
    "- "
   ]
  },
  {
   "cell_type": "markdown",
   "id": "265e539a-b4ca-489c-bd4e-3dfc5128aa5e",
   "metadata": {},
   "source": [
    "**Exercise 2** \n"
   ]
  },
  {
   "cell_type": "code",
   "execution_count": 7,
   "id": "a5e107c3-154b-46a6-9692-dc8237969452",
   "metadata": {},
   "outputs": [
    {
     "ename": "IndentationError",
     "evalue": "unindent does not match any outer indentation level (<tokenize>, line 4)",
     "output_type": "error",
     "traceback": [
      "\u001b[0;36m  File \u001b[0;32m<tokenize>:4\u001b[0;36m\u001b[0m\n\u001b[0;31m    Print(x, y, z)\u001b[0m\n\u001b[0m    ^\u001b[0m\n\u001b[0;31mIndentationError\u001b[0m\u001b[0;31m:\u001b[0m unindent does not match any outer indentation level\n"
     ]
    }
   ],
   "source": [
    "#running the (not yet debugged) code given \n",
    "x, y = 3, 4\n",
    "       z = sqrt(x*2 + y**2) \n",
    "    Print(x, y, z) "
   ]
  },
  {
   "cell_type": "code",
   "execution_count": 9,
   "id": "9a1f302c-23d8-4b8d-975f-3226c980b6d9",
   "metadata": {},
   "outputs": [
    {
     "ename": "NameError",
     "evalue": "name 'sqrt' is not defined",
     "output_type": "error",
     "traceback": [
      "\u001b[0;31m---------------------------------------------------------------------------\u001b[0m",
      "\u001b[0;31mNameError\u001b[0m                                 Traceback (most recent call last)",
      "Cell \u001b[0;32mIn[9], line 4\u001b[0m\n\u001b[1;32m      1\u001b[0m \u001b[38;5;66;03m#fixing indentations and mathematical symbol\u001b[39;00m\n\u001b[1;32m      2\u001b[0m x, y \u001b[38;5;241m=\u001b[39m \u001b[38;5;241m3\u001b[39m, \u001b[38;5;241m4\u001b[39m\n\u001b[0;32m----> 4\u001b[0m z \u001b[38;5;241m=\u001b[39m \u001b[43msqrt\u001b[49m(x\u001b[38;5;241m*\u001b[39m\u001b[38;5;241m*\u001b[39m\u001b[38;5;241m2\u001b[39m \u001b[38;5;241m+\u001b[39m y\u001b[38;5;241m*\u001b[39m\u001b[38;5;241m*\u001b[39m\u001b[38;5;241m2\u001b[39m) \n\u001b[1;32m      6\u001b[0m Print(x, y, z) \n",
      "\u001b[0;31mNameError\u001b[0m: name 'sqrt' is not defined"
     ]
    }
   ],
   "source": [
    "#fixing indentations and mathematical symbol\n",
    "x, y = 3, 4\n",
    "\n",
    "z = sqrt(x**2 + y**2) \n",
    "\n",
    "Print(x, y, z) \n"
   ]
  },
  {
   "cell_type": "code",
   "execution_count": 11,
   "id": "91aca5df-8eb8-47da-8273-c27519457557",
   "metadata": {},
   "outputs": [
    {
     "name": "stdout",
     "output_type": "stream",
     "text": [
      "3 4 5.0\n"
     ]
    }
   ],
   "source": [
    "#changing 'P' to 'p' for print() and importing numpy so sqrt() works \n",
    "\n",
    "x, y = 3, 4\n",
    "\n",
    "import numpy \n",
    "z = numpy.sqrt(x**2 + y**2) \n",
    "\n",
    "print(x, y, z) \n"
   ]
  },
  {
   "cell_type": "code",
   "execution_count": 22,
   "id": "641de138-34b1-420e-ae3a-783cbc1a9069",
   "metadata": {},
   "outputs": [
    {
     "name": "stdout",
     "output_type": "stream",
     "text": [
      "One pythagorean triplet is ( 3 4 5 )\n"
     ]
    }
   ],
   "source": [
    "#making the value of z into an integer so that the final results are a little neater and making the answer a statement \n",
    "\n",
    "x, y = 3, 4\n",
    "\n",
    "import numpy \n",
    "z = numpy.sqrt(x**2 + y**2) \n",
    "z = int(z)\n",
    "\n",
    "print('One pythagorean triplet is', '(', x, y, z, ')') "
   ]
  },
  {
   "cell_type": "markdown",
   "id": "ffa7f809-79fe-4167-b937-9baf88408607",
   "metadata": {},
   "source": [
    "**Exercise 3**"
   ]
  },
  {
   "cell_type": "markdown",
   "id": "d989ad33-70d7-4c84-a0d7-02933918d987",
   "metadata": {},
   "source": [
    "|  #  | Term               | Description                                                        |\n",
    "|-----|--------------------|--------------------------------------------------------------------|\n",
    "|  1  | Function           | A function is a set of instructions in the form of a sequence of codes that may have been pre-defined in the lanugage (i.e commands) or can be designed through the 'def' command. This code can be reused to perform a specific tasks. \n",
    "|  2  | Arguments          | Arguments are the \n",
    "|  3  | Comments           | To assist in helping to understand the purpose and intention behind a block or a line of code. \n",
    "|  4  | Indentations       | Indentations are important in Python to indicate a block of code with changes in the number of indentations being indicative of new blocks of code. Indendations can be to indicate loop sequences. \n",
    "|  5  | Packages           | \n",
    "|  6  | .                  | To imply that the subject or the function after the dot belongs to a particular module which is a library of the programming language\n",
    "|  7  | :                  | \n",
    "|  8  | []                 | To indicate that the subjects (i.e numbers of worlds) within the brackets belong to the same list \n",
    "|  9  | [[[]]]             | \n",
    "|  10 | {}                 | "
   ]
  },
  {
   "cell_type": "code",
   "execution_count": null,
   "id": "1fd9456f-2736-4562-b458-68db8f9a866e",
   "metadata": {},
   "outputs": [],
   "source": [
    "print([2, 1, 3]. sort)\n"
   ]
  },
  {
   "cell_type": "code",
   "execution_count": 1,
   "id": "3c3554bd-d8c8-4a08-8b49-a86dff99f080",
   "metadata": {},
   "outputs": [
    {
     "name": "stdout",
     "output_type": "stream",
     "text": [
      "2.0\n"
     ]
    }
   ],
   "source": [
    "import math\n",
    "x = math.sqrt(4)\n",
    "print(x)"
   ]
  },
  {
   "cell_type": "code",
   "execution_count": 3,
   "id": "6af781dc-87b5-4a72-bfe1-e710e9a9c0b9",
   "metadata": {},
   "outputs": [
    {
     "name": "stdout",
     "output_type": "stream",
     "text": [
      "Haha\n",
      "None\n"
     ]
    }
   ],
   "source": [
    "output = print('Haha')\n",
    "print(output)"
   ]
  },
  {
   "cell_type": "code",
   "execution_count": 4,
   "id": "22c4c217-cc70-42ae-a959-b48b3accb377",
   "metadata": {},
   "outputs": [
    {
     "name": "stdout",
     "output_type": "stream",
     "text": [
      "Help on built-in function print in module builtins:\n",
      "\n",
      "print(*args, sep=' ', end='\\n', file=None, flush=False)\n",
      "    Prints the values to a stream, or to sys.stdout by default.\n",
      "    \n",
      "    sep\n",
      "      string inserted between values, default a space.\n",
      "    end\n",
      "      string appended after the last value, default a newline.\n",
      "    file\n",
      "      a file-like object (stream); defaults to the current sys.stdout.\n",
      "    flush\n",
      "      whether to forcibly flush the stream.\n",
      "\n"
     ]
    }
   ],
   "source": [
    "help (print)"
   ]
  },
  {
   "cell_type": "code",
   "execution_count": 14,
   "id": "d2f46d3e-75e4-4514-9e81-ee668091b91d",
   "metadata": {},
   "outputs": [
    {
     "ename": "SyntaxError",
     "evalue": "invalid syntax (1891414213.py, line 1)",
     "output_type": "error",
     "traceback": [
      "\u001b[0;36m  Cell \u001b[0;32mIn[14], line 1\u001b[0;36m\u001b[0m\n\u001b[0;31m    help (import)\u001b[0m\n\u001b[0m          ^\u001b[0m\n\u001b[0;31mSyntaxError\u001b[0m\u001b[0;31m:\u001b[0m invalid syntax\n"
     ]
    }
   ],
   "source": [
    "help (import)\n"
   ]
  },
  {
   "cell_type": "markdown",
   "id": "23a96f95-70f6-454c-b7d8-8c610dc14db1",
   "metadata": {},
   "source": [
    "**Exercise 4**"
   ]
  },
  {
   "cell_type": "code",
   "execution_count": 23,
   "id": "4cdf39da-e5dc-4f3a-ae68-847e742a3add",
   "metadata": {},
   "outputs": [
    {
     "data": {
      "text/plain": [
       "2.5"
      ]
     },
     "execution_count": 23,
     "metadata": {},
     "output_type": "execute_result"
    }
   ],
   "source": [
    "5/2           # What do I do?"
   ]
  },
  {
   "cell_type": "code",
   "execution_count": 24,
   "id": "93a047ee-4e60-4f99-bdec-b42e24b2fd22",
   "metadata": {},
   "outputs": [
    {
     "data": {
      "text/plain": [
       "2"
      ]
     },
     "execution_count": 24,
     "metadata": {},
     "output_type": "execute_result"
    }
   ],
   "source": [
    "5//2          # What do I do?"
   ]
  },
  {
   "cell_type": "code",
   "execution_count": 26,
   "id": "fee9fc3b-192c-45ce-a129-0fc633456088",
   "metadata": {},
   "outputs": [
    {
     "data": {
      "text/plain": [
       "1"
      ]
     },
     "execution_count": 26,
     "metadata": {},
     "output_type": "execute_result"
    }
   ],
   "source": [
    "5%2           # What do I do?"
   ]
  }
 ],
 "metadata": {
  "kernelspec": {
   "display_name": "Python 3 (ipykernel)",
   "language": "python",
   "name": "python3"
  },
  "language_info": {
   "codemirror_mode": {
    "name": "ipython",
    "version": 3
   },
   "file_extension": ".py",
   "mimetype": "text/x-python",
   "name": "python",
   "nbconvert_exporter": "python",
   "pygments_lexer": "ipython3",
   "version": "3.11.7"
  },
  "toc": {
   "base_numbering": 1,
   "nav_menu": {},
   "number_sections": true,
   "sideBar": true,
   "skip_h1_title": false,
   "title_cell": "Table of Contents",
   "title_sidebar": "Contents",
   "toc_cell": false,
   "toc_position": {},
   "toc_section_display": true,
   "toc_window_display": false
  },
  "vscode": {
   "interpreter": {
    "hash": "31f2aee4e71d21fbe5cf8b01ff0e069b9275f58929596ceb00d14d90e3e16cd6"
   }
  }
 },
 "nbformat": 4,
 "nbformat_minor": 5
}
