{
 "cells": [
  {
   "attachments": {},
   "cell_type": "markdown",
   "id": "123456",
   "metadata": {},
   "source": [
    "<div style=\"text-align:left;font-size:2em\"><span style=\"font-weight:bolder;font-size:1.25em\">SP2273 | Learning Portfolio</span><br><br><span style=\"font-weight:bold;color:darkred\">Fundamentals (Good) Exercises</span></div>"
   ]
  },
  {
   "cell_type": "markdown",
   "id": "1fad7e3e-ec35-4634-8300-fb398d7128f0",
   "metadata": {},
   "source": [
    "Step 1"
   ]
  },
  {
   "cell_type": "code",
   "execution_count": 1,
   "id": "7d86d6d6-d4a0-43ff-b5a2-af1cc74e9bda",
   "metadata": {},
   "outputs": [
    {
     "name": "stdin",
     "output_type": "stream",
     "text": [
      "Give me a number? 42\n"
     ]
    },
    {
     "name": "stdout",
     "output_type": "stream",
     "text": [
      "You entered 42\n"
     ]
    }
   ],
   "source": [
    "user_input = input('Give me a number?')\n",
    "print('You entered', user_input)"
   ]
  },
  {
   "cell_type": "markdown",
   "id": "9423eff6-6bdb-438e-8f9f-5fcd58ff45e9",
   "metadata": {},
   "source": [
    "Task: Write a Python program that takes a numerical grade (0-100) as input and outputs the corresponding letter grade based on the following criteria:\n",
    "\n",
    "|  Grade  |  Score range   |\n",
    "|:--------|---------------:|\n",
    "|    A    |   70 - 100     |\n",
    "|    B    |   50 - 69      |\n",
    "|    C    |   35 - 49      |\n",
    "|   Fail  |    0 - 34      |\n"
   ]
  },
  {
   "cell_type": "code",
   "execution_count": 4,
   "id": "69e433d8-b978-4eab-a4ef-8d476781170f",
   "metadata": {},
   "outputs": [
    {
     "name": "stdin",
     "output_type": "stream",
     "text": [
      "Enter the student's score: 70\n"
     ]
    }
   ],
   "source": [
    "\n",
    "score = input(\"Enter the student's score:\")\n",
    "score_number = int(score) \n",
    "\n",
    "\n",
    "while type(score) == int and score >= 0: \n",
    "    if 70 <= score <= 100:\n",
    "        grade = A \n",
    "        print(f\"The student's letter grade is:{grade}\")\n",
    "    elif 50 <= score <= 69:\n",
    "        grade = B\n",
    "        print(f\"The student's letter grade is:{grade}\")\n",
    "    elif 35 <= score <= 49:\n",
    "        grade = C \n",
    "        print(f\"The student's letter grade is:{grade}\")\n",
    "    elif 0 <= score <= 34:\n",
    "        grade = Fail \n",
    "        print(f\"The student's letter grade is:{grade}\")\n",
    "    else:\n",
    "        print (\"Invalid score entered.\")\n",
    "\n",
    "while type(score) == float:\n",
    "    print = (\"The score should be an integer.\")\n",
    "\n",
    "\n",
    "while score_number > 100 or score_number < 0: \n",
    "    print = (\"The score should be within 0 to 100.\")\n",
    "\n",
    "\n"
   ]
  }
 ],
 "metadata": {
  "kernelspec": {
   "display_name": "Python 3 (ipykernel)",
   "language": "python",
   "name": "python3"
  },
  "language_info": {
   "codemirror_mode": {
    "name": "ipython",
    "version": 3
   },
   "file_extension": ".py",
   "mimetype": "text/x-python",
   "name": "python",
   "nbconvert_exporter": "python",
   "pygments_lexer": "ipython3",
   "version": "3.11.7"
  },
  "toc": {
   "base_numbering": 1,
   "nav_menu": {},
   "number_sections": true,
   "sideBar": true,
   "skip_h1_title": false,
   "title_cell": "Table of Contents",
   "title_sidebar": "Contents",
   "toc_cell": false,
   "toc_position": {},
   "toc_section_display": true,
   "toc_window_display": false
  },
  "vscode": {
   "interpreter": {
    "hash": "31f2aee4e71d21fbe5cf8b01ff0e069b9275f58929596ceb00d14d90e3e16cd6"
   }
  }
 },
 "nbformat": 4,
 "nbformat_minor": 5
}
