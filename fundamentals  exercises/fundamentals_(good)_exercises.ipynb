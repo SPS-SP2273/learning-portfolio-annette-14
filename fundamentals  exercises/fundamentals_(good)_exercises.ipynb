{
 "cells": [
  {
   "attachments": {},
   "cell_type": "markdown",
   "id": "123456",
   "metadata": {},
   "source": [
    "<div style=\"text-align:left;font-size:2em\"><span style=\"font-weight:bolder;font-size:1.25em\">SP2273 | Learning Portfolio</span><br><br><span style=\"font-weight:bold;color:darkred\">Fundamentals (Good) Exercises</span></div>"
   ]
  },
  {
   "cell_type": "markdown",
   "id": "1fad7e3e-ec35-4634-8300-fb398d7128f0",
   "metadata": {},
   "source": [
    "Step 1"
   ]
  },
  {
   "cell_type": "code",
   "execution_count": 1,
   "id": "7d86d6d6-d4a0-43ff-b5a2-af1cc74e9bda",
   "metadata": {},
   "outputs": [
    {
     "name": "stdin",
     "output_type": "stream",
     "text": [
      "Give me a number? 42\n"
     ]
    },
    {
     "name": "stdout",
     "output_type": "stream",
     "text": [
      "You entered 42\n"
     ]
    }
   ],
   "source": [
    "user_input = input('Give me a number?')\n",
    "print('You entered', user_input)"
   ]
  },
  {
   "cell_type": "markdown",
   "id": "9423eff6-6bdb-438e-8f9f-5fcd58ff45e9",
   "metadata": {},
   "source": [
    "Task: Write a Python program that takes a numerical grade (0-100) as input and outputs the corresponding letter grade based on the following criteria:\n",
    "\n",
    "|  Grade  |  Score range   |\n",
    "|:--------|---------------:|\n",
    "|    A    |   70 - 100     |\n",
    "|    B    |   50 - 69      |\n",
    "|    C    |   35 - 49      |\n",
    "|   Fail  |    0 - 34      |\n"
   ]
  },
  {
   "cell_type": "code",
   "execution_count": 10,
   "id": "69e433d8-b978-4eab-a4ef-8d476781170f",
   "metadata": {},
   "outputs": [
    {
     "ename": "SyntaxError",
     "evalue": "invalid syntax (1631167239.py, line 18)",
     "output_type": "error",
     "traceback": [
      "\u001b[0;36m  Cell \u001b[0;32mIn[10], line 18\u001b[0;36m\u001b[0m\n\u001b[0;31m    while score < 0 or score > 100:\u001b[0m\n\u001b[0m    ^\u001b[0m\n\u001b[0;31mSyntaxError\u001b[0m\u001b[0;31m:\u001b[0m invalid syntax\n"
     ]
    }
   ],
   "source": [
    "score = int(input(\"Enter the student's score:\"))\n",
    "\n",
    "while type(score) == int and score >= 0: \n",
    "    if 70 <= score <= 100:\n",
    "        letter_grade = A \n",
    "    elif 50 <= score <= 69:\n",
    "        letter_grade = B\n",
    "    elif 35 <= score <= 49:\n",
    "        letter_grade = C \n",
    "    elif 0 <= score <= 34:\n",
    "        letter_grade = Fail \n",
    "    else:\n",
    "        print (\"Invalid score entered.\")\n",
    "\n",
    "while type(score) == float:\n",
    "    print = (\"Invalid input. The score should be an integer.\"\n",
    "\n",
    "while score < 0 or score > 100: \n",
    "    print = (\"Invalid input. The score should be within 0 to 100.\" \n",
    "\n",
    "print(f\"The student's letter grade is:{letter_grade}\")\n"
   ]
  },
  {
   "cell_type": "code",
   "execution_count": 3,
   "id": "79d207bc-24c1-4af3-abd4-91c43f55533b",
   "metadata": {},
   "outputs": [
    {
     "data": {
      "text/plain": [
       "float"
      ]
     },
     "execution_count": 3,
     "metadata": {},
     "output_type": "execute_result"
    }
   ],
   "source": [
    "type(3.33)"
   ]
  }
 ],
 "metadata": {
  "kernelspec": {
   "display_name": "Python 3 (ipykernel)",
   "language": "python",
   "name": "python3"
  },
  "language_info": {
   "codemirror_mode": {
    "name": "ipython",
    "version": 3
   },
   "file_extension": ".py",
   "mimetype": "text/x-python",
   "name": "python",
   "nbconvert_exporter": "python",
   "pygments_lexer": "ipython3",
   "version": "3.11.7"
  },
  "toc": {
   "base_numbering": 1,
   "nav_menu": {},
   "number_sections": true,
   "sideBar": true,
   "skip_h1_title": false,
   "title_cell": "Table of Contents",
   "title_sidebar": "Contents",
   "toc_cell": false,
   "toc_position": {},
   "toc_section_display": true,
   "toc_window_display": false
  },
  "vscode": {
   "interpreter": {
    "hash": "31f2aee4e71d21fbe5cf8b01ff0e069b9275f58929596ceb00d14d90e3e16cd6"
   }
  }
 },
 "nbformat": 4,
 "nbformat_minor": 5
}
