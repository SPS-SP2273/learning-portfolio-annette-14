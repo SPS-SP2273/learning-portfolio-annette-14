{
 "cells": [
  {
   "attachments": {},
   "cell_type": "markdown",
   "id": "123456",
   "metadata": {},
   "source": [
    "<div style=\"text-align:left;font-size:2em\"><span style=\"font-weight:bolder;font-size:1.25em\">SP2273 | Learning Portfolio</span><br><br><span style=\"font-weight:bold;color:darkred\">Fundamentals (Good) Exercises</span></div>"
   ]
  },
  {
   "cell_type": "markdown",
   "id": "1fad7e3e-ec35-4634-8300-fb398d7128f0",
   "metadata": {},
   "source": [
    "Step 1"
   ]
  },
  {
   "cell_type": "code",
   "execution_count": 1,
   "id": "7d86d6d6-d4a0-43ff-b5a2-af1cc74e9bda",
   "metadata": {},
   "outputs": [
    {
     "name": "stdin",
     "output_type": "stream",
     "text": [
      "Give me a number? 42\n"
     ]
    },
    {
     "name": "stdout",
     "output_type": "stream",
     "text": [
      "You entered 42\n"
     ]
    }
   ],
   "source": [
    "user_input = input('Give me a number?')\n",
    "print('You entered', user_input)"
   ]
  },
  {
   "cell_type": "markdown",
   "id": "9423eff6-6bdb-438e-8f9f-5fcd58ff45e9",
   "metadata": {},
   "source": [
    "## Task: Write a Python program that takes a numerical grade (0-100) as input and outputs the corresponding letter grade based on the following criteria:\n",
    "\n",
    "|  Grade  |  Score range   |\n",
    "|:--------|---------------:|\n",
    "|    A    |   70 - 100     |\n",
    "|    B    |   50 - 69      |\n",
    "|    C    |   35 - 49      |\n",
    "|   Fail  |    0 - 34      |\n",
    "\n",
    "NOTE: \n",
    "- PLEASE SCROLL ALL THE WAY DOWN TO THE 2nd LAST CELL FOR THE ANSWER. the other cells are just for me to keep track of why certain codes are wrong, why they are less efficient and to also just show my thinking process.\n",
    "- each cell contains multiple attempts to debug. however, some of the cells dont make much sense at all because i changed some parts halfway but forgot to delete the old part, or my thought process got disrupted and i decided to restart the whole code in another cell\n",
    "- would be rly much appreciated if you could help answer some of my questions in the last cell too! thank you very much <3"
   ]
  },
  {
   "cell_type": "code",
   "execution_count": 41,
   "id": "69e433d8-b978-4eab-a4ef-8d476781170f",
   "metadata": {},
   "outputs": [
    {
     "name": "stdin",
     "output_type": "stream",
     "text": [
      "Enter the student's score: 0\n"
     ]
    }
   ],
   "source": [
    "# didnt realise that input() gives a string and not numbers \n",
    "# int() has a round-down function. therefore, it will round down any numbers with non-zero decimals \n",
    "score = input(\"Enter the student's score:\")\n",
    "score_number = int(score) \n",
    "\n",
    "\n",
    "while type(score) == int and score_number >= 0: \n",
    "    if 70 <= score <= 100:\n",
    "        grade = 'A'\n",
    "        print(f\"The student's letter grade is:{grade}\")\n",
    "    elif 50 <= score <= 69:\n",
    "        grade = 'B'\n",
    "        print(f\"The student's letter grade is:{grade}\")\n",
    "    elif 35 <= score <= 49:\n",
    "        grade = 'C' \n",
    "        print(f\"The student's letter grade is:{grade}\")\n",
    "    elif 0 <= score <= 34:\n",
    "        grade = 'Fail'\n",
    "        print(f\"The student's letter grade is:{grade}\")\n",
    "    else: \n",
    "        print (\"Invalid score entered.\")\n",
    "\n",
    "if type(score) == float:\n",
    "    print = (\"The score should be an integer.\")\n",
    "\n",
    "\n",
    "if score_number > 100 or score_number < 0: \n",
    "    print = (\"The score should be within 0 to 100.\")\n"
   ]
  },
  {
   "cell_type": "code",
   "execution_count": 43,
   "id": "2a9a0988-506f-4f2b-9ad4-489d9f9d2c69",
   "metadata": {},
   "outputs": [
    {
     "name": "stdin",
     "output_type": "stream",
     "text": [
      "Enter the student's score: 10\n"
     ]
    },
    {
     "name": "stdout",
     "output_type": "stream",
     "text": [
      "The student's letter grade is:Fail\n"
     ]
    }
   ],
   "source": [
    "# trying to first get the error message for non-integers or negative numbers only e.g -10 and 2.2 but not for numbers like -7.3 or -33.4 \n",
    "# quotations must be entered around string \n",
    "\n",
    "score = input(\"Enter the student's score:\")\n",
    "score_int = int(score)\n",
    "\n",
    "if score_int - float(score) != 0:\n",
    "    print(\"Invalid score entered. The score should be an integer.\")\n",
    "\n",
    "if score_int > 100 or score_int < 0:\n",
    "    print(\"Invalid score entered. The score should be from 0 to 100.\")\n",
    "    \n",
    "else: \n",
    "    if 70 <= score_int <= 100:\n",
    "        grade = 'A'\n",
    "        print(f\"The student's letter grade is:{grade}\")\n",
    "    elif 50 <= score_int <= 69:\n",
    "        grade = 'B'\n",
    "        print(f\"The student's letter grade is:{grade}\")\n",
    "    elif 35 <= score_int <= 49:\n",
    "        grade = 'C' \n",
    "        print(f\"The student's letter grade is:{grade}\")\n",
    "    elif 0 <= score_int <= 34:\n",
    "        grade = 'Fail'\n",
    "        print(f\"The student's letter grade is:{grade}\")\n"
   ]
  },
  {
   "cell_type": "code",
   "execution_count": 2,
   "id": "de19905a-9afb-483a-a3d0-d8f6e6000abe",
   "metadata": {},
   "outputs": [
    {
     "name": "stdin",
     "output_type": "stream",
     "text": [
      "Enter the student's score: 10.2\n"
     ]
    },
    {
     "ename": "NameError",
     "evalue": "name 'score_int' is not defined",
     "output_type": "error",
     "traceback": [
      "\u001b[0;31m---------------------------------------------------------------------------\u001b[0m",
      "\u001b[0;31mNameError\u001b[0m                                 Traceback (most recent call last)",
      "Cell \u001b[0;32mIn[2], line 8\u001b[0m\n\u001b[1;32m      5\u001b[0m \u001b[38;5;28;01mexcept\u001b[39;00m: \n\u001b[1;32m      6\u001b[0m     \u001b[38;5;167;01mValueError\u001b[39;00m \n\u001b[0;32m----> 8\u001b[0m \u001b[38;5;28;01mif\u001b[39;00m \u001b[43mscore_int\u001b[49m \u001b[38;5;241m-\u001b[39m \u001b[38;5;28mfloat\u001b[39m(score) \u001b[38;5;241m!=\u001b[39m \u001b[38;5;241m0\u001b[39m:\n\u001b[1;32m      9\u001b[0m     \u001b[38;5;28mprint\u001b[39m(\u001b[38;5;124m\"\u001b[39m\u001b[38;5;124mInvalid score entered. The score should be an integer.\u001b[39m\u001b[38;5;124m\"\u001b[39m)\n\u001b[1;32m     11\u001b[0m \u001b[38;5;28;01melif\u001b[39;00m score_int \u001b[38;5;241m>\u001b[39m \u001b[38;5;241m100\u001b[39m \u001b[38;5;129;01mor\u001b[39;00m score_int \u001b[38;5;241m<\u001b[39m \u001b[38;5;241m0\u001b[39m:\n",
      "\u001b[0;31mNameError\u001b[0m: name 'score_int' is not defined"
     ]
    }
   ],
   "source": [
    "# experimented with try and except to beat the error caused by finding the int(score) which \n",
    "# question: referring to the python error message, why is it that sometimes python recognised score_int in the if block (after try-except) when i used this same code but didn't recognise it here?\n",
    "score = input(\"Enter the student's score:\")\n",
    "\n",
    "try: \n",
    "    score_int = int(score)\n",
    "except: \n",
    "    ValueError \n",
    "\n",
    "if score_int - float(score) != 0:\n",
    "    print(\"Invalid score entered. The score should be an integer.\")\n",
    "    \n",
    "elif score_int > 100 or score_int < 0:\n",
    "    print(\"Invalid score entered. The score should be from 0 to 100.\")\n",
    "\n",
    "else: \n",
    "    if 70 <= score_int <= 100:\n",
    "        grade = 'A'\n",
    "        print(f\"The student's letter grade is:{grade}\")\n",
    "    elif 50 <= score_int <= 69:\n",
    "        grade = 'B'\n",
    "        print(f\"The student's letter grade is:{grade}\")\n",
    "    elif 35 <= score_int <= 49:\n",
    "        grade = 'C' \n",
    "        print(f\"The student'letter grade is:{grade}\")\n",
    "    elif 0 <= score_int <= 34:\n",
    "        grade = 'Fail'\n",
    "        print(f\"The student's letter grade is:{grade}\")\n",
    "    "
   ]
  },
  {
   "cell_type": "code",
   "execution_count": 1,
   "id": "517ba543-a4c3-4d58-a288-66d858f58ce1",
   "metadata": {},
   "outputs": [
    {
     "ename": "SyntaxError",
     "evalue": "invalid syntax (1598823665.py, line 19)",
     "output_type": "error",
     "traceback": [
      "\u001b[0;36m  Cell \u001b[0;32mIn[1], line 19\u001b[0;36m\u001b[0m\n\u001b[0;31m    elif int_score is in list.range[1]:\u001b[0m\n\u001b[0m                      ^\u001b[0m\n\u001b[0;31mSyntaxError\u001b[0m\u001b[0;31m:\u001b[0m invalid syntax\n"
     ]
    }
   ],
   "source": [
    "# why is it that ValueError can be placed right after except before the colons but can also be placed in the next block of code after the colons?\n",
    "# this is a super messy code with many problems cos i wanted to try using key and value to make the code shorter and reduce the number of times 'print(f'the studen...)' as possible. \n",
    "# (continuing from above) i think im not quite familiar with that concept yet so i gave up on taking another many hours debugging the arrays/dictionaries \n",
    "\n",
    "score = input(\"Enter the student's score:\")\n",
    "\n",
    "try: \n",
    "    score_int = int(score)\n",
    "except ValueError:\n",
    "    print(\"Invalid score entered. The score should be an integer.\")\n",
    "\n",
    "    if score_int > 100 or score_int < 0:\n",
    "        print(\"Invalid score entered. The score should be from 0 to 100 and should be an integer.\")\n",
    "    else: \n",
    "        print(\"Invalid score entered. The score should be an integer.\")\n",
    "\n",
    "if 0 <= int_score <= 100:\n",
    "    list.range = [c(0,34), c(35,49), c(50,69), c(70,100)]\n",
    "    list.grades = [\"Fail\", \"C\", \"B\", \"A\"]\n",
    "    for x in list.range: \n",
    "        if int_score in list.range[0]:\n",
    "            print(f'The student\\'s letter grade is: {list.grades[0]}')\n",
    "        elif int_score is in list.range[1]: \n",
    "            print(f'The student\\'s letter grade is: {list.grades[1]}')\n",
    "        elif int_score is in list.range[2]:\n",
    "            print(f'The student\\'s letter grade is: {list.grades[2]}')\n",
    "        else int_score is in list.range[3]:\n",
    "            print(f'The student\\'s letter grade is: {list.grades[3]}')\n",
    "            \n",
    "   "
   ]
  },
  {
   "cell_type": "code",
   "execution_count": 5,
   "id": "eecca17d-0361-4ef0-a8fb-d5504f8c15f6",
   "metadata": {},
   "outputs": [
    {
     "name": "stdin",
     "output_type": "stream",
     "text": [
      "Enter the student's score: 10.2\n"
     ]
    },
    {
     "name": "stdout",
     "output_type": "stream",
     "text": [
      "Invalid input. Please enter an integer.\n"
     ]
    },
    {
     "ename": "NameError",
     "evalue": "name 'score_number' is not defined",
     "output_type": "error",
     "traceback": [
      "\u001b[0;31m---------------------------------------------------------------------------\u001b[0m",
      "\u001b[0;31mNameError\u001b[0m                                 Traceback (most recent call last)",
      "Cell \u001b[0;32mIn[5], line 9\u001b[0m\n\u001b[1;32m      6\u001b[0m     \u001b[38;5;28mprint\u001b[39m(\u001b[38;5;124m\"\u001b[39m\u001b[38;5;124mInvalid input. Please enter an integer.\u001b[39m\u001b[38;5;124m\"\u001b[39m)\n\u001b[1;32m      7\u001b[0m     exit()\n\u001b[0;32m----> 9\u001b[0m \u001b[38;5;28;01mif\u001b[39;00m \u001b[38;5;241m70\u001b[39m \u001b[38;5;241m<\u001b[39m\u001b[38;5;241m=\u001b[39m \u001b[43mscore_number\u001b[49m \u001b[38;5;241m<\u001b[39m\u001b[38;5;241m=\u001b[39m \u001b[38;5;241m100\u001b[39m:\n\u001b[1;32m     10\u001b[0m     grade \u001b[38;5;241m=\u001b[39m \u001b[38;5;124m'\u001b[39m\u001b[38;5;124mA\u001b[39m\u001b[38;5;124m'\u001b[39m\n\u001b[1;32m     11\u001b[0m     \u001b[38;5;28mprint\u001b[39m(\u001b[38;5;124mf\u001b[39m\u001b[38;5;124m\"\u001b[39m\u001b[38;5;124mThe student\u001b[39m\u001b[38;5;124m'\u001b[39m\u001b[38;5;124ms letter grade is: \u001b[39m\u001b[38;5;132;01m{\u001b[39;00mgrade\u001b[38;5;132;01m}\u001b[39;00m\u001b[38;5;124m\"\u001b[39m)\n",
      "\u001b[0;31mNameError\u001b[0m: name 'score_number' is not defined"
     ]
    }
   ],
   "source": [
    "# learning point from further down: else is for options/alternatives that are mutually exclusive while elif is for non-mutually exclusive. \n",
    "\n",
    "score = input(\"Enter the student's score:\")\n",
    "\n",
    "try:\n",
    "    score_number = int(score)\n",
    "except ValueError:\n",
    "    print(\"Invalid input. Please enter an integer.\")\n",
    "    exit()\n",
    "\n",
    "if 70 <= score_number <= 100:\n",
    "    grade = 'A'\n",
    "    print(f\"The student's letter grade is: {grade}\")\n",
    "elif 50 <= score_number <= 69:\n",
    "    grade = 'B'\n",
    "    print(f\"The student's letter grade is: {grade}\")\n",
    "elif 35 <= score_number <= 49:\n",
    "    grade = 'C'\n",
    "    print(f\"The student's letter grade is: {grade}\")\n",
    "elif 0 <= score_number <= 34:\n",
    "    grade = 'Fail'\n",
    "    print(f\"The student's letter grade is: {grade}\")\n",
    "else:\n",
    "    print(\"Invalid score entered. Score should be within 0 to 100.\")\n",
    "    exit()\n"
   ]
  },
  {
   "cell_type": "code",
   "execution_count": 24,
   "id": "88b29b94-802e-45ca-b610-7b0175de522c",
   "metadata": {},
   "outputs": [
    {
     "name": "stdin",
     "output_type": "stream",
     "text": [
      "Enter the student's score: -1.1\n"
     ]
    },
    {
     "name": "stdout",
     "output_type": "stream",
     "text": [
      "ugh\n"
     ]
    }
   ],
   "source": [
    "score = input(\"Enter the student's score:\")\n",
    "\n",
    "try: \n",
    "    score_int = int(score)\n",
    "except ValueError:\n",
    "    print\n",
    "\n",
    "if (score_int > 100 or score_int < 0) and (score_int - float(score)) != 0:\n",
    "    print(\"Invalid score entered. The score should be from 0 to 100 and should be an integer\")\n",
    "else: \n",
    "    print(\"ugh\")"
   ]
  },
  {
   "cell_type": "code",
   "execution_count": 44,
   "id": "4c6866b1-c06e-4fd0-8462-20eaed1f699a",
   "metadata": {},
   "outputs": [
    {
     "name": "stdout",
     "output_type": "stream",
     "text": [
      "range(1, 20)\n"
     ]
    }
   ],
   "source": [
    "# was practising to try to method using key and value concept of dictionaries \n",
    "\n",
    "x = range(1,20)\n",
    "print(x) \n"
   ]
  },
  {
   "cell_type": "code",
   "execution_count": 2,
   "id": "ec7a8253-0d56-4a7e-bb59-d3f7e99ce67d",
   "metadata": {},
   "outputs": [
    {
     "name": "stdin",
     "output_type": "stream",
     "text": [
      "Enter the student's score: 10.2\n"
     ]
    },
    {
     "name": "stdout",
     "output_type": "stream",
     "text": [
      "Invalid score entered. The score should be an integer.\n",
      "The student's letter grade is: Fail\n"
     ]
    }
   ],
   "source": [
    "#problematic since will print the letter grade despite invalid input\n",
    "\n",
    "score = input(\"Enter the student's score:\")\n",
    "\n",
    "try: \n",
    "    score_int = int(score)\n",
    "except ValueError:\n",
    "    print(\"Invalid score entered. The score should be an integer.\")\n",
    "\n",
    "if score_int < 0 or score_int > 100:\n",
    "    print(\"Invalid score entered. The score should be from 0 to 100.\")\n",
    "else: \n",
    "    if 70 <= score_int <= 100:\n",
    "        grade = 'A'\n",
    "        print(f\"The student's letter grade is: {grade}\")\n",
    "    elif 50 <= score_int <= 69:\n",
    "        grade = 'B'\n",
    "        print(f\"The student's letter grade is: {grade}\")\n",
    "    elif 35 <= score_int <= 49:\n",
    "        grade = 'C'\n",
    "        print(f\"The student's letter grade is: {grade}\")\n",
    "    elif 0 <= score_int <= 34:\n",
    "        grade = 'Fail'\n",
    "        print(f\"The student's letter grade is: {grade}\")\n"
   ]
  },
  {
   "cell_type": "code",
   "execution_count": 4,
   "id": "0c995571-8afb-4a91-a5bd-2a484e0ee714",
   "metadata": {},
   "outputs": [
    {
     "name": "stdin",
     "output_type": "stream",
     "text": [
      "Enter the student's score: -9.2\n"
     ]
    },
    {
     "name": "stdout",
     "output_type": "stream",
     "text": [
      "Invalid score entered. The score should be an integer.\n"
     ]
    }
   ],
   "source": [
    "#works but not in enough since cannot detect both out of range and not integer for -9.2 \n",
    "\n",
    "score = input(\"Enter the student's score:\")\n",
    "\n",
    "try: \n",
    "    score_int = int(score)\n",
    "except: \n",
    "    ValueError \n",
    "\n",
    "if (score_int > 100 or score_int < 0) and (score_int - float(score)) != 0:\n",
    "    print(\"Invalid score entered. The score should be from 0 to 100 and should be an integer\")\n",
    "\n",
    "elif score_int - float(score) != 0:\n",
    "    print(\"Invalid score entered. The score should be an integer.\")\n",
    "    \n",
    "elif score_int > 100 or score_int < 0:\n",
    "    print(\"Invalid score entered. The score should be from 0 to 100.\")\n",
    "\n",
    "else: \n",
    "    if 70 <= score_int <= 100:\n",
    "        grade = 'A'\n",
    "        print(f\"The student's letter grade is:{grade}\")\n",
    "    elif 50 <= score_int <= 69:\n",
    "        grade = 'B'\n",
    "        print(f\"The student's letter grade is:{grade}\")\n",
    "    elif 35 <= score_int <= 49:\n",
    "        grade = 'C' \n",
    "        print(f\"The student's letter grade is:{grade}\")\n",
    "    elif 0 <= score_int <= 34:\n",
    "        grade = 'Fail'\n",
    "        print(f\"The student's letter grade is:{grade}\")\n",
    "    "
   ]
  },
  {
   "cell_type": "code",
   "execution_count": 42,
   "id": "5898f0c7-fce2-409d-ba2f-ff516e8f307c",
   "metadata": {},
   "outputs": [
    {
     "name": "stdin",
     "output_type": "stream",
     "text": [
      "Enter the student's score: -100.1\n"
     ]
    },
    {
     "name": "stdout",
     "output_type": "stream",
     "text": [
      "Invalid score entered. The score should be from 0 to 100 and should be an integer\n"
     ]
    }
   ],
   "source": [
    "#FINAL ANSWER! have improved it to be able to detect a number that has non-zero decimals or be out of the range of 0 to 100 \n",
    "\n",
    "import math\n",
    "score = input(\"Enter the student's score:\")\n",
    "\n",
    "try: \n",
    "    score_int = int(score)\n",
    "except: \n",
    "    ValueError \n",
    "\n",
    "if (float(score) > 100 or float(score) < 0) and (float(score) - math.floor(float(score))) != 0:  #cannot use score_int here cos shld not recognised since defining was in try block\n",
    "    print(\"Invalid score entered. The score should be from 0 to 100 and should be an integer\")\n",
    "\n",
    "elif float(score) - math.floor(float(score)) != 0:\n",
    "    print(\"Invalid score entered. The score should be an integer.\")\n",
    "    \n",
    "elif float(score) > 100 or float(score) < 0:               #can use float here cos we are interested in comparing the abs value of score to check if got non-zero decimals\n",
    "    print(\"Invalid score entered. The score should be from 0 to 100.\")\n",
    "\n",
    "else: \n",
    "    if 70 <= score_int <= 100:    \n",
    "        grade = 'A'\n",
    "        print(f\"The student's letter grade is:{grade}\")\n",
    "    elif 50 <= score_int <= 69:\n",
    "        grade = 'B'\n",
    "        print(f\"The student's letter grade is:{grade}\")\n",
    "    elif 35 <= score_int <= 49:\n",
    "        grade = 'C' \n",
    "        print(f\"The student's letter grade is:{grade}\")\n",
    "    elif 0 <= score_int <= 34:                           # if-else is when the alternatives are mutually exclusive while if-elif is when the alternatives are not mutually exclusive, i.e a few alternatives can be true \n",
    "        grade = 'Fail'\n",
    "        print(f\"The student's letter grade is:{grade}\")\n"
   ]
  },
  {
   "cell_type": "markdown",
   "id": "050f8b10-b36c-4c2a-a7eb-4a8ef26f49f3",
   "metadata": {},
   "source": [
    "Questions:\n",
    "- question: is there a command to convert a string to a number but \n",
    "- why is it that when i include score_int d= int(score) in the try block but the subsequent code in the if block can recognise?\n",
    "- putting exit() in the except block right after the ValueError has no purpose right? \n",
    "- what command should i use if i want to stop the entire code the moment a condition is met? the except block, if the score cannot be converted into an integer, that means it is words or have non-zero decimals. if i want to end the code there without having to go through the huge if block after that, what command shld i use?\n",
    "- if my comment on the if-else and if-elif statements are right, does that as long as we have more than 2 alternatives (as in like 2 separate conditions), we use if-elif?"
   ]
  }
 ],
 "metadata": {
  "kernelspec": {
   "display_name": "Python 3 (ipykernel)",
   "language": "python",
   "name": "python3"
  },
  "language_info": {
   "codemirror_mode": {
    "name": "ipython",
    "version": 3
   },
   "file_extension": ".py",
   "mimetype": "text/x-python",
   "name": "python",
   "nbconvert_exporter": "python",
   "pygments_lexer": "ipython3",
   "version": "3.11.7"
  },
  "toc": {
   "base_numbering": 1,
   "nav_menu": {},
   "number_sections": true,
   "sideBar": true,
   "skip_h1_title": false,
   "title_cell": "Table of Contents",
   "title_sidebar": "Contents",
   "toc_cell": false,
   "toc_position": {},
   "toc_section_display": true,
   "toc_window_display": false
  },
  "vscode": {
   "interpreter": {
    "hash": "31f2aee4e71d21fbe5cf8b01ff0e069b9275f58929596ceb00d14d90e3e16cd6"
   }
  }
 },
 "nbformat": 4,
 "nbformat_minor": 5
}
