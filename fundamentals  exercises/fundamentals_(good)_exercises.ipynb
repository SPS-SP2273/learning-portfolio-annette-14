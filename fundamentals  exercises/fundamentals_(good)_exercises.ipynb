{
 "cells": [
  {
   "attachments": {},
   "cell_type": "markdown",
   "id": "123456",
   "metadata": {},
   "source": [
    "<div style=\"text-align:left;font-size:2em\"><span style=\"font-weight:bolder;font-size:1.25em\">SP2273 | Learning Portfolio</span><br><br><span style=\"font-weight:bold;color:darkred\">Fundamentals (Good) Exercises</span></div>"
   ]
  },
  {
   "cell_type": "markdown",
   "id": "1fad7e3e-ec35-4634-8300-fb398d7128f0",
   "metadata": {},
   "source": [
    "Step 1"
   ]
  },
  {
   "cell_type": "code",
   "execution_count": 1,
   "id": "7d86d6d6-d4a0-43ff-b5a2-af1cc74e9bda",
   "metadata": {},
   "outputs": [
    {
     "name": "stdin",
     "output_type": "stream",
     "text": [
      "Give me a number? 42\n"
     ]
    },
    {
     "name": "stdout",
     "output_type": "stream",
     "text": [
      "You entered 42\n"
     ]
    }
   ],
   "source": [
    "user_input = input('Give me a number?')\n",
    "print('You entered', user_input)"
   ]
  },
  {
   "cell_type": "markdown",
   "id": "9423eff6-6bdb-438e-8f9f-5fcd58ff45e9",
   "metadata": {},
   "source": [
    "Task: Write a Python program that takes a numerical grade (0-100) as input and outputs the corresponding letter grade based on the following criteria:\n",
    "\n",
    "|  Grade  |  Score range   |\n",
    "|:--------|---------------:|\n",
    "|    A    |   70 - 100     |\n",
    "|    B    |   50 - 69      |\n",
    "|    C    |   35 - 49      |\n",
    "|   Fail  |    0 - 34      |\n"
   ]
  },
  {
   "cell_type": "code",
   "execution_count": 11,
   "id": "69e433d8-b978-4eab-a4ef-8d476781170f",
   "metadata": {},
   "outputs": [
    {
     "name": "stdin",
     "output_type": "stream",
     "text": [
      "Enter the student's score: 90\n"
     ]
    }
   ],
   "source": [
    "\n",
    "score = input(\"Enter the student's score:\")\n",
    "score_number = int(score) \n",
    "\n",
    "\n",
    "while type(score) == int and score_number >= 0: \n",
    "    if 70 <= score <= 100:\n",
    "        grade = 'A'\n",
    "        print(f\"The student's letter grade is:{grade}\")\n",
    "    elif 50 <= score <= 69:\n",
    "        grade = 'B'\n",
    "        print(f\"The student's letter grade is:{grade}\")\n",
    "    elif 35 <= score <= 49:\n",
    "        grade = 'C' \n",
    "        print(f\"The student's letter grade is:{grade}\")\n",
    "    elif 0 <= score <= 34:\n",
    "        grade = 'Fail'\n",
    "        print(f\"The student's letter grade is:{grade}\")\n",
    "    else: \n",
    "        print (\"Invalid score entered.\")\n",
    "\n",
    "if type(score) == float:\n",
    "    print = (\"The score should be an integer.\")\n",
    "\n",
    "\n",
    "if score_number > 100 or score_number < 0: \n",
    "    print = (\"The score should be within 0 to 100.\")\n"
   ]
  },
  {
   "cell_type": "code",
   "execution_count": 18,
   "id": "2a9a0988-506f-4f2b-9ad4-489d9f9d2c69",
   "metadata": {},
   "outputs": [
    {
     "name": "stdin",
     "output_type": "stream",
     "text": [
      "Enter the student's score: 60.5\n"
     ]
    },
    {
     "ename": "ValueError",
     "evalue": "invalid literal for int() with base 10: '60.5'",
     "output_type": "error",
     "traceback": [
      "\u001b[0;31m---------------------------------------------------------------------------\u001b[0m",
      "\u001b[0;31mValueError\u001b[0m                                Traceback (most recent call last)",
      "Cell \u001b[0;32mIn[18], line 2\u001b[0m\n\u001b[1;32m      1\u001b[0m score \u001b[38;5;241m=\u001b[39m \u001b[38;5;28minput\u001b[39m(\u001b[38;5;124m\"\u001b[39m\u001b[38;5;124mEnter the student\u001b[39m\u001b[38;5;124m'\u001b[39m\u001b[38;5;124ms score:\u001b[39m\u001b[38;5;124m\"\u001b[39m)\n\u001b[0;32m----> 2\u001b[0m score_int \u001b[38;5;241m=\u001b[39m \u001b[38;5;28;43mint\u001b[39;49m\u001b[43m(\u001b[49m\u001b[43mscore\u001b[49m\u001b[43m)\u001b[49m\n\u001b[1;32m      4\u001b[0m \u001b[38;5;28;01mif\u001b[39;00m score_int \u001b[38;5;241m-\u001b[39m \u001b[38;5;28mfloat\u001b[39m(score) \u001b[38;5;241m!=\u001b[39m \u001b[38;5;241m0\u001b[39m:\n\u001b[1;32m      5\u001b[0m     \u001b[38;5;28mprint\u001b[39m(\u001b[38;5;124m\"\u001b[39m\u001b[38;5;124mInvalid score entered. The score should be an integer.\u001b[39m\u001b[38;5;124m\"\u001b[39m)\n",
      "\u001b[0;31mValueError\u001b[0m: invalid literal for int() with base 10: '60.5'"
     ]
    }
   ],
   "source": [
    "score = input(\"Enter the student's score:\")\n",
    "score_int = int(score)\n",
    "\n",
    "if score_int - float(score) != 0:\n",
    "    print(\"Invalid score entered. The score should be an integer.\")\n",
    "\n",
    "if score_int > 100 or score_int < 0:\n",
    "    print(\"Invalid score entered. The score should be from 0 to 100.\")\n",
    "    \n",
    "else: \n",
    "    if 70 <= score_int <= 100:\n",
    "        grade = 'A'\n",
    "        print(f\"The student's letter grade is:{grade}\")\n",
    "    elif 50 <= score_int <= 69:\n",
    "        grade = 'B'\n",
    "        print(f\"The student's letter grade is:{grade}\")\n",
    "    elif 35 <= score_int <= 49:\n",
    "        grade = 'C' \n",
    "        print(f\"The student's letter grade is:{grade}\")\n",
    "    elif 0 <= score_int <= 34:\n",
    "        grade = 'Fail'\n",
    "        print(f\"The student's letter grade is:{grade}\")\n"
   ]
  },
  {
   "cell_type": "code",
   "execution_count": 20,
   "id": "de19905a-9afb-483a-a3d0-d8f6e6000abe",
   "metadata": {},
   "outputs": [
    {
     "name": "stdin",
     "output_type": "stream",
     "text": [
      "Enter the student's score: -1.1\n"
     ]
    },
    {
     "name": "stdout",
     "output_type": "stream",
     "text": [
      "Invalid score entered. The score should be an integer.\n"
     ]
    }
   ],
   "source": [
    "score = input(\"Enter the student's score:\")\n",
    "\n",
    "try: \n",
    "    score_int = int(score)\n",
    "except: \n",
    "    ValueError \n",
    "\n",
    "if score_int - float(score) != 0:\n",
    "    print(\"Invalid score entered. The score should be an integer.\")\n",
    "    \n",
    "elif score_int > 100 or score_int < 0:\n",
    "    print(\"Invalid score entered. The score should be from 0 to 100.\")\n",
    "\n",
    "else: \n",
    "    if 70 <= score_int <= 100:\n",
    "        grade = 'A'\n",
    "        print(f\"The student's letter grade is:{grade}\")\n",
    "    elif 50 <= score_int <= 69:\n",
    "        grade = 'B'\n",
    "        print(f\"The student's letter grade is:{grade}\")\n",
    "    elif 35 <= score_int <= 49:\n",
    "        grade = 'C' \n",
    "        print(f\"The student's letter grade is:{grade}\")\n",
    "    elif 0 <= score_int <= 34:\n",
    "        grade = 'Fail'\n",
    "        print(f\"The student's letter grade is:{grade}\")\n",
    "    "
   ]
  },
  {
   "cell_type": "code",
   "execution_count": 23,
   "id": "517ba543-a4c3-4d58-a288-66d858f58ce1",
   "metadata": {},
   "outputs": [
    {
     "name": "stdin",
     "output_type": "stream",
     "text": [
      "Enter the student's score: -1.1\n"
     ]
    },
    {
     "name": "stdout",
     "output_type": "stream",
     "text": [
      "Invalid score entered. The score should be an integer.\n"
     ]
    }
   ],
   "source": [
    "score = input(\"Enter the student's score:\")\n",
    "\n",
    "try: \n",
    "    score_int = int(score)\n",
    "except: \n",
    "    ValueError \n",
    "\n",
    "if (score_int > 100 or score_int < 0) and (score_int - float(score)) != 0:\n",
    "    print(\"Invalid score entered. The score should be from 0 to 100 and should be an integer\")\n",
    "\n",
    "elif score_int - float(score) != 0:\n",
    "    print(\"Invalid score entered. The score should be an integer.\")\n",
    "    \n",
    "elif score_int > 100 or score_int < 0:\n",
    "    print(\"Invalid score entered. The score should be from 0 to 100.\")\n",
    "\n",
    "else: \n",
    "    if 70 <= score_int <= 100:\n",
    "        grade = 'A'\n",
    "        print(f\"The student's letter grade is:{grade}\")\n",
    "    elif 50 <= score_int <= 69:\n",
    "        grade = 'B'\n",
    "        print(f\"The student's letter grade is:{grade}\")\n",
    "    elif 35 <= score_int <= 49:\n",
    "        grade = 'C' \n",
    "        print(f\"The student's letter grade is:{grade}\")\n",
    "    elif 0 <= score_int <= 34:\n",
    "        grade = 'Fail'\n",
    "        print(f\"The student's letter grade is:{grade}\")\n",
    "    "
   ]
  },
  {
   "cell_type": "code",
   "execution_count": 7,
   "id": "eecca17d-0361-4ef0-a8fb-d5504f8c15f6",
   "metadata": {},
   "outputs": [
    {
     "name": "stdin",
     "output_type": "stream",
     "text": [
      "Enter the student's score: 80\n"
     ]
    },
    {
     "name": "stdout",
     "output_type": "stream",
     "text": [
      "The student's letter grade is: A\n"
     ]
    }
   ],
   "source": [
    "score = input(\"Enter the student's score:\")\n",
    "\n",
    "try:\n",
    "    score_number = int(score)\n",
    "except ValueError:\n",
    "    print(\"Invalid input. Please enter an integer.\")\n",
    "    exit()\n",
    "\n",
    "if 70 <= score_number <= 100:\n",
    "    grade = 'A'\n",
    "    print(f\"The student's letter grade is: {grade}\")\n",
    "elif 50 <= score_number <= 69:\n",
    "    grade = 'B'\n",
    "    print(f\"The student's letter grade is: {grade}\")\n",
    "elif 35 <= score_number <= 49:\n",
    "    grade = 'C'\n",
    "    print(f\"The student's letter grade is: {grade}\")\n",
    "elif 0 <= score_number <= 34:\n",
    "    grade = 'Fail'\n",
    "    print(f\"The student's letter grade is: {grade}\")\n",
    "else:\n",
    "    print(\"Invalid score entered. Score should be within 0 to 100.\")\n",
    "    exit()\n"
   ]
  },
  {
   "cell_type": "code",
   "execution_count": 24,
   "id": "88b29b94-802e-45ca-b610-7b0175de522c",
   "metadata": {},
   "outputs": [
    {
     "name": "stdin",
     "output_type": "stream",
     "text": [
      "Enter the student's score: -1.1\n"
     ]
    },
    {
     "name": "stdout",
     "output_type": "stream",
     "text": [
      "ugh\n"
     ]
    }
   ],
   "source": [
    "score = input(\"Enter the student's score:\")\n",
    "\n",
    "try: \n",
    "    score_int = int(score)\n",
    "except: \n",
    "    ValueError \n",
    "\n",
    "if (score_int > 100 or score_int < 0) and (score_int - float(score)) != 0:\n",
    "    print(\"Invalid score entered. The score should be from 0 to 100 and should be an integer\")\n",
    "else: \n",
    "    print(\"ugh\")"
   ]
  }
 ],
 "metadata": {
  "kernelspec": {
   "display_name": "Python 3 (ipykernel)",
   "language": "python",
   "name": "python3"
  },
  "language_info": {
   "codemirror_mode": {
    "name": "ipython",
    "version": 3
   },
   "file_extension": ".py",
   "mimetype": "text/x-python",
   "name": "python",
   "nbconvert_exporter": "python",
   "pygments_lexer": "ipython3",
   "version": "3.11.7"
  },
  "toc": {
   "base_numbering": 1,
   "nav_menu": {},
   "number_sections": true,
   "sideBar": true,
   "skip_h1_title": false,
   "title_cell": "Table of Contents",
   "title_sidebar": "Contents",
   "toc_cell": false,
   "toc_position": {},
   "toc_section_display": true,
   "toc_window_display": false
  },
  "vscode": {
   "interpreter": {
    "hash": "31f2aee4e71d21fbe5cf8b01ff0e069b9275f58929596ceb00d14d90e3e16cd6"
   }
  }
 },
 "nbformat": 4,
 "nbformat_minor": 5
}
