{
 "cells": [
  {
   "attachments": {},
   "cell_type": "markdown",
   "id": "123456",
   "metadata": {},
   "source": [
    "<div style=\"text-align:left;font-size:2em\"><span style=\"font-weight:bolder;font-size:1.25em\">SP2273 | Learning Portfolio</span><br><br><span style=\"font-weight:bold;color:darkred\">Fundamentals (Need) Exercises</span></div>"
   ]
  },
  {
   "cell_type": "markdown",
   "id": "5ee997e4-70d7-41fc-816d-3fec35c4c134",
   "metadata": {},
   "source": [
    "**Exercise 1**\n"
   ]
  },
  {
   "cell_type": "markdown",
   "id": "20295b63-5ba5-416b-b3ba-c91f5be61b86",
   "metadata": {},
   "source": [
    "\n",
    "- print()\n",
    "- if, else\n",
    "- -, +, *, /\n",
    "- import\n",
    "- help ()\n",
    "- ==, =/=\n",
    "- > , < , >= , <="
   ]
  },
  {
   "cell_type": "markdown",
   "id": "265e539a-b4ca-489c-bd4e-3dfc5128aa5e",
   "metadata": {},
   "source": [
    "**Exercise 2** \n"
   ]
  },
  {
   "cell_type": "code",
   "execution_count": 7,
   "id": "a5e107c3-154b-46a6-9692-dc8237969452",
   "metadata": {},
   "outputs": [
    {
     "ename": "IndentationError",
     "evalue": "unindent does not match any outer indentation level (<tokenize>, line 4)",
     "output_type": "error",
     "traceback": [
      "\u001b[0;36m  File \u001b[0;32m<tokenize>:4\u001b[0;36m\u001b[0m\n\u001b[0;31m    Print(x, y, z)\u001b[0m\n\u001b[0m    ^\u001b[0m\n\u001b[0;31mIndentationError\u001b[0m\u001b[0;31m:\u001b[0m unindent does not match any outer indentation level\n"
     ]
    }
   ],
   "source": [
    "#running the (not yet debugged) code given \n",
    "x, y = 3, 4\n",
    "       z = sqrt(x*2 + y**2) \n",
    "    Print(x, y, z) "
   ]
  },
  {
   "cell_type": "code",
   "execution_count": 9,
   "id": "9a1f302c-23d8-4b8d-975f-3226c980b6d9",
   "metadata": {},
   "outputs": [
    {
     "ename": "NameError",
     "evalue": "name 'sqrt' is not defined",
     "output_type": "error",
     "traceback": [
      "\u001b[0;31m---------------------------------------------------------------------------\u001b[0m",
      "\u001b[0;31mNameError\u001b[0m                                 Traceback (most recent call last)",
      "Cell \u001b[0;32mIn[9], line 4\u001b[0m\n\u001b[1;32m      1\u001b[0m \u001b[38;5;66;03m#fixing indentations and mathematical symbol\u001b[39;00m\n\u001b[1;32m      2\u001b[0m x, y \u001b[38;5;241m=\u001b[39m \u001b[38;5;241m3\u001b[39m, \u001b[38;5;241m4\u001b[39m\n\u001b[0;32m----> 4\u001b[0m z \u001b[38;5;241m=\u001b[39m \u001b[43msqrt\u001b[49m(x\u001b[38;5;241m*\u001b[39m\u001b[38;5;241m*\u001b[39m\u001b[38;5;241m2\u001b[39m \u001b[38;5;241m+\u001b[39m y\u001b[38;5;241m*\u001b[39m\u001b[38;5;241m*\u001b[39m\u001b[38;5;241m2\u001b[39m) \n\u001b[1;32m      6\u001b[0m Print(x, y, z) \n",
      "\u001b[0;31mNameError\u001b[0m: name 'sqrt' is not defined"
     ]
    }
   ],
   "source": [
    "#fixing indentations and mathematical symbol\n",
    "x, y = 3, 4\n",
    "\n",
    "z = sqrt(x**2 + y**2) \n",
    "\n",
    "Print(x, y, z) \n"
   ]
  },
  {
   "cell_type": "code",
   "execution_count": 11,
   "id": "91aca5df-8eb8-47da-8273-c27519457557",
   "metadata": {},
   "outputs": [
    {
     "name": "stdout",
     "output_type": "stream",
     "text": [
      "3 4 5.0\n"
     ]
    }
   ],
   "source": [
    "#changing 'P' to 'p' for print() and importing numpy so sqrt() works \n",
    "\n",
    "x, y = 3, 4\n",
    "\n",
    "import numpy \n",
    "z = numpy.sqrt(x**2 + y**2) \n",
    "\n",
    "print(x, y, z) \n"
   ]
  },
  {
   "cell_type": "code",
   "execution_count": 22,
   "id": "641de138-34b1-420e-ae3a-783cbc1a9069",
   "metadata": {},
   "outputs": [
    {
     "name": "stdout",
     "output_type": "stream",
     "text": [
      "One pythagorean triplet is ( 3 4 5 )\n"
     ]
    }
   ],
   "source": [
    "#making the value of z into an integer so that the final results are a little neater and making the answer a statement \n",
    "\n",
    "x, y = 3, 4\n",
    "\n",
    "import numpy \n",
    "z = numpy.sqrt(x**2 + y**2) \n",
    "z = int(z)\n",
    "\n",
    "print('One pythagorean triplet is', '(', x, y, z, ')') "
   ]
  },
  {
   "cell_type": "markdown",
   "id": "ffa7f809-79fe-4167-b937-9baf88408607",
   "metadata": {},
   "source": [
    "**Exercise 3**"
   ]
  },
  {
   "cell_type": "markdown",
   "id": "d989ad33-70d7-4c84-a0d7-02933918d987",
   "metadata": {},
   "source": [
    "|  #  | Term               | Description                                                        |\n",
    "|-----|--------------------|--------------------------------------------------------------------|\n",
    "|  1  | Function           | \n",
    "|  2  | Arguments          | \n",
    "|  3  | Comments           |  \n",
    "|  4  | Indentations       | \n",
    "|  5  | Packages           | \n",
    "|  6  | .                  | \n",
    "|  7  | :                  |\n",
    "|  8  | []                 | \n",
    "|  9  | [[[]]]             | \n",
    "|  10 | {}                 | "
   ]
  },
  {
   "cell_type": "markdown",
   "id": "23a96f95-70f6-454c-b7d8-8c610dc14db1",
   "metadata": {},
   "source": [
    "**Exercise 4**"
   ]
  },
  {
   "cell_type": "code",
   "execution_count": 23,
   "id": "4cdf39da-e5dc-4f3a-ae68-847e742a3add",
   "metadata": {},
   "outputs": [
    {
     "data": {
      "text/plain": [
       "2.5"
      ]
     },
     "execution_count": 23,
     "metadata": {},
     "output_type": "execute_result"
    }
   ],
   "source": [
    "5/2           # What do I do?"
   ]
  },
  {
   "cell_type": "code",
   "execution_count": 24,
   "id": "93a047ee-4e60-4f99-bdec-b42e24b2fd22",
   "metadata": {},
   "outputs": [
    {
     "data": {
      "text/plain": [
       "2"
      ]
     },
     "execution_count": 24,
     "metadata": {},
     "output_type": "execute_result"
    }
   ],
   "source": [
    "5//2          # What do I do?"
   ]
  },
  {
   "cell_type": "code",
   "execution_count": 26,
   "id": "fee9fc3b-192c-45ce-a129-0fc633456088",
   "metadata": {},
   "outputs": [
    {
     "data": {
      "text/plain": [
       "1"
      ]
     },
     "execution_count": 26,
     "metadata": {},
     "output_type": "execute_result"
    }
   ],
   "source": [
    "5%2           # What do I do?"
   ]
  }
 ],
 "metadata": {
  "kernelspec": {
   "display_name": "Python 3 (ipykernel)",
   "language": "python",
   "name": "python3"
  },
  "language_info": {
   "codemirror_mode": {
    "name": "ipython",
    "version": 3
   },
   "file_extension": ".py",
   "mimetype": "text/x-python",
   "name": "python",
   "nbconvert_exporter": "python",
   "pygments_lexer": "ipython3",
   "version": "3.11.7"
  },
  "toc": {
   "base_numbering": 1,
   "nav_menu": {},
   "number_sections": true,
   "sideBar": true,
   "skip_h1_title": false,
   "title_cell": "Table of Contents",
   "title_sidebar": "Contents",
   "toc_cell": false,
   "toc_position": {},
   "toc_section_display": true,
   "toc_window_display": false
  },
  "vscode": {
   "interpreter": {
    "hash": "31f2aee4e71d21fbe5cf8b01ff0e069b9275f58929596ceb00d14d90e3e16cd6"
   }
  }
 },
 "nbformat": 4,
 "nbformat_minor": 5
}
