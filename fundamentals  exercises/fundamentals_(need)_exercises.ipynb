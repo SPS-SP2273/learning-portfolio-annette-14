{
 "cells": [
  {
   "attachments": {},
   "cell_type": "markdown",
   "id": "123456",
   "metadata": {},
   "source": [
    "<div style=\"text-align:left;font-size:2em\"><span style=\"font-weight:bolder;font-size:1.25em\">SP2273 | Learning Portfolio</span><br><br><span style=\"font-weight:bold;color:darkred\">Fundamentals (Need) Exercises</span></div>"
   ]
  },
  {
   "cell_type": "markdown",
   "id": "5ee997e4-70d7-41fc-816d-3fec35c4c134",
   "metadata": {},
   "source": [
    "**Exercise 1**\n"
   ]
  },
  {
   "cell_type": "markdown",
   "id": "80b18f3b-7db7-4403-bfaa-b56a91fe4f2d",
   "metadata": {},
   "source": [
    "## basic python features\n",
    "\n",
    "- print()\n",
    "- if, else\n",
    "- -, +, *, /\n",
    "- import\n",
    "- help ()\n",
    "- ==, =/=\n",
    "- > , < , >= , <=\n",
    "- while \n",
    "- for... in...\n",
    "- if\n",
    "- type ()\n",
    "- int(), str(), float()\n",
    "\n",
    "- _exit()_\n",
    "- _=_\n",
    "- _indentations_\n",
    "- _packages_\n",
    "- _variables_\n",
    "- _brackets, '[', '(', '{'"
   ]
  },
  {
   "cell_type": "markdown",
   "id": "265e539a-b4ca-489c-bd4e-3dfc5128aa5e",
   "metadata": {},
   "source": [
    "**Exercise 2** \n"
   ]
  },
  {
   "cell_type": "code",
   "execution_count": 7,
   "id": "a5e107c3-154b-46a6-9692-dc8237969452",
   "metadata": {},
   "outputs": [
    {
     "ename": "IndentationError",
     "evalue": "unindent does not match any outer indentation level (<tokenize>, line 4)",
     "output_type": "error",
     "traceback": [
      "\u001b[0;36m  File \u001b[0;32m<tokenize>:4\u001b[0;36m\u001b[0m\n\u001b[0;31m    Print(x, y, z)\u001b[0m\n\u001b[0m    ^\u001b[0m\n\u001b[0;31mIndentationError\u001b[0m\u001b[0;31m:\u001b[0m unindent does not match any outer indentation level\n"
     ]
    }
   ],
   "source": [
    "#running the (not yet debugged) code given \n",
    "x, y = 3, 4\n",
    "       z = sqrt(x*2 + y**2) \n",
    "    Print(x, y, z) "
   ]
  },
  {
   "cell_type": "code",
   "execution_count": 9,
   "id": "9a1f302c-23d8-4b8d-975f-3226c980b6d9",
   "metadata": {},
   "outputs": [
    {
     "ename": "NameError",
     "evalue": "name 'sqrt' is not defined",
     "output_type": "error",
     "traceback": [
      "\u001b[0;31m---------------------------------------------------------------------------\u001b[0m",
      "\u001b[0;31mNameError\u001b[0m                                 Traceback (most recent call last)",
      "Cell \u001b[0;32mIn[9], line 4\u001b[0m\n\u001b[1;32m      1\u001b[0m \u001b[38;5;66;03m#fixing indentations and mathematical symbol\u001b[39;00m\n\u001b[1;32m      2\u001b[0m x, y \u001b[38;5;241m=\u001b[39m \u001b[38;5;241m3\u001b[39m, \u001b[38;5;241m4\u001b[39m\n\u001b[0;32m----> 4\u001b[0m z \u001b[38;5;241m=\u001b[39m \u001b[43msqrt\u001b[49m(x\u001b[38;5;241m*\u001b[39m\u001b[38;5;241m*\u001b[39m\u001b[38;5;241m2\u001b[39m \u001b[38;5;241m+\u001b[39m y\u001b[38;5;241m*\u001b[39m\u001b[38;5;241m*\u001b[39m\u001b[38;5;241m2\u001b[39m) \n\u001b[1;32m      6\u001b[0m Print(x, y, z) \n",
      "\u001b[0;31mNameError\u001b[0m: name 'sqrt' is not defined"
     ]
    }
   ],
   "source": [
    "#fixing indentations and mathematical symbol\n",
    "x, y = 3, 4\n",
    "\n",
    "z = sqrt(x**2 + y**2) \n",
    "\n",
    "Print(x, y, z) \n"
   ]
  },
  {
   "cell_type": "code",
   "execution_count": 11,
   "id": "91aca5df-8eb8-47da-8273-c27519457557",
   "metadata": {},
   "outputs": [
    {
     "name": "stdout",
     "output_type": "stream",
     "text": [
      "3 4 5.0\n"
     ]
    }
   ],
   "source": [
    "#changing 'P' to 'p' for print() and importing numpy so sqrt() works \n",
    "\n",
    "x, y = 3, 4\n",
    "\n",
    "import numpy \n",
    "z = numpy.sqrt(x**2 + y**2) \n",
    "\n",
    "print(x, y, z) \n"
   ]
  },
  {
   "cell_type": "code",
   "execution_count": 22,
   "id": "641de138-34b1-420e-ae3a-783cbc1a9069",
   "metadata": {},
   "outputs": [
    {
     "name": "stdout",
     "output_type": "stream",
     "text": [
      "One pythagorean triplet is ( 3 4 5 )\n"
     ]
    }
   ],
   "source": [
    "#making the value of z into an integer so that the final results are a little neater and making the answer a statement \n",
    "\n",
    "x, y = 3, 4\n",
    "\n",
    "import numpy \n",
    "z = numpy.sqrt(x**2 + y**2) \n",
    "z = int(z)\n",
    "\n",
    "print('One pythagorean triplet is', '(', x, y, z, ')') "
   ]
  },
  {
   "cell_type": "markdown",
   "id": "ffa7f809-79fe-4167-b937-9baf88408607",
   "metadata": {},
   "source": [
    "**Exercise 3**"
   ]
  },
  {
   "cell_type": "markdown",
   "id": "d989ad33-70d7-4c84-a0d7-02933918d987",
   "metadata": {},
   "source": [
    "|  #  | Term               | Description                                                        |\n",
    "|-----|--------------------|--------------------------------------------------------------------|\n",
    "|  1  | Function           | A function is a set of instructions in the form of a sequence of codes that may have been pre-defined in the lanugage (i.e commands) or can be designed through the 'def' command. This code can be reused to perform a specific tasks. \n",
    "|  2  | Arguments          | Arguments are the inputs of functions and commands and oftentimes, but not always, enable for the function to carry out a task or show a specific output. Arguments may be a string or an integer/float. \n",
    "|  3  | Comments           | To assist in helping to understand the purpose and intention behind a block or a line of code. \n",
    "|  4  | Indentations       | Indentations are important in Python to indicate a block of code with changes in the number of indentations being indicative of new blocks of code. Indendations can be to indicate loop sequences. \n",
    "|  5  | Packages           | Packages is similar to a module which contains a list of specific functions or commands that may not have been defined or in-built into Python before importing the package. To make use of these functions, e.g sqrt(), we need to import packages such as numpy or math, which treat 'sqrt()' as a command as it has been defined in these packages. \n",
    "|  6  | .                  | To imply that the subject or the function after the dot belongs to a particular module which is a library of the programming language\n",
    "|  7  | :                  | For if.. else, function or command after colon gives instructions on what the computer should do if the condition preceding the colon is met or not. Otherwise, the code after the colon may also indicate how the output produced from the code directly preceding the colon should be arranged or presented e.g spacings from either side of the page, alignment, number of decimal points. \n",
    "|  8  | []                 | To indicate that the subjects (i.e numbers of worlds) within the brackets belong to the same list or tuple. Can also be used to call out a specific index to retrieve a value from a list or array. \n",
    "|  9  | [[[]]]             | Square brackets are used for lists and tuples. Multiple square brackets can thus be used to store lists of data within lists or tuples. \n",
    "|  10 | {}                 | To contain variables, values or lists in a dictionary. This is helpful because dictionaries enable us to store information neatly and retrieve specific information by using a key to identify a value depending on how we arrange the values in the dictionary . May also be used for f strings to specify the arragement of output on the file/website. "
   ]
  },
  {
   "cell_type": "markdown",
   "id": "23a96f95-70f6-454c-b7d8-8c610dc14db1",
   "metadata": {},
   "source": [
    "**Exercise 4**"
   ]
  },
  {
   "cell_type": "markdown",
   "id": "b2db1083-d82f-4de2-8596-684f9a347100",
   "metadata": {},
   "source": [
    "1. operator 1: x/y"
   ]
  },
  {
   "cell_type": "code",
   "execution_count": 7,
   "id": "4cdf39da-e5dc-4f3a-ae68-847e742a3add",
   "metadata": {},
   "outputs": [
    {
     "data": {
      "text/plain": [
       "2.5"
      ]
     },
     "execution_count": 7,
     "metadata": {},
     "output_type": "execute_result"
    }
   ],
   "source": [
    "5/2           # divides x, the value preceding the operator, by y, the value succeeding the operator "
   ]
  },
  {
   "cell_type": "markdown",
   "id": "1bbf730f-241f-4b37-b453-ea6e319214e5",
   "metadata": {},
   "source": [
    "2. operator 2: x//y "
   ]
  },
  {
   "cell_type": "code",
   "execution_count": 11,
   "id": "93a047ee-4e60-4f99-bdec-b42e24b2fd22",
   "metadata": {},
   "outputs": [
    {
     "data": {
      "text/plain": [
       "2"
      ]
     },
     "execution_count": 11,
     "metadata": {},
     "output_type": "execute_result"
    }
   ],
   "source": [
    "5//2        # 1. divides x by y. 2. (if the number is a decimal) always round down the answer to the nearest integer. \n",
    "            # thought process: 5 divided by 2 gives 2.5.. to get 2, round down to nearest integer"
   ]
  },
  {
   "cell_type": "code",
   "execution_count": 12,
   "id": "1fca8e06-3ca0-4fab-908f-41ac712ea8e4",
   "metadata": {},
   "outputs": [
    {
     "data": {
      "text/plain": [
       "2"
      ]
     },
     "execution_count": 12,
     "metadata": {},
     "output_type": "execute_result"
    }
   ],
   "source": [
    "7//3        # thought process: 7 divided by 3 gives 2.333.. to get 2, round down to nearest integer "
   ]
  },
  {
   "cell_type": "code",
   "execution_count": 13,
   "id": "5e4a74d2-0c34-49d3-9431-cce0078de6a1",
   "metadata": {},
   "outputs": [
    {
     "data": {
      "text/plain": [
       "3"
      ]
     },
     "execution_count": 13,
     "metadata": {},
     "output_type": "execute_result"
    }
   ],
   "source": [
    "11//3        # thought process: 11 divided by 3 gives 3.666.. to get 3, round down to nearest integer"
   ]
  },
  {
   "cell_type": "code",
   "execution_count": 14,
   "id": "455dd7cd-2ad2-421d-b6f1-1d56946cf38e",
   "metadata": {},
   "outputs": [
    {
     "data": {
      "text/plain": [
       "1"
      ]
     },
     "execution_count": 14,
     "metadata": {},
     "output_type": "execute_result"
    }
   ],
   "source": [
    "5%2          # 5/2 = 2.5 "
   ]
  },
  {
   "cell_type": "markdown",
   "id": "13a5510e-234a-4325-97c8-c52c434da76b",
   "metadata": {},
   "source": [
    "3. operator 3: x%y"
   ]
  },
  {
   "cell_type": "markdown",
   "id": "2424a595-0518-448e-aee5-9170ec966ee9",
   "metadata": {},
   "source": [
    "my thought process: \n",
    "- i randomly tried a whole bunch of calculations first (up till 13%4)\n",
    "- then tried seeing if there was any relation to dividing the first digit by the second\n",
    "- after that, I tried taking the reciprocal of the fractions (i.e 7/3 became 3/7 and 21/3 became 3/21) then tried rounding up/down \n",
    "- however, there wasn't a consistent rule of rounding up or down \n",
    "- i decided to try a larger number for x and y (i.e 123/47) and repeat the above steps for this new calculation \n",
    "- soon after, i realised that all the numbers were whole numbers, and i started to think of other operations I didn't quite know the code of\n",
    "- specifically i still thought of divide since the other 2 operators were based on divide. \n",
    "- i thought of remainder, it made sense because output remained small when numbers ere small but got big (i.e 29) for big x and y values \n",
    "\n",
    "answer: % gives the remainder of division of x by y "
   ]
  },
  {
   "cell_type": "code",
   "execution_count": 18,
   "id": "2d1a2eb2-b705-411c-b95c-71f8ff539172",
   "metadata": {},
   "outputs": [
    {
     "data": {
      "text/plain": [
       "1"
      ]
     },
     "execution_count": 18,
     "metadata": {},
     "output_type": "execute_result"
    }
   ],
   "source": [
    "7%3          # 7 divided by 3 gives a remainder of 1, quotient = 2"
   ]
  },
  {
   "cell_type": "code",
   "execution_count": 16,
   "id": "a72aae2f-637c-4375-83b8-1896db3455bd",
   "metadata": {},
   "outputs": [
    {
     "data": {
      "text/plain": [
       "3"
      ]
     },
     "execution_count": 16,
     "metadata": {},
     "output_type": "execute_result"
    }
   ],
   "source": [
    "3%7          # 3 divided by 7 gives a reminder of 3 because quotient is 0"
   ]
  },
  {
   "cell_type": "code",
   "execution_count": 17,
   "id": "6b6fd7cd-9635-43c7-8b3e-b33ae0116d6d",
   "metadata": {},
   "outputs": [
    {
     "data": {
      "text/plain": [
       "0"
      ]
     },
     "execution_count": 17,
     "metadata": {},
     "output_type": "execute_result"
    }
   ],
   "source": [
    "21%3         # 21 divided by 3 gives a remainder of 0, quotient = 7"
   ]
  },
  {
   "cell_type": "code",
   "execution_count": 19,
   "id": "3df5d3b2-b952-47c2-8797-6fee380a9760",
   "metadata": {},
   "outputs": [
    {
     "data": {
      "text/plain": [
       "1"
      ]
     },
     "execution_count": 19,
     "metadata": {},
     "output_type": "execute_result"
    }
   ],
   "source": [
    "13%4         # 13 divided by 4 gives a remainder of 1, quotient = 3"
   ]
  },
  {
   "cell_type": "code",
   "execution_count": 20,
   "id": "9732e617-bb1f-499f-b83c-4eadf37f8cd9",
   "metadata": {},
   "outputs": [
    {
     "data": {
      "text/plain": [
       "29"
      ]
     },
     "execution_count": 20,
     "metadata": {},
     "output_type": "execute_result"
    }
   ],
   "source": [
    "123%47       # 123 divided by 47 gives a remainder of 29, quotient 2"
   ]
  }
 ],
 "metadata": {
  "kernelspec": {
   "display_name": "Python 3 (ipykernel)",
   "language": "python",
   "name": "python3"
  },
  "language_info": {
   "codemirror_mode": {
    "name": "ipython",
    "version": 3
   },
   "file_extension": ".py",
   "mimetype": "text/x-python",
   "name": "python",
   "nbconvert_exporter": "python",
   "pygments_lexer": "ipython3",
   "version": "3.11.7"
  },
  "toc": {
   "base_numbering": 1,
   "nav_menu": {},
   "number_sections": true,
   "sideBar": true,
   "skip_h1_title": false,
   "title_cell": "Table of Contents",
   "title_sidebar": "Contents",
   "toc_cell": false,
   "toc_position": {},
   "toc_section_display": true,
   "toc_window_display": false
  },
  "vscode": {
   "interpreter": {
    "hash": "31f2aee4e71d21fbe5cf8b01ff0e069b9275f58929596ceb00d14d90e3e16cd6"
   }
  }
 },
 "nbformat": 4,
 "nbformat_minor": 5
}
