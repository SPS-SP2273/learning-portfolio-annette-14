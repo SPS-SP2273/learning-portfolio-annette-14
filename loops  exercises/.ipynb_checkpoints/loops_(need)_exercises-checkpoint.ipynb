{
 "cells": [
  {
   "attachments": {},
   "cell_type": "markdown",
   "id": "123456",
   "metadata": {},
   "source": [
    "<div style=\"text-align:left;font-size:2em\"><span style=\"font-weight:bolder;font-size:1.25em\">SP2273 | Learning Portfolio</span><br><br><span style=\"font-weight:bold;color:darkred\">Loops (Need) Exercises</span></div>"
   ]
  },
  {
   "cell_type": "markdown",
   "id": "5a3b9465-8fa7-4a52-b63a-27a0f20c199a",
   "metadata": {},
   "source": [
    "Exercise 1 (Celcius to Farenheit)"
   ]
  },
  {
   "cell_type": "code",
   "execution_count": 3,
   "id": "bbbad73c-3703-432c-9a20-1039ab17e641",
   "metadata": {},
   "outputs": [
    {
     "name": "stdout",
     "output_type": "stream",
     "text": [
      "temperature in degree celsius is 0 while temperature in degree farenheit is 32.0\n",
      "temperature in degree celsius is 5 while temperature in degree farenheit is 41.0\n",
      "temperature in degree celsius is 10 while temperature in degree farenheit is 50.0\n",
      "temperature in degree celsius is 15 while temperature in degree farenheit is 59.0\n",
      "temperature in degree celsius is 20 while temperature in degree farenheit is 68.0\n",
      "temperature in degree celsius is 25 while temperature in degree farenheit is 77.0\n",
      "temperature in degree celsius is 30 while temperature in degree farenheit is 86.0\n",
      "temperature in degree celsius is 35 while temperature in degree farenheit is 95.0\n",
      "temperature in degree celsius is 40 while temperature in degree farenheit is 104.0\n",
      "temperature in degree celsius is 45 while temperature in degree farenheit is 113.0\n",
      "temperature in degree celsius is 50 while temperature in degree farenheit is 122.0\n"
     ]
    }
   ],
   "source": [
    "temperatures_celsius = [0, 5, 10, 15, 20, 25, 30, 35, 40, 45, 50]\n",
    "\n",
    "for i in range(len(temperatures_celsius)):     # since we need to print both temperatures, we will need to use range(len()) function \n",
    "    temperature_celsius = temperatures_celsius[i]    # use the numbers from the range as indexes \n",
    "    temperature_farenheit = (temperature_celsius * (9/5)) + 32   \n",
    "    print(f\"temperature in degree celsius is {temperature_celsius} while temperature in degree farenheit is {temperature_farenheit}\")\n",
    "    "
   ]
  },
  {
   "cell_type": "markdown",
   "id": "8e0b2d71-b14d-4d2e-8d60-ec52d29f42fc",
   "metadata": {},
   "source": [
    "Exercise 2 (Multiplication table)"
   ]
  },
  {
   "cell_type": "code",
   "execution_count": 7,
   "id": "c6c33ea2-e55e-45d5-9f81-547344b658b9",
   "metadata": {},
   "outputs": [
    {
     "name": "stdout",
     "output_type": "stream",
     "text": [
      "A1\tA2\tA3\t\n",
      "\n",
      "B1\tB2\tB3\t\n",
      "\n",
      "C1\tC2\tC3\t\n",
      "\n"
     ]
    }
   ],
   "source": [
    "# example given \n",
    "for letter in ['A', 'B', 'C']:\n",
    "    for number in [1, 2, 3]:    # for each of the 3 alphabets, this loop will run thrice. therefore, this loop will run 9 times in total \n",
    "        print(f'{letter}{number}', end='\\t')   #\\t gives the spacing between elements on each row \n",
    "    print('\\n')    # \\n gives the next line for the next alphabet "
   ]
  },
  {
   "cell_type": "code",
   "execution_count": 13,
   "id": "fa2b746c-1b74-417e-b9a7-7e4677a854e8",
   "metadata": {},
   "outputs": [
    {
     "name": "stdout",
     "output_type": "stream",
     "text": [
      "tuna nigiri is so good!\tsalmon nigiri is so good!\tshrimp nigiri is so good!\tunagi nigiri is so good!\t\n",
      "\n",
      "tuna maki is so good!\tsalmon maki is so good!\tshrimp maki is so good!\tunagi maki is so good!\t\n",
      "\n",
      "tuna gunkan is so good!\tsalmon gunkan is so good!\tshrimp gunkan is so good!\tunagi gunkan is so good!\t\n",
      "\n",
      "tuna temaki is so good!\tsalmon temaki is so good!\tshrimp temaki is so good!\tunagi temaki is so good!\t\n",
      "\n"
     ]
    }
   ],
   "source": [
    "# exploring \n",
    "for sushi in [\"nigiri\", \"maki\", \"gunkan\", \"temaki\"]: \n",
    "    for ingredient in [\"tuna\", \"salmon\", \"shrimp\", \"unagi\"]:\n",
    "        print(f\"{ingredient} {sushi} is so good!\", end = \"\\t\")   #recall to use 'end =' to introduce __ at the end of a line\n",
    "    print(\"\\n\")   # reminder put qoutation marks round \\t and \\n "
   ]
  },
  {
   "cell_type": "code",
   "execution_count": 21,
   "id": "fa9c4b56-c90e-48f2-a87a-1192e66e8e11",
   "metadata": {},
   "outputs": [
    {
     "name": "stdout",
     "output_type": "stream",
     "text": [
      "1 : 1\n",
      "\t\n",
      "1 : 2\n",
      "\t\n",
      "1 : 3\n",
      "\t\n",
      "1 : 4\n",
      "\t\n",
      "1 : 5\n",
      "\t\n",
      "\n",
      "\n",
      "2 : 2\n",
      "\t\n",
      "2 : 4\n",
      "\t\n",
      "2 : 6\n",
      "\t\n",
      "2 : 8\n",
      "\t\n",
      "2 : 10\n",
      "\t\n",
      "\n",
      "\n",
      "3 : 3\n",
      "\t\n",
      "3 : 6\n",
      "\t\n",
      "3 : 9\n",
      "\t\n",
      "3 : 12\n",
      "\t\n",
      "3 : 15\n",
      "\t\n",
      "\n",
      "\n",
      "4 : 4\n",
      "\t\n",
      "4 : 8\n",
      "\t\n",
      "4 : 12\n",
      "\t\n",
      "4 : 16\n",
      "\t\n",
      "4 : 20\n",
      "\t\n",
      "\n",
      "\n",
      "5 : 5\n",
      "\t\n",
      "5 : 10\n",
      "\t\n",
      "5 : 15\n",
      "\t\n",
      "5 : 20\n",
      "\t\n",
      "5 : 25\n",
      "\t\n",
      "\n",
      "\n"
     ]
    }
   ],
   "source": [
    "## completing task \n",
    "# interation 1: \n",
    "\n",
    "numbers_1 = [1,2,3,4,5]   # numbers_1 is the vertical first column of numbers \n",
    "numbers_2 = [1,2,3,4,5]   # numbers_2 is the horizontal first row of numbers \n",
    "\n",
    "for i in range(len(numbers_1)): \n",
    "    number_1 = numbers_1[i]\n",
    "    for number_2 in numbers_2:\n",
    "        product = (number_1)*(number_2)\n",
    "        print(f\"{number_1} : {product}\")\n",
    "        print(\"\\t\")\n",
    "    print(\"\\n\")\n",
    "        "
   ]
  },
  {
   "cell_type": "code",
   "execution_count": 40,
   "id": "fd410d34-59be-4318-9bf4-6ac31fe17771",
   "metadata": {},
   "outputs": [
    {
     "name": "stdout",
     "output_type": "stream",
     "text": [
      "1 : \n",
      "1\n",
      "\t\n",
      "2\n",
      "\t\n",
      "3\n",
      "\t\n",
      "4\n",
      "\t\n",
      "5\n",
      "\t\n",
      "\n",
      "\n",
      "2 : \n",
      "2\n",
      "\t\n",
      "4\n",
      "\t\n",
      "6\n",
      "\t\n",
      "8\n",
      "\t\n",
      "10\n",
      "\t\n",
      "\n",
      "\n",
      "3 : \n",
      "3\n",
      "\t\n",
      "6\n",
      "\t\n",
      "9\n",
      "\t\n",
      "12\n",
      "\t\n",
      "15\n",
      "\t\n",
      "\n",
      "\n",
      "4 : \n",
      "4\n",
      "\t\n",
      "8\n",
      "\t\n",
      "12\n",
      "\t\n",
      "16\n",
      "\t\n",
      "20\n",
      "\t\n",
      "\n",
      "\n",
      "5 : \n",
      "5\n",
      "\t\n",
      "10\n",
      "\t\n",
      "15\n",
      "\t\n",
      "20\n",
      "\t\n",
      "25\n",
      "\t\n",
      "\n",
      "\n"
     ]
    }
   ],
   "source": [
    "# interation 2: changing to print \"{number1} : \" once per row \n",
    "numbers_1 = [1,2,3,4,5]   # numbers_1 is the vertical first column of numbers \n",
    "numbers_2 = [1,2,3,4,5]   # numbers_2 is the horizontal first row of numbers \n",
    "\n",
    "for number_1 in numbers_1:\n",
    "    print(f\"{number_1} : \")\n",
    "    for number_2 in numbers_2:\n",
    "        product = (number_1)*(number_2)\n",
    "        print(f\"{product}\")\n",
    "        print(\"\\t\")\n",
    "    print(\"\\n\")"
   ]
  },
  {
   "cell_type": "code",
   "execution_count": 41,
   "id": "c93008aa-0b3f-428c-abbe-befb4c436737",
   "metadata": {},
   "outputs": [
    {
     "name": "stdout",
     "output_type": "stream",
     "text": [
      "1 : \n",
      "1\t2\t3\t4\t5\t\n",
      "\n",
      "2 : \n",
      "2\t4\t6\t8\t10\t\n",
      "\n",
      "3 : \n",
      "3\t6\t9\t12\t15\t\n",
      "\n",
      "4 : \n",
      "4\t8\t12\t16\t20\t\n",
      "\n",
      "5 : \n",
      "5\t10\t15\t20\t25\t\n",
      "\n"
     ]
    }
   ],
   "source": [
    "# interation 3: changing the printing of the tab so bring the products of every number_1 onto the same row \n",
    "numbers_1 = [1,2,3,4,5]   # numbers_1 is the vertical first column of numbers \n",
    "numbers_2 = [1,2,3,4,5]   # numbers_2 is the horizontal first row of numbers \n",
    "\n",
    "for number_1 in numbers_1: \n",
    "    print(f\"{number_1} : \")\n",
    "    for number_2 in numbers_2:\n",
    "        product = (number_1)*(number_2)\n",
    "        print(f\"{product}\", end = \"\\t\")\n",
    "    print(\"\\n\")\n",
    "        "
   ]
  },
  {
   "cell_type": "code",
   "execution_count": 42,
   "id": "b5c5c6c0-d7fa-44bf-ab4f-18633aa620de",
   "metadata": {},
   "outputs": [
    {
     "name": "stdout",
     "output_type": "stream",
     "text": [
      "1 :     1\t2\t3\t4\t5\t\n",
      "\n",
      "2 :     2\t4\t6\t8\t10\t\n",
      "\n",
      "3 :     3\t6\t9\t12\t15\t\n",
      "\n",
      "4 :     4\t8\t12\t16\t20\t\n",
      "\n",
      "5 :     5\t10\t15\t20\t25\t\n",
      "\n"
     ]
    }
   ],
   "source": [
    "# interation 4: added \"end=\"\" \" to print the products of the multiplcation onto the same row as numbers_1 \n",
    "numbers_1 = [1,2,3,4,5]   # numbers_1 is the vertical first column of numbers \n",
    "numbers_2 = [1,2,3,4,5]   # numbers_2 is the horizontal first row of numbers \n",
    "\n",
    "for number_1 in numbers_1: \n",
    "    print(f\"{number_1} :   \", end = \"  \")    \n",
    "    for number_2 in numbers_2:\n",
    "        product = (number_1)*(number_2)\n",
    "        print(f\"{product}\", end = \"\\t\")\n",
    "    print(\"\\n\")\n",
    "\n",
    "# NEW: adding end = \" \" at the end of a print command ensures that the next line printed appears on the same row\n",
    "    # rather than being automatically printed on the next row "
   ]
  }
 ],
 "metadata": {
  "kernelspec": {
   "display_name": "Python 3 (ipykernel)",
   "language": "python",
   "name": "python3"
  },
  "language_info": {
   "codemirror_mode": {
    "name": "ipython",
    "version": 3
   },
   "file_extension": ".py",
   "mimetype": "text/x-python",
   "name": "python",
   "nbconvert_exporter": "python",
   "pygments_lexer": "ipython3",
   "version": "3.11.7"
  },
  "toc": {
   "base_numbering": 1,
   "nav_menu": {},
   "number_sections": true,
   "sideBar": true,
   "skip_h1_title": false,
   "title_cell": "Table of Contents",
   "title_sidebar": "Contents",
   "toc_cell": false,
   "toc_position": {},
   "toc_section_display": true,
   "toc_window_display": false
  },
  "vscode": {
   "interpreter": {
    "hash": "31f2aee4e71d21fbe5cf8b01ff0e069b9275f58929596ceb00d14d90e3e16cd6"
   }
  }
 },
 "nbformat": 4,
 "nbformat_minor": 5
}
