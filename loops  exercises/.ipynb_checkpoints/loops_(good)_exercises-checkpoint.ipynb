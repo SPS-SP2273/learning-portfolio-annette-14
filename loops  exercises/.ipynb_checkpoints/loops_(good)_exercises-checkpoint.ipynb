{
 "cells": [
  {
   "attachments": {},
   "cell_type": "markdown",
   "id": "123456",
   "metadata": {},
   "source": [
    "<div style=\"text-align:left;font-size:2em\"><span style=\"font-weight:bolder;font-size:1.25em\">SP2273 | Learning Portfolio</span><br><br><span style=\"font-weight:bold;color:darkred\">Loops (Good) Exercises</span></div>"
   ]
  },
  {
   "cell_type": "markdown",
   "id": "668a9a02-e7bd-4ec9-885e-0bb484c29743",
   "metadata": {},
   "source": [
    "Exercise 1 (Make me an odd  list) "
   ]
  },
  {
   "cell_type": "code",
   "execution_count": 1,
   "id": "d6271c86-15b4-498b-8159-e212340ce257",
   "metadata": {},
   "outputs": [
    {
     "name": "stdout",
     "output_type": "stream",
     "text": [
      "1\n",
      "9\n",
      "25\n",
      "49\n",
      "81\n"
     ]
    }
   ],
   "source": [
    "for number in range (0, 10):   #reminder that the end limit of the range is not included \n",
    "    if number%2 == 0:\n",
    "      continue \n",
    "    square = number**2\n",
    "    print(square)"
   ]
  },
  {
   "cell_type": "markdown",
   "id": "b425c3c1-eca0-4596-bcb8-5ebfed3fd827",
   "metadata": {},
   "source": [
    "Exercise 2 (Make me another odd list))"
   ]
  },
  {
   "cell_type": "code",
   "execution_count": 2,
   "id": "0c217574-99ae-4d5e-8354-fa165b1e074b",
   "metadata": {},
   "outputs": [
    {
     "data": {
      "text/plain": [
       "[1, 9, 25, 49, 81]"
      ]
     },
     "execution_count": 2,
     "metadata": {},
     "output_type": "execute_result"
    }
   ],
   "source": [
    "[number**2 for number in range(0,10) if number%2 != 0]"
   ]
  },
  {
   "cell_type": "markdown",
   "id": "d0bdff24-df98-43b4-8075-59c87228987b",
   "metadata": {},
   "source": [
    "Exercise 3 (Time me!)"
   ]
  },
  {
   "cell_type": "code",
   "execution_count": 6,
   "id": "288bbbd9-9243-4caa-933d-96e6c49881b7",
   "metadata": {},
   "outputs": [
    {
     "name": "stdout",
     "output_type": "stream",
     "text": [
      "654 ns ± 1.21 ns per loop (mean ± std. dev. of 7 runs, 1,000,000 loops each)\n"
     ]
    }
   ],
   "source": [
    " ## time solution 1: using for loop and continue    #question - somehow my cell can't run %%timeit when there is this line of comment above. is this normal and why is it so? \n",
    "\n",
    "%%timeit\n",
    "for number in range (0, 10):   #reminder that the end limit of the range is not included \n",
    "    if number%2 == 0:\n",
    "      continue \n",
    "    square = number**2   #NOTE: do NOT use the print function when we are doing %%timeit because there will be a super long/infinite print of numbers \n",
    "                               # as python runs the loops multiple times to provide statistical info abt the execution time \n"
   ]
  },
  {
   "cell_type": "code",
   "execution_count": 7,
   "id": "33ddeb34-49c1-4570-8a2b-044522439449",
   "metadata": {},
   "outputs": [
    {
     "name": "stdout",
     "output_type": "stream",
     "text": [
      "784 ns ± 2.66 ns per loop (mean ± std. dev. of 7 runs, 1,000,000 loops each)\n"
     ]
    }
   ],
   "source": [
    "## timing solution 2: list comprehension \n",
    "\n",
    "%%timeit \n",
    "[number**2 for number in range(0,10) if number%2 != 0]"
   ]
  },
  {
   "cell_type": "code",
   "execution_count": 8,
   "id": "84fe58c3-5d84-4ddd-8c59-6a728c7083c3",
   "metadata": {},
   "outputs": [],
   "source": [
    "## therefore, using solution 1 (for loop and continue) is faster "
   ]
  },
  {
   "cell_type": "markdown",
   "id": "d397621e-3195-49ac-8549-46dd4982e6d0",
   "metadata": {},
   "source": [
    "Exercise 4 (A problem of decay)"
   ]
  },
  {
   "cell_type": "code",
   "execution_count": 13,
   "id": "fae98568-c26e-4c96-b9d0-298a93507700",
   "metadata": {},
   "outputs": [
    {
     "name": "stdout",
     "output_type": "stream",
     "text": [
      "10\n"
     ]
    }
   ],
   "source": [
    "quantity = 100\n",
    "years = 0 \n",
    "while quantity > 50: \n",
    "    quantity = quantity - 5\n",
    "    years += 1\n",
    "\n",
    "print(years)"
   ]
  },
  {
   "cell_type": "markdown",
   "id": "d1bf5594-89a4-4035-9c73-4a70c4f98d7d",
   "metadata": {},
   "source": [
    "Exercise 5 (Changes in CO<sub>2</sub>)"
   ]
  },
  {
   "cell_type": "code",
   "execution_count": 3,
   "id": "15080768-4c80-47a9-b7c0-f9b571a9bc24",
   "metadata": {},
   "outputs": [
    {
     "name": "stdout",
     "output_type": "stream",
     "text": [
      "(2015, 400.83)\n"
     ]
    }
   ],
   "source": [
    "co2_data = [\n",
    "    (2000, 369.55), (2001, 371.14), (2002, 373.28), \n",
    "    (2003, 375.80), (2004, 377.52), (2005, 379.80), \n",
    "    (2006, 381.90), (2007, 383.79), (2008, 385.60), \n",
    "    (2009, 387.43), (2010, 389.90), (2011, 391.65), \n",
    "    (2012, 393.85), (2013, 396.52), (2014, 398.65),\n",
    "    (2015, 400.83), (2016, 404.24), (2017, 406.55), \n",
    "    (2018, 408.52), (2019, 411.44), (2020, 414.24)\n",
    "]\n",
    "\n",
    "for index in range(0, len(co2_data) - 1):\n",
    "    if co2_data[index + 1][1] - co2_data[index][1] >= 3: \n",
    "        print(co2_data[index])"
   ]
  }
 ],
 "metadata": {
  "kernelspec": {
   "display_name": "Python 3 (ipykernel)",
   "language": "python",
   "name": "python3"
  },
  "language_info": {
   "codemirror_mode": {
    "name": "ipython",
    "version": 3
   },
   "file_extension": ".py",
   "mimetype": "text/x-python",
   "name": "python",
   "nbconvert_exporter": "python",
   "pygments_lexer": "ipython3",
   "version": "3.11.7"
  },
  "toc": {
   "base_numbering": 1,
   "nav_menu": {},
   "number_sections": true,
   "sideBar": true,
   "skip_h1_title": false,
   "title_cell": "Table of Contents",
   "title_sidebar": "Contents",
   "toc_cell": false,
   "toc_position": {},
   "toc_section_display": true,
   "toc_window_display": false
  },
  "vscode": {
   "interpreter": {
    "hash": "31f2aee4e71d21fbe5cf8b01ff0e069b9275f58929596ceb00d14d90e3e16cd6"
   }
  }
 },
 "nbformat": 4,
 "nbformat_minor": 5
}
