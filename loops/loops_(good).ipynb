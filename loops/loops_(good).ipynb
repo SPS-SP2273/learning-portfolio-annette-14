{
 "cells": [
  {
   "attachments": {},
   "cell_type": "markdown",
   "id": "123456",
   "metadata": {},
   "source": [
    "<div style=\"text-align:left;font-size:2em\"><span style=\"font-weight:bolder;font-size:1.25em\">SP2273 | Learning Portfolio</span><br><br><span style=\"font-weight:bold;color:darkred\">Loops (Good)</span></div>"
   ]
  },
  {
   "attachments": {},
   "cell_type": "markdown",
   "id": "63436850",
   "metadata": {},
   "source": [
    "# What to expect in this chapter"
   ]
  },
  {
   "attachments": {},
   "cell_type": "markdown",
   "id": "4314e2cc",
   "metadata": {},
   "source": [
    "# 1 Interrupting the flow"
   ]
  },
  {
   "cell_type": "markdown",
   "id": "a881bce9-a1ab-4c33-a826-5219be9b5b27",
   "metadata": {},
   "source": [
    "a. break and b. continue "
   ]
  },
  {
   "cell_type": "code",
   "execution_count": 5,
   "id": "248660de-061f-43b7-813a-48d74f5a01ec",
   "metadata": {},
   "outputs": [
    {
     "name": "stdout",
     "output_type": "stream",
     "text": [
      "10 raised to the power of 0 is 1\n",
      "10 raised to the power of 2 is 4\n",
      "10 raised to the power of 4 is 16\n",
      "10 raised to the power of 6 is 64\n",
      "10 raised to the power of 8 is 256\n"
     ]
    }
   ],
   "source": [
    "for power in range(50): \n",
    "    if power%2 != 0:\n",
    "        continue       #if the condition is met, continue will cause the the com to go back to the first line\n",
    "    number = 2**power\n",
    "    if number >1000:\n",
    "        break          #if condition is met, stop the entire code - clarify \n",
    "    print(f'10 raised to the power of {power} is {number}')   #f is simply to combine variables and string "
   ]
  },
  {
   "cell_type": "code",
   "execution_count": 7,
   "id": "8406de0d-0dbf-4d37-a9a8-1b86beee3004",
   "metadata": {},
   "outputs": [
    {
     "name": "stdout",
     "output_type": "stream",
     "text": [
      "1 2\n",
      "2 4\n",
      "3 8\n",
      "4 16\n",
      "5 32\n",
      "6 64\n",
      "7 128\n",
      "8 256\n",
      "9 512\n",
      "10 1024\n"
     ]
    }
   ],
   "source": [
    "power = 0 \n",
    "\n",
    "while power < 10:\n",
    "    power += 1\n",
    "    number = 2**power \n",
    "    print(power, number)"
   ]
  },
  {
   "cell_type": "code",
   "execution_count": 8,
   "id": "f03f3f5a-1a85-4f8d-8a84-c3f773acc7c3",
   "metadata": {},
   "outputs": [
    {
     "name": "stdout",
     "output_type": "stream",
     "text": [
      "2 4\n",
      "4 16\n",
      "6 64\n",
      "8 256\n",
      "10 1024\n"
     ]
    }
   ],
   "source": [
    "power = 0 \n",
    "\n",
    "while True:  #benefits about true is that we dont need to know hw many times we want to /need to run it \n",
    "    power += 1 \n",
    "    number = 2**power\n",
    "    \n",
    "    if power%2 != 0: \n",
    "        continue   \n",
    "\n",
    "    if number > 2500: \n",
    "        break \n",
    "    print(power, number)"
   ]
  },
  {
   "attachments": {},
   "cell_type": "markdown",
   "id": "63de8f24",
   "metadata": {},
   "source": [
    "# 2 List comprehension!"
   ]
  },
  {
   "cell_type": "code",
   "execution_count": 9,
   "id": "8537657d-79f9-4c50-a5b8-fb4b7287536b",
   "metadata": {},
   "outputs": [
    {
     "data": {
      "text/plain": [
       "[0, 1, 2, 3, 4]"
      ]
     },
     "execution_count": 9,
     "metadata": {},
     "output_type": "execute_result"
    }
   ],
   "source": [
    "[number for number in range(5)]"
   ]
  },
  {
   "cell_type": "code",
   "execution_count": 12,
   "id": "96d02491-5d54-459e-b26c-97db3921569c",
   "metadata": {},
   "outputs": [
    {
     "ename": "NameError",
     "evalue": "name 'x' is not defined",
     "output_type": "error",
     "traceback": [
      "\u001b[0;31m---------------------------------------------------------------------------\u001b[0m",
      "\u001b[0;31mNameError\u001b[0m                                 Traceback (most recent call last)",
      "Cell \u001b[0;32mIn[12], line 1\u001b[0m\n\u001b[0;32m----> 1\u001b[0m \u001b[43m[\u001b[49m\u001b[43mx\u001b[49m\u001b[38;5;241;43m*\u001b[39;49m\u001b[38;5;241;43m*\u001b[39;49m\u001b[38;5;241;43m2\u001b[39;49m\u001b[43m \u001b[49m\u001b[38;5;28;43;01mfor\u001b[39;49;00m\u001b[43m \u001b[49m\u001b[43mnumber\u001b[49m\u001b[43m \u001b[49m\u001b[38;5;129;43;01min\u001b[39;49;00m\u001b[43m \u001b[49m\u001b[38;5;28;43mrange\u001b[39;49m\u001b[43m(\u001b[49m\u001b[38;5;241;43m5\u001b[39;49m\u001b[43m)\u001b[49m\u001b[43m]\u001b[49m\n",
      "Cell \u001b[0;32mIn[12], line 1\u001b[0m, in \u001b[0;36m<listcomp>\u001b[0;34m(.0)\u001b[0m\n\u001b[0;32m----> 1\u001b[0m [\u001b[43mx\u001b[49m\u001b[38;5;241m*\u001b[39m\u001b[38;5;241m*\u001b[39m\u001b[38;5;241m2\u001b[39m \u001b[38;5;28;01mfor\u001b[39;00m number \u001b[38;5;129;01min\u001b[39;00m \u001b[38;5;28mrange\u001b[39m(\u001b[38;5;241m5\u001b[39m)]\n",
      "\u001b[0;31mNameError\u001b[0m: name 'x' is not defined"
     ]
    }
   ],
   "source": [
    "[x**2 for number in range(5)]"
   ]
  },
  {
   "cell_type": "code",
   "execution_count": 14,
   "id": "5da5af0a-7521-4ce7-973f-c6ce3804ede5",
   "metadata": {},
   "outputs": [
    {
     "data": {
      "text/plain": [
       "[0, 1, 4, 9, 16]"
      ]
     },
     "execution_count": 14,
     "metadata": {},
     "output_type": "execute_result"
    }
   ],
   "source": [
    "[number**2 for number in range(5)]   #place the variable between for and in in front of the for, can perform mathematical functions "
   ]
  },
  {
   "attachments": {},
   "cell_type": "markdown",
   "id": "b6102f1c",
   "metadata": {},
   "source": [
    "## 2.1 Basic syntax"
   ]
  },
  {
   "attachments": {},
   "cell_type": "markdown",
   "id": "b2d401f7",
   "metadata": {},
   "source": [
    "## 2.2 List comprehension with conditions"
   ]
  },
  {
   "cell_type": "code",
   "execution_count": 15,
   "id": "86154eb5-fa81-4836-8cb3-a33022586003",
   "metadata": {},
   "outputs": [
    {
     "data": {
      "text/plain": [
       "[0, 2, 4, 6, 8]"
      ]
     },
     "execution_count": 15,
     "metadata": {},
     "output_type": "execute_result"
    }
   ],
   "source": [
    "[number for number in range(10) if number % 2 ==0]"
   ]
  },
  {
   "cell_type": "code",
   "execution_count": 16,
   "id": "5f333bac-5d6b-4c63-881e-ab0e7f079c50",
   "metadata": {},
   "outputs": [
    {
     "data": {
      "text/plain": [
       "['i love 0', 'i love 2', 'i love 4']"
      ]
     },
     "execution_count": 16,
     "metadata": {},
     "output_type": "execute_result"
    }
   ],
   "source": [
    "[(f'i love {number}') for number in range (5) if number%2 ==0]"
   ]
  },
  {
   "attachments": {},
   "cell_type": "markdown",
   "id": "ffa8869b",
   "metadata": {},
   "source": [
    "# 3 Other useful stuff"
   ]
  },
  {
   "cell_type": "code",
   "execution_count": 17,
   "id": "8ae279fe-c95b-4bed-91ee-adbcd6935112",
   "metadata": {},
   "outputs": [
    {
     "name": "stdout",
     "output_type": "stream",
     "text": [
      "x = 1, y = 2, z = 3\n"
     ]
    }
   ],
   "source": [
    "x, y, z=[1, 2, 3]   # why is it that {} contained the = sign - clarify \n",
    "print(f'x = {x}, y = {y}, z = {z}')"
   ]
  },
  {
   "attachments": {},
   "cell_type": "markdown",
   "id": "b034a8f1",
   "metadata": {},
   "source": [
    "## 3.1 for with unpacking"
   ]
  },
  {
   "cell_type": "code",
   "execution_count": 18,
   "id": "b30615e0-31ae-4aa0-acb0-e37e6ac67945",
   "metadata": {},
   "outputs": [
    {
     "name": "stdout",
     "output_type": "stream",
     "text": [
      "Natasha Romanoff is Marvel's Black Widow!\n",
      "Tony Stark is Marvel's Iron Man!\n",
      "Stephen Strange is Marvel's Doctor Strange!\n"
     ]
    }
   ],
   "source": [
    "py_superhero_info = [['Natasha Romanoff', 'Black Widow'],   \n",
    "                     ['Tony Stark', 'Iron Man'],\n",
    "                     ['Stephen Strange', 'Doctor Strange']]\n",
    "\n",
    "for real_name, super_name in py_superhero_info:     #the order in which we put the variables before 'in' must correspond to the information in the dictionary \n",
    "    print(f\"{real_name} is Marvel's {super_name}!\")"
   ]
  },
  {
   "attachments": {},
   "cell_type": "markdown",
   "id": "d66ae1bc",
   "metadata": {},
   "source": [
    "## 3.2 for with zip()"
   ]
  },
  {
   "cell_type": "code",
   "execution_count": null,
   "id": "6c28017c-e28c-4279-95c2-1ba7fd79e0d1",
   "metadata": {},
   "outputs": [],
   "source": [
    "#cannot form a list unless we use the list. command to tell it to form a list or we immediately use it "
   ]
  },
  {
   "cell_type": "code",
   "execution_count": null,
   "id": "6f656c51-d0bf-4e80-b2ab-1354c0247fe5",
   "metadata": {},
   "outputs": [],
   "source": [
    "real_names = ['Natasha Romanoff', 'Tony Stark', 'Stephen Strange']\n",
    "super_names = ['Black Widow', 'Iron Man', 'Doctor Strange']"
   ]
  },
  {
   "cell_type": "code",
   "execution_count": 23,
   "id": "c0497448-49dd-4497-9ecd-4293538913ff",
   "metadata": {},
   "outputs": [
    {
     "data": {
      "text/plain": [
       "<zip at 0x111ed89c0>"
      ]
     },
     "execution_count": 23,
     "metadata": {},
     "output_type": "execute_result"
    }
   ],
   "source": [
    "zip(real_names, super_names)"
   ]
  },
  {
   "cell_type": "code",
   "execution_count": 28,
   "id": "5d7b5c78-833c-474e-9c9b-35862aaee02e",
   "metadata": {},
   "outputs": [],
   "source": [
    "list(zip(real_names, super_names))"
   ]
  },
  {
   "cell_type": "code",
   "execution_count": null,
   "id": "bd632f2c-4a85-4dde-b2b8-a9035b8ca16f",
   "metadata": {},
   "outputs": [],
   "source": [
    "# clarify list "
   ]
  },
  {
   "cell_type": "code",
   "execution_count": 32,
   "id": "c8eb808f-4158-42a7-9ae8-625ff329c4fc",
   "metadata": {},
   "outputs": [
    {
     "name": "stdout",
     "output_type": "stream",
     "text": [
      "[('Natasha Romanoff', 'Black Widow'), ('Tony Stark', 'Iron Man'), ('Stephen Strange', 'Doctor Strange')]\n"
     ]
    }
   ],
   "source": [
    "superhero_info = list(zip(real_names, super_names))\n",
    "print(superhero_info)"
   ]
  },
  {
   "cell_type": "code",
   "execution_count": 34,
   "id": "b726ba09-2064-4f12-bbb6-1886d6cfa79c",
   "metadata": {},
   "outputs": [
    {
     "ename": "AttributeError",
     "evalue": "'zip' object has no attribute 'items'",
     "output_type": "error",
     "traceback": [
      "\u001b[0;31m---------------------------------------------------------------------------\u001b[0m",
      "\u001b[0;31mAttributeError\u001b[0m                            Traceback (most recent call last)",
      "Cell \u001b[0;32mIn[34], line 1\u001b[0m\n\u001b[0;32m----> 1\u001b[0m \u001b[38;5;28;43mzip\u001b[39;49m\u001b[43m(\u001b[49m\u001b[43mreal_names\u001b[49m\u001b[43m,\u001b[49m\u001b[43m \u001b[49m\u001b[43msuper_names\u001b[49m\u001b[43m)\u001b[49m\u001b[38;5;241;43m.\u001b[39;49m\u001b[43mitems\u001b[49m\n",
      "\u001b[0;31mAttributeError\u001b[0m: 'zip' object has no attribute 'items'"
     ]
    }
   ],
   "source": [
    "zip(real_names, super_names).items"
   ]
  },
  {
   "attachments": {},
   "cell_type": "markdown",
   "id": "15ffe761",
   "metadata": {},
   "source": [
    "## 3.3 for with dictionaries"
   ]
  },
  {
   "attachments": {},
   "cell_type": "markdown",
   "id": "16355c79",
   "metadata": {},
   "source": [
    "## Footnotes"
   ]
  }
 ],
 "metadata": {
  "kernelspec": {
   "display_name": "Python 3 (ipykernel)",
   "language": "python",
   "name": "python3"
  },
  "language_info": {
   "codemirror_mode": {
    "name": "ipython",
    "version": 3
   },
   "file_extension": ".py",
   "mimetype": "text/x-python",
   "name": "python",
   "nbconvert_exporter": "python",
   "pygments_lexer": "ipython3",
   "version": "3.11.7"
  },
  "toc": {
   "base_numbering": 1,
   "nav_menu": {},
   "number_sections": true,
   "sideBar": true,
   "skip_h1_title": false,
   "title_cell": "Table of Contents",
   "title_sidebar": "Contents",
   "toc_cell": false,
   "toc_position": {},
   "toc_section_display": true,
   "toc_window_display": false
  },
  "vscode": {
   "interpreter": {
    "hash": "31f2aee4e71d21fbe5cf8b01ff0e069b9275f58929596ceb00d14d90e3e16cd6"
   }
  }
 },
 "nbformat": 4,
 "nbformat_minor": 5
}
