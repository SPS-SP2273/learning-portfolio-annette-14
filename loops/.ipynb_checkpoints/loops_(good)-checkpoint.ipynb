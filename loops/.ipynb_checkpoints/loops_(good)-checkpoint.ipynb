{
 "cells": [
  {
   "attachments": {},
   "cell_type": "markdown",
   "id": "123456",
   "metadata": {},
   "source": [
    "<div style=\"text-align:left;font-size:2em\"><span style=\"font-weight:bolder;font-size:1.25em\">SP2273 | Learning Portfolio</span><br><br><span style=\"font-weight:bold;color:darkred\">Loops (Good)</span></div>"
   ]
  },
  {
   "cell_type": "code",
   "execution_count": 1,
   "id": "47c2173a-9f0a-4a1a-a135-1889a695aee8",
   "metadata": {},
   "outputs": [],
   "source": [
    "## objective: to exercise more control over loops using \n",
    "# 1. continue \n",
    "# 2. break \n",
    "## and list comprehension "
   ]
  },
  {
   "attachments": {},
   "cell_type": "markdown",
   "id": "4314e2cc",
   "metadata": {},
   "source": [
    "# Interrupting the flow"
   ]
  },
  {
   "cell_type": "markdown",
   "id": "a881bce9-a1ab-4c33-a826-5219be9b5b27",
   "metadata": {},
   "source": [
    "a. break and b. continue "
   ]
  },
  {
   "cell_type": "code",
   "execution_count": 2,
   "id": "67330797-36b6-47b6-bf1d-68cd8f028315",
   "metadata": {},
   "outputs": [
    {
     "name": "stdout",
     "output_type": "stream",
     "text": [
      "0 1\n",
      "1 10\n",
      "2 100\n",
      "3 1000\n"
     ]
    }
   ],
   "source": [
    "for power in range(5):\n",
    "    number = 10**power\n",
    "    if number > 5000:\n",
    "        break\n",
    "    print(power, number)"
   ]
  },
  {
   "cell_type": "code",
   "execution_count": 3,
   "id": "e7f1e7ee-beeb-420a-b1b0-e8dca05dfec2",
   "metadata": {},
   "outputs": [
    {
     "name": "stdout",
     "output_type": "stream",
     "text": [
      "0 1\n",
      "1 10\n",
      "2 100\n",
      "3 1000\n"
     ]
    }
   ],
   "source": [
    "for power in range(5):\n",
    "    number = 10**power\n",
    "    if number > 5000:\n",
    "        continue\n",
    "    print(power, number)"
   ]
  },
  {
   "cell_type": "code",
   "execution_count": 5,
   "id": "248660de-061f-43b7-813a-48d74f5a01ec",
   "metadata": {},
   "outputs": [
    {
     "name": "stdout",
     "output_type": "stream",
     "text": [
      "10 raised to the power of 0 is 1\n",
      "10 raised to the power of 2 is 4\n",
      "10 raised to the power of 4 is 16\n",
      "10 raised to the power of 6 is 64\n",
      "10 raised to the power of 8 is 256\n"
     ]
    }
   ],
   "source": [
    "for power in range(50): \n",
    "    if power%2 != 0:\n",
    "        continue       #if the condition is met, continue will cause the the com to go back to the first line\n",
    "    number = 2**power\n",
    "    if number >1000:\n",
    "        break          #if condition is met, stop the entire code. print function is not done\n",
    "    print(f'10 raised to the power of {power} is {number}')   #f is simply to combine variables and string "
   ]
  },
  {
   "cell_type": "code",
   "execution_count": 7,
   "id": "8406de0d-0dbf-4d37-a9a8-1b86beee3004",
   "metadata": {},
   "outputs": [
    {
     "name": "stdout",
     "output_type": "stream",
     "text": [
      "1 2\n",
      "2 4\n",
      "3 8\n",
      "4 16\n",
      "5 32\n",
      "6 64\n",
      "7 128\n",
      "8 256\n",
      "9 512\n",
      "10 1024\n"
     ]
    }
   ],
   "source": [
    "power = 0 \n",
    "\n",
    "while power < 10:\n",
    "    power += 1\n",
    "    number = 2**power \n",
    "    print(power, number)"
   ]
  },
  {
   "cell_type": "code",
   "execution_count": 8,
   "id": "f03f3f5a-1a85-4f8d-8a84-c3f773acc7c3",
   "metadata": {},
   "outputs": [
    {
     "name": "stdout",
     "output_type": "stream",
     "text": [
      "2 4\n",
      "4 16\n",
      "6 64\n",
      "8 256\n",
      "10 1024\n"
     ]
    }
   ],
   "source": [
    "power = 0 \n",
    "\n",
    "while True:  #benefits about true is that we dont need to know hw many times we want to /need to run it \n",
    "    power += 1 \n",
    "    number = 2**power\n",
    "    \n",
    "    if power%2 != 0: \n",
    "        continue   # continue skips everything after it and goes back to the first line of the loop \n",
    "\n",
    "    if number > 2500: \n",
    "        break \n",
    "    print(power, number)"
   ]
  },
  {
   "attachments": {},
   "cell_type": "markdown",
   "id": "63de8f24",
   "metadata": {},
   "source": [
    "# List comprehension!"
   ]
  },
  {
   "attachments": {},
   "cell_type": "markdown",
   "id": "b6102f1c",
   "metadata": {},
   "source": [
    "## Basic syntax"
   ]
  },
  {
   "cell_type": "code",
   "execution_count": 9,
   "id": "8537657d-79f9-4c50-a5b8-fb4b7287536b",
   "metadata": {},
   "outputs": [
    {
     "data": {
      "text/plain": [
       "[0, 1, 2, 3, 4]"
      ]
     },
     "execution_count": 9,
     "metadata": {},
     "output_type": "execute_result"
    }
   ],
   "source": [
    "[number for number in range(5)]"
   ]
  },
  {
   "cell_type": "code",
   "execution_count": 1,
   "id": "96d02491-5d54-459e-b26c-97db3921569c",
   "metadata": {},
   "outputs": [
    {
     "data": {
      "text/plain": [
       "[0, 1, 4, 9, 16]"
      ]
     },
     "execution_count": 1,
     "metadata": {},
     "output_type": "execute_result"
    }
   ],
   "source": [
    "[x**2 for x in range(5)]   # 'number' is just a variable! can be replaced by other names "
   ]
  },
  {
   "cell_type": "code",
   "execution_count": 14,
   "id": "5da5af0a-7521-4ce7-973f-c6ce3804ede5",
   "metadata": {},
   "outputs": [
    {
     "data": {
      "text/plain": [
       "[0, 1, 4, 9, 16]"
      ]
     },
     "execution_count": 14,
     "metadata": {},
     "output_type": "execute_result"
    }
   ],
   "source": [
    "[number**2 for number in range(5)]   #place the variable between for and in in front of the for, can perform mathematical functions "
   ]
  },
  {
   "cell_type": "code",
   "execution_count": 4,
   "id": "3dd49473-eef3-43b0-9812-5f7d0e225d5d",
   "metadata": {},
   "outputs": [
    {
     "data": {
      "text/plain": [
       "[0.75, 1.0, 1.25, 1.5, 1.75, 2.0, 2.25]"
      ]
     },
     "execution_count": 4,
     "metadata": {},
     "output_type": "execute_result"
    }
   ],
   "source": [
    "[answer/4 for answer in range(3, 10)]"
   ]
  },
  {
   "attachments": {},
   "cell_type": "markdown",
   "id": "b2d401f7",
   "metadata": {},
   "source": [
    "## List comprehension with conditions"
   ]
  },
  {
   "cell_type": "code",
   "execution_count": 5,
   "id": "86154eb5-fa81-4836-8cb3-a33022586003",
   "metadata": {},
   "outputs": [
    {
     "data": {
      "text/plain": [
       "[0, 2, 4, 6, 8]"
      ]
     },
     "execution_count": 5,
     "metadata": {},
     "output_type": "execute_result"
    }
   ],
   "source": [
    "## using 'if' condition\n",
    "[number for number in range(10) if number % 2 ==0]"
   ]
  },
  {
   "cell_type": "code",
   "execution_count": 16,
   "id": "5f333bac-5d6b-4c63-881e-ab0e7f079c50",
   "metadata": {},
   "outputs": [
    {
     "data": {
      "text/plain": [
       "['i love 0', 'i love 2', 'i love 4']"
      ]
     },
     "execution_count": 16,
     "metadata": {},
     "output_type": "execute_result"
    }
   ],
   "source": [
    "[(f'i love {number}') for number in range (5) if number%2 ==0]"
   ]
  },
  {
   "cell_type": "code",
   "execution_count": 8,
   "id": "5a7d7e53-056e-4e79-a93c-8057189ddb7e",
   "metadata": {},
   "outputs": [
    {
     "data": {
      "text/plain": [
       "[3.6666666666666665,\n",
       " 4.0,\n",
       " 4.333333333333333,\n",
       " 4.666666666666667,\n",
       " 5.0,\n",
       " 5.333333333333333,\n",
       " 5.666666666666667,\n",
       " 6.0,\n",
       " 6.333333333333333]"
      ]
     },
     "execution_count": 8,
     "metadata": {},
     "output_type": "execute_result"
    }
   ],
   "source": [
    "## using other mathematical operations \n",
    "[pooks*0.5 for pooks in range(0, 10) if pooks > 5]\n",
    "\n",
    "[word/3 for word in range(11, 20)]"
   ]
  },
  {
   "attachments": {},
   "cell_type": "markdown",
   "id": "ffa8869b",
   "metadata": {},
   "source": [
    "# Other useful stuff"
   ]
  },
  {
   "attachments": {},
   "cell_type": "markdown",
   "id": "b034a8f1",
   "metadata": {},
   "source": [
    "## for with unpacking"
   ]
  },
  {
   "cell_type": "code",
   "execution_count": 13,
   "id": "8ae279fe-c95b-4bed-91ee-adbcd6935112",
   "metadata": {},
   "outputs": [
    {
     "name": "stdout",
     "output_type": "stream",
     "text": [
      "x = 1, y = 2, z = 3\n"
     ]
    }
   ],
   "source": [
    "x, y, z=[1, 2, 3]   \n",
    "print(f'x = {x}, y = {y}, z = {z}')"
   ]
  },
  {
   "cell_type": "code",
   "execution_count": 12,
   "id": "a8c6159b-256c-4e25-aeb8-1365c2b50f69",
   "metadata": {},
   "outputs": [
    {
     "name": "stdout",
     "output_type": "stream",
     "text": [
      "hummingbird, seagulls and eagles are birds! they are so beautiful.\n"
     ]
    }
   ],
   "source": [
    "bird1, bird2, bird3 = ['hummingbird', 'seagulls', 'eagles']\n",
    "print(f\"{bird1}, {bird2} and {bird3} are birds! they are so beautiful.\")"
   ]
  },
  {
   "cell_type": "code",
   "execution_count": 18,
   "id": "b30615e0-31ae-4aa0-acb0-e37e6ac67945",
   "metadata": {},
   "outputs": [
    {
     "name": "stdout",
     "output_type": "stream",
     "text": [
      "Natasha Romanoff is Marvel's Black Widow!\n",
      "Tony Stark is Marvel's Iron Man!\n",
      "Stephen Strange is Marvel's Doctor Strange!\n"
     ]
    }
   ],
   "source": [
    "py_superhero_info = [['Natasha Romanoff', 'Black Widow'],   \n",
    "                     ['Tony Stark', 'Iron Man'],\n",
    "                     ['Stephen Strange', 'Doctor Strange']]\n",
    "\n",
    "for real_name, super_name in py_superhero_info:     #the order in which we put the variables before 'in' must correspond to the information in the dictionary \n",
    "    print(f\"{real_name} is Marvel's {super_name}!\")"
   ]
  },
  {
   "cell_type": "code",
   "execution_count": 23,
   "id": "fc8068d1-a4eb-4e0a-8d00-4207ee0ffbda",
   "metadata": {},
   "outputs": [
    {
     "name": "stdout",
     "output_type": "stream",
     "text": [
      "I enjoy running because it makes me feel motivated\n",
      "I enjoy stargazing because it makes me feel wonder\n",
      "I enjoy music because it makes me feel calm\n",
      "I enjoy filming and editing because it makes me feel inspired\n"
     ]
    }
   ],
   "source": [
    "feelingsassociated = [[\"running\", \"motivated\"],  #remember to include commas after each list within a list!\n",
    "                     [\"stargazing\", \"wonder\"],\n",
    "                     [\"music\", \"calm\"],\n",
    "                     [\"filming and editing\", \"inspired\"]]\n",
    "                      \n",
    "for hobby, feeling in feelingsassociated:\n",
    "    print(f\"I enjoy {hobby} because it makes me feel {feeling}\")"
   ]
  },
  {
   "attachments": {},
   "cell_type": "markdown",
   "id": "d66ae1bc",
   "metadata": {},
   "source": [
    "## for with zip()"
   ]
  },
  {
   "cell_type": "code",
   "execution_count": 37,
   "id": "6c28017c-e28c-4279-95c2-1ba7fd79e0d1",
   "metadata": {},
   "outputs": [],
   "source": [
    "# joining 2 lists together: zip() \n",
    "#cannot form a list unless we use the list. command to tell it to form a list or we immediately use it "
   ]
  },
  {
   "cell_type": "code",
   "execution_count": 19,
   "id": "6f656c51-d0bf-4e80-b2ab-1354c0247fe5",
   "metadata": {},
   "outputs": [],
   "source": [
    "real_names = ['Natasha Romanoff', 'Tony Stark', 'Stephen Strange']\n",
    "super_names = ['Black Widow', 'Iron Man', 'Doctor Strange']"
   ]
  },
  {
   "cell_type": "code",
   "execution_count": 31,
   "id": "c0497448-49dd-4497-9ecd-4293538913ff",
   "metadata": {},
   "outputs": [
    {
     "data": {
      "text/plain": [
       "<zip at 0x107ec7300>"
      ]
     },
     "execution_count": 31,
     "metadata": {},
     "output_type": "execute_result"
    }
   ],
   "source": [
    "zip(real_names, super_names)   #need to include list() function "
   ]
  },
  {
   "cell_type": "code",
   "execution_count": 34,
   "id": "5d7b5c78-833c-474e-9c9b-35862aaee02e",
   "metadata": {
    "scrolled": true
   },
   "outputs": [
    {
     "data": {
      "text/plain": [
       "[('Natasha Romanoff', 'Black Widow'),\n",
       " ('Tony Stark', 'Iron Man'),\n",
       " ('Stephen Strange', 'Doctor Strange')]"
      ]
     },
     "execution_count": 34,
     "metadata": {},
     "output_type": "execute_result"
    }
   ],
   "source": [
    "list(zip(real_names, super_names))"
   ]
  },
  {
   "cell_type": "code",
   "execution_count": 32,
   "id": "c8eb808f-4158-42a7-9ae8-625ff329c4fc",
   "metadata": {},
   "outputs": [
    {
     "name": "stdout",
     "output_type": "stream",
     "text": [
      "[('Natasha Romanoff', 'Black Widow'), ('Tony Stark', 'Iron Man'), ('Stephen Strange', 'Doctor Strange')]\n"
     ]
    }
   ],
   "source": [
    "superhero_info = list(zip(real_names, super_names))\n",
    "print(superhero_info)"
   ]
  },
  {
   "cell_type": "code",
   "execution_count": 26,
   "id": "e6690c62-63f2-4db8-b4d8-81fc49d9eb49",
   "metadata": {},
   "outputs": [
    {
     "name": "stdout",
     "output_type": "stream",
     "text": [
      "[('running', 'motivated'), ('stargazing', 'wonder'), ('music', 'calm'), ('filming and editing', 'inspired')]\n"
     ]
    }
   ],
   "source": [
    "hobbies = [\"running\", \"stargazing\", \"music\", \"filming and editing\"]\n",
    "feelings = [\"motivated\", \"wonder\", \"calm\", \"inspired\"]\n",
    "\n",
    "feelingsassociated = list(zip(hobbies, feelings))\n",
    "print (feelingsassociated)"
   ]
  },
  {
   "cell_type": "code",
   "execution_count": 30,
   "id": "021bd728-fc60-47b1-bcbe-404792f4a1a5",
   "metadata": {},
   "outputs": [
    {
     "name": "stdout",
     "output_type": "stream",
     "text": [
      "[('cool', 'warm'), ('white', 'black'), ('sun', 'moon'), ('sugar', 'salt'), ('leaves', 'flowers')]\n"
     ]
    }
   ],
   "source": [
    "this = [\"cool\", \"white\", \"sun\", \"sugar\", \"leaves\"]\n",
    "that = [\"warm\", \"black\", \"moon\", \"salt\", \"flowers\"]\n",
    "\n",
    "thisorthat = list(zip(this, that))    #must include list() function to make it into a list \n",
    "print(thisorthat)"
   ]
  },
  {
   "attachments": {},
   "cell_type": "markdown",
   "id": "15ffe761",
   "metadata": {},
   "source": [
    "## for with dictionaries"
   ]
  },
  {
   "cell_type": "code",
   "execution_count": 42,
   "id": "65b91351-d510-481b-8c8d-52e2d5454729",
   "metadata": {},
   "outputs": [],
   "source": [
    "## differences between dictionary and lists: \n",
    "# 1. the presence of : \n",
    "# 2. assignment of key and value \n",
    "# 3. closes with curly brackets, not square brackets \n",
    "# 4. if its a nested list, we can use any 2 variables we want e.g hobbies and feelings but for dictionary, must use key and value \n",
    "# 5. to retrieve the key and value, must use .item() function "
   ]
  },
  {
   "cell_type": "code",
   "execution_count": 41,
   "id": "4139ba75-296a-40f1-99f0-1a98f5c758f6",
   "metadata": {},
   "outputs": [
    {
     "name": "stdout",
     "output_type": "stream",
     "text": [
      "Natasha Romanoff is Marvel's Black Widow!\n",
      "Tony Stark is Marvel's Iron Man!\n",
      "Stephen Strange is Marvel's Doctor Strange!\n"
     ]
    }
   ],
   "source": [
    "superhero_info={\"Natasha Romanoff\": \"Black Widow\",     \n",
    "                \"Tony Stark\": \"Iron Man\",\n",
    "                \"Stephen Strange\": \"Doctor Strange\"}\n",
    "\n",
    "for key, value in superhero_info.items():\n",
    "    print(f\"{key} is Marvel's {value}!\")"
   ]
  },
  {
   "cell_type": "code",
   "execution_count": 66,
   "id": "a602e1cf-e539-41f3-9672-c5fe68186cdc",
   "metadata": {},
   "outputs": [
    {
     "name": "stdout",
     "output_type": "stream",
     "text": [
      "when I think of Singapore i think 'Home'\n",
      "when I think of Indonesia i think 'Rich biodiversity'\n",
      "when I think of Japan i think 'almost perfect'\n",
      "when I think of Italy i think 'art and history'\n",
      "when I think of Switzerland i think 'breathtaking'\n"
     ]
    }
   ],
   "source": [
    "impressionofcountries = {\"Singapore\": \"Home\",\n",
    "                        \"Indonesia\" : \"Rich biodiversity\",\n",
    "                        \"Japan\" : \"almost perfect\",\n",
    "                        \"Italy\" : \"art and history\",\n",
    "                        \"Switzerland\": \"breathtaking\"}\n",
    "\n",
    "for key, value in impressionofcountries.items():     #must include .items()! .items() spits out both the key and corresponding value \n",
    "    print(f\"when I think of {key} i think '{value}'\")"
   ]
  },
  {
   "cell_type": "code",
   "execution_count": 69,
   "id": "409b1aa1-5df8-43f2-89c0-746243596953",
   "metadata": {},
   "outputs": [
    {
     "name": "stdout",
     "output_type": "stream",
     "text": [
      "when I think of Singapore i think 'Home''\n",
      "when I think of Indonesia i think 'Rich biodiversity''\n",
      "when I think of Japan i think 'almost perfect''\n",
      "when I think of Italy i think 'art and history''\n",
      "when I think of Switzerland i think 'breathtaking''\n"
     ]
    }
   ],
   "source": [
    "# or\n",
    "impressionofcountries = {\"Singapore\": \"Home\",\n",
    "                        \"Indonesia\" : \"Rich biodiversity\",\n",
    "                        \"Japan\" : \"almost perfect\",\n",
    "                        \"Italy\" : \"art and history\",\n",
    "                        \"Switzerland\": \"breathtaking\"}\n",
    "\n",
    "for key in impressionofcountries.keys():     #must include .items()! .items() spits out both the key and corresponding value \n",
    "    value = impressionofcountries[key] \n",
    "    print(f\"when I think of {key} i think '{value}''\")"
   ]
  },
  {
   "cell_type": "code",
   "execution_count": 70,
   "id": "4b0afc75-6790-45e6-bf53-81e93d3296a6",
   "metadata": {},
   "outputs": [
    {
     "name": "stdout",
     "output_type": "stream",
     "text": [
      "dict_keys(['Singapore', 'Indonesia', 'Japan', 'Italy', 'Switzerland'])\n",
      "dict_values(['Home', 'Rich biodiversity', 'almost perfect', 'art and history', 'breathtaking'])\n"
     ]
    }
   ],
   "source": [
    "print(impressionofcountries.keys())\n",
    "print(impressionofcountries.values())"
   ]
  }
 ],
 "metadata": {
  "kernelspec": {
   "display_name": "Python 3 (ipykernel)",
   "language": "python",
   "name": "python3"
  },
  "language_info": {
   "codemirror_mode": {
    "name": "ipython",
    "version": 3
   },
   "file_extension": ".py",
   "mimetype": "text/x-python",
   "name": "python",
   "nbconvert_exporter": "python",
   "pygments_lexer": "ipython3",
   "version": "3.11.7"
  },
  "toc": {
   "base_numbering": 1,
   "nav_menu": {},
   "number_sections": true,
   "sideBar": true,
   "skip_h1_title": false,
   "title_cell": "Table of Contents",
   "title_sidebar": "Contents",
   "toc_cell": false,
   "toc_position": {},
   "toc_section_display": true,
   "toc_window_display": false
  },
  "vscode": {
   "interpreter": {
    "hash": "31f2aee4e71d21fbe5cf8b01ff0e069b9275f58929596ceb00d14d90e3e16cd6"
   }
  }
 },
 "nbformat": 4,
 "nbformat_minor": 5
}
