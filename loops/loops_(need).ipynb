{
 "cells": [
  {
   "attachments": {},
   "cell_type": "markdown",
   "id": "123456",
   "metadata": {},
   "source": [
    "<div style=\"text-align:left;font-size:2em\"><span style=\"font-weight:bolder;font-size:1.25em\">SP2273 | Learning Portfolio</span><br><br><span style=\"font-weight:bold;color:darkred\">Loops (Need)</span></div>"
   ]
  },
  {
   "cell_type": "code",
   "execution_count": 1,
   "id": "cb1a9227-a352-49c7-806f-7b84389f19ad",
   "metadata": {},
   "outputs": [],
   "source": [
    "# commands for loops - while and for -> commands python to run the sequence of command again and again "
   ]
  },
  {
   "attachments": {},
   "cell_type": "markdown",
   "id": "f80643d7",
   "metadata": {},
   "source": [
    "# The for iterator"
   ]
  },
  {
   "cell_type": "code",
   "execution_count": 2,
   "id": "20224508-620c-4870-b317-0a97d8320c62",
   "metadata": {},
   "outputs": [],
   "source": [
    "real_names = [\"Natasha Romanoff\", \"Tony Stark\", \"Stephen Strange\"]"
   ]
  },
  {
   "cell_type": "code",
   "execution_count": 3,
   "id": "16432c47-c876-4c4f-8ed7-0e1bbe49f039",
   "metadata": {},
   "outputs": [
    {
     "name": "stdout",
     "output_type": "stream",
     "text": [
      "Natasha Romanoff is a Marvel superhero!\n",
      "Tony Stark is a Marvel superhero!\n",
      "Stephen Strange is a Marvel superhero!\n"
     ]
    }
   ],
   "source": [
    "#without using loops i.e inefficient way \n",
    "\n",
    "name=real_names[0]\n",
    "print(f\"{name} is a Marvel superhero!\")\n",
    "\n",
    "name=real_names[1]\n",
    "print(f\"{name} is a Marvel superhero!\")\n",
    "\n",
    "name=real_names[2]\n",
    "print(f\"{name} is a Marvel superhero!\")"
   ]
  },
  {
   "attachments": {},
   "cell_type": "markdown",
   "id": "6c0fa7e9",
   "metadata": {},
   "source": [
    "## for with a list"
   ]
  },
  {
   "cell_type": "code",
   "execution_count": 14,
   "id": "c36e8c5e-b2c3-489f-9b04-f5d47443a51e",
   "metadata": {},
   "outputs": [],
   "source": [
    "## how for loop works\n",
    "# 1. goes throug the list and assigns the viariable the value of the first element in the list \n",
    "# 2. runs the block of code (indicated by the : and indentation) using the first element in the list \n",
    "# 3. moves on to the next element in the list, making it the new value of the variable \n",
    "# 4. repeats again and again until it reaches the end of the list "
   ]
  },
  {
   "cell_type": "code",
   "execution_count": 4,
   "id": "c679c8c4-4669-4979-84af-8af8b605eba7",
   "metadata": {},
   "outputs": [
    {
     "name": "stdout",
     "output_type": "stream",
     "text": [
      "Natasha Romanoff is a Marvel superhero!\n",
      "Tony Stark is a Marvel superhero!\n",
      "Stephen Strange is a Marvel superhero!\n"
     ]
    }
   ],
   "source": [
    "for name in real_names: \n",
    "    print(f\"{name} is a Marvel superhero!\")"
   ]
  },
  {
   "cell_type": "code",
   "execution_count": 47,
   "id": "5552cbfb-ccb0-46c9-b17f-e7f9f398b5c1",
   "metadata": {},
   "outputs": [
    {
     "name": "stdout",
     "output_type": "stream",
     "text": [
      "NATASHA ROMANOFF is a Marvel superhero!\n",
      "TONY STARK is a Marvel superhero!\n",
      "STEPHEN STRANGE is a Marvel superhero!\n"
     ]
    }
   ],
   "source": [
    "for name in real_names: \n",
    "    print(f\"{name.upper()} is a Marvel superhero!\")  "
   ]
  },
  {
   "cell_type": "code",
   "execution_count": 6,
   "id": "4b6f6aa5-a866-421c-9912-4813a27e24fd",
   "metadata": {},
   "outputs": [
    {
     "name": "stdout",
     "output_type": "stream",
     "text": [
      "I love Japanese food! YUMM\n",
      "I love Mediterranean food! YUMM\n",
      "I love Indian food! YUMM\n",
      "I love Italian food! YUMM\n",
      "I love Western food! YUMM\n",
      "I love Chinese food! YUMM\n"
     ]
    }
   ],
   "source": [
    "list_cuisines = [\"Japanese\", \"Mediterranean\", \"Indian\", \"Italian\", \"Western\", \"Chinese\"]\n",
    "for cuisine in list_cuisines: \n",
    "    print(f\"I love {cuisine} food! YUMM\")"
   ]
  },
  {
   "cell_type": "code",
   "execution_count": 12,
   "id": "620281c4-c6df-4ae1-ae3e-fe5929f2d90a",
   "metadata": {},
   "outputs": [
    {
     "name": "stdout",
     "output_type": "stream",
     "text": [
      "My favourite dish of Japanese cuisine is sushi\n",
      "My favourite dish of Mediterranean cuisine is hummus\n",
      "My favourite dish of Indian cuisine is butter chicken\n",
      "My favourite dish of Italian cuisine is pizza\n",
      "My favourite dish of Western cuisine is steak\n",
      "My favourite dish of Chinese cuisine is knife cut noodles\n"
     ]
    }
   ],
   "source": [
    "dishes = [\"sushi\", \"hummus\", \"butter chicken\", \"pizza\", \"steak\", \"knife cut noodles\"]\n",
    "\n",
    "for cuisine, best_dish in zip(list_cuisines, dishes):     \n",
    "    print(f\"My favourite dish of {cuisine} cuisine is {best_dish}\")\n",
    "\n",
    "# wrong: for cuisines in list_cuisines and best_dish in dishes: \n",
    "# must use zip function! "
   ]
  },
  {
   "cell_type": "code",
   "execution_count": 13,
   "id": "ffac99e6-9f6f-4148-9677-3dc81f5a33fd",
   "metadata": {},
   "outputs": [
    {
     "name": "stdout",
     "output_type": "stream",
     "text": [
      "When i was 6 years old, I first gained interested in astronomy\n",
      "When i was 17 years old, I first gained interested in baking\n",
      "When i was 17 years old, I first gained interested in running\n",
      "When i was 9 years old, I first gained interested in playing the violin\n",
      "When i was 18 years old, I first gained interested in photography\n"
     ]
    }
   ],
   "source": [
    "hobbies = [\"astronomy\", \"baking\", \"running\", \"playing the violin\", \"photography\"]\n",
    "ages = [\"6\", \"17\", \"17\", \"9\", \"18\"]\n",
    "\n",
    "for age, hobby in zip(ages, hobbies): \n",
    "    print(f\"When i was {age} years old, I first gained interested in {hobby}\")"
   ]
  },
  {
   "attachments": {},
   "cell_type": "markdown",
   "id": "5fc4fe98",
   "metadata": {},
   "source": [
    "## for with enumerate"
   ]
  },
  {
   "cell_type": "code",
   "execution_count": 15,
   "id": "b335407f-2cab-475f-b2fa-93d3e68a2640",
   "metadata": {},
   "outputs": [],
   "source": [
    "super_names = [\"Black Widow\", \"Iron Man\", \"Doctor Strange\"]\n",
    "real_names =[\"Natasha Romanoff\", \"Tony Stark\", \"Stephen Strange\"]\n",
    "\n",
    "# use enumerate when there are info from 2 list we are trying to retrieve at the same time #clarify"
   ]
  },
  {
   "cell_type": "code",
   "execution_count": 18,
   "id": "644cb852-ac06-4c72-99cf-af7f3066dcb2",
   "metadata": {},
   "outputs": [
    {
     "name": "stdout",
     "output_type": "stream",
     "text": [
      "0: Natasha Romanoff is a Marvel superhero!\n",
      "1: Tony Stark is a Marvel superhero!\n",
      "2: Stephen Strange is a Marvel superhero!\n"
     ]
    }
   ],
   "source": [
    "#enumerate() keeps count and gives both elements and number stored in count\n",
    "\n",
    "for count, name in enumerate(real_names):  \n",
    "    print(f'{count}: {name} is a Marvel superhero!')\n"
   ]
  },
  {
   "cell_type": "code",
   "execution_count": 20,
   "id": "1aa7ee05-17df-48b3-b412-b0659a977041",
   "metadata": {},
   "outputs": [
    {
     "name": "stdout",
     "output_type": "stream",
     "text": [
      "Natasha Romanoff is Black Widow\n",
      "Tony Stark is Iron Man\n",
      "Stephen Strange is Doctor Strange\n"
     ]
    }
   ],
   "source": [
    "# using the count from enumerate() to index the other list\n",
    "\n",
    "for index, name in enumerate(real_names):     \n",
    "    superhero_name = super_names[index]\n",
    "    print(f\"{name} is {superhero_name}\")"
   ]
  },
  {
   "cell_type": "code",
   "execution_count": 21,
   "id": "64fe55f3-f3bc-4b14-9682-2b28aa13f300",
   "metadata": {},
   "outputs": [
    {
     "name": "stdout",
     "output_type": "stream",
     "text": [
      "62.8 ns ± 0.276 ns per loop (mean ± std. dev. of 7 runs, 10,000,000 loops each)\n"
     ]
    }
   ],
   "source": [
    "%%timeit \n",
    "#more efficient way with enumerate, involving one list super_names = [\"Black Widow\", \"Iron Man\", \"Doctor Strange\"] \n",
    "\n",
    "count = 0 \n",
    "for real_name in real_names: \n",
    "   \n",
    "    count = count + 1 "
   ]
  },
  {
   "cell_type": "code",
   "execution_count": 22,
   "id": "e2d3afe5-e8fe-4484-8478-9822cc0d3459",
   "metadata": {},
   "outputs": [
    {
     "name": "stdout",
     "output_type": "stream",
     "text": [
      "113 ns ± 4.05 ns per loop (mean ± std. dev. of 7 runs, 10,000,000 loops each)\n"
     ]
    }
   ],
   "source": [
    "%%timeit\n",
    "#less efficient way \n",
    "real_names = [\"Natasha Romanoff\", \"Tony Stark\", \"Stephen Strange\"]\n",
    "\n",
    "for count, name in enumerate(real_names):\n",
    "   x = 1"
   ]
  },
  {
   "cell_type": "code",
   "execution_count": 49,
   "id": "a45defd9-7137-4c81-8df4-e3110fdcacec",
   "metadata": {},
   "outputs": [
    {
     "name": "stdout",
     "output_type": "stream",
     "text": [
      "Natasha Romanoff is a Marvel superhero!\n",
      "Tony Stark is a Marvel superhero!\n",
      "Stephen Strange is a Marvel superhero!\n"
     ]
    }
   ],
   "source": [
    "count = 0 \n",
    "for real_name in real_names: \n",
    "    print(f\"{real_name} is a Marvel superhero!\")\n",
    "    count = count + 1 "
   ]
  },
  {
   "cell_type": "code",
   "execution_count": 51,
   "id": "7371652e-3a41-4028-a16e-f8b807241843",
   "metadata": {},
   "outputs": [
    {
     "name": "stdout",
     "output_type": "stream",
     "text": [
      "Natasha Romanoff is a Marvel superhero!\n",
      "Tony Stark is a Marvel superhero!\n",
      "Stephen Strange is a Marvel superhero!\n"
     ]
    }
   ],
   "source": [
    "\n",
    "real_names = [\"Natasha Romanoff\", \"Tony Stark\", \"Stephen Strange\"]\n",
    "\n",
    "for count, name in enumerate(real_names):\n",
    "   print(f\"{name} is a Marvel superhero!\")"
   ]
  },
  {
   "cell_type": "code",
   "execution_count": 23,
   "id": "6553e9e3-b6d0-4ddd-8720-751643474478",
   "metadata": {},
   "outputs": [],
   "source": [
    "super_names = [\"Black Widow\", \"Iron Man\", \"Doctor Strange\"]\n",
    "real_names = [\"Natasha Romanoff\", \"Tony Stark\", \"Stephen Strange\"]\n",
    "which_universe = [\"Marvel\", \"Marvel\", \"Marvel\"]"
   ]
  },
  {
   "cell_type": "code",
   "execution_count": 26,
   "id": "d0da5064-2500-4f52-b56d-1fac94a81062",
   "metadata": {},
   "outputs": [
    {
     "name": "stdout",
     "output_type": "stream",
     "text": [
      "Natasha Romanoff is Black Widow!\n",
      "Natasha Romanoff is from Marvel\n",
      "Tony Stark is Iron Man!\n",
      "Tony Stark is from Marvel\n",
      "Stephen Strange is Doctor Strange!\n",
      "Stephen Strange is from Marvel\n"
     ]
    }
   ],
   "source": [
    "for index, name in enumerate(real_names):\n",
    "    superhero_name = super_names[index]\n",
    "    universe = which_universe[index]\n",
    "    print(f'{name} is {superhero_name}!')\n",
    "    print(f'{name} is from {universe}')"
   ]
  },
  {
   "cell_type": "code",
   "execution_count": 28,
   "id": "214bcc3b-e32b-45a4-a36c-6371ec52424d",
   "metadata": {},
   "outputs": [
    {
     "name": "stdout",
     "output_type": "stream",
     "text": [
      "0: I love green tea\n",
      "1: I love black tea\n",
      "2: I love rooibos tea\n",
      "3: I love jasmine tea\n"
     ]
    }
   ],
   "source": [
    "tea = [\"green tea\", \"black tea\", \"rooibos tea\", \"jasmine tea\"]\n",
    "coffee = [\"expresso\", \"latte\", \"white\", \"black\"]\n",
    "\n",
    "for index, the_tea in enumerate(tea):\n",
    "    print(f\"{index}: I love {the_tea}\")\n"
   ]
  },
  {
   "cell_type": "code",
   "execution_count": 37,
   "id": "b9da1a09-cf95-4966-bac5-0c87b269d84b",
   "metadata": {},
   "outputs": [
    {
     "name": "stdout",
     "output_type": "stream",
     "text": [
      "green tea is my 1 favourite type of tea!\n",
      "black tea is my 2 favourite type of tea!\n",
      "rooibos tea is my 3 favourite type of tea!\n",
      "jasmine tea is my 4 favourite type of tea!\n"
     ]
    }
   ],
   "source": [
    "for index, the_tea in enumerate(tea):\n",
    "    preference = index + 1\n",
    "    print(f\"{the_tea} is my {preference} favourite type of tea!\")"
   ]
  },
  {
   "attachments": {},
   "cell_type": "markdown",
   "id": "939cc393",
   "metadata": {},
   "source": [
    "## for with range"
   ]
  },
  {
   "cell_type": "code",
   "execution_count": 38,
   "id": "9b799f83-a501-4b90-84b6-6ee9e4f8134b",
   "metadata": {},
   "outputs": [
    {
     "data": {
      "text/plain": [
       "range(0, 5)"
      ]
     },
     "execution_count": 38,
     "metadata": {},
     "output_type": "execute_result"
    }
   ],
   "source": [
    "range(5)"
   ]
  },
  {
   "cell_type": "code",
   "execution_count": 39,
   "id": "6336152d-d770-42a0-b2e9-822e9b9260c3",
   "metadata": {},
   "outputs": [
    {
     "data": {
      "text/plain": [
       "[0, 1, 2, 3, 4]"
      ]
     },
     "execution_count": 39,
     "metadata": {},
     "output_type": "execute_result"
    }
   ],
   "source": [
    "list(range(5)) "
   ]
  },
  {
   "cell_type": "code",
   "execution_count": 40,
   "id": "bc3637f8-bfa8-4d38-97f8-856e13d22d5d",
   "metadata": {},
   "outputs": [
    {
     "name": "stdout",
     "output_type": "stream",
     "text": [
      "0\n",
      "1\n",
      "2\n",
      "3\n",
      "4\n"
     ]
    }
   ],
   "source": [
    "for i in range(5):\n",
    "    print(i)               #note the difference in how the data is presented when for and print is used versus list "
   ]
  },
  {
   "cell_type": "code",
   "execution_count": 35,
   "id": "b35310c2-9e6d-4aa7-8620-7ecea830a490",
   "metadata": {},
   "outputs": [
    {
     "data": {
      "text/plain": [
       "[2, 4]"
      ]
     },
     "execution_count": 35,
     "metadata": {},
     "output_type": "execute_result"
    }
   ],
   "source": [
    "list(range(2,5,2))"
   ]
  },
  {
   "cell_type": "code",
   "execution_count": 41,
   "id": "2155c55d-cb35-45cf-977d-85e92d90ad50",
   "metadata": {},
   "outputs": [
    {
     "name": "stdout",
     "output_type": "stream",
     "text": [
      "5\n",
      "6\n",
      "7\n",
      "8\n",
      "9\n"
     ]
    }
   ],
   "source": [
    "for i in range(5, 10):      # range() alwaysends one short of the ending number \n",
    "    print (i)"
   ]
  },
  {
   "cell_type": "code",
   "execution_count": 42,
   "id": "531ed900-b946-4c0e-90f2-0c58995bba79",
   "metadata": {},
   "outputs": [
    {
     "name": "stdout",
     "output_type": "stream",
     "text": [
      "1\n",
      "4\n",
      "7\n"
     ]
    }
   ],
   "source": [
    "for i in range(1, 10, 3):\n",
    "    print(i)"
   ]
  },
  {
   "cell_type": "code",
   "execution_count": 44,
   "id": "9f0d263f-510b-480e-9140-382f4ad52791",
   "metadata": {},
   "outputs": [
    {
     "name": "stdout",
     "output_type": "stream",
     "text": [
      "Natasha Romanoff is Marvel's Black Widow!\n",
      "Tony Stark is Marvel's Iron Man!\n",
      "Stephen Strange is Marvel's Doctor Strange!\n"
     ]
    }
   ],
   "source": [
    "for i in range(len(real_names)):   # len(real_names) gives the 3, range(3) gives 0,1,2. \n",
    "    super_name = super_names[i]    # using 0, 1 and 2 as indexes we can print out the names in order \n",
    "    real_name = real_names[i]\n",
    "    print(f\"{real_name} is Marvel's {super_name}!\") "
   ]
  },
  {
   "cell_type": "code",
   "execution_count": 54,
   "id": "d730b770-fcbe-402c-b2dc-165a81a18753",
   "metadata": {},
   "outputs": [
    {
     "name": "stdout",
     "output_type": "stream",
     "text": [
      "I want to go to finland someday!\n",
      "I want to go to japan someday!\n",
      "I want to go to canada someday!\n",
      "I want to go to switzerland someday!\n",
      "I want to go to australia someday!\n",
      "I want to go to finland someday!\n",
      "I want to go to japan someday!\n",
      "I want to go to canada someday!\n",
      "I want to go to switzerland someday!\n",
      "I want to go to australia someday!\n"
     ]
    }
   ],
   "source": [
    "# when there is only one list, no need to use range(len()) function \n",
    "\n",
    "countries = [\"finland\", \"japan\", \"canada\", \"switzerland\", \"australia\"]\n",
    "\n",
    "for i in range(len(countries)):               # using the range(len()) function but this is unecessarily long \n",
    "    print(f\"I want to go to {countries[i]} someday!\")\n",
    "\n",
    "for country in countries: \n",
    "    print(f\"I want to go to {country} someday!\")  # we can simply just use for _ in _ without range(len()) function if there is only 1 list "
   ]
  },
  {
   "cell_type": "code",
   "execution_count": 56,
   "id": "17956e60-d3a6-47fb-b19e-7ce288c99bca",
   "metadata": {},
   "outputs": [
    {
     "name": "stdout",
     "output_type": "stream",
     "text": [
      "I want to go to finland someday in christmas!\n",
      "I want to go to japan someday in spring!\n",
      "I want to go to canada someday in autumn!\n",
      "I want to go to switzerland someday in christmas!\n",
      "I want to go to australia someday in summer!\n"
     ]
    }
   ],
   "source": [
    "# more appropriate to use range(len()) function since there are two lists \n",
    "\n",
    "countries = [\"finland\", \"japan\", \"canada\", \"switzerland\", \"australia\"]\n",
    "seasons = [\"christmas\", \"spring\", \"autumn\", \"christmas\", \"summer\"]\n",
    "\n",
    "for i in range(len(countries)):   # len(countries) = 5. range(5) = 0,1,2,3,4. \n",
    "    country = countries[i]        # using 0,1,2,3,4 as indexes, we will get each country corresponding to their season \n",
    "    season = seasons[i]\n",
    "    print(f\"I want to go to {country} someday in {season}!\")"
   ]
  },
  {
   "attachments": {},
   "cell_type": "markdown",
   "id": "62aaf802",
   "metadata": {},
   "source": [
    "# while"
   ]
  },
  {
   "cell_type": "code",
   "execution_count": 1,
   "id": "de1f4482-e58b-41e1-b827-4c00b7142583",
   "metadata": {},
   "outputs": [],
   "source": [
    "# benefit: we do not need to know beforehand how many iterations of the loop is required "
   ]
  },
  {
   "cell_type": "code",
   "execution_count": 2,
   "id": "364e848c-7db4-4999-85ec-5d50fd12bafd",
   "metadata": {},
   "outputs": [
    {
     "name": "stdout",
     "output_type": "stream",
     "text": [
      "0\n",
      "1\n",
      "2\n",
      "3\n",
      "4\n"
     ]
    }
   ],
   "source": [
    "number = 0\n",
    "\n",
    "while number < 5:     # while loop keeps running while a condition is true and stops when the condition is false \n",
    "    print(number)\n",
    "    number += 1"
   ]
  },
  {
   "cell_type": "code",
   "execution_count": null,
   "id": "ca48fca7-af73-47ba-87b9-5de0bcf4d243",
   "metadata": {},
   "outputs": [],
   "source": [
    "number = 0\n",
    "square = number**2\n",
    "\n",
    "while square <50:\n",
    "    print (number, square)\n",
    "    number += 1"
   ]
  },
  {
   "cell_type": "code",
   "execution_count": null,
   "id": "3fe18493-2da9-4996-a0f7-bd9eeda81d66",
   "metadata": {},
   "outputs": [],
   "source": [
    "number_before = 367\n",
    "number_after = number_before - 65\n",
    "\n",
    "while number_before > 123:\n",
    "    print(number_before, number_after)"
   ]
  }
 ],
 "metadata": {
  "kernelspec": {
   "display_name": "Python 3 (ipykernel)",
   "language": "python",
   "name": "python3"
  },
  "language_info": {
   "codemirror_mode": {
    "name": "ipython",
    "version": 3
   },
   "file_extension": ".py",
   "mimetype": "text/x-python",
   "name": "python",
   "nbconvert_exporter": "python",
   "pygments_lexer": "ipython3",
   "version": "3.11.7"
  },
  "toc": {
   "base_numbering": 1,
   "nav_menu": {},
   "number_sections": true,
   "sideBar": true,
   "skip_h1_title": false,
   "title_cell": "Table of Contents",
   "title_sidebar": "Contents",
   "toc_cell": false,
   "toc_position": {},
   "toc_section_display": true,
   "toc_window_display": false
  },
  "vscode": {
   "interpreter": {
    "hash": "31f2aee4e71d21fbe5cf8b01ff0e069b9275f58929596ceb00d14d90e3e16cd6"
   }
  }
 },
 "nbformat": 4,
 "nbformat_minor": 5
}
