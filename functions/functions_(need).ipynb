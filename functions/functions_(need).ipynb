{
 "cells": [
  {
   "attachments": {},
   "cell_type": "markdown",
   "id": "123456",
   "metadata": {},
   "source": [
    "<div style=\"text-align:left;font-size:2em\"><span style=\"font-weight:bolder;font-size:1.25em\">SP2273 | Learning Portfolio</span><br><br><span style=\"font-weight:bold;color:darkred\">Functions (Need)</span></div>"
   ]
  },
  {
   "attachments": {},
   "cell_type": "markdown",
   "id": "7c5f3a65",
   "metadata": {},
   "source": [
    "# User-defined functions"
   ]
  },
  {
   "cell_type": "code",
   "execution_count": null,
   "id": "017357e2-76b1-4e6f-86bd-3232be9c5ebe",
   "metadata": {},
   "outputs": [],
   "source": [
    "# two types- named and ananymous functions "
   ]
  },
  {
   "attachments": {},
   "cell_type": "markdown",
   "id": "8633e1e9",
   "metadata": {},
   "source": [
    "## Named Functions"
   ]
  },
  {
   "attachments": {},
   "cell_type": "markdown",
   "id": "871f0397",
   "metadata": {},
   "source": [
    "### Named functions that return"
   ]
  },
  {
   "cell_type": "code",
   "execution_count": 1,
   "id": "9f18dd85-16a3-4237-a2de-7c75001d7822",
   "metadata": {},
   "outputs": [],
   "source": [
    "# def allows us to define the function "
   ]
  },
  {
   "cell_type": "code",
   "execution_count": 8,
   "id": "735e479c-3f2e-43bb-abd5-c684d789843a",
   "metadata": {},
   "outputs": [],
   "source": [
    "# using return command (only can be used within a function)\n",
    "def greeting(name):\n",
    "    if name == 'Batman':\n",
    "        return 'Hello Batman! So, nice to meet you!'  #note that the quotation marks are not part of the return command \n",
    "    else:\n",
    "        return f'Hello {name}!'"
   ]
  },
  {
   "cell_type": "code",
   "execution_count": 6,
   "id": "afd0667f-c509-4114-b413-d3ac2c75f723",
   "metadata": {},
   "outputs": [],
   "source": [
    "# using print() command \n",
    "def greeting_again(name):\n",
    "    if name == 'Batman':\n",
    "        print('Hello Batman! So, nice to meet you!')\n",
    "    else: \n",
    "        print(f'Hello {name}!')"
   ]
  },
  {
   "cell_type": "code",
   "execution_count": 6,
   "id": "568b36bc-1131-4d1a-9e15-6ceae7fd0c82",
   "metadata": {},
   "outputs": [
    {
     "name": "stdout",
     "output_type": "stream",
     "text": [
      "Hello haha!\n"
     ]
    }
   ],
   "source": [
    "# A\n",
    "output = greeting('haha')   #doesn't give any output \n",
    "print(output)     #prints because is equal to print('Hello haha!')"
   ]
  },
  {
   "cell_type": "code",
   "execution_count": 7,
   "id": "5c7b0839",
   "metadata": {},
   "outputs": [
    {
     "name": "stdout",
     "output_type": "stream",
     "text": [
      "Hello haha!\n",
      "None\n"
     ]
    }
   ],
   "source": [
    "#B\n",
    "\n",
    "output = greeting_again('haha')   # gives output 'Hello haha!'\n",
    "print(output)      # gives None \n"
   ]
  },
  {
   "cell_type": "code",
   "execution_count": 20,
   "id": "66919a37-2b02-46c9-a020-61cd185fdde7",
   "metadata": {},
   "outputs": [
    {
     "name": "stdout",
     "output_type": "stream",
     "text": [
      "Uranus is not Mars or Jupiter\n",
      "Mars is Mars or Jupiter!\n"
     ]
    }
   ],
   "source": [
    "def identity(planets):\n",
    "    if planets == 'Mars' or planets == 'Jupiter':   # NOT if planets == 'Mars' or 'Jupiter'\n",
    "        print(f\"{planets} is Mars or Jupiter!\")\n",
    "    else: \n",
    "        print(f\"{planets} is not Mars or Jupiter\")\n",
    "\n",
    "identity(\"Uranus\")\n",
    "identity(\"Mars\")"
   ]
  },
  {
   "cell_type": "code",
   "execution_count": 29,
   "id": "14cda98c-c32c-44e6-b8fb-b599866dae03",
   "metadata": {},
   "outputs": [
    {
     "name": "stdout",
     "output_type": "stream",
     "text": [
      "9 is a multiple of 3 but not 2\n",
      "8 is a multiple of 2 but not 3\n",
      "12 is a multiple of both 4 and 3\n",
      "5 is neither a multiple of 2 or 3\n"
     ]
    }
   ],
   "source": [
    "def identify(number):\n",
    "    if number%2 == 0 and number%3 == 0:\n",
    "        print(f\"{number} is a multiple of both 4 and 3\")\n",
    "    elif number%2 == 0 and number%3 != 0: \n",
    "        print(f\"{number} is a multiple of 2 but not 3\")\n",
    "    elif number%2 != 0 and number%3 == 0:     #elif is short for else if \n",
    "        print(f\"{number} is a multiple of 3 but not 2\")\n",
    "    else: \n",
    "        print(f\"{number} is neither a multiple of 2 or 3\")\n",
    "        \n",
    "identify(9)\n",
    "identify(8)\n",
    "identify(12)\n",
    "identify(5)"
   ]
  },
  {
   "cell_type": "code",
   "execution_count": 14,
   "id": "806cdbfc-41ea-4194-b920-dcfa5ce02c9b",
   "metadata": {},
   "outputs": [
    {
     "data": {
      "text/plain": [
       "(10, 5, 7.5)"
      ]
     },
     "execution_count": 14,
     "metadata": {},
     "output_type": "execute_result"
    }
   ],
   "source": [
    "import numpy as np \n",
    "\n",
    "def basic_stats(numbers):\n",
    "    np_numbers = np.array(numbers)\n",
    "    my_min = np_numbers.min()\n",
    "    my_max = np_numbers.max()\n",
    "    my_mean = np_numbers.mean()\n",
    "    return my_max, my_min, my_mean\n",
    "\n",
    "basic_stats([5,6,7,8,9,10])"
   ]
  },
  {
   "cell_type": "code",
   "execution_count": 33,
   "id": "1f7e5d09-b68b-4b1c-9dc7-28a4ef6045f5",
   "metadata": {},
   "outputs": [],
   "source": [
    "def give_no(no):\n",
    "    print(f'{no}')\n",
    "    return no"
   ]
  },
  {
   "cell_type": "code",
   "execution_count": 34,
   "id": "5d086371-f384-4354-bef1-c3d5552721c0",
   "metadata": {},
   "outputs": [
    {
     "name": "stdout",
     "output_type": "stream",
     "text": [
      "3\n",
      "3\n"
     ]
    }
   ],
   "source": [
    "num = give_no(3)\n",
    "print(num)"
   ]
  },
  {
   "cell_type": "code",
   "execution_count": 36,
   "id": "7059c6c3-c018-4b0d-92ca-fcf9380b367d",
   "metadata": {},
   "outputs": [],
   "source": [
    "def give_no(no):\n",
    "    # print(f'{no}')\n",
    "    return no"
   ]
  },
  {
   "attachments": {},
   "cell_type": "markdown",
   "id": "395c7fa7",
   "metadata": {},
   "source": [
    "### Named functions that don’t return"
   ]
  },
  {
   "attachments": {},
   "cell_type": "markdown",
   "id": "e7cabe36",
   "metadata": {},
   "source": [
    "## Anonymous functions"
   ]
  },
  {
   "cell_type": "code",
   "execution_count": 27,
   "id": "2f72f615",
   "metadata": {},
   "outputs": [
    {
     "name": "stdout",
     "output_type": "stream",
     "text": [
      "Hello fella!\n"
     ]
    }
   ],
   "source": [
    "my_short_function = lambda name: f\"Hello {name}!\" #lamda makes the part after the colon the 'definition' or command called when the variable is called subsequently \n",
    "print (my_short_function('fella'))  \n"
   ]
  },
  {
   "cell_type": "code",
   "execution_count": 29,
   "id": "663179ce-a532-4ea7-b46c-f77e322b2c3c",
   "metadata": {},
   "outputs": [],
   "source": [
    "numbers=[[9, 0, -10],\n",
    "         [8, 1, -11],\n",
    "         [7, 2, -12],\n",
    "         [6, 3, -13],\n",
    "         [5, 4, -14],\n",
    "         [4, 5, -15],\n",
    "         [3, 6, -16],\n",
    "         [2, 7, -17],\n",
    "         [1, 8, -18],\n",
    "         [0, 9, -19]]"
   ]
  },
  {
   "cell_type": "code",
   "execution_count": 30,
   "id": "28866088-8552-4861-9cf7-593f5b080f25",
   "metadata": {},
   "outputs": [
    {
     "data": {
      "text/plain": [
       "[[0, 9, -19],\n",
       " [1, 8, -18],\n",
       " [2, 7, -17],\n",
       " [3, 6, -16],\n",
       " [4, 5, -15],\n",
       " [5, 4, -14],\n",
       " [6, 3, -13],\n",
       " [7, 2, -12],\n",
       " [8, 1, -11],\n",
       " [9, 0, -10]]"
      ]
     },
     "execution_count": 30,
     "metadata": {},
     "output_type": "execute_result"
    }
   ],
   "source": [
    "# Sort by comparing the default key\n",
    "# (i.e., the 1st element)\n",
    "sorted(numbers)"
   ]
  },
  {
   "cell_type": "code",
   "execution_count": 32,
   "id": "eaf789a8-cd60-4dd7-93c1-b968e91edc80",
   "metadata": {},
   "outputs": [
    {
     "data": {
      "text/plain": [
       "[[9, 0, -10],\n",
       " [8, 1, -11],\n",
       " [7, 2, -12],\n",
       " [6, 3, -13],\n",
       " [5, 4, -14],\n",
       " [4, 5, -15],\n",
       " [3, 6, -16],\n",
       " [2, 7, -17],\n",
       " [1, 8, -18],\n",
       " [0, 9, -19]]"
      ]
     },
     "execution_count": 32,
     "metadata": {},
     "output_type": "execute_result"
    }
   ],
   "source": [
    "# Sort by comparing a custom key\n",
    "# that uses the 2nd element (index=1)\n",
    "sorted(numbers, key=lambda x: x[1])  #key is just an optional argument of sorted() command. \n",
    "\n",
    "# a command can work without using the optional argument. to find out the optional and not optional arguments of a command, enter '?(command)' "
   ]
  },
  {
   "cell_type": "code",
   "execution_count": 37,
   "id": "1bc03ccd-65c3-4f38-89ba-22e2ea90643c",
   "metadata": {},
   "outputs": [
    {
     "data": {
      "text/plain": [
       "\u001b[0;31mSignature:\u001b[0m \u001b[0msorted\u001b[0m\u001b[0;34m(\u001b[0m\u001b[0miterable\u001b[0m\u001b[0;34m,\u001b[0m \u001b[0;34m/\u001b[0m\u001b[0;34m,\u001b[0m \u001b[0;34m*\u001b[0m\u001b[0;34m,\u001b[0m \u001b[0mkey\u001b[0m\u001b[0;34m=\u001b[0m\u001b[0;32mNone\u001b[0m\u001b[0;34m,\u001b[0m \u001b[0mreverse\u001b[0m\u001b[0;34m=\u001b[0m\u001b[0;32mFalse\u001b[0m\u001b[0;34m)\u001b[0m\u001b[0;34m\u001b[0m\u001b[0;34m\u001b[0m\u001b[0m\n",
       "\u001b[0;31mDocstring:\u001b[0m\n",
       "Return a new list containing all items from the iterable in ascending order.\n",
       "\n",
       "A custom key function can be supplied to customize the sort order, and the\n",
       "reverse flag can be set to request the result in descending order.\n",
       "\u001b[0;31mType:\u001b[0m      builtin_function_or_method"
      ]
     },
     "metadata": {},
     "output_type": "display_data"
    }
   ],
   "source": [
    "?sorted   # there are no necessary arguments for this command.\n",
    "  "
   ]
  },
  {
   "cell_type": "code",
   "execution_count": 64,
   "id": "67facf9e-8adc-4189-8d3b-7539eb5d76bd",
   "metadata": {},
   "outputs": [
    {
     "ename": "TypeError",
     "evalue": "my_sort_with_middle() missing 1 required positional argument: 'number'",
     "output_type": "error",
     "traceback": [
      "\u001b[0;31m---------------------------------------------------------------------------\u001b[0m",
      "\u001b[0;31mTypeError\u001b[0m                                 Traceback (most recent call last)",
      "Cell \u001b[0;32mIn[64], line 10\u001b[0m\n\u001b[1;32m      6\u001b[0m         \u001b[38;5;28;01mreturn\u001b[39;00m x[\u001b[38;5;241m1\u001b[39m] \u001b[38;5;241m-\u001b[39m x[\u001b[38;5;241m2\u001b[39m] \n\u001b[1;32m      8\u001b[0m     \u001b[38;5;28;01mreturn\u001b[39;00m \u001b[38;5;28msorted\u001b[39m(number, key \u001b[38;5;241m=\u001b[39m my_func(x))\n\u001b[0;32m---> 10\u001b[0m \u001b[43mmy_sort_with_middle\u001b[49m\u001b[43m(\u001b[49m\u001b[43m)\u001b[49m\n",
      "\u001b[0;31mTypeError\u001b[0m: my_sort_with_middle() missing 1 required positional argument: 'number'"
     ]
    }
   ],
   "source": [
    "#def and return come together \n",
    "\n",
    "def my_sort_with_middle(number): \n",
    "\n",
    "    def my_func(x):\n",
    "        return x[1] - x[2] \n",
    "\n",
    "    return sorted(number, key = my_func(x))\n",
    "\n",
    "my_sort_with_middle()"
   ]
  },
  {
   "cell_type": "code",
   "execution_count": 65,
   "id": "ae6eee9f-b211-4bff-82d3-523782cd4bf9",
   "metadata": {},
   "outputs": [
    {
     "name": "stdout",
     "output_type": "stream",
     "text": [
      "1\n",
      "2\n",
      "2\n",
      "3\n"
     ]
    }
   ],
   "source": [
    "test_list  = [ [1,2], [2,3]]\n",
    "\n",
    "for x, y in test_list:\n",
    "    print(x)\n",
    "    print(y)"
   ]
  },
  {
   "cell_type": "code",
   "execution_count": 63,
   "id": "c442ab6e-52be-4c20-9c61-176013733d7b",
   "metadata": {},
   "outputs": [
    {
     "name": "stdout",
     "output_type": "stream",
     "text": [
      "3\n"
     ]
    }
   ],
   "source": [
    "#def and return come together \n",
    "\n",
    "number = 1\n",
    "\n",
    "def my_sort_with_middle(number): \n",
    "    return number\n",
    "\n",
    "print(my_sort_with_middle(3))"
   ]
  },
  {
   "cell_type": "code",
   "execution_count": null,
   "id": "9e6259da-13c8-4ca1-91e6-c4d4d0224162",
   "metadata": {},
   "outputs": [],
   "source": []
  },
  {
   "attachments": {},
   "cell_type": "markdown",
   "id": "e3b775c0",
   "metadata": {},
   "source": [
    "## Optional arguments"
   ]
  },
  {
   "attachments": {},
   "cell_type": "markdown",
   "id": "8737f49d",
   "metadata": {},
   "source": [
    "## The importance of functions?"
   ]
  },
  {
   "attachments": {},
   "cell_type": "markdown",
   "id": "a6f9b5a4",
   "metadata": {},
   "source": [
    "### An argument for functions"
   ]
  },
  {
   "cell_type": "code",
   "execution_count": 40,
   "id": "35a4dd6e",
   "metadata": {},
   "outputs": [
    {
     "name": "stdout",
     "output_type": "stream",
     "text": [
      "Object `return` not found.\n"
     ]
    }
   ],
   "source": [
    "\n"
   ]
  },
  {
   "attachments": {},
   "cell_type": "markdown",
   "id": "b1cf55e6",
   "metadata": {},
   "source": [
    "### A word of caution"
   ]
  },
  {
   "cell_type": "code",
   "execution_count": null,
   "id": "749d9227",
   "metadata": {},
   "outputs": [],
   "source": [
    "\n",
    "# Your code here\n"
   ]
  }
 ],
 "metadata": {
  "kernelspec": {
   "display_name": "Python 3 (ipykernel)",
   "language": "python",
   "name": "python3"
  },
  "language_info": {
   "codemirror_mode": {
    "name": "ipython",
    "version": 3
   },
   "file_extension": ".py",
   "mimetype": "text/x-python",
   "name": "python",
   "nbconvert_exporter": "python",
   "pygments_lexer": "ipython3",
   "version": "3.11.7"
  },
  "toc": {
   "base_numbering": 1,
   "nav_menu": {},
   "number_sections": true,
   "sideBar": true,
   "skip_h1_title": false,
   "title_cell": "Table of Contents",
   "title_sidebar": "Contents",
   "toc_cell": false,
   "toc_position": {},
   "toc_section_display": true,
   "toc_window_display": false
  },
  "vscode": {
   "interpreter": {
    "hash": "31f2aee4e71d21fbe5cf8b01ff0e069b9275f58929596ceb00d14d90e3e16cd6"
   }
  }
 },
 "nbformat": 4,
 "nbformat_minor": 5
}
