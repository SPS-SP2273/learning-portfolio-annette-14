{
 "cells": [
  {
   "attachments": {},
   "cell_type": "markdown",
   "id": "123456",
   "metadata": {},
   "source": [
    "<div style=\"text-align:left;font-size:2em\"><span style=\"font-weight:bolder;font-size:1.25em\">SP2273 | Learning Portfolio</span><br><br><span style=\"font-weight:bold;color:darkred\">Functions (Good)</span></div>"
   ]
  },
  {
   "attachments": {},
   "cell_type": "markdown",
   "id": "539168b8",
   "metadata": {},
   "source": [
    "# Checks, balances, and contingencies"
   ]
  },
  {
   "attachments": {},
   "cell_type": "markdown",
   "id": "465b1ae2",
   "metadata": {},
   "source": [
    "## assert"
   ]
  },
  {
   "cell_type": "code",
   "execution_count": 4,
   "id": "8e5bd7e9-dc9e-4d9c-a365-804b15089c88",
   "metadata": {},
   "outputs": [],
   "source": [
    "# assert can check a condition and halt execution if condition is not met. gives the option of printing a message \n",
    "# syntax: assert condition-to-check, message "
   ]
  },
  {
   "cell_type": "code",
   "execution_count": 5,
   "id": "169acb60-d6e8-441c-ad88-0f5057b1ddc9",
   "metadata": {},
   "outputs": [
    {
     "ename": "AssertionError",
     "evalue": "too high!!",
     "output_type": "error",
     "traceback": [
      "\u001b[0;31m---------------------------------------------------------------------------\u001b[0m",
      "\u001b[0;31mAssertionError\u001b[0m                            Traceback (most recent call last)",
      "Cell \u001b[0;32mIn[5], line 3\u001b[0m\n\u001b[1;32m      1\u001b[0m x \u001b[38;5;241m=\u001b[39m \u001b[38;5;241m10\u001b[39m\n\u001b[0;32m----> 3\u001b[0m \u001b[38;5;28;01massert\u001b[39;00m x \u001b[38;5;241m<\u001b[39m \u001b[38;5;241m10\u001b[39m, \u001b[38;5;124m\"\u001b[39m\u001b[38;5;124mtoo high!!\u001b[39m\u001b[38;5;124m\"\u001b[39m\n",
      "\u001b[0;31mAssertionError\u001b[0m: too high!!"
     ]
    }
   ],
   "source": [
    "x = 10\n",
    "\n",
    "assert x < 10, \"too high!!\""
   ]
  },
  {
   "cell_type": "code",
   "execution_count": 6,
   "id": "106b1469-b36c-4f50-832f-347f7bd44a79",
   "metadata": {},
   "outputs": [],
   "source": [
    "y = 2\n",
    "\n",
    "assert y > 0, \"x is negative!\"  "
   ]
  },
  {
   "cell_type": "code",
   "execution_count": 19,
   "id": "3ab59892-74a3-4735-b1ea-db40b8346e06",
   "metadata": {},
   "outputs": [
    {
     "name": "stdout",
     "output_type": "stream",
     "text": [
      "z is not negative\n",
      "z is not negative\n",
      "z is not negative\n"
     ]
    },
    {
     "ename": "AssertionError",
     "evalue": "z is becoming negative",
     "output_type": "error",
     "traceback": [
      "\u001b[0;31m---------------------------------------------------------------------------\u001b[0m",
      "\u001b[0;31mAssertionError\u001b[0m                            Traceback (most recent call last)",
      "Cell \u001b[0;32mIn[19], line 7\u001b[0m\n\u001b[1;32m      4\u001b[0m     \u001b[38;5;28mprint\u001b[39m(\u001b[38;5;124m\"\u001b[39m\u001b[38;5;124mz is not negative\u001b[39m\u001b[38;5;124m\"\u001b[39m)\n\u001b[1;32m      5\u001b[0m     z \u001b[38;5;241m-\u001b[39m\u001b[38;5;241m=\u001b[39m \u001b[38;5;241m1\u001b[39m \n\u001b[0;32m----> 7\u001b[0m \u001b[38;5;28;01massert\u001b[39;00m z \u001b[38;5;241m>\u001b[39m \u001b[38;5;241m0\u001b[39m, \u001b[38;5;124m'\u001b[39m\u001b[38;5;124mz is becoming negative\u001b[39m\u001b[38;5;124m'\u001b[39m\n",
      "\u001b[0;31mAssertionError\u001b[0m: z is becoming negative"
     ]
    }
   ],
   "source": [
    "z = 3 \n",
    "\n",
    "while z > 0: \n",
    "    print(\"z is not negative\")\n",
    "    z -= 1 \n",
    "\n",
    "assert z > 0, 'z is becoming negative'\n"
   ]
  },
  {
   "attachments": {},
   "cell_type": "markdown",
   "id": "f9fd8968",
   "metadata": {},
   "source": [
    "## try-except"
   ]
  },
  {
   "cell_type": "code",
   "execution_count": 20,
   "id": "4f00dbd8-26ee-47d3-a78e-85814226af2a",
   "metadata": {},
   "outputs": [],
   "source": [
    "# technical name for things going wrong is exceptions. \n",
    "# exceptions left unhandled will halt the flow of the programme\n",
    "# we can use try-except to catch and handle these exceptions "
   ]
  },
  {
   "cell_type": "code",
   "execution_count": 21,
   "id": "91e2a7a7-8de8-41b2-9596-f476be5be971",
   "metadata": {},
   "outputs": [
    {
     "name": "stdin",
     "output_type": "stream",
     "text": [
      "Give me a number and I will calculate its square. 5\n"
     ]
    },
    {
     "name": "stdout",
     "output_type": "stream",
     "text": [
      "The square of 5 is 25!\n"
     ]
    }
   ],
   "source": [
    "number=input(\"Give me a number and I will calculate its square.\")\n",
    "square=int(number)**2              # Convert English to number\n",
    "print(f'The square of {number} is {square}!')"
   ]
  },
  {
   "cell_type": "code",
   "execution_count": 24,
   "id": "084ac3db-3058-409f-ad4d-f72e5672b736",
   "metadata": {},
   "outputs": [
    {
     "name": "stdin",
     "output_type": "stream",
     "text": [
      "Give me a number and I will calculate its square. four\n"
     ]
    },
    {
     "name": "stdout",
     "output_type": "stream",
     "text": [
      "Uh oh! I cannot square four!\n"
     ]
    }
   ],
   "source": [
    "# modified code to allow for inputs of strings \n",
    "try:\n",
    "    number=input(\"Give me a number and I will calculate its square.\")\n",
    "    square=int(number)**2\n",
    "    print(f'The square of {number} is {square}!')\n",
    "except:\n",
    "    print(f\"Uh oh! I cannot square {number}!\")"
   ]
  },
  {
   "cell_type": "code",
   "execution_count": 13,
   "id": "b0149263-bad7-466b-bd89-524fda087164",
   "metadata": {},
   "outputs": [
    {
     "name": "stdin",
     "output_type": "stream",
     "text": [
      "what is your favourite number? five\n"
     ]
    },
    {
     "name": "stdout",
     "output_type": "stream",
     "text": [
      "oi.. can type in a number pls >:(\n"
     ]
    }
   ],
   "source": [
    "try:     # we can have an except i.e a response for each type of error. \n",
    "    number = input (\"what is your favourite number?\")\n",
    "    square = int(number)**3 \n",
    "    print(f\"the cube of your favourite number is {square}!\")\n",
    "\n",
    "except: \n",
    "    print(f\"oi.. can type in a number pls >:(\")  #fixing value errors"
   ]
  },
  {
   "cell_type": "code",
   "execution_count": null,
   "id": "d4b36eaf-3574-4301-a1ec-94e58a0da4db",
   "metadata": {},
   "outputs": [],
   "source": [
    "temperature = 10 \n",
    "try:\n",
    "    if temperature < 5: \n",
    "        weather = \"cold\"\n",
    "        "
   ]
  },
  {
   "attachments": {},
   "cell_type": "markdown",
   "id": "5de3ac05",
   "metadata": {},
   "source": [
    "## A simple suggestion"
   ]
  },
  {
   "cell_type": "code",
   "execution_count": 25,
   "id": "e44efd12-40f8-4266-829f-d4755f040074",
   "metadata": {},
   "outputs": [],
   "source": [
    "# take things slow first, then speed up later \n",
    "# make a code such that python is speaking to us and telling us what it is doing (use print) \n",
    "# this enables us to know whether our code is working rather than just waiting and not being sure if its running "
   ]
  },
  {
   "attachments": {},
   "cell_type": "markdown",
   "id": "d45d0f0f",
   "metadata": {},
   "source": [
    "# Some loose ends"
   ]
  },
  {
   "attachments": {},
   "cell_type": "markdown",
   "id": "b9ca68ca",
   "metadata": {},
   "source": [
    "## Positional, keyword and default arguments"
   ]
  },
  {
   "cell_type": "code",
   "execution_count": 26,
   "id": "2c4276e2-16ff-4b20-a03f-47acd807e703",
   "metadata": {},
   "outputs": [],
   "source": [
    "def side_by_side (a, b, c = 42):     # defining c again later will overwrite c = 42 \n",
    "    return f'{a: 2d}|{b: 2d}|{c: 2d}'\n"
   ]
  },
  {
   "cell_type": "code",
   "execution_count": 22,
   "id": "e87ec60d-f3eb-4a62-ae90-4560b7e40550",
   "metadata": {},
   "outputs": [
    {
     "data": {
      "text/plain": [
       "' 1| 2| 42'"
      ]
     },
     "execution_count": 22,
     "metadata": {},
     "output_type": "execute_result"
    }
   ],
   "source": [
    "side_by_side(1,2)   #2 positional arguments, 1 default "
   ]
  },
  {
   "cell_type": "code",
   "execution_count": 29,
   "id": "4cf2bd48-a00f-4933-9d0a-a8035d065788",
   "metadata": {},
   "outputs": [
    {
     "data": {
      "text/plain": [
       "' 3| 6| 9'"
      ]
     },
     "execution_count": 29,
     "metadata": {},
     "output_type": "execute_result"
    }
   ],
   "source": [
    "side_by_side(3,6,9)   #3 positional arguments, value of c is overwritten"
   ]
  },
  {
   "cell_type": "code",
   "execution_count": null,
   "id": "b5bea046-6285-44d6-9ba0-7d04b3ca80ff",
   "metadata": {},
   "outputs": [],
   "source": [
    "side_by_side(a = 1, b = 2)   # 2 keyword arguments, 1 default "
   ]
  },
  {
   "cell_type": "code",
   "execution_count": 23,
   "id": "53ad0b75-a66d-478b-8194-689a75db1842",
   "metadata": {},
   "outputs": [
    {
     "data": {
      "text/plain": [
       "' 1| 2| 5'"
      ]
     },
     "execution_count": 23,
     "metadata": {},
     "output_type": "execute_result"
    }
   ],
   "source": [
    "side_by_side(a = 1, b = 2, c = 5)   # 3 keyword arguments, default value of c is overwritten"
   ]
  },
  {
   "cell_type": "code",
   "execution_count": 28,
   "id": "578bac01-3568-42a4-ae94-1eece06a132e",
   "metadata": {},
   "outputs": [
    {
     "data": {
      "text/plain": [
       "' 1| 2| 5'"
      ]
     },
     "execution_count": 28,
     "metadata": {},
     "output_type": "execute_result"
    }
   ],
   "source": [
    "side_by_side(1, b = 2, c = 5)   #1 positional, 2 keyword \n",
    "                                # sometimes having a combination of both keyword and positional arguments "
   ]
  },
  {
   "cell_type": "code",
   "execution_count": 29,
   "id": "4fbe83cb-1ba6-46a6-8589-fdd8314d3b99",
   "metadata": {},
   "outputs": [
    {
     "ename": "TypeError",
     "evalue": "side_by_side() got multiple values for argument 'a'",
     "output_type": "error",
     "traceback": [
      "\u001b[0;31m---------------------------------------------------------------------------\u001b[0m",
      "\u001b[0;31mTypeError\u001b[0m                                 Traceback (most recent call last)",
      "Cell \u001b[0;32mIn[29], line 1\u001b[0m\n\u001b[0;32m----> 1\u001b[0m \u001b[43mside_by_side\u001b[49m\u001b[43m(\u001b[49m\u001b[38;5;241;43m2\u001b[39;49m\u001b[43m,\u001b[49m\u001b[43m \u001b[49m\u001b[43mb\u001b[49m\u001b[43m \u001b[49m\u001b[38;5;241;43m=\u001b[39;49m\u001b[43m \u001b[49m\u001b[38;5;241;43m4\u001b[39;49m\u001b[43m,\u001b[49m\u001b[43m \u001b[49m\u001b[43mc\u001b[49m\u001b[43m \u001b[49m\u001b[38;5;241;43m=\u001b[39;49m\u001b[43m \u001b[49m\u001b[38;5;241;43m7\u001b[39;49m\u001b[43m,\u001b[49m\u001b[43m \u001b[49m\u001b[43ma\u001b[49m\u001b[43m \u001b[49m\u001b[38;5;241;43m=\u001b[39;49m\u001b[43m \u001b[49m\u001b[38;5;241;43m4\u001b[39;49m\u001b[43m)\u001b[49m   \u001b[38;5;66;03m# dont give the same variable 2 values \u001b[39;00m\n",
      "\u001b[0;31mTypeError\u001b[0m: side_by_side() got multiple values for argument 'a'"
     ]
    }
   ],
   "source": [
    "side_by_side(2, b = 4, c = 7, a = 4)   # dont give the same variable 2 values "
   ]
  },
  {
   "cell_type": "code",
   "execution_count": 31,
   "id": "6c620074-efc7-4b0f-a96d-1a53ce0f6f39",
   "metadata": {},
   "outputs": [
    {
     "data": {
      "text/plain": [
       "' 1| 6| 42'"
      ]
     },
     "execution_count": 31,
     "metadata": {},
     "output_type": "execute_result"
    }
   ],
   "source": [
    "side_by_side (1, b = 6)    # one positional, one keyword, one default "
   ]
  },
  {
   "cell_type": "code",
   "execution_count": 32,
   "id": "527ae745-948e-4181-96a0-242027abcaf1",
   "metadata": {},
   "outputs": [
    {
     "ename": "SyntaxError",
     "evalue": "positional argument follows keyword argument (3199276890.py, line 1)",
     "output_type": "error",
     "traceback": [
      "\u001b[0;36m  Cell \u001b[0;32mIn[32], line 1\u001b[0;36m\u001b[0m\n\u001b[0;31m    side_by_side(1, b = 1, 5)   # cannot have positional argument after keyword argument because it MAY result in errors\u001b[0m\n\u001b[0m                            ^\u001b[0m\n\u001b[0;31mSyntaxError\u001b[0m\u001b[0;31m:\u001b[0m positional argument follows keyword argument\n"
     ]
    }
   ],
   "source": [
    "side_by_side(1, b = 1, 5)   # cannot have positional argument after keyword argument because it MAY result in errors "
   ]
  },
  {
   "attachments": {},
   "cell_type": "markdown",
   "id": "a0af5aae",
   "metadata": {},
   "source": [
    "## Docstrings"
   ]
  },
  {
   "cell_type": "code",
   "execution_count": 27,
   "id": "78318683-22de-4600-ac9b-b8b138036005",
   "metadata": {},
   "outputs": [
    {
     "name": "stdout",
     "output_type": "stream",
     "text": [
      "Help on function side_by_side in module __main__:\n",
      "\n",
      "side_by_side(a, b, c=42)\n",
      "\n"
     ]
    }
   ],
   "source": [
    "help(side_by_side)   #python function 'help'"
   ]
  },
  {
   "cell_type": "code",
   "execution_count": 28,
   "id": "c2e00766-8626-4608-a4ca-0a6db0e3bda7",
   "metadata": {},
   "outputs": [
    {
     "data": {
      "text/plain": [
       "\u001b[0;31mSignature:\u001b[0m \u001b[0mside_by_side\u001b[0m\u001b[0;34m(\u001b[0m\u001b[0ma\u001b[0m\u001b[0;34m,\u001b[0m \u001b[0mb\u001b[0m\u001b[0;34m,\u001b[0m \u001b[0mc\u001b[0m\u001b[0;34m=\u001b[0m\u001b[0;36m42\u001b[0m\u001b[0;34m)\u001b[0m\u001b[0;34m\u001b[0m\u001b[0;34m\u001b[0m\u001b[0m\n",
       "\u001b[0;31mDocstring:\u001b[0m <no docstring>\n",
       "\u001b[0;31mFile:\u001b[0m      /var/folders/7f/5zgdxx7d5h3_x8817dkfznc80000gn/T/ipykernel_20426/3435698927.py\n",
       "\u001b[0;31mType:\u001b[0m      function"
      ]
     },
     "metadata": {},
     "output_type": "display_data"
    }
   ],
   "source": [
    "?side_by_side   #jupyter notebook generated info through '?'  \n",
    "                # there is no docstring yet "
   ]
  },
  {
   "cell_type": "code",
   "execution_count": 38,
   "id": "d5e4a5ad-4eb1-441a-a524-06e7d1254cdf",
   "metadata": {},
   "outputs": [],
   "source": [
    "# creating a docstring \n",
    "\n",
    "def side_by_side(a, b, c=42):      #properties of docstring 1. can span multiple lines, 2. needs to be sandwiched between ''' or \"\"\"\"\n",
    "    '''\n",
    "    A test function to demonstrate how          \n",
    "    positional, keyword and default arguments \n",
    "    work.\n",
    "    '''\n",
    "    return f'{a: 2d}|{b: 2d}|{c: 2d}'"
   ]
  },
  {
   "cell_type": "code",
   "execution_count": 39,
   "id": "0899806b-b7cc-4df8-a42c-025cecdb8843",
   "metadata": {},
   "outputs": [
    {
     "data": {
      "text/plain": [
       "\u001b[0;31mSignature:\u001b[0m \u001b[0mside_by_side\u001b[0m\u001b[0;34m(\u001b[0m\u001b[0ma\u001b[0m\u001b[0;34m,\u001b[0m \u001b[0mb\u001b[0m\u001b[0;34m,\u001b[0m \u001b[0mc\u001b[0m\u001b[0;34m=\u001b[0m\u001b[0;36m42\u001b[0m\u001b[0;34m)\u001b[0m\u001b[0;34m\u001b[0m\u001b[0;34m\u001b[0m\u001b[0m\n",
       "\u001b[0;31mDocstring:\u001b[0m\n",
       "A test function to demonstrate how \n",
       "positional, keyword and default arguments \n",
       "work.\n",
       "\u001b[0;31mFile:\u001b[0m      /var/folders/7f/5zgdxx7d5h3_x8817dkfznc80000gn/T/ipykernel_46075/3969111586.py\n",
       "\u001b[0;31mType:\u001b[0m      function"
      ]
     },
     "metadata": {},
     "output_type": "display_data"
    }
   ],
   "source": [
    "?side_by_side   #after we define side_by_side with a docstring, the docstring we wrote now appears "
   ]
  },
  {
   "attachments": {},
   "cell_type": "markdown",
   "id": "c51ca319",
   "metadata": {},
   "source": [
    "## Function are first-class citizens"
   ]
  },
  {
   "cell_type": "code",
   "execution_count": 45,
   "id": "69fb4322-c4f7-489d-9527-37ad73da1ddb",
   "metadata": {},
   "outputs": [
    {
     "data": {
      "text/plain": [
       "-1.0"
      ]
     },
     "execution_count": 45,
     "metadata": {},
     "output_type": "execute_result"
    }
   ],
   "source": [
    "import numpy as np \n",
    "\n",
    "def my_function(angle, trig_function):\n",
    "        return trig_function(angle)\n",
    "               \n",
    "my_function(np.pi/2, np.sin)        # ans: 1.0  \n",
    "                                    # note that pi and sin and cos must be used with np. in front \n",
    "my_function(np.pi/2, np.cos)        # ans: 6.123233995736766e-17 \n",
    "\n",
    "my_function(np.pi/2, lambda x: np.cos(2*x))   # ans: -1.0. question - why is it that the answer to this code is -1.0? since the value of x is not defined\n",
    "                                            # when we pass a function as an argument, don't include parenthesis (ref. below)"
   ]
  },
  {
   "cell_type": "code",
   "execution_count": 42,
   "id": "c42b3819-0da2-4104-adc0-d428fcbf7b0d",
   "metadata": {},
   "outputs": [
    {
     "ename": "TypeError",
     "evalue": "'numpy.float64' object is not callable",
     "output_type": "error",
     "traceback": [
      "\u001b[0;31m---------------------------------------------------------------------------\u001b[0m",
      "\u001b[0;31mTypeError\u001b[0m                                 Traceback (most recent call last)",
      "Cell \u001b[0;32mIn[42], line 1\u001b[0m\n\u001b[0;32m----> 1\u001b[0m \u001b[43mmy_function\u001b[49m\u001b[43m(\u001b[49m\u001b[43mangle\u001b[49m\u001b[43m \u001b[49m\u001b[38;5;241;43m=\u001b[39;49m\u001b[43m \u001b[49m\u001b[43mnp\u001b[49m\u001b[38;5;241;43m.\u001b[39;49m\u001b[43mpi\u001b[49m\u001b[43m,\u001b[49m\u001b[43m \u001b[49m\u001b[43minput_function\u001b[49m\u001b[43m \u001b[49m\u001b[38;5;241;43m=\u001b[39;49m\u001b[43m \u001b[49m\u001b[43mnp\u001b[49m\u001b[38;5;241;43m.\u001b[39;49m\u001b[43mcos\u001b[49m\u001b[43m(\u001b[49m\u001b[38;5;241;43m1\u001b[39;49m\u001b[43m)\u001b[49m\u001b[43m)\u001b[49m   \u001b[38;5;66;03m#DO NOT use brackets e.g cos() because fixed values like cos(1) is not callable since its a fixed vcalue \u001b[39;00m\n",
      "Cell \u001b[0;32mIn[33], line 2\u001b[0m, in \u001b[0;36mmy_function\u001b[0;34m(angle, input_function)\u001b[0m\n\u001b[1;32m      1\u001b[0m \u001b[38;5;28;01mdef\u001b[39;00m \u001b[38;5;21mmy_function\u001b[39m(angle, input_function):\n\u001b[0;32m----> 2\u001b[0m     \u001b[38;5;28;01mreturn\u001b[39;00m \u001b[43minput_function\u001b[49m\u001b[43m(\u001b[49m\u001b[43mangle\u001b[49m\u001b[43m)\u001b[49m\n",
      "\u001b[0;31mTypeError\u001b[0m: 'numpy.float64' object is not callable"
     ]
    }
   ],
   "source": [
    "my_function(angle = np.pi, input_function = np.cos(1))   # DO NOT use brackets e.g cos() because fixed values like cos(1) is not callable since its a fixed vcalue "
   ]
  },
  {
   "cell_type": "code",
   "execution_count": 48,
   "id": "b393f284-47c0-4284-a083-cf447bb9611a",
   "metadata": {},
   "outputs": [
    {
     "name": "stdout",
     "output_type": "stream",
     "text": [
      "13.333333333333334\n",
      "30.0\n",
      "12.0\n"
     ]
    }
   ],
   "source": [
    "def your_function(original, multiplier, divider):\n",
    "    return(original*multiplier/divider)\n",
    "\n",
    "print(your_function(20, 2, 3))\n",
    "\n",
    "print(your_function(50, 3, 5))\n",
    "\n",
    "print(your_function(80, 3, 20))\n"
   ]
  },
  {
   "attachments": {},
   "cell_type": "markdown",
   "id": "d78d12aa",
   "metadata": {},
   "source": [
    "## More about unpacking"
   ]
  },
  {
   "cell_type": "code",
   "execution_count": 51,
   "id": "f7d183d8-f8bc-40c5-86c2-fed821360dad",
   "metadata": {},
   "outputs": [
    {
     "data": {
      "text/plain": [
       "(1, 2, 3)"
      ]
     },
     "execution_count": 51,
     "metadata": {},
     "output_type": "execute_result"
    }
   ],
   "source": [
    "x, y, z = [1, 2, 3]  # unpacking a list \n",
    "x, y, z"
   ]
  },
  {
   "cell_type": "code",
   "execution_count": 53,
   "id": "52c96960-b537-416d-b8af-4e079eebece3",
   "metadata": {},
   "outputs": [
    {
     "data": {
      "text/plain": [
       "(1, 2, 3)"
      ]
     },
     "execution_count": 53,
     "metadata": {},
     "output_type": "execute_result"
    }
   ],
   "source": [
    "x, y, z = np.array([1, 2, 3])   # unpacking an array \n",
    "x, y, z"
   ]
  },
  {
   "cell_type": "code",
   "execution_count": 54,
   "id": "dd89a7de-6ec6-4b29-838c-5c1a17ad91b3",
   "metadata": {},
   "outputs": [
    {
     "data": {
      "text/plain": [
       "(1, [2, 3, 4], 5)"
      ]
     },
     "execution_count": 54,
     "metadata": {},
     "output_type": "execute_result"
    }
   ],
   "source": [
    "x, *y, z = np.array([1, 2, 3, 4, 5])   # unpacking an array consisting of individual elements and a list \n",
    "x, y, z"
   ]
  },
  {
   "cell_type": "code",
   "execution_count": 56,
   "id": "6140663d-f7a5-4c48-9986-08c841318ebb",
   "metadata": {},
   "outputs": [
    {
     "data": {
      "text/plain": [
       "(1, 5)"
      ]
     },
     "execution_count": 56,
     "metadata": {},
     "output_type": "execute_result"
    }
   ],
   "source": [
    "x, *_, y = [1, 2, 3, 4, 5]      # unpacking an array containing individual elements and a list partially to give individual elements only \n",
    "x, y "
   ]
  },
  {
   "cell_type": "code",
   "execution_count": 66,
   "id": "a468ba3d-ac85-460f-a4bf-228d3a54b46a",
   "metadata": {},
   "outputs": [
    {
     "data": {
      "text/plain": [
       "(False, False, 5)"
      ]
     },
     "execution_count": 66,
     "metadata": {},
     "output_type": "execute_result"
    }
   ],
   "source": [
    "x, *_, y, z = [1, 2, 3, 4, 5] \n",
    "not x, not y, z     #question - why does inserting a not in front of y give False? is it not because x = 1 = TRUE that having a not in front of x gives FALSE? "
   ]
  },
  {
   "cell_type": "code",
   "execution_count": 68,
   "id": "6e7fc3d2-a4db-42d3-8ccb-652ddeca205b",
   "metadata": {},
   "outputs": [
    {
     "name": "stdout",
     "output_type": "stream",
     "text": [
      "4 5 6 7\n"
     ]
    }
   ],
   "source": [
    "x, y, z, *_ = [1, 2, 3, 4, 5, 6, 7]\n",
    "print(*_)    # is there a way to call 4,5,6,7 out without using print? i.e why doesnt '*_' in the second line of code work? "
   ]
  }
 ],
 "metadata": {
  "kernelspec": {
   "display_name": "Python 3 (ipykernel)",
   "language": "python",
   "name": "python3"
  },
  "language_info": {
   "codemirror_mode": {
    "name": "ipython",
    "version": 3
   },
   "file_extension": ".py",
   "mimetype": "text/x-python",
   "name": "python",
   "nbconvert_exporter": "python",
   "pygments_lexer": "ipython3",
   "version": "3.11.7"
  },
  "toc": {
   "base_numbering": 1,
   "nav_menu": {},
   "number_sections": true,
   "sideBar": true,
   "skip_h1_title": false,
   "title_cell": "Table of Contents",
   "title_sidebar": "Contents",
   "toc_cell": false,
   "toc_position": {},
   "toc_section_display": true,
   "toc_window_display": false
  },
  "vscode": {
   "interpreter": {
    "hash": "31f2aee4e71d21fbe5cf8b01ff0e069b9275f58929596ceb00d14d90e3e16cd6"
   }
  }
 },
 "nbformat": 4,
 "nbformat_minor": 5
}
