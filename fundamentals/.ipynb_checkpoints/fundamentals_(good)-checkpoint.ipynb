{
 "cells": [
  {
   "attachments": {},
   "cell_type": "markdown",
   "id": "123456",
   "metadata": {},
   "source": [
    "<div style=\"text-align:left;font-size:2em\"><span style=\"font-weight:bolder;font-size:1.25em\">SP2273 | Learning Portfolio</span><br><br><span style=\"font-weight:bold;color:darkred\">Fundamentals (Good)</span></div>"
   ]
  },
  {
   "attachments": {},
   "cell_type": "markdown",
   "id": "278e402e",
   "metadata": {},
   "source": [
    "# What to expect in this chapter"
   ]
  },
  {
   "attachments": {},
   "cell_type": "markdown",
   "id": "bae0fcb4",
   "metadata": {},
   "source": [
    "## There is more to if"
   ]
  },
  {
   "cell_type": "code",
   "execution_count": 1,
   "id": "41a333af-9f53-4726-a726-8dbda31a4d54",
   "metadata": {},
   "outputs": [
    {
     "name": "stdout",
     "output_type": "stream",
     "text": [
      "Hello world!\n"
     ]
    }
   ],
   "source": [
    "print('Hello world!')"
   ]
  },
  {
   "cell_type": "code",
   "execution_count": 1,
   "id": "18d9188e-c225-43bc-8356-d27e01030eed",
   "metadata": {},
   "outputs": [
    {
     "name": "stdout",
     "output_type": "stream",
     "text": [
      "Hello Batman!\n"
     ]
    }
   ],
   "source": [
    "name = 'Batman'\n",
    "\n",
    "if name == 'Batman':\n",
    "    print('Hello Batman!')\n",
    "elif name == 'Robin':\n",
    "    print('Hello Sidekick!')\n",
    "else:\n",
    "    print('Hello World!')"
   ]
  },
  {
   "cell_type": "code",
   "execution_count": 3,
   "id": "32c14d78-6406-4e30-922f-d1c731e52233",
   "metadata": {},
   "outputs": [
    {
     "name": "stdout",
     "output_type": "stream",
     "text": [
      "Hello Marvin!\n"
     ]
    }
   ],
   "source": [
    "name = 'Marvin'\n",
    "\n",
    "if name == 'Batman':\n",
    "    print('Hello Batman!')\n",
    "elif name == 'Robin':\n",
    "    print('Hello Sidekick!')\n",
    "elif name == 'Marvin':\n",
    "    print('Hello Marvin!')\n",
    "else:\n",
    "    print('Hello World!')"
   ]
  },
  {
   "attachments": {},
   "cell_type": "markdown",
   "id": "72bba925",
   "metadata": {},
   "source": [
    "# 2. Asking questions"
   ]
  },
  {
   "cell_type": "code",
   "execution_count": 5,
   "id": "e3d343a0-3b3e-46b9-b733-b0ee5d443eac",
   "metadata": {},
   "outputs": [
    {
     "data": {
      "text/plain": [
       "True"
      ]
     },
     "execution_count": 5,
     "metadata": {},
     "output_type": "execute_result"
    }
   ],
   "source": [
    "fruits = ['apple', 'banana', 'pineapple', 'jackfruit']\n",
    "vegetables = ['celery', 'potato', 'broccoli', 'kale']\n",
    "\n",
    "'apple' in fruits"
   ]
  },
  {
   "cell_type": "code",
   "execution_count": 6,
   "id": "861f26a9-4e8f-400f-838f-3f7bb4dd7cc7",
   "metadata": {},
   "outputs": [
    {
     "data": {
      "text/plain": [
       "False"
      ]
     },
     "execution_count": 6,
     "metadata": {},
     "output_type": "execute_result"
    }
   ],
   "source": [
    "'peach' in fruits"
   ]
  },
  {
   "cell_type": "code",
   "execution_count": 7,
   "id": "d093e946-d634-43b5-a636-de63bf11ec69",
   "metadata": {},
   "outputs": [
    {
     "data": {
      "text/plain": [
       "False"
      ]
     },
     "execution_count": 7,
     "metadata": {},
     "output_type": "execute_result"
    }
   ],
   "source": [
    "'apple' in vegetables "
   ]
  },
  {
   "cell_type": "code",
   "execution_count": 8,
   "id": "c7e6ac51-0d72-47f6-818b-28d04b4c8547",
   "metadata": {},
   "outputs": [
    {
     "data": {
      "text/plain": [
       "True"
      ]
     },
     "execution_count": 8,
     "metadata": {},
     "output_type": "execute_result"
    }
   ],
   "source": [
    "'celery' in vegetables"
   ]
  },
  {
   "cell_type": "code",
   "execution_count": 9,
   "id": "e3723a43-0c18-4d4e-939a-aba6804b3043",
   "metadata": {},
   "outputs": [
    {
     "data": {
      "text/plain": [
       "True"
      ]
     },
     "execution_count": 9,
     "metadata": {},
     "output_type": "execute_result"
    }
   ],
   "source": [
    "'app' in 'apple'"
   ]
  },
  {
   "cell_type": "code",
   "execution_count": 10,
   "id": "4ece2155-5ce7-45ba-b0e2-b37f3ad74330",
   "metadata": {},
   "outputs": [
    {
     "data": {
      "text/plain": [
       "True"
      ]
     },
     "execution_count": 10,
     "metadata": {},
     "output_type": "execute_result"
    }
   ],
   "source": [
    "'lery' in 'celery'"
   ]
  },
  {
   "cell_type": "code",
   "execution_count": 11,
   "id": "440fe0a1-9484-4807-8d09-1bb6a3bbe590",
   "metadata": {},
   "outputs": [
    {
     "ename": "TypeError",
     "evalue": "'>' not supported between instances of 'int' and 'str'",
     "output_type": "error",
     "traceback": [
      "\u001b[0;31m---------------------------------------------------------------------------\u001b[0m",
      "\u001b[0;31mTypeError\u001b[0m                                 Traceback (most recent call last)",
      "Cell \u001b[0;32mIn[11], line 1\u001b[0m\n\u001b[0;32m----> 1\u001b[0m \u001b[38;5;241;43m3\u001b[39;49m\u001b[43m \u001b[49m\u001b[38;5;241;43m>\u001b[39;49m\u001b[43m \u001b[49m\u001b[38;5;124;43m'\u001b[39;49m\u001b[38;5;124;43mapple\u001b[39;49m\u001b[38;5;124;43m'\u001b[39;49m\n",
      "\u001b[0;31mTypeError\u001b[0m: '>' not supported between instances of 'int' and 'str'"
     ]
    }
   ],
   "source": [
    "3 > 'apple'"
   ]
  },
  {
   "cell_type": "code",
   "execution_count": 1,
   "id": "8bccba1b-d801-4e27-acec-3dbf42a2dfe6",
   "metadata": {},
   "outputs": [
    {
     "data": {
      "text/plain": [
       "True"
      ]
     },
     "execution_count": 1,
     "metadata": {},
     "output_type": "execute_result"
    }
   ],
   "source": [
    "'orange' > 'apple'"
   ]
  },
  {
   "cell_type": "code",
   "execution_count": 2,
   "id": "1ddef2c2-e6f7-4142-929d-54caa7d7830d",
   "metadata": {},
   "outputs": [
    {
     "data": {
      "text/plain": [
       "False"
      ]
     },
     "execution_count": 2,
     "metadata": {},
     "output_type": "execute_result"
    }
   ],
   "source": [
    "'apple' > 'orange'"
   ]
  },
  {
   "cell_type": "code",
   "execution_count": 3,
   "id": "ccd4274d-1d9e-4c01-9639-f447eac19529",
   "metadata": {},
   "outputs": [],
   "source": [
    "# This comparison works because English letters are internally represented as numbers."
   ]
  },
  {
   "attachments": {},
   "cell_type": "markdown",
   "id": "5a3dd1c8",
   "metadata": {},
   "source": [
    "### 2.1 Asking Math questions"
   ]
  },
  {
   "cell_type": "code",
   "execution_count": 4,
   "id": "27dc8c75-c672-4fbf-b5d7-61a74062074e",
   "metadata": {},
   "outputs": [
    {
     "data": {
      "text/plain": [
       "True"
      ]
     },
     "execution_count": 4,
     "metadata": {},
     "output_type": "execute_result"
    }
   ],
   "source": [
    "x = 5\n",
    "x == 5"
   ]
  },
  {
   "cell_type": "code",
   "execution_count": 5,
   "id": "64506a5e-73e6-4ec2-8b6c-db2f75dbf690",
   "metadata": {},
   "outputs": [
    {
     "data": {
      "text/plain": [
       "False"
      ]
     },
     "execution_count": 5,
     "metadata": {},
     "output_type": "execute_result"
    }
   ],
   "source": [
    "x = 10\n",
    "x > 12"
   ]
  },
  {
   "attachments": {},
   "cell_type": "markdown",
   "id": "5a86069d",
   "metadata": {},
   "source": [
    "# 4 Python stores information in different formats or types"
   ]
  },
  {
   "cell_type": "code",
   "execution_count": 16,
   "id": "992bd826-a4ce-4500-9812-bd0d9589f839",
   "metadata": {},
   "outputs": [
    {
     "name": "stdout",
     "output_type": "stream",
     "text": [
      "1 <class 'int'>\n"
     ]
    }
   ],
   "source": [
    "x = int(1.234)\n",
    "print(x, type(x))"
   ]
  },
  {
   "cell_type": "code",
   "execution_count": 15,
   "id": "b207b51b-d065-43eb-8fb9-ee50a2b251d4",
   "metadata": {},
   "outputs": [
    {
     "name": "stdout",
     "output_type": "stream",
     "text": [
      "1 <class 'int'>\n"
     ]
    }
   ],
   "source": [
    "y = int(1.53)\n",
    "print(y, type(y))"
   ]
  },
  {
   "cell_type": "code",
   "execution_count": 17,
   "id": "8cf4960c-51b5-43b1-8263-07aa93b2d78c",
   "metadata": {},
   "outputs": [
    {
     "name": "stdout",
     "output_type": "stream",
     "text": [
      "1.234 <class 'str'>\n"
     ]
    }
   ],
   "source": [
    "z = str(1.234)\n",
    "print(z, type(z))"
   ]
  },
  {
   "cell_type": "code",
   "execution_count": 18,
   "id": "8473d395-4caf-4420-bfb6-4820fc58073b",
   "metadata": {},
   "outputs": [
    {
     "name": "stdout",
     "output_type": "stream",
     "text": [
      "1.234 <class 'float'>\n"
     ]
    }
   ],
   "source": [
    "a = float(1.234)\n",
    "print(a, type(a))"
   ]
  },
  {
   "cell_type": "code",
   "execution_count": 19,
   "id": "ebbf8448-aa06-4427-8aaf-d90b4f60d156",
   "metadata": {},
   "outputs": [
    {
     "name": "stdout",
     "output_type": "stream",
     "text": [
      "(1.234+0j) <class 'complex'>\n"
     ]
    }
   ],
   "source": [
    "b = complex(1.234)\n",
    "print(b, type(b))"
   ]
  },
  {
   "attachments": {},
   "cell_type": "markdown",
   "id": "42716953",
   "metadata": {},
   "source": [
    "# 5 Never compare floats directly"
   ]
  },
  {
   "attachments": {},
   "cell_type": "markdown",
   "id": "04161db3",
   "metadata": {},
   "source": [
    "## 5.1 The Problem"
   ]
  },
  {
   "cell_type": "code",
   "execution_count": 6,
   "id": "dabe79b1-d114-4c85-bd6d-8ef43dad02ac",
   "metadata": {},
   "outputs": [
    {
     "data": {
      "text/plain": [
       "False"
      ]
     },
     "execution_count": 6,
     "metadata": {},
     "output_type": "execute_result"
    }
   ],
   "source": [
    "a = 0.1 \n",
    "a3 = 0.3 \n",
    "a * 3 == a3    #this should actually give us true in real life but is false by python because our computer has limited precision\n",
    "               # roundoff error\n"
   ]
  },
  {
   "cell_type": "code",
   "execution_count": 7,
   "id": "7bf88b20-6192-4459-91eb-848781ea605e",
   "metadata": {},
   "outputs": [
    {
     "data": {
      "text/plain": [
       "'0.29999999999999999'"
      ]
     },
     "execution_count": 7,
     "metadata": {},
     "output_type": "execute_result"
    }
   ],
   "source": [
    "f'{0.3:.17f}' #CLARIFY "
   ]
  },
  {
   "attachments": {},
   "cell_type": "markdown",
   "id": "02acd18b",
   "metadata": {},
   "source": [
    "## 5.2 A solution"
   ]
  },
  {
   "cell_type": "code",
   "execution_count": 23,
   "id": "1efdda54-f303-4006-91dc-3a3342a5f949",
   "metadata": {},
   "outputs": [
    {
     "data": {
      "text/plain": [
       "5.551115123125783e-17"
      ]
     },
     "execution_count": 23,
     "metadata": {},
     "output_type": "execute_result"
    }
   ],
   "source": [
    "(a*3 - a3) #should by right give 0 but instead it gives a very very small difference "
   ]
  },
  {
   "cell_type": "code",
   "execution_count": 13,
   "id": "085d8a6b-dc0f-40bf-b3c5-ca011623124d",
   "metadata": {},
   "outputs": [
    {
     "data": {
      "text/plain": [
       "True"
      ]
     },
     "execution_count": 13,
     "metadata": {},
     "output_type": "execute_result"
    }
   ],
   "source": [
    "# solution: check if the variable is close to the expected values instead of checking for equality.\n",
    "eps = 1E-10\n",
    "abs(a * 3 - a3) < eps\n"
   ]
  },
  {
   "cell_type": "code",
   "execution_count": 16,
   "id": "681df883-dac2-4e71-a927-fb95e984c11e",
   "metadata": {},
   "outputs": [
    {
     "data": {
      "text/plain": [
       "True"
      ]
     },
     "execution_count": 16,
     "metadata": {},
     "output_type": "execute_result"
    }
   ],
   "source": [
    "#or \n",
    "import numpy\n",
    "numpy.isclose(a * 3, a3) #use numpy function "
   ]
  },
  {
   "cell_type": "code",
   "execution_count": 22,
   "id": "c9c0eb7b-b627-485b-bacd-1f42397ddbe5",
   "metadata": {},
   "outputs": [
    {
     "data": {
      "text/plain": [
       "False"
      ]
     },
     "execution_count": 22,
     "metadata": {},
     "output_type": "execute_result"
    }
   ],
   "source": [
    "import numpy \n",
    "numpy. isclose(3.0, 3.01)"
   ]
  },
  {
   "cell_type": "code",
   "execution_count": 23,
   "id": "60686fb7-1ca0-4356-8596-75b97a0c300f",
   "metadata": {},
   "outputs": [
    {
     "data": {
      "text/plain": [
       "False"
      ]
     },
     "execution_count": 23,
     "metadata": {},
     "output_type": "execute_result"
    }
   ],
   "source": [
    "numpy. isclose(3.0, 3.0001)"
   ]
  },
  {
   "cell_type": "code",
   "execution_count": 30,
   "id": "58f971ff-3f36-4cee-a923-ac3f019171b2",
   "metadata": {},
   "outputs": [
    {
     "data": {
      "text/plain": [
       "True"
      ]
     },
     "execution_count": 30,
     "metadata": {},
     "output_type": "execute_result"
    }
   ],
   "source": [
    "numpy. isclose(3.0, 3.00001)  #numpy will consider a difference of about 1.0 x10^(-4) and more to be significant\n",
    "                              # if the difference is 1.0 x 10^(-5) or less, they will be considered equal "
   ]
  },
  {
   "cell_type": "code",
   "execution_count": 31,
   "id": "01e4fe6b-bda6-4f08-8a96-1e52880eff1e",
   "metadata": {},
   "outputs": [
    {
     "data": {
      "text/plain": [
       "2.0"
      ]
     },
     "execution_count": 31,
     "metadata": {},
     "output_type": "execute_result"
    }
   ],
   "source": [
    "import numpy \n",
    "\n",
    "numpy. sqrt(4)"
   ]
  },
  {
   "attachments": {},
   "cell_type": "markdown",
   "id": "a37cd0c3",
   "metadata": {},
   "source": [
    "# 6 Combining English and variables"
   ]
  },
  {
   "cell_type": "code",
   "execution_count": 1,
   "id": "de6cc1dc-3848-4c21-a16e-add41dbc389b",
   "metadata": {},
   "outputs": [
    {
     "name": "stdout",
     "output_type": "stream",
     "text": [
      "Hello BATMAN!\n"
     ]
    }
   ],
   "source": [
    "name = 'Batman' \n",
    "print(f'Hello {name.upper()}!') #combining variables and english"
   ]
  },
  {
   "cell_type": "code",
   "execution_count": 3,
   "id": "93f6d29e-7f59-4ebf-82ab-389ea8b9829e",
   "metadata": {},
   "outputs": [
    {
     "name": "stdout",
     "output_type": "stream",
     "text": [
      "Hello {name}!\n"
     ]
    }
   ],
   "source": [
    "print('Hello {name}!') #f and {..} comes together!\n",
    "\n",
    "#can use f in print function involving a "
   ]
  },
  {
   "cell_type": "code",
   "execution_count": 7,
   "id": "8e3660b6-a56c-439a-8b23-2d6f3f560503",
   "metadata": {},
   "outputs": [
    {
     "name": "stdout",
     "output_type": "stream",
     "text": [
      "        rachel is old         \n"
     ]
    }
   ],
   "source": [
    "text = \"rachel is old\" \n",
    "print(f'{text:^30}')      # A block of 30 characters;\n",
    "                          # aligned centre"
   ]
  },
  {
   "cell_type": "code",
   "execution_count": null,
   "id": "fd7da3bf-7bc5-457b-a6f6-8f7be6694af2",
   "metadata": {},
   "outputs": [],
   "source": [
    "print(f'{text:^30}')      # A block of 30 characters;\n",
    "                          # aligned centre"
   ]
  },
  {
   "attachments": {},
   "cell_type": "markdown",
   "id": "389f08f6",
   "metadata": {},
   "source": [
    "## 6.1 Structure of f-strings"
   ]
  },
  {
   "cell_type": "markdown",
   "id": "560eec75-8814-4a66-84e2-161a1b4a3c1e",
   "metadata": {},
   "source": [
    "{X:>0Y.ZW} is the general formula to arrange a printed text on a page "
   ]
  },
  {
   "cell_type": "code",
   "execution_count": 8,
   "id": "080e1d2b-639e-4025-b5a1-9b97ca23ec2c",
   "metadata": {},
   "outputs": [],
   "source": [
    "# f for float, d for integers, g for wild card i.e anything \n"
   ]
  },
  {
   "attachments": {},
   "cell_type": "markdown",
   "id": "5dedef5d",
   "metadata": {},
   "source": [
    "# 7 Escape sequences"
   ]
  },
  {
   "cell_type": "code",
   "execution_count": 22,
   "id": "e0e2ff22-f864-4c62-bd70-e6b38e3f4e28",
   "metadata": {},
   "outputs": [],
   "source": [
    "# \\n means that we go to the next line\n",
    "# \\t means that we enter a lab, breaks the line \n",
    "\n",
    "# if we want to print '\\x' without having an error message, need to enter '\\\\x' \n"
   ]
  },
  {
   "cell_type": "code",
   "execution_count": 11,
   "id": "6fda2e7a-fd4f-4321-91fa-6adbc2e6a70c",
   "metadata": {},
   "outputs": [
    {
     "ename": "SyntaxError",
     "evalue": "unterminated string literal (detected at line 3) (1208085567.py, line 3)",
     "output_type": "error",
     "traceback": [
      "\u001b[0;36m  Cell \u001b[0;32mIn[11], line 3\u001b[0;36m\u001b[0m\n\u001b[0;31m    print('You're twenty years old.')\u001b[0m\n\u001b[0m                                   ^\u001b[0m\n\u001b[0;31mSyntaxError\u001b[0m\u001b[0;31m:\u001b[0m unterminated string literal (detected at line 3)\n"
     ]
    }
   ],
   "source": [
    "#problem if we dont use slash -> there are two close apostrophe hence error \n",
    "\n",
    "print('You're twenty years old.') "
   ]
  },
  {
   "cell_type": "code",
   "execution_count": 10,
   "id": "9e28f001-a5ca-416b-8f55-c4edb64c6f1a",
   "metadata": {},
   "outputs": [
    {
     "name": "stdout",
     "output_type": "stream",
     "text": [
      "You're twenty years old.\n"
     ]
    }
   ],
   "source": [
    "\n",
    "print('You\\'re twenty years old.') #solution 1: use a slash "
   ]
  },
  {
   "cell_type": "code",
   "execution_count": 19,
   "id": "5c119030-2589-4a6b-a9c9-9aa71307b958",
   "metadata": {},
   "outputs": [
    {
     "name": "stdout",
     "output_type": "stream",
     "text": [
      "rachel is old\n"
     ]
    }
   ],
   "source": [
    "print(f'{text:^3}') #if the number of characters we add (i.e Y) is smaller than the no. of characters in our var, then the printed text will have no space in front "
   ]
  },
  {
   "cell_type": "code",
   "execution_count": 18,
   "id": "6233a6c6-6f40-4aa5-8bf6-e9ada36a1239",
   "metadata": {},
   "outputs": [
    {
     "name": "stdout",
     "output_type": "stream",
     "text": [
      "rachel is old\n"
     ]
    }
   ],
   "source": [
    "print(text)"
   ]
  },
  {
   "cell_type": "code",
   "execution_count": 21,
   "id": "01befe8d-1bcf-41aa-b205-cf21e664d5bd",
   "metadata": {},
   "outputs": [
    {
     "name": "stdout",
     "output_type": "stream",
     "text": [
      "You're twenty years old.\n"
     ]
    }
   ],
   "source": [
    "print(\"You're twenty years old.\")  #solution 2: use qoutation marks instead of apostrophe "
   ]
  },
  {
   "attachments": {},
   "cell_type": "markdown",
   "id": "9a95c334",
   "metadata": {},
   "source": [
    "# 8 Computers read = from Right to Left!"
   ]
  },
  {
   "attachments": {},
   "cell_type": "markdown",
   "id": "10db6ab6",
   "metadata": {},
   "source": [
    "# 9 Shorter and Cleaner Code"
   ]
  },
  {
   "attachments": {},
   "cell_type": "markdown",
   "id": "fe271b65",
   "metadata": {},
   "source": [
    "# 10 Python can be a prima-donna."
   ]
  },
  {
   "attachments": {},
   "cell_type": "markdown",
   "id": "93b854b4",
   "metadata": {},
   "source": [
    "# 11 Best Practices for Scientific Computing"
   ]
  },
  {
   "attachments": {},
   "cell_type": "markdown",
   "id": "76019b85",
   "metadata": {},
   "source": [
    "# 12 Looking for help"
   ]
  },
  {
   "attachments": {},
   "cell_type": "markdown",
   "id": "a1d201a1",
   "metadata": {},
   "source": [
    "## References"
   ]
  },
  {
   "attachments": {},
   "cell_type": "markdown",
   "id": "aeaafe7a",
   "metadata": {},
   "source": [
    "## Footnotes"
   ]
  }
 ],
 "metadata": {
  "kernelspec": {
   "display_name": "Python 3 (ipykernel)",
   "language": "python",
   "name": "python3"
  },
  "language_info": {
   "codemirror_mode": {
    "name": "ipython",
    "version": 3
   },
   "file_extension": ".py",
   "mimetype": "text/x-python",
   "name": "python",
   "nbconvert_exporter": "python",
   "pygments_lexer": "ipython3",
   "version": "3.11.7"
  },
  "toc": {
   "base_numbering": 1,
   "nav_menu": {},
   "number_sections": true,
   "sideBar": true,
   "skip_h1_title": false,
   "title_cell": "Table of Contents",
   "title_sidebar": "Contents",
   "toc_cell": false,
   "toc_position": {},
   "toc_section_display": true,
   "toc_window_display": false
  },
  "vscode": {
   "interpreter": {
    "hash": "31f2aee4e71d21fbe5cf8b01ff0e069b9275f58929596ceb00d14d90e3e16cd6"
   }
  }
 },
 "nbformat": 4,
 "nbformat_minor": 5
}
