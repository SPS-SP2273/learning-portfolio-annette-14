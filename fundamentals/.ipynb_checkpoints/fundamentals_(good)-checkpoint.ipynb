{
 "cells": [
  {
   "attachments": {},
   "cell_type": "markdown",
   "id": "123456",
   "metadata": {
    "jupyter": {
     "source_hidden": true
    }
   },
   "source": [
    "<div style=\"text-align:left;font-size:2em\"><span style=\"font-weight:bolder;font-size:1.25em\">SP2273 | Learning Portfolio</span><br><br><span style=\"font-weight:bold;color:darkred\">Fundamentals (Good)</span></div>"
   ]
  },
  {
   "attachments": {},
   "cell_type": "markdown",
   "id": "bae0fcb4",
   "metadata": {},
   "source": [
    "# There is more to if "
   ]
  },
  {
   "cell_type": "code",
   "execution_count": null,
   "id": "fec82298-d2e7-4741-8448-de5ed25698d3",
   "metadata": {},
   "outputs": [],
   "source": [
    "# we can use elif and else if we need more branches in an if statement "
   ]
  },
  {
   "cell_type": "code",
   "execution_count": 2,
   "id": "18d9188e-c225-43bc-8356-d27e01030eed",
   "metadata": {},
   "outputs": [
    {
     "name": "stdout",
     "output_type": "stream",
     "text": [
      "Hello Batman!\n"
     ]
    }
   ],
   "source": [
    "name = 'Batman'\n",
    "\n",
    "if name == 'Batman':\n",
    "    print('Hello Batman!')\n",
    "elif name == 'Robin':\n",
    "    print('Hello Sidekick!')\n",
    "else:\n",
    "    print('Hello World!')"
   ]
  },
  {
   "cell_type": "code",
   "execution_count": 3,
   "id": "e4c765c9-3bee-4ac0-a28a-64ebc74e9a25",
   "metadata": {},
   "outputs": [
    {
     "name": "stdout",
     "output_type": "stream",
     "text": [
      "hot hot!!\n"
     ]
    }
   ],
   "source": [
    "temperature = 25 \n",
    "\n",
    "if temperature <10:\n",
    "    print('weather is coldd!!')\n",
    "elif 10 < temperature < 22:\n",
    "    print('weather is cool and nicee.. ahh')\n",
    "else: \n",
    "    print('hot hot!!')"
   ]
  },
  {
   "cell_type": "code",
   "execution_count": 4,
   "id": "32c14d78-6406-4e30-922f-d1c731e52233",
   "metadata": {},
   "outputs": [
    {
     "name": "stdout",
     "output_type": "stream",
     "text": [
      "Hello Marvin!\n"
     ]
    }
   ],
   "source": [
    "name = 'Marvin'\n",
    "\n",
    "if name == 'Batman':\n",
    "    print('Hello Batman!')\n",
    "elif name == 'Robin':\n",
    "    print('Hello Sidekick!')\n",
    "elif name == 'Marvin':\n",
    "    print('Hello Marvin!')\n",
    "else:\n",
    "    print('Hello World!')"
   ]
  },
  {
   "attachments": {},
   "cell_type": "markdown",
   "id": "72bba925",
   "metadata": {},
   "source": [
    "# Asking questions"
   ]
  },
  {
   "cell_type": "code",
   "execution_count": 6,
   "id": "e3d343a0-3b3e-46b9-b733-b0ee5d443eac",
   "metadata": {},
   "outputs": [
    {
     "data": {
      "text/plain": [
       "True"
      ]
     },
     "execution_count": 6,
     "metadata": {},
     "output_type": "execute_result"
    }
   ],
   "source": [
    "fruits = ['apple', 'banana', 'pineapple', 'jackfruit']\n",
    "vegetables = ['celery', 'potato', 'broccoli', 'kale']\n",
    "\n",
    "'apple' in fruits"
   ]
  },
  {
   "cell_type": "code",
   "execution_count": 6,
   "id": "861f26a9-4e8f-400f-838f-3f7bb4dd7cc7",
   "metadata": {},
   "outputs": [
    {
     "data": {
      "text/plain": [
       "False"
      ]
     },
     "execution_count": 6,
     "metadata": {},
     "output_type": "execute_result"
    }
   ],
   "source": [
    "'peach' in fruits"
   ]
  },
  {
   "cell_type": "code",
   "execution_count": 7,
   "id": "d093e946-d634-43b5-a636-de63bf11ec69",
   "metadata": {},
   "outputs": [
    {
     "data": {
      "text/plain": [
       "False"
      ]
     },
     "execution_count": 7,
     "metadata": {},
     "output_type": "execute_result"
    }
   ],
   "source": [
    "'apple' in vegetables "
   ]
  },
  {
   "cell_type": "code",
   "execution_count": 9,
   "id": "f13826a1-36d9-47d2-b44b-83e70da0cf71",
   "metadata": {},
   "outputs": [
    {
     "data": {
      "text/plain": [
       "True"
      ]
     },
     "execution_count": 9,
     "metadata": {},
     "output_type": "execute_result"
    }
   ],
   "source": [
    "('celery' in vegetables) and ('jackfruit' in fruits) # and means both requirements must be fulfilled for the statement to be true "
   ]
  },
  {
   "cell_type": "code",
   "execution_count": 11,
   "id": "5313798d-ca01-4e72-8cd2-f585e588d7a6",
   "metadata": {},
   "outputs": [
    {
     "data": {
      "text/plain": [
       "False"
      ]
     },
     "execution_count": 11,
     "metadata": {},
     "output_type": "execute_result"
    }
   ],
   "source": [
    "('banana' in fruits) and ('spinach' in vegetables)"
   ]
  },
  {
   "cell_type": "code",
   "execution_count": 12,
   "id": "4ae36512-7748-49fb-8758-a6776edc0588",
   "metadata": {},
   "outputs": [
    {
     "data": {
      "text/plain": [
       "True"
      ]
     },
     "execution_count": 12,
     "metadata": {},
     "output_type": "execute_result"
    }
   ],
   "source": [
    "('banana' in fruits) or ('spinach' in vegetables) # of needs only one of the requirements to be fulfilled to be true "
   ]
  },
  {
   "cell_type": "code",
   "execution_count": 9,
   "id": "e3723a43-0c18-4d4e-939a-aba6804b3043",
   "metadata": {},
   "outputs": [
    {
     "data": {
      "text/plain": [
       "True"
      ]
     },
     "execution_count": 9,
     "metadata": {},
     "output_type": "execute_result"
    }
   ],
   "source": [
    "'app' in 'apple'"
   ]
  },
  {
   "cell_type": "code",
   "execution_count": 10,
   "id": "4ece2155-5ce7-45ba-b0e2-b37f3ad74330",
   "metadata": {},
   "outputs": [
    {
     "data": {
      "text/plain": [
       "True"
      ]
     },
     "execution_count": 10,
     "metadata": {},
     "output_type": "execute_result"
    }
   ],
   "source": [
    "'lery' in 'celery'"
   ]
  },
  {
   "cell_type": "code",
   "execution_count": 13,
   "id": "440fe0a1-9484-4807-8d09-1bb6a3bbe590",
   "metadata": {},
   "outputs": [
    {
     "ename": "TypeError",
     "evalue": "'>' not supported between instances of 'int' and 'str'",
     "output_type": "error",
     "traceback": [
      "\u001b[0;31m---------------------------------------------------------------------------\u001b[0m",
      "\u001b[0;31mTypeError\u001b[0m                                 Traceback (most recent call last)",
      "Cell \u001b[0;32mIn[13], line 1\u001b[0m\n\u001b[0;32m----> 1\u001b[0m \u001b[38;5;241;43m3\u001b[39;49m\u001b[43m \u001b[49m\u001b[38;5;241;43m>\u001b[39;49m\u001b[43m \u001b[49m\u001b[38;5;124;43m'\u001b[39;49m\u001b[38;5;124;43mapple\u001b[39;49m\u001b[38;5;124;43m'\u001b[39;49m \u001b[38;5;66;03m# python can only compare things of the same type. e.g number and number or english and english\u001b[39;00m\n",
      "\u001b[0;31mTypeError\u001b[0m: '>' not supported between instances of 'int' and 'str'"
     ]
    }
   ],
   "source": [
    "3 > 'apple' # python can only compare things of the same type. e.g number and number or english and english"
   ]
  },
  {
   "cell_type": "code",
   "execution_count": 1,
   "id": "8bccba1b-d801-4e27-acec-3dbf42a2dfe6",
   "metadata": {},
   "outputs": [
    {
     "data": {
      "text/plain": [
       "True"
      ]
     },
     "execution_count": 1,
     "metadata": {},
     "output_type": "execute_result"
    }
   ],
   "source": [
    "'orange' > 'apple'  # english letters are internally represented as numbers "
   ]
  },
  {
   "cell_type": "code",
   "execution_count": 2,
   "id": "1ddef2c2-e6f7-4142-929d-54caa7d7830d",
   "metadata": {},
   "outputs": [
    {
     "data": {
      "text/plain": [
       "False"
      ]
     },
     "execution_count": 2,
     "metadata": {},
     "output_type": "execute_result"
    }
   ],
   "source": [
    "'apple' > 'orange'"
   ]
  },
  {
   "cell_type": "code",
   "execution_count": 14,
   "id": "7ac31462-bce1-4b6e-a2dc-ace6faace5b8",
   "metadata": {},
   "outputs": [
    {
     "data": {
      "text/plain": [
       "False"
      ]
     },
     "execution_count": 14,
     "metadata": {},
     "output_type": "execute_result"
    }
   ],
   "source": [
    "6 > 7"
   ]
  },
  {
   "attachments": {},
   "cell_type": "markdown",
   "id": "5a3dd1c8",
   "metadata": {},
   "source": [
    "## 1 Asking Math questions"
   ]
  },
  {
   "cell_type": "code",
   "execution_count": 4,
   "id": "27dc8c75-c672-4fbf-b5d7-61a74062074e",
   "metadata": {},
   "outputs": [
    {
     "data": {
      "text/plain": [
       "True"
      ]
     },
     "execution_count": 4,
     "metadata": {},
     "output_type": "execute_result"
    }
   ],
   "source": [
    "x = 5\n",
    "x == 5"
   ]
  },
  {
   "cell_type": "code",
   "execution_count": 5,
   "id": "64506a5e-73e6-4ec2-8b6c-db2f75dbf690",
   "metadata": {},
   "outputs": [
    {
     "data": {
      "text/plain": [
       "False"
      ]
     },
     "execution_count": 5,
     "metadata": {},
     "output_type": "execute_result"
    }
   ],
   "source": [
    "x = 10\n",
    "x > 12"
   ]
  },
  {
   "cell_type": "markdown",
   "id": "103339eb-cc5f-4ba1-995b-92327c2561fd",
   "metadata": {},
   "source": [
    "| Question/Condition | Python symbols |\n",
    "|:-------------------|---------------:|\n",
    "| Equals?    | == |\n",
    "| Not equal? |!= |\n",
    "| Less than? | <  |\n",
    "| Greater than? | > |\n",
    "| Less than or equal? | <= |\n",
    "| Greater than or equal? | >= |"
   ]
  },
  {
   "attachments": {},
   "cell_type": "markdown",
   "id": "5a86069d",
   "metadata": {},
   "source": [
    "# Python stores information in different formats or types"
   ]
  },
  {
   "cell_type": "code",
   "execution_count": 18,
   "id": "992bd826-a4ce-4500-9812-bd0d9589f839",
   "metadata": {},
   "outputs": [
    {
     "name": "stdout",
     "output_type": "stream",
     "text": [
      "1 <class 'int'>\n"
     ]
    }
   ],
   "source": [
    "# the bottom codes are examples of typecasting where we cast a to the different types \n",
    "\n",
    "x = int(1.234)      # int() converts into integer and drops any decimal points\n",
    "print(x, type(x))    "
   ]
  },
  {
   "cell_type": "code",
   "execution_count": 15,
   "id": "b207b51b-d065-43eb-8fb9-ee50a2b251d4",
   "metadata": {},
   "outputs": [
    {
     "name": "stdout",
     "output_type": "stream",
     "text": [
      "1 <class 'int'>\n"
     ]
    }
   ],
   "source": [
    "y = int(1.53)     # int () always rounds down \n",
    "print(y, type(y))"
   ]
  },
  {
   "cell_type": "code",
   "execution_count": 17,
   "id": "8cf4960c-51b5-43b1-8263-07aa93b2d78c",
   "metadata": {},
   "outputs": [
    {
     "name": "stdout",
     "output_type": "stream",
     "text": [
      "1.234 <class 'str'>\n"
     ]
    }
   ],
   "source": [
    "z = str(1.234)     # numbers may also be strings \n",
    "print(z, type(z))"
   ]
  },
  {
   "cell_type": "code",
   "execution_count": 18,
   "id": "8473d395-4caf-4420-bfb6-4820fc58073b",
   "metadata": {},
   "outputs": [
    {
     "name": "stdout",
     "output_type": "stream",
     "text": [
      "1.234 <class 'float'>\n"
     ]
    }
   ],
   "source": [
    "a = float(1.234) \n",
    "print(a, type(a))"
   ]
  },
  {
   "cell_type": "code",
   "execution_count": 16,
   "id": "0dd13ac3-68df-4dc5-bcfb-3abe9c38cde1",
   "metadata": {},
   "outputs": [
    {
     "name": "stdout",
     "output_type": "stream",
     "text": [
      "1.0 <class 'float'>\n"
     ]
    }
   ],
   "source": [
    "a = float(1)    # float() will add decimal places to numbers if they don't already exist. will by default add 1 dp\n",
    "print(a, type(a))"
   ]
  },
  {
   "cell_type": "code",
   "execution_count": 17,
   "id": "ebbf8448-aa06-4427-8aaf-d90b4f60d156",
   "metadata": {},
   "outputs": [
    {
     "name": "stdout",
     "output_type": "stream",
     "text": [
      "(1.234+0j) <class 'complex'>\n"
     ]
    }
   ],
   "source": [
    "b = complex(1.234)  # complex() will include the imaginary part of the number \n",
    "print(b, type(b))"
   ]
  },
  {
   "attachments": {},
   "cell_type": "markdown",
   "id": "42716953",
   "metadata": {},
   "source": [
    "# Never compare floats directly"
   ]
  },
  {
   "attachments": {},
   "cell_type": "markdown",
   "id": "04161db3",
   "metadata": {},
   "source": [
    "## The Problem"
   ]
  },
  {
   "cell_type": "code",
   "execution_count": 21,
   "id": "dabe79b1-d114-4c85-bd6d-8ef43dad02ac",
   "metadata": {},
   "outputs": [
    {
     "data": {
      "text/plain": [
       "False"
      ]
     },
     "execution_count": 21,
     "metadata": {},
     "output_type": "execute_result"
    }
   ],
   "source": [
    "a = 0.1 \n",
    "a3 = 0.3 \n",
    "a * 3 == a3    #this should actually give us true in real life but is false by python because our computer has limited precision\n",
    "               # roundoff error\n"
   ]
  },
  {
   "cell_type": "code",
   "execution_count": 19,
   "id": "7bf88b20-6192-4459-91eb-848781ea605e",
   "metadata": {},
   "outputs": [
    {
     "data": {
      "text/plain": [
       "'0.29999999999999999'"
      ]
     },
     "execution_count": 19,
     "metadata": {},
     "output_type": "execute_result"
    }
   ],
   "source": [
    "f'{0.3:.17f}' # question - why isn't it that the output isnt just 0.30000000000000000?"
   ]
  },
  {
   "attachments": {},
   "cell_type": "markdown",
   "id": "02acd18b",
   "metadata": {},
   "source": [
    "## A solution"
   ]
  },
  {
   "cell_type": "code",
   "execution_count": 22,
   "id": "1efdda54-f303-4006-91dc-3a3342a5f949",
   "metadata": {},
   "outputs": [
    {
     "data": {
      "text/plain": [
       "5.551115123125783e-17"
      ]
     },
     "execution_count": 22,
     "metadata": {},
     "output_type": "execute_result"
    }
   ],
   "source": [
    "# check for promixity of variable to the expected value, rather than equality \n",
    "\n",
    "(a*3 - a3) #should by right give 0 but instead it gives a very very small difference "
   ]
  },
  {
   "cell_type": "code",
   "execution_count": 23,
   "id": "085d8a6b-dc0f-40bf-b3c5-ca011623124d",
   "metadata": {},
   "outputs": [
    {
     "data": {
      "text/plain": [
       "True"
      ]
     },
     "execution_count": 23,
     "metadata": {},
     "output_type": "execute_result"
    }
   ],
   "source": [
    "# solution: check if the variable is close to the expected values instead of checking for equality.\n",
    "\n",
    "# method 1: we define our own threshold for what is considered close enough e.g 1E-10 \n",
    "eps = 1E-10\n",
    "abs(a * 3 - a3) < eps\n"
   ]
  },
  {
   "cell_type": "code",
   "execution_count": 16,
   "id": "681df883-dac2-4e71-a927-fb95e984c11e",
   "metadata": {},
   "outputs": [
    {
     "data": {
      "text/plain": [
       "True"
      ]
     },
     "execution_count": 16,
     "metadata": {},
     "output_type": "execute_result"
    }
   ],
   "source": [
    "#or method 2: use an already defined function isclose() \n",
    "\n",
    "import numpy\n",
    "numpy.isclose(a * 3, a3) #use numpy function "
   ]
  },
  {
   "cell_type": "code",
   "execution_count": 22,
   "id": "c9c0eb7b-b627-485b-bacd-1f42397ddbe5",
   "metadata": {},
   "outputs": [
    {
     "data": {
      "text/plain": [
       "False"
      ]
     },
     "execution_count": 22,
     "metadata": {},
     "output_type": "execute_result"
    }
   ],
   "source": [
    "import numpy \n",
    "numpy. isclose(3.0, 3.01)"
   ]
  },
  {
   "cell_type": "code",
   "execution_count": 23,
   "id": "60686fb7-1ca0-4356-8596-75b97a0c300f",
   "metadata": {},
   "outputs": [
    {
     "data": {
      "text/plain": [
       "False"
      ]
     },
     "execution_count": 23,
     "metadata": {},
     "output_type": "execute_result"
    }
   ],
   "source": [
    "numpy. isclose(3.0, 3.0001)"
   ]
  },
  {
   "cell_type": "code",
   "execution_count": 30,
   "id": "58f971ff-3f36-4cee-a923-ac3f019171b2",
   "metadata": {},
   "outputs": [
    {
     "data": {
      "text/plain": [
       "True"
      ]
     },
     "execution_count": 30,
     "metadata": {},
     "output_type": "execute_result"
    }
   ],
   "source": [
    "numpy. isclose(3.0, 3.00001)  # numpy will consider a difference of about 1.0 x10^(-4) and more to be significant\n",
    "                              # if the difference is 1.0 x 10^(-5) or less, they will be considered equal "
   ]
  },
  {
   "attachments": {},
   "cell_type": "markdown",
   "id": "a37cd0c3",
   "metadata": {},
   "source": [
    "# Combining English and variables"
   ]
  },
  {
   "cell_type": "code",
   "execution_count": 1,
   "id": "de6cc1dc-3848-4c21-a16e-add41dbc389b",
   "metadata": {},
   "outputs": [
    {
     "name": "stdout",
     "output_type": "stream",
     "text": [
      "Hello BATMAN!\n"
     ]
    }
   ],
   "source": [
    "# use f strings/string interpolation to integrate english and variables \n",
    "\n",
    "name = 'Batman' \n",
    "print(f'Hello {name.upper()}!') #combining variables and english"
   ]
  },
  {
   "cell_type": "code",
   "execution_count": 3,
   "id": "93f6d29e-7f59-4ebf-82ab-389ea8b9829e",
   "metadata": {},
   "outputs": [
    {
     "name": "stdout",
     "output_type": "stream",
     "text": [
      "Hello {name}!\n"
     ]
    }
   ],
   "source": [
    "print('Hello {name}!') #f and {..} comes together!\n"
   ]
  },
  {
   "cell_type": "code",
   "execution_count": 26,
   "id": "6a24b4c1-54ca-4bcc-b1a1-f8226ff8426e",
   "metadata": {},
   "outputs": [
    {
     "name": "stdout",
     "output_type": "stream",
     "text": [
      "I like number 49!\n"
     ]
    }
   ],
   "source": [
    "number = 7 \n",
    "\n",
    "print(f'I like number {number*7}!')"
   ]
  },
  {
   "cell_type": "code",
   "execution_count": 28,
   "id": "0a1ef2cc-be06-4f0d-a7ec-cfd0768f85a9",
   "metadata": {},
   "outputs": [
    {
     "name": "stdout",
     "output_type": "stream",
     "text": [
      "60 is the product of 6 multiplied by 10\n"
     ]
    }
   ],
   "source": [
    "num = 60 \n",
    "\n",
    "print(f'{num} is the product of 6 multiplied by 10')"
   ]
  },
  {
   "cell_type": "code",
   "execution_count": null,
   "id": "fa5ab362-029c-47fb-b0ce-b0889624adb8",
   "metadata": {},
   "outputs": [],
   "source": [
    "## adjusting the arrangement of string on screen\n",
    "# info on the alignment and the characters should be within the {}, after a colon "
   ]
  },
  {
   "cell_type": "code",
   "execution_count": 30,
   "id": "8e3660b6-a56c-439a-8b23-2d6f3f560503",
   "metadata": {},
   "outputs": [
    {
     "name": "stdout",
     "output_type": "stream",
     "text": [
      "        rachel is old         \n"
     ]
    }
   ],
   "source": [
    "text = \"rachel is old\" \n",
    "print(f'{text:^30}')      # A block of 30 characters;\n",
    "                          # aligned centre"
   ]
  },
  {
   "cell_type": "code",
   "execution_count": 35,
   "id": "cbc54323-708f-4462-afca-9b4a2dd35ee1",
   "metadata": {},
   "outputs": [
    {
     "name": "stdout",
     "output_type": "stream",
     "text": [
      "rachel is old                                               \n"
     ]
    }
   ],
   "source": [
    "print(f'{text:<60}')      # A block of 60 characters; \n",
    "                          # aligned to the left i.e the default "
   ]
  },
  {
   "cell_type": "code",
   "execution_count": 34,
   "id": "fd7da3bf-7bc5-457b-a6f6-8f7be6694af2",
   "metadata": {},
   "outputs": [
    {
     "name": "stdout",
     "output_type": "stream",
     "text": [
      "                       rachel is old                        \n"
     ]
    }
   ],
   "source": [
    "print(f'{text:^60}')      # A block of 60 characters;\n",
    "                          # aligned centre"
   ]
  },
  {
   "cell_type": "code",
   "execution_count": 37,
   "id": "e6caa2d0-f77c-4b24-9a6c-e5beb827c66f",
   "metadata": {},
   "outputs": [
    {
     "name": "stdout",
     "output_type": "stream",
     "text": [
      "                                               rachel is old\n"
     ]
    }
   ],
   "source": [
    "print (f'{text:>60}')     # A block of 60 characters \n",
    "                          # aligned to the right "
   ]
  },
  {
   "attachments": {},
   "cell_type": "markdown",
   "id": "389f08f6",
   "metadata": {},
   "source": [
    "## 6.1 Structure of f-strings"
   ]
  },
  {
   "cell_type": "code",
   "execution_count": 39,
   "id": "c427aa70-48f2-49e5-88b8-a63da5bfa2f8",
   "metadata": {},
   "outputs": [],
   "source": [
    "## general formula {X:>0Y.ZW} to arrange a printed text on a page \n",
    "# X : variable \n",
    "# >/^/< : alignment \n",
    "# '0' or other characters to fill space \n",
    "# Y : total number of characters \n",
    "# Z : no. of d.p (for float)\n",
    "# W : type of variable (i.e f (float), d (decimal), s (string) or g (python to figure out) "
   ]
  },
  {
   "cell_type": "code",
   "execution_count": 48,
   "id": "da4f282d-89e1-48df-93e3-721690a13c64",
   "metadata": {},
   "outputs": [
    {
     "name": "stdout",
     "output_type": "stream",
     "text": [
      "                                     fluffy clouds look like fluffy sheeps\n"
     ]
    }
   ],
   "source": [
    "text_1 = 'fluffy clouds'\n",
    "text_2 = 'fluffy sheeps' \n",
    "\n",
    "print(f'{text_1:>50} look like {text_2}')    #default spacing is '0' unless specified "
   ]
  },
  {
   "cell_type": "code",
   "execution_count": 52,
   "id": "bfe0f230-36ed-469c-b3f3-8f833ee99bce",
   "metadata": {},
   "outputs": [
    {
     "ename": "ValueError",
     "evalue": "Format specifier missing precision",
     "output_type": "error",
     "traceback": [
      "\u001b[0;31m---------------------------------------------------------------------------\u001b[0m",
      "\u001b[0;31mValueError\u001b[0m                                Traceback (most recent call last)",
      "Cell \u001b[0;32mIn[52], line 6\u001b[0m\n\u001b[1;32m      3\u001b[0m text_1 \u001b[38;5;241m=\u001b[39m \u001b[38;5;124m'\u001b[39m\u001b[38;5;124mfluffy clouds\u001b[39m\u001b[38;5;124m'\u001b[39m\n\u001b[1;32m      4\u001b[0m text_2 \u001b[38;5;241m=\u001b[39m \u001b[38;5;124m'\u001b[39m\u001b[38;5;124mfluffy sheeps\u001b[39m\u001b[38;5;124m'\u001b[39m\n\u001b[0;32m----> 6\u001b[0m \u001b[38;5;28mprint\u001b[39m(\u001b[38;5;124mf\u001b[39m\u001b[38;5;124m'\u001b[39m\u001b[38;5;132;01m{\u001b[39;00mtext_1\u001b[38;5;132;01m:\u001b[39;00m\u001b[38;5;124m>50.s\u001b[39m\u001b[38;5;132;01m}\u001b[39;00m\u001b[38;5;124m look like \u001b[39m\u001b[38;5;132;01m{\u001b[39;00mtext_2\u001b[38;5;132;01m}\u001b[39;00m\u001b[38;5;124m'\u001b[39m)\n",
      "\u001b[0;31mValueError\u001b[0m: Format specifier missing precision"
     ]
    }
   ],
   "source": [
    "# question - why doesn't the code work if i specify that the variable is a string? \n",
    "# i understand that it might not be necessary but why doesn't it work if i specify? \n",
    "\n",
    "text_1 = 'fluffy clouds'\n",
    "text_2 = 'fluffy sheeps'\n",
    "\n",
    "print(f'{text_1:>50.s} look like {text_2}')"
   ]
  },
  {
   "cell_type": "code",
   "execution_count": 53,
   "id": "8b538e64-9da5-45a3-b65d-cfce8e9a831d",
   "metadata": {},
   "outputs": [
    {
     "name": "stdout",
     "output_type": "stream",
     "text": [
      "                                     fluffy clouds look like                                      fluffy sheeps\n"
     ]
    }
   ],
   "source": [
    "# note that if we want the two variables to be placed together in a sentence, no need to repeat the alignment spacing for both!\n",
    "# e.g no need: \n",
    "\n",
    "text_1 = 'fluffy clouds'\n",
    "text_2 = 'fluffy sheeps'\n",
    "\n",
    "print(f'{text_1:>50} look like {text_2:>50}')"
   ]
  },
  {
   "cell_type": "code",
   "execution_count": 68,
   "id": "1e3b32a6-5311-4408-981a-6a598496db17",
   "metadata": {},
   "outputs": [
    {
     "name": "stdout",
     "output_type": "stream",
     "text": [
      "surfing in bali when i was    10.0    was like a fever dream.. i want to replay that dream again :)\n"
     ]
    }
   ],
   "source": [
    "# note that 'f' and 'd' only apply to float numbers, NOT string (i.e text_4 = '10') or integers\n",
    "# the alignment specification applies only to the variable in the {}. if there are 2 or more variables, their positions are not 'synced' \n",
    "text_3 = 'surfing in bali' \n",
    "text_4 = float(10) \n",
    "\n",
    "print(f'{text_3} when i was {text_4:^10.1f} was like a fever dream.. i want to replay that dream again :)') \n"
   ]
  },
  {
   "cell_type": "code",
   "execution_count": 75,
   "id": "5c119030-2589-4a6b-a9c9-9aa71307b958",
   "metadata": {},
   "outputs": [
    {
     "name": "stdout",
     "output_type": "stream",
     "text": [
      "rachel is old\n"
     ]
    }
   ],
   "source": [
    "print(f'{text:^3}') #if the number of characters we add (i.e Y) is smaller than the no. of characters in our var,\n",
    "                    #then the printed text will have no space in front "
   ]
  },
  {
   "cell_type": "code",
   "execution_count": 74,
   "id": "73e3a7f1-7074-4486-b814-851769b38745",
   "metadata": {},
   "outputs": [
    {
     "ename": "ValueError",
     "evalue": "Invalid format specifier '^_10' for object of type 'str'",
     "output_type": "error",
     "traceback": [
      "\u001b[0;31m---------------------------------------------------------------------------\u001b[0m",
      "\u001b[0;31mValueError\u001b[0m                                Traceback (most recent call last)",
      "Cell \u001b[0;32mIn[74], line 6\u001b[0m\n\u001b[1;32m      3\u001b[0m text_3 \u001b[38;5;241m=\u001b[39m \u001b[38;5;124m'\u001b[39m\u001b[38;5;124msurfing in bali\u001b[39m\u001b[38;5;124m'\u001b[39m \n\u001b[1;32m      4\u001b[0m text_4 \u001b[38;5;241m=\u001b[39m \u001b[38;5;28mfloat\u001b[39m(\u001b[38;5;241m10\u001b[39m) \n\u001b[0;32m----> 6\u001b[0m \u001b[38;5;28mprint\u001b[39m(\u001b[38;5;124mf\u001b[39m\u001b[38;5;124m'\u001b[39m\u001b[38;5;132;01m{\u001b[39;00mtext_3\u001b[38;5;132;01m:\u001b[39;00m\u001b[38;5;124m^_10\u001b[39m\u001b[38;5;132;01m}\u001b[39;00m\u001b[38;5;124m when i was \u001b[39m\u001b[38;5;132;01m{\u001b[39;00mtext_4\u001b[38;5;132;01m:\u001b[39;00m\u001b[38;5;124m^10.1f\u001b[39m\u001b[38;5;132;01m}\u001b[39;00m\u001b[38;5;124m was like a fever dream.. i want to replay that dream again :)\u001b[39m\u001b[38;5;124m'\u001b[39m) \n",
      "\u001b[0;31mValueError\u001b[0m: Invalid format specifier '^_10' for object of type 'str'"
     ]
    }
   ],
   "source": [
    "# question - '_10' looks very strange. However, I don't quite understand why it is wrong. Would you please clarify why? \n",
    "\n",
    "text_3 = 'surfing in bali' \n",
    "text_4 = float(10) \n",
    "\n",
    "print(f'{text_3:^_10} when i was {text_4:^10.1f} was like a fever dream.. i want to replay that dream again :)') \n"
   ]
  },
  {
   "attachments": {},
   "cell_type": "markdown",
   "id": "5dedef5d",
   "metadata": {},
   "source": [
    "# Escape sequences"
   ]
  },
  {
   "cell_type": "code",
   "execution_count": 22,
   "id": "e0e2ff22-f864-4c62-bd70-e6b38e3f4e28",
   "metadata": {},
   "outputs": [],
   "source": [
    "# \\n means that we go to the next line\n",
    "# \\t means that we enter a tab, breaks the line \n",
    "\n",
    "# if we want to print '\\x' without having an error message, need to enter '\\\\x' \n"
   ]
  },
  {
   "cell_type": "code",
   "execution_count": 11,
   "id": "6fda2e7a-fd4f-4321-91fa-6adbc2e6a70c",
   "metadata": {},
   "outputs": [
    {
     "ename": "SyntaxError",
     "evalue": "unterminated string literal (detected at line 3) (1208085567.py, line 3)",
     "output_type": "error",
     "traceback": [
      "\u001b[0;36m  Cell \u001b[0;32mIn[11], line 3\u001b[0;36m\u001b[0m\n\u001b[0;31m    print('You're twenty years old.')\u001b[0m\n\u001b[0m                                   ^\u001b[0m\n\u001b[0;31mSyntaxError\u001b[0m\u001b[0;31m:\u001b[0m unterminated string literal (detected at line 3)\n"
     ]
    }
   ],
   "source": [
    "#problem if we dont use slash -> there are two close apostrophe hence error \n",
    "\n",
    "print('You're twenty years old.') "
   ]
  },
  {
   "cell_type": "code",
   "execution_count": 76,
   "id": "9e28f001-a5ca-416b-8f55-c4edb64c6f1a",
   "metadata": {},
   "outputs": [
    {
     "name": "stdout",
     "output_type": "stream",
     "text": [
      "You're twenty years old.\n"
     ]
    }
   ],
   "source": [
    "#solution 1: use a slash \n",
    "\n",
    "print('You\\'re twenty years old.')"
   ]
  },
  {
   "cell_type": "code",
   "execution_count": 77,
   "id": "01befe8d-1bcf-41aa-b205-cf21e664d5bd",
   "metadata": {},
   "outputs": [
    {
     "name": "stdout",
     "output_type": "stream",
     "text": [
      "You're twenty years old.\n"
     ]
    }
   ],
   "source": [
    "#solution 2: use qoutation marks instead of apostrophe \n",
    "\n",
    "print(\"You're twenty years old.\")  "
   ]
  },
  {
   "cell_type": "markdown",
   "id": "0c0b52a9-cdec-4efe-a9f0-9af3a6f2a9ca",
   "metadata": {},
   "source": [
    "summary of escape sequences (backslash escape sequence is wrong) \n",
    "\n",
    "| escape sequence | meaning |\n",
    "|:----------------|--------:|\n",
    "| \\\\' | single quote |\n",
    "| \\\\\\ | backslash | \n",
    "| \\n | newline |\n",
    "| \\t | horizontal tab | "
   ]
  },
  {
   "cell_type": "code",
   "execution_count": 81,
   "id": "54fed562-0087-4d10-a49c-5f7a3675b3a7",
   "metadata": {},
   "outputs": [],
   "source": [
    "# question (with ref. to the table table) - why is it that typing either '\\\\' or '\\\\\\' in a markdown cell gives '\\'?\n",
    "# what should i type for '\\\\' to appear in a markdown cell? why is it that \\\\' must be typed for \\' to appear in markdown?"
   ]
  },
  {
   "attachments": {},
   "cell_type": "markdown",
   "id": "9a95c334",
   "metadata": {},
   "source": [
    "# Computers read = from Right to Left!"
   ]
  },
  {
   "cell_type": "code",
   "execution_count": 87,
   "id": "be868197-b045-4d00-94e7-e632cf932f50",
   "metadata": {},
   "outputs": [
    {
     "name": "stdout",
     "output_type": "stream",
     "text": [
      "43\n"
     ]
    }
   ],
   "source": [
    "# the following code works on python although it mathematically in correct \n",
    "\n",
    "x = 40 \n",
    "x += 3  # i.e x = x + 3. note that we use '+=' and not '=+' \n",
    "print (x)"
   ]
  },
  {
   "cell_type": "code",
   "execution_count": 90,
   "id": "d1778f3d-a487-417f-9db3-47de5f35445b",
   "metadata": {},
   "outputs": [
    {
     "name": "stdout",
     "output_type": "stream",
     "text": [
      "47\n",
      "47\n"
     ]
    }
   ],
   "source": [
    "#python also reads the following: \n",
    "\n",
    "x = y = 47    \n",
    "print(x) \n",
    "print(y)  "
   ]
  },
  {
   "cell_type": "code",
   "execution_count": 97,
   "id": "7ae7392c-4007-4475-8f0d-9c68d6ece4b4",
   "metadata": {},
   "outputs": [
    {
     "data": {
      "text/plain": [
       "True"
      ]
     },
     "execution_count": 97,
     "metadata": {},
     "output_type": "execute_result"
    }
   ],
   "source": [
    "# question: is it problematic if we equate x = y? since they will have the same id. \n",
    "# shouldnt we make a copy of them instead? e.g y = x.copy()? or is that only impt for lists? \n",
    "# it should apply to both lists and in thie case since we won't want value of y to change if we change x right? \n",
    "\n",
    "id(x) == id (y)   # the problem - the 2 variables will not only have the same value but literally be the same variable "
   ]
  },
  {
   "cell_type": "code",
   "execution_count": 106,
   "id": "ddaf53e1-c8e1-4e92-a2d7-301e7f8a868d",
   "metadata": {},
   "outputs": [
    {
     "ename": "AttributeError",
     "evalue": "'int' object has no attribute 'copy'",
     "output_type": "error",
     "traceback": [
      "\u001b[0;31m---------------------------------------------------------------------------\u001b[0m",
      "\u001b[0;31mAttributeError\u001b[0m                            Traceback (most recent call last)",
      "Cell \u001b[0;32mIn[106], line 5\u001b[0m\n\u001b[1;32m      1\u001b[0m \u001b[38;5;66;03m# however, why isnt it then possible to make a copy of an integer? why does copy() only work for a list? \u001b[39;00m\n\u001b[1;32m      2\u001b[0m \u001b[38;5;66;03m# if we want to create 2 variables g and h that both have the same value. and we use g = h, wouldn't any changes we make to g e.g g+= 2, also then change alue of h to h + 2? \u001b[39;00m\n\u001b[1;32m      3\u001b[0m a \u001b[38;5;241m=\u001b[39m \u001b[38;5;241m5\u001b[39m \n\u001b[0;32m----> 5\u001b[0m b \u001b[38;5;241m=\u001b[39m \u001b[43ma\u001b[49m\u001b[38;5;241;43m.\u001b[39;49m\u001b[43mcopy\u001b[49m() \n",
      "\u001b[0;31mAttributeError\u001b[0m: 'int' object has no attribute 'copy'"
     ]
    }
   ],
   "source": [
    "# however, why isnt it then possible to make a copy of an integer? why does copy() only work for a list? \n",
    "# if we want to create 2 variables g and h that both have the same value. and we use g = h, wouldn't any changes we make to g e.g g+= 2, also then change alue of h to h + 2? \n",
    "a = 5 \n",
    "b = a.copy() "
   ]
  },
  {
   "attachments": {},
   "cell_type": "markdown",
   "id": "10db6ab6",
   "metadata": {},
   "source": [
    "# Shorter and Cleaner Code"
   ]
  },
  {
   "cell_type": "code",
   "execution_count": 108,
   "id": "a68cf0bd-8f61-40a8-b18f-cc8e519b3464",
   "metadata": {},
   "outputs": [],
   "source": [
    "# question - why isnt the following text printing a table in markdown? Would you mind correcting any wrong formatting? I'll make the edits later!"
   ]
  },
  {
   "cell_type": "markdown",
   "id": "1823c954-19f4-44f1-a90c-5fdea7e35767",
   "metadata": {},
   "source": [
    "summary of shorthand codes:\n",
    "\n",
    "|----------------| Long form | Shorthand | \n",
    "|: --------------|:---------:|----------:| \n",
    "| Addition       | y = y + 5 | y += 5    |\n",
    "| Subtraction    | y = y - 5 | y -= 5    |\n",
    "| Multiplication | y = y*5   | y*= 5     | \n",
    "| Division       | y = y/5   | y/= 5     | "
   ]
  },
  {
   "cell_type": "code",
   "execution_count": 110,
   "id": "a1b381da-d949-4ac2-af50-db29ae54a07f",
   "metadata": {},
   "outputs": [
    {
     "name": "stdout",
     "output_type": "stream",
     "text": [
      "10\n"
     ]
    }
   ],
   "source": [
    "a = 2\n",
    "a *= 5\n",
    "print(a)"
   ]
  },
  {
   "cell_type": "code",
   "execution_count": 113,
   "id": "82e027f4-8b01-4f2a-bd68-d81def1ad57c",
   "metadata": {},
   "outputs": [
    {
     "name": "stdout",
     "output_type": "stream",
     "text": [
      "7.0\n"
     ]
    }
   ],
   "source": [
    "b = 56 \n",
    "b /= 8    #by default, division gives a floating point number with 1 d.p \n",
    "\n",
    "print(b) "
   ]
  },
  {
   "attachments": {},
   "cell_type": "markdown",
   "id": "fe271b65",
   "metadata": {},
   "source": [
    "# Python can be a prima-donna."
   ]
  },
  {
   "cell_type": "code",
   "execution_count": 114,
   "id": "b3e44333-7c11-493a-b01b-5d7321dc6fd0",
   "metadata": {},
   "outputs": [],
   "source": [
    "#for error messages, scroll to the end to identify the bug "
   ]
  },
  {
   "attachments": {},
   "cell_type": "markdown",
   "id": "93b854b4",
   "metadata": {},
   "source": [
    "# Best Practices for Scientific Computing"
   ]
  },
  {
   "cell_type": "markdown",
   "id": "bedb70bf-ca74-4909-9293-0016e56c687d",
   "metadata": {},
   "source": [
    "1. write programs for people, not computers! add meaningful comments when necessary to aid myself/others in understanding my thought process \n",
    "2. dont be a perfectionist! having a complete code that fulfils the task is better than having 4 beautiful lines of code that do not fufi the requirement \n",
    "3. be intentional with the comments, explain why i chose to pick one method over the other, the purpose of the code\n",
    "4. work together :)"
   ]
  },
  {
   "attachments": {},
   "cell_type": "markdown",
   "id": "a1d201a1",
   "metadata": {},
   "source": [
    "# Looking for help "
   ]
  },
  {
   "cell_type": "code",
   "execution_count": 116,
   "id": "ed6ecf02-d755-4cc4-bc2f-ca3f9678ad0d",
   "metadata": {},
   "outputs": [],
   "source": [
    "# method 1 (more accessible) : google or chatgpt \n",
    "# methd 2 : help () "
   ]
  }
 ],
 "metadata": {
  "kernelspec": {
   "display_name": "Python 3 (ipykernel)",
   "language": "python",
   "name": "python3"
  },
  "language_info": {
   "codemirror_mode": {
    "name": "ipython",
    "version": 3
   },
   "file_extension": ".py",
   "mimetype": "text/x-python",
   "name": "python",
   "nbconvert_exporter": "python",
   "pygments_lexer": "ipython3",
   "version": "3.11.7"
  },
  "toc": {
   "base_numbering": 1,
   "nav_menu": {},
   "number_sections": true,
   "sideBar": true,
   "skip_h1_title": false,
   "title_cell": "Table of Contents",
   "title_sidebar": "Contents",
   "toc_cell": false,
   "toc_position": {},
   "toc_section_display": true,
   "toc_window_display": false
  },
  "vscode": {
   "interpreter": {
    "hash": "31f2aee4e71d21fbe5cf8b01ff0e069b9275f58929596ceb00d14d90e3e16cd6"
   }
  }
 },
 "nbformat": 4,
 "nbformat_minor": 5
}
