{
 "cells": [
  {
   "attachments": {},
   "cell_type": "markdown",
   "id": "123456",
   "metadata": {},
   "source": [
    "<div style=\"text-align:left;font-size:2em\"><span style=\"font-weight:bolder;font-size:1.25em\">SP2273 | Learning Portfolio</span><br><br><span style=\"font-weight:bold;color:darkred\">Fundamentals (Need)</span></div>"
   ]
  },
  {
   "attachments": {},
   "cell_type": "markdown",
   "id": "273fe7db",
   "metadata": {},
   "source": [
    "# What to expect in this chapter"
   ]
  },
  {
   "attachments": {},
   "cell_type": "markdown",
   "id": "5d69e6e4",
   "metadata": {},
   "source": [
    "# 1. Functions"
   ]
  },
  {
   "cell_type": "code",
   "execution_count": 2,
   "id": "112017d3-9939-455b-b42a-7af6a0505bf6",
   "metadata": {},
   "outputs": [
    {
     "name": "stdout",
     "output_type": "stream",
     "text": [
      "Hello world!\n"
     ]
    }
   ],
   "source": [
    "print('Hello world!')"
   ]
  },
  {
   "cell_type": "markdown",
   "id": "5392a0ef-3979-4f9f-a14b-716dd5a2f72f",
   "metadata": {},
   "source": [
    "Notes: \n",
    "- A function is ‘something’ that executes a specific task.\n",
    "- A function may or may not accept arguments.\n",
    "- We can define our own functions."
   ]
  },
  {
   "attachments": {},
   "cell_type": "markdown",
   "id": "b1447ac4",
   "metadata": {},
   "source": [
    "# 2. Python is interpreted"
   ]
  },
  {
   "cell_type": "code",
   "execution_count": 3,
   "id": "a2347126-b663-45c7-854f-d8dc3b6facf8",
   "metadata": {},
   "outputs": [
    {
     "name": "stdout",
     "output_type": "stream",
     "text": [
      "Hello World\n",
      "Hello World again\n"
     ]
    }
   ],
   "source": [
    "print('Hello World')\n",
    "print('Hello World again')"
   ]
  },
  {
   "attachments": {},
   "cell_type": "markdown",
   "id": "c6a022c5",
   "metadata": {},
   "source": [
    "# 3. Python is sensitive."
   ]
  },
  {
   "cell_type": "markdown",
   "id": "561df142-68e3-4a4f-92d6-0b1903f3c9aa",
   "metadata": {},
   "source": [
    "Note: Python is case-sensitive."
   ]
  },
  {
   "attachments": {},
   "cell_type": "markdown",
   "id": "26591d06",
   "metadata": {},
   "source": [
    "# 4. Comments"
   ]
  },
  {
   "cell_type": "markdown",
   "id": "008e44fa-2239-4c7d-8a4e-6ca0ca19d7fa",
   "metadata": {},
   "source": [
    "- #This is a comment\n",
    "- print('One')              # This is a comment.\n",
    "- #print('Two')             # The interpreter ignores this line.\n",
    "- print('Three')            # This is\n",
    "-                           # also a way to\n",
    "-                           # write comments\n"
   ]
  },
  {
   "cell_type": "markdown",
   "id": "ae19af1c-27e4-4843-850c-c3a66396a786",
   "metadata": {},
   "source": [
    "Note: Use comments to emphasize the purpose of the code."
   ]
  },
  {
   "attachments": {},
   "cell_type": "markdown",
   "id": "55bace0f",
   "metadata": {},
   "source": [
    "# 5. = is not the same as =="
   ]
  },
  {
   "cell_type": "code",
   "execution_count": 6,
   "id": "87200e1c-b1d1-4161-8d1b-7bba7868c0d9",
   "metadata": {},
   "outputs": [
    {
     "data": {
      "text/plain": [
       "True"
      ]
     },
     "execution_count": 6,
     "metadata": {},
     "output_type": "execute_result"
    }
   ],
   "source": [
    "x = 5\n",
    "x==5"
   ]
  },
  {
   "cell_type": "markdown",
   "id": "fb6aa579-4774-4799-b46f-1a5d5ff8eae2",
   "metadata": {},
   "source": [
    "Note:\n",
    "- = is not the same as ==.\n",
    "- = assigns a value and\n",
    "- == asks a question."
   ]
  },
  {
   "attachments": {},
   "cell_type": "markdown",
   "id": "328c0492",
   "metadata": {},
   "source": [
    "# 6. Use if to make decisions"
   ]
  },
  {
   "cell_type": "code",
   "execution_count": 13,
   "id": "eec9f8d6-11fc-43ea-adb8-617832c59fcf",
   "metadata": {},
   "outputs": [
    {
     "ename": "SyntaxError",
     "evalue": "invalid syntax (1482438483.py, line 4)",
     "output_type": "error",
     "traceback": [
      "\u001b[0;36m  Cell \u001b[0;32mIn[13], line 4\u001b[0;36m\u001b[0m\n\u001b[0;31m    if x - y > 0,\u001b[0m\n\u001b[0m                ^\u001b[0m\n\u001b[0;31mSyntaxError\u001b[0m\u001b[0;31m:\u001b[0m invalid syntax\n"
     ]
    }
   ],
   "source": [
    "x = 5 \n",
    "y = 8\n",
    "\n",
    "if x - y > 0,\n",
    "print('y is bigger than x')\n",
    "else:\n",
    "print('y is smaller than x')"
   ]
  },
  {
   "cell_type": "markdown",
   "id": "11790a6d-b383-42af-9b0e-3c2f0acdf97d",
   "metadata": {},
   "source": [
    "Note: replace comma with colon "
   ]
  },
  {
   "cell_type": "markdown",
   "id": "33f0ddf5-b00e-41f6-b6ae-8c4a7cd59045",
   "metadata": {},
   "source": [
    "x = 5 \n",
    "y = 8\n",
    "\n",
    "if x - y > 0:\n",
    "print('y is bigger than x')\n",
    "else:\n",
    "print('y is smaller than x')"
   ]
  },
  {
   "cell_type": "markdown",
   "id": "8e001128-116c-4d44-8df2-865d68c1964f",
   "metadata": {},
   "source": [
    "Note: dont forget to include tabs/space before 'print' "
   ]
  },
  {
   "cell_type": "code",
   "execution_count": 15,
   "id": "779080cd-43f0-4adb-b94f-484be1ca70ec",
   "metadata": {},
   "outputs": [
    {
     "name": "stdout",
     "output_type": "stream",
     "text": [
      "y is smaller than x\n"
     ]
    }
   ],
   "source": [
    "x = 5 \n",
    "y = 8\n",
    "\n",
    "if x - y > 0:\n",
    "    print('y is bigger than x')\n",
    "else:\n",
    "    print('y is smaller than x')"
   ]
  },
  {
   "cell_type": "code",
   "execution_count": null,
   "id": "39ace277-af42-4bca-b446-5e81532a86d7",
   "metadata": {},
   "outputs": [],
   "source": []
  },
  {
   "attachments": {},
   "cell_type": "markdown",
   "id": "0ae6c275",
   "metadata": {},
   "source": [
    "# 7. Indentations (spaces) are sooo IMPORTANT!"
   ]
  },
  {
   "cell_type": "markdown",
   "id": "0d47d31b-18f6-437d-b151-f01f184e6ac6",
   "metadata": {},
   "source": [
    "Note: You can use if to make decisions. Use indentations to separate 'true' and 'false' blocks. \n",
    "- Indentations play a crucial role in Python; do not use them indiscriminately.\n",
    "- : is used to designate a block of code."
   ]
  },
  {
   "attachments": {},
   "cell_type": "markdown",
   "id": "eab1b59e",
   "metadata": {},
   "source": [
    "# 8. ‘age’ is English, age is a variable."
   ]
  },
  {
   "cell_type": "markdown",
   "id": "09383965-b566-4c8c-9b1c-f695d593e54e",
   "metadata": {},
   "source": [
    "print(age)       # Print the value of the variable age\n",
    "\n",
    "print(\"age\")     # Print the English word 'age'\n"
   ]
  },
  {
   "cell_type": "code",
   "execution_count": 7,
   "id": "128e1bc0-4839-44c3-b1d1-c0a174ca4bec",
   "metadata": {},
   "outputs": [
    {
     "name": "stdout",
     "output_type": "stream",
     "text": [
      "Rachel is old\n"
     ]
    }
   ],
   "source": [
    "age = 20 \n",
    "\n",
    "if age > 18: \n",
    "    print('Rachel is old')\n",
    "else:\n",
    "    print('Rachel is still old')"
   ]
  },
  {
   "cell_type": "code",
   "execution_count": 10,
   "id": "2314f40f-dbe8-4193-8920-630d5578715a",
   "metadata": {},
   "outputs": [
    {
     "name": "stdout",
     "output_type": "stream",
     "text": [
      "is rachel old?\n"
     ]
    },
    {
     "data": {
      "text/plain": [
       "True"
      ]
     },
     "execution_count": 10,
     "metadata": {},
     "output_type": "execute_result"
    }
   ],
   "source": [
    "rachel = 'old'\n",
    "\n",
    "print('is rachel old?')\n",
    "prrachel == 'old'"
   ]
  },
  {
   "attachments": {},
   "cell_type": "markdown",
   "id": "d87300a1",
   "metadata": {},
   "source": [
    "# 9. Brackets"
   ]
  },
  {
   "cell_type": "code",
   "execution_count": 11,
   "id": "9388bf9e-b366-4c7f-84b5-38f53610574e",
   "metadata": {},
   "outputs": [
    {
     "name": "stdout",
     "output_type": "stream",
     "text": [
      "Hello!\n"
     ]
    }
   ],
   "source": [
    "print('Hello!') "
   ]
  },
  {
   "cell_type": "code",
   "execution_count": 12,
   "id": "a6517fd3-3b44-4079-95cd-058400d228d7",
   "metadata": {},
   "outputs": [
    {
     "data": {
      "text/plain": [
       "15"
      ]
     },
     "execution_count": 12,
     "metadata": {},
     "output_type": "execute_result"
    }
   ],
   "source": [
    "(1 + 2) * 5 "
   ]
  },
  {
   "cell_type": "code",
   "execution_count": 20,
   "id": "61867d04-a379-42c8-b78c-b643adecbc71",
   "metadata": {},
   "outputs": [
    {
     "name": "stdout",
     "output_type": "stream",
     "text": [
      "Hello world!\n",
      "Hello world!\n",
      "Hello world!\n",
      "Hello world!\n"
     ]
    }
   ],
   "source": [
    "greeting = 'Hello world!'\n",
    "\n",
    "name = 'Batman'\n",
    "if name == 'Batman':\n",
    "    for name in range(4):\n",
    "        print(greeting)\n",
    "else:\n",
    "    for name in range(2):\n",
    "        print(greeting)\n"
   ]
  },
  {
   "cell_type": "code",
   "execution_count": 21,
   "id": "a4212fc3-92ed-42a4-98d0-bd598ad1bc83",
   "metadata": {},
   "outputs": [],
   "source": [
    "# round brackets for mathematics or functions \n",
    "# square brackets for lists"
   ]
  },
  {
   "cell_type": "code",
   "execution_count": 30,
   "id": "6cdd4c73-b492-448c-907e-c2b1f10b316b",
   "metadata": {},
   "outputs": [],
   "source": [
    "personal_info = {\n",
    "    'rachel': 'is old',\n",
    "    'real name': 'richrichrachel',\n",
    "    'age': '40',\n",
    "    'affiliation': 'next door neighbour',\n",
    "    'favourite food': 'nuts' \n",
    "}\n",
    "\n",
    "#remember to add comma after each line"
   ]
  },
  {
   "cell_type": "code",
   "execution_count": 28,
   "id": "10d83445-138e-4252-aa1e-c4667dbbfca5",
   "metadata": {},
   "outputs": [
    {
     "name": "stdout",
     "output_type": "stream",
     "text": [
      "{'rachel': 'is old', 'real name': 'richrichrachel', 'age': '40', 'affiliation': 'next door neighbour', 'favourite food': 'nuts'}\n"
     ]
    }
   ],
   "source": [
    "print(personal_info)"
   ]
  },
  {
   "attachments": {},
   "cell_type": "markdown",
   "id": "1548f052",
   "metadata": {},
   "source": [
    "# 10. Giving Python superpowers with Packages"
   ]
  },
  {
   "attachments": {},
   "cell_type": "markdown",
   "id": "ec49f68c",
   "metadata": {},
   "source": [
    "# 11. Some Context"
   ]
  },
  {
   "attachments": {},
   "cell_type": "markdown",
   "id": "7a385b30",
   "metadata": {},
   "source": [
    "# 12. Importing the math package"
   ]
  },
  {
   "attachments": {},
   "cell_type": "markdown",
   "id": "806b8a4d",
   "metadata": {},
   "source": [
    "# 13. Importing the numpy package"
   ]
  },
  {
   "attachments": {},
   "cell_type": "markdown",
   "id": "85d41c0d",
   "metadata": {},
   "source": [
    "# 14 Why so many packages?"
   ]
  },
  {
   "attachments": {},
   "cell_type": "markdown",
   "id": "81207373",
   "metadata": {},
   "source": [
    "# 15. The dot (.)"
   ]
  },
  {
   "cell_type": "code",
   "execution_count": null,
   "id": "c969f3d7-ef4e-4d92-a3c7-cb2e8f8b2b3e",
   "metadata": {},
   "outputs": [],
   "source": [
    "#the dot indicates ownership e.g math.sqrt(4) means that sqrt(4) belongs under \n"
   ]
  },
  {
   "cell_type": "code",
   "execution_count": 32,
   "id": "7da44d28-7699-430d-aebe-e9aed017d7df",
   "metadata": {},
   "outputs": [
    {
     "data": {
      "text/plain": [
       "2.0"
      ]
     },
     "execution_count": 32,
     "metadata": {},
     "output_type": "execute_result"
    }
   ],
   "source": [
    "import math \n",
    "math. sqrt(4)"
   ]
  },
  {
   "cell_type": "code",
   "execution_count": 33,
   "id": "9c7746d7-58be-4ac8-8964-c41e04c9e72d",
   "metadata": {},
   "outputs": [
    {
     "data": {
      "text/plain": [
       "'APPLE'"
      ]
     },
     "execution_count": 33,
     "metadata": {},
     "output_type": "execute_result"
    }
   ],
   "source": [
    "'apple'.upper()"
   ]
  },
  {
   "cell_type": "code",
   "execution_count": 36,
   "id": "78e485d0-3f06-45cb-a2ae-a2ff0410c432",
   "metadata": {},
   "outputs": [
    {
     "data": {
      "text/plain": [
       "'Apple'"
      ]
     },
     "execution_count": 36,
     "metadata": {},
     "output_type": "execute_result"
    }
   ],
   "source": [
    "'apple'.title()"
   ]
  },
  {
   "cell_type": "code",
   "execution_count": 37,
   "id": "6f3f2f31-ec39-419e-a521-10efd749a769",
   "metadata": {},
   "outputs": [
    {
     "ename": "TypeError",
     "evalue": "str.upper() takes no arguments (1 given)",
     "output_type": "error",
     "traceback": [
      "\u001b[0;31m---------------------------------------------------------------------------\u001b[0m",
      "\u001b[0;31mTypeError\u001b[0m                                 Traceback (most recent call last)",
      "Cell \u001b[0;32mIn[37], line 1\u001b[0m\n\u001b[0;32m----> 1\u001b[0m \u001b[38;5;124;43m'\u001b[39;49m\u001b[38;5;124;43mhahaha\u001b[39;49m\u001b[38;5;124;43m'\u001b[39;49m\u001b[38;5;241;43m.\u001b[39;49m\u001b[43mupper\u001b[49m\u001b[43m(\u001b[49m\u001b[38;5;124;43m'\u001b[39;49m\u001b[38;5;124;43mapple\u001b[39;49m\u001b[38;5;124;43m'\u001b[39;49m\u001b[43m)\u001b[49m\n",
      "\u001b[0;31mTypeError\u001b[0m: str.upper() takes no arguments (1 given)"
     ]
    }
   ],
   "source": [
    "'hahaha'.upper('apple') #apple is the argument, there should not be arguments in the brackets "
   ]
  },
  {
   "cell_type": "code",
   "execution_count": 34,
   "id": "943ad153-6475-4bce-9b58-255337130b44",
   "metadata": {},
   "outputs": [
    {
     "data": {
      "text/plain": [
       "'AB'"
      ]
     },
     "execution_count": 34,
     "metadata": {},
     "output_type": "execute_result"
    }
   ],
   "source": [
    "'A' + 'B' "
   ]
  },
  {
   "cell_type": "code",
   "execution_count": 35,
   "id": "130e3608-8be1-49ec-8331-9f72cc7f6286",
   "metadata": {},
   "outputs": [
    {
     "ename": "TypeError",
     "evalue": "can't multiply sequence by non-int of type 'str'",
     "output_type": "error",
     "traceback": [
      "\u001b[0;31m---------------------------------------------------------------------------\u001b[0m",
      "\u001b[0;31mTypeError\u001b[0m                                 Traceback (most recent call last)",
      "Cell \u001b[0;32mIn[35], line 1\u001b[0m\n\u001b[0;32m----> 1\u001b[0m \u001b[38;5;124;43m'\u001b[39;49m\u001b[38;5;124;43mA\u001b[39;49m\u001b[38;5;124;43m'\u001b[39;49m\u001b[43m \u001b[49m\u001b[38;5;241;43m*\u001b[39;49m\u001b[43m \u001b[49m\u001b[38;5;124;43m'\u001b[39;49m\u001b[38;5;124;43mB\u001b[39;49m\u001b[38;5;124;43m'\u001b[39;49m\n",
      "\u001b[0;31mTypeError\u001b[0m: can't multiply sequence by non-int of type 'str'"
     ]
    }
   ],
   "source": [
    "'A' * 'B'"
   ]
  },
  {
   "cell_type": "code",
   "execution_count": 46,
   "id": "55324527-7236-4525-8d38-ff5f7233afae",
   "metadata": {},
   "outputs": [
    {
     "ename": "ModuleNotFoundError",
     "evalue": "No module named 'numpy'",
     "output_type": "error",
     "traceback": [
      "\u001b[0;31m---------------------------------------------------------------------------\u001b[0m",
      "\u001b[0;31mModuleNotFoundError\u001b[0m                       Traceback (most recent call last)",
      "Cell \u001b[0;32mIn[46], line 1\u001b[0m\n\u001b[0;32m----> 1\u001b[0m \u001b[38;5;28;01mimport\u001b[39;00m \u001b[38;5;21;01mnumpy\u001b[39;00m\n\u001b[1;32m      2\u001b[0m numpy\u001b[38;5;241m.\u001b[39msqrt(\u001b[38;5;241m4\u001b[39m)\n",
      "\u001b[0;31mModuleNotFoundError\u001b[0m: No module named 'numpy'"
     ]
    }
   ],
   "source": [
    "import numpy\n",
    "numpy.sqrt(4)"
   ]
  },
  {
   "cell_type": "code",
   "execution_count": 47,
   "id": "3f583923-0970-4d38-af7f-44c93b706e3f",
   "metadata": {},
   "outputs": [
    {
     "ename": "ModuleNotFoundError",
     "evalue": "No module named 'numpy'",
     "output_type": "error",
     "traceback": [
      "\u001b[0;31m---------------------------------------------------------------------------\u001b[0m",
      "\u001b[0;31mModuleNotFoundError\u001b[0m                       Traceback (most recent call last)",
      "Cell \u001b[0;32mIn[47], line 1\u001b[0m\n\u001b[0;32m----> 1\u001b[0m \u001b[38;5;28;01mimport\u001b[39;00m \u001b[38;5;21;01mnumpy\u001b[39;00m \u001b[38;5;28;01mas\u001b[39;00m \u001b[38;5;21;01mnp\u001b[39;00m    \u001b[38;5;66;03m# Importing Numpy and giving \u001b[39;00m\n\u001b[1;32m      2\u001b[0m                       \u001b[38;5;66;03m# it an alias np \u001b[39;00m\n\u001b[1;32m      3\u001b[0m                       \u001b[38;5;66;03m# because I am lazy\u001b[39;00m\n",
      "\u001b[0;31mModuleNotFoundError\u001b[0m: No module named 'numpy'"
     ]
    }
   ],
   "source": [
    "import numpy as np    # Importing Numpy and giving \n",
    "                      # it an alias np \n",
    "                      # because I am lazy"
   ]
  },
  {
   "cell_type": "code",
   "execution_count": 1,
   "id": "aa621540-252b-4b78-a8c0-aa944e1e4a73",
   "metadata": {},
   "outputs": [
    {
     "data": {
      "text/plain": [
       "2.0"
      ]
     },
     "execution_count": 1,
     "metadata": {},
     "output_type": "execute_result"
    }
   ],
   "source": [
    "import numpy \n",
    "\n",
    "numpy.sqrt(4)"
   ]
  },
  {
   "attachments": {},
   "cell_type": "markdown",
   "id": "30c6ca11",
   "metadata": {},
   "source": [
    "# 16. Remember"
   ]
  },
  {
   "attachments": {},
   "cell_type": "markdown",
   "id": "6f371006",
   "metadata": {},
   "source": [
    "Footnotes"
   ]
  }
 ],
 "metadata": {
  "kernelspec": {
   "display_name": "Python 3 (ipykernel)",
   "language": "python",
   "name": "python3"
  },
  "language_info": {
   "codemirror_mode": {
    "name": "ipython",
    "version": 3
   },
   "file_extension": ".py",
   "mimetype": "text/x-python",
   "name": "python",
   "nbconvert_exporter": "python",
   "pygments_lexer": "ipython3",
   "version": "3.11.7"
  },
  "toc": {
   "base_numbering": 1,
   "nav_menu": {},
   "number_sections": true,
   "sideBar": true,
   "skip_h1_title": false,
   "title_cell": "Table of Contents",
   "title_sidebar": "Contents",
   "toc_cell": false,
   "toc_position": {},
   "toc_section_display": true,
   "toc_window_display": false
  },
  "vscode": {
   "interpreter": {
    "hash": "31f2aee4e71d21fbe5cf8b01ff0e069b9275f58929596ceb00d14d90e3e16cd6"
   }
  }
 },
 "nbformat": 4,
 "nbformat_minor": 5
}
