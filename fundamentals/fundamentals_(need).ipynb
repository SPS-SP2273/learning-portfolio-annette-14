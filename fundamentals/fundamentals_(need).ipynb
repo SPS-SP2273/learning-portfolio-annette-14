{
 "cells": [
  {
   "attachments": {},
   "cell_type": "markdown",
   "id": "123456",
   "metadata": {},
   "source": [
    "<div style=\"text-align:left;font-size:2em\"><span style=\"font-weight:bolder;font-size:1.25em\">SP2273 | Learning Portfolio</span><br><br><span style=\"font-weight:bold;color:darkred\">Fundamentals (Need)</span></div>"
   ]
  },
  {
   "attachments": {},
   "cell_type": "markdown",
   "id": "5d69e6e4",
   "metadata": {},
   "source": [
    "# Functions"
   ]
  },
  {
   "cell_type": "code",
   "execution_count": 2,
   "id": "112017d3-9939-455b-b42a-7af6a0505bf6",
   "metadata": {},
   "outputs": [
    {
     "name": "stdout",
     "output_type": "stream",
     "text": [
      "Hello world!\n"
     ]
    }
   ],
   "source": [
    "print('Hello world!')\n",
    "\n",
    "# a function is something that does a specific task. here, print is a function and 'hello world' is an argument \n",
    "# parenthesis () always follow a function.\n",
    "# some functions dont require arguments, but most do e.g exit()\n",
    "# functions may be inbuilt or can be defined by the user "
   ]
  },
  {
   "cell_type": "markdown",
   "id": "5392a0ef-3979-4f9f-a14b-716dd5a2f72f",
   "metadata": {},
   "source": [
    "Notes: \n",
    "- A function is ‘something’ that executes a specific task.\n",
    "- A function may or may not accept arguments.\n",
    "- We can define our own functions."
   ]
  },
  {
   "attachments": {},
   "cell_type": "markdown",
   "id": "b1447ac4",
   "metadata": {},
   "source": [
    "# Python is interpreted"
   ]
  },
  {
   "cell_type": "code",
   "execution_count": 3,
   "id": "a2347126-b663-45c7-854f-d8dc3b6facf8",
   "metadata": {},
   "outputs": [
    {
     "name": "stdout",
     "output_type": "stream",
     "text": [
      "Hello World\n",
      "Hello World again\n"
     ]
    }
   ],
   "source": [
    "print('Hello World')\n",
    "print('Hello World again')\n",
    "\n",
    "# we refer to the python interpreter. python reads line by line and complains if there is an error in the command. "
   ]
  },
  {
   "attachments": {},
   "cell_type": "markdown",
   "id": "c6a022c5",
   "metadata": {},
   "source": [
    "# Python is sensitive."
   ]
  },
  {
   "cell_type": "code",
   "execution_count": 4,
   "id": "8197dc60-749a-48fd-bc6b-0c036a9de71a",
   "metadata": {},
   "outputs": [],
   "source": [
    "# Python is case-sensitive."
   ]
  },
  {
   "cell_type": "code",
   "execution_count": 1,
   "id": "7c1b841d-3e36-4288-975d-5db35e9f9eeb",
   "metadata": {},
   "outputs": [
    {
     "ename": "NameError",
     "evalue": "name 'Print' is not defined",
     "output_type": "error",
     "traceback": [
      "\u001b[0;31m---------------------------------------------------------------------------\u001b[0m",
      "\u001b[0;31mNameError\u001b[0m                                 Traceback (most recent call last)",
      "Cell \u001b[0;32mIn[1], line 1\u001b[0m\n\u001b[0;32m----> 1\u001b[0m \u001b[43mPrint\u001b[49m(\u001b[38;5;124m'\u001b[39m\u001b[38;5;124mMOOO\u001b[39m\u001b[38;5;124m'\u001b[39m)\n",
      "\u001b[0;31mNameError\u001b[0m: name 'Print' is not defined"
     ]
    }
   ],
   "source": [
    "Print('MOOO')"
   ]
  },
  {
   "cell_type": "code",
   "execution_count": 3,
   "id": "2ea98bd3-deb9-45c6-925e-670f995be014",
   "metadata": {},
   "outputs": [
    {
     "name": "stdout",
     "output_type": "stream",
     "text": [
      "MOOO\n"
     ]
    }
   ],
   "source": [
    "print('MOOO')"
   ]
  },
  {
   "attachments": {},
   "cell_type": "markdown",
   "id": "26591d06",
   "metadata": {},
   "source": [
    "# Comments"
   ]
  },
  {
   "cell_type": "code",
   "execution_count": 5,
   "id": "754e7f1c-d0a6-4294-9fd7-dd4fc5538995",
   "metadata": {},
   "outputs": [
    {
     "name": "stdout",
     "output_type": "stream",
     "text": [
      "One\n",
      "Three\n"
     ]
    }
   ],
   "source": [
    "#This is a comment\n",
    "print('One')              # This is a comment.\n",
    "#print('Two')             # The interpreter ignores this line.\n",
    "print('Three')           \n"
   ]
  },
  {
   "cell_type": "markdown",
   "id": "ae19af1c-27e4-4843-850c-c3a66396a786",
   "metadata": {},
   "source": [
    "Note: Use comments to emphasize the purpose of the code."
   ]
  },
  {
   "attachments": {},
   "cell_type": "markdown",
   "id": "55bace0f",
   "metadata": {},
   "source": [
    "# = is not the same as =="
   ]
  },
  {
   "cell_type": "code",
   "execution_count": 6,
   "id": "87200e1c-b1d1-4161-8d1b-7bba7868c0d9",
   "metadata": {},
   "outputs": [
    {
     "data": {
      "text/plain": [
       "True"
      ]
     },
     "execution_count": 6,
     "metadata": {},
     "output_type": "execute_result"
    }
   ],
   "source": [
    "x = 5   # setting/defining x to be equal to 5. no output. simply is assigning the value to the variable \n",
    "x==5    # checking if x is equal to 5. a question that will give output TRUE or FALSE "
   ]
  },
  {
   "cell_type": "markdown",
   "id": "fb6aa579-4774-4799-b46f-1a5d5ff8eae2",
   "metadata": {},
   "source": [
    "Note:\n",
    "- = is not the same as ==.\n",
    "- = assigns a value and\n",
    "- == asks a question."
   ]
  },
  {
   "attachments": {},
   "cell_type": "markdown",
   "id": "328c0492",
   "metadata": {},
   "source": [
    "# Use if to make decisions"
   ]
  },
  {
   "cell_type": "code",
   "execution_count": 10,
   "id": "eec9f8d6-11fc-43ea-adb8-617832c59fcf",
   "metadata": {},
   "outputs": [
    {
     "name": "stdout",
     "output_type": "stream",
     "text": [
      "y is smaller than x\n"
     ]
    }
   ],
   "source": [
    "x = 5 \n",
    "y = 8\n",
    "\n",
    "if x - y > 0:     # use colon after the if and else statements and not comma! ':' is used to designate a block of code \n",
    "    print('y is bigger than x')   # dont forget to include tabs/space before 'print' \n",
    "else:\n",
    "    print('y is smaller than x')\n",
    "\n",
    "# if function 1.tests a condition. 2. if TRUE, then will carry out certain tasks. if FALSE, then carry out some other tasks\n",
    "# i.e use if to make decisions "
   ]
  },
  {
   "attachments": {},
   "cell_type": "markdown",
   "id": "0ae6c275",
   "metadata": {},
   "source": [
    "# Indentations (spaces) are sooo IMPORTANT!"
   ]
  },
  {
   "cell_type": "markdown",
   "id": "0d47d31b-18f6-437d-b151-f01f184e6ac6",
   "metadata": {},
   "source": [
    "- Use indentations to separate 'true' and 'false' blocks. \n",
    "- : is used to designate a block of code.\n",
    "- use the tab key for indentations "
   ]
  },
  {
   "attachments": {},
   "cell_type": "markdown",
   "id": "eab1b59e",
   "metadata": {},
   "source": [
    "# ‘age’ is English, age is a variable."
   ]
  },
  {
   "cell_type": "code",
   "execution_count": null,
   "id": "f6de049b-b3b4-4f83-8a11-9a059571d638",
   "metadata": {},
   "outputs": [],
   "source": [
    "# variables are things that can hold information \n",
    "# use meaningful variable names that correspond to the data they carry! "
   ]
  },
  {
   "cell_type": "markdown",
   "id": "09383965-b566-4c8c-9b1c-f695d593e54e",
   "metadata": {},
   "source": [
    "print(age)       # Print the value of the variable age\n",
    "\n",
    "print(\"age\")     # Print the English word 'age'\n"
   ]
  },
  {
   "cell_type": "code",
   "execution_count": 14,
   "id": "c425a570-30de-4327-b3a3-958c63adf397",
   "metadata": {},
   "outputs": [
    {
     "name": "stdout",
     "output_type": "stream",
     "text": [
      "cloudy and cool\n",
      "weather\n"
     ]
    }
   ],
   "source": [
    "weather = \"cloudy and cool\"\n",
    "\n",
    "print(weather)    # without quotation marks, weather is a variable. therefore, the data carried by the variable is printed \n",
    "\n",
    "print(\"weather\")   # with quotation marks, 'weather' is english. therefore, the word itself is printed. "
   ]
  },
  {
   "cell_type": "code",
   "execution_count": 15,
   "id": "128e1bc0-4839-44c3-b1d1-c0a174ca4bec",
   "metadata": {},
   "outputs": [
    {
     "name": "stdout",
     "output_type": "stream",
     "text": [
      "Rachel is old\n"
     ]
    }
   ],
   "source": [
    "age = 20 \n",
    "\n",
    "if age > 18: \n",
    "    print('Rachel is old')   #can either use \"\" or ''\n",
    "else:\n",
    "    print('Rachel is still old')"
   ]
  },
  {
   "cell_type": "code",
   "execution_count": 17,
   "id": "2314f40f-dbe8-4193-8920-630d5578715a",
   "metadata": {},
   "outputs": [
    {
     "name": "stdout",
     "output_type": "stream",
     "text": [
      "is rachel old?\n"
     ]
    },
    {
     "data": {
      "text/plain": [
       "True"
      ]
     },
     "execution_count": 17,
     "metadata": {},
     "output_type": "execute_result"
    }
   ],
   "source": [
    "rachel = 'old'\n",
    "\n",
    "print('is rachel old?')\n",
    "rachel == 'old'"
   ]
  },
  {
   "cell_type": "code",
   "execution_count": 20,
   "id": "f0995ab0-4c75-4457-9f15-8578007ce5ae",
   "metadata": {},
   "outputs": [
    {
     "name": "stdout",
     "output_type": "stream",
     "text": [
      "You're twenty years old.\n"
     ]
    }
   ],
   "source": [
    "print(\"You're twenty years old.\")  # benefits of using \"\" for qoutation"
   ]
  },
  {
   "cell_type": "code",
   "execution_count": 19,
   "id": "2b8d92bf-7274-46e2-a992-af1a62762724",
   "metadata": {},
   "outputs": [
    {
     "ename": "SyntaxError",
     "evalue": "unterminated string literal (detected at line 1) (523689188.py, line 1)",
     "output_type": "error",
     "traceback": [
      "\u001b[0;36m  Cell \u001b[0;32mIn[19], line 1\u001b[0;36m\u001b[0m\n\u001b[0;31m    print('You're twenty years old.')\u001b[0m\n\u001b[0m                                   ^\u001b[0m\n\u001b[0;31mSyntaxError\u001b[0m\u001b[0;31m:\u001b[0m unterminated string literal (detected at line 1)\n"
     ]
    }
   ],
   "source": [
    "print('You're twenty years old.')"
   ]
  },
  {
   "attachments": {},
   "cell_type": "markdown",
   "id": "d87300a1",
   "metadata": {},
   "source": [
    "# Brackets"
   ]
  },
  {
   "cell_type": "code",
   "execution_count": 22,
   "id": "9388bf9e-b366-4c7f-84b5-38f53610574e",
   "metadata": {},
   "outputs": [
    {
     "name": "stdout",
     "output_type": "stream",
     "text": [
      "Hello!\n"
     ]
    }
   ],
   "source": [
    "# () in calls to function \n",
    "print('Hello!') "
   ]
  },
  {
   "cell_type": "code",
   "execution_count": 12,
   "id": "a6517fd3-3b44-4079-95cd-058400d228d7",
   "metadata": {},
   "outputs": [
    {
     "data": {
      "text/plain": [
       "15"
      ]
     },
     "execution_count": 12,
     "metadata": {},
     "output_type": "execute_result"
    }
   ],
   "source": [
    "# () for mathematics \n",
    "(1 + 2) * 5 "
   ]
  },
  {
   "cell_type": "code",
   "execution_count": 23,
   "id": "61867d04-a379-42c8-b78c-b643adecbc71",
   "metadata": {},
   "outputs": [
    {
     "name": "stdout",
     "output_type": "stream",
     "text": [
      "Hello world!\n",
      "Hello world!\n",
      "Hello world!\n",
      "Hello world!\n"
     ]
    }
   ],
   "source": [
    "greeting = 'Hello world!'\n",
    "\n",
    "name = 'Batman'\n",
    "if name == 'Batman':\n",
    "    for name in range(4):\n",
    "        print(greeting)\n",
    "else:\n",
    "    for name in range(2):\n",
    "        print(greeting)\n"
   ]
  },
  {
   "cell_type": "code",
   "execution_count": 32,
   "id": "27da6370-5e93-4d7d-9c90-6988016ff0a1",
   "metadata": {},
   "outputs": [
    {
     "name": "stdout",
     "output_type": "stream",
     "text": [
      "[['majestic', 'horses'], ['chill and special', 'platypus'], ['vulnerable.. must protect!!', 'snails'], ['rabbits', 'eNerGetIc'], ['dogs', 'loyalandloving']]\n"
     ]
    }
   ],
   "source": [
    "# [] for lists of data \n",
    "\n",
    "animals_i_love = ['horses', 'platypus', 'snails', 'rabbits', 'dogs'] # a 1D list \n",
    "\n",
    "adjectives_animals = [                                               # a 2D list. remember that there are two []!! take note of the formatting\n",
    "                        ['majestic', 'horses'],                      # remember to have commas between the smaller lists within the larger list \n",
    "                        ['chill and special', 'platypus'],\n",
    "                        ['vulnerable.. must protect!!', 'snails'], \n",
    "                        ['rabbits', 'eNerGetIc'],\n",
    "                        ['dogs', 'loyalandloving']\n",
    "] \n",
    "\n",
    "print(adjectives_animals)"
   ]
  },
  {
   "cell_type": "code",
   "execution_count": 30,
   "id": "6cdd4c73-b492-448c-907e-c2b1f10b316b",
   "metadata": {},
   "outputs": [],
   "source": [
    "# dictionary\n",
    "personal_info = {\n",
    "    'rachel': 'is old',\n",
    "    'real name': 'richrichrachel',\n",
    "    'age': '40',\n",
    "    'affiliation': 'next door neighbour',\n",
    "    'favourite food': 'nuts' \n",
    "}\n",
    "\n",
    "#remember to add comma after each line"
   ]
  },
  {
   "cell_type": "code",
   "execution_count": 47,
   "id": "40ee1c2b-cd63-435c-9b3a-7dd4c22ad0f9",
   "metadata": {},
   "outputs": [
    {
     "name": "stdout",
     "output_type": "stream",
     "text": [
      "{'chilli': 'spicyyy', 'best chocolate': 'dark', 'rain': 'cozy', 'coffee': 'nosleep'}\n"
     ]
    }
   ],
   "source": [
    "word_association = {     #take note that got no parenthesis or square brackets! but need colons\n",
    "    'chilli': 'spicyyy',       # REMEMBER to put the commas after each pair of values/after each small list within the big list for lists \n",
    "    'best chocolate' : 'dark', \n",
    "    'rain' : 'cozy', \n",
    "    'coffee' : 'nosleep'\n",
    "} \n",
    "\n",
    "print(word_association) "
   ]
  },
  {
   "cell_type": "code",
   "execution_count": 49,
   "id": "2acbbe27-5f03-48b7-8e07-f77f620c003f",
   "metadata": {},
   "outputs": [
    {
     "name": "stdout",
     "output_type": "stream",
     "text": [
      "dict_keys(['chilli', 'best chocolate', 'rain', 'coffee'])\n"
     ]
    }
   ],
   "source": [
    "## calling our the all and specific values and keys of a dictionary \n",
    "\n",
    "print(word_association.keys())       #remember that its key*s* and not key. remember to have the () since its a command!"
   ]
  },
  {
   "cell_type": "code",
   "execution_count": 50,
   "id": "0c10d3b6-1853-4830-b299-6e4ac43deed7",
   "metadata": {},
   "outputs": [
    {
     "name": "stdout",
     "output_type": "stream",
     "text": [
      "dict_values(['spicyyy', 'dark', 'cozy', 'nosleep'])\n"
     ]
    }
   ],
   "source": [
    "print(word_association.values())"
   ]
  },
  {
   "cell_type": "code",
   "execution_count": 71,
   "id": "7f311bec-b189-4786-824c-629938999c65",
   "metadata": {},
   "outputs": [
    {
     "ename": "TypeError",
     "evalue": "dict.values() takes no arguments (1 given)",
     "output_type": "error",
     "traceback": [
      "\u001b[0;31m---------------------------------------------------------------------------\u001b[0m",
      "\u001b[0;31mTypeError\u001b[0m                                 Traceback (most recent call last)",
      "Cell \u001b[0;32mIn[71], line 1\u001b[0m\n\u001b[0;32m----> 1\u001b[0m \u001b[38;5;28mprint\u001b[39m(\u001b[43mword_association\u001b[49m\u001b[38;5;241;43m.\u001b[39;49m\u001b[43mvalues\u001b[49m\u001b[43m(\u001b[49m\u001b[43m[\u001b[49m\u001b[38;5;241;43m1\u001b[39;49m\u001b[43m]\u001b[49m\u001b[43m)\u001b[49m) \n\u001b[1;32m      3\u001b[0m \u001b[38;5;66;03m#question - how can I call out a specific value or key if i only know their position but neither of them? why doesn't index works for dictionary? \u001b[39;00m\n",
      "\u001b[0;31mTypeError\u001b[0m: dict.values() takes no arguments (1 given)"
     ]
    }
   ],
   "source": [
    "print(word_association.values([1])) \n",
    "\n",
    "#question - how can I call out a specific value or key if i only know their position but neither of them? why doesn't index works for dictionary? "
   ]
  },
  {
   "cell_type": "code",
   "execution_count": 68,
   "id": "172e624d-37f3-4346-9539-a1909d55da89",
   "metadata": {},
   "outputs": [
    {
     "data": {
      "text/plain": [
       "\u001b[0;31mDocstring:\u001b[0m D.values() -> an object providing a view on D's values\n",
       "\u001b[0;31mType:\u001b[0m      method_descriptor"
      ]
     },
     "metadata": {},
     "output_type": "display_data"
    }
   ],
   "source": [
    "?dict.values"
   ]
  },
  {
   "cell_type": "code",
   "execution_count": 80,
   "id": "97823c61-6751-4d1d-afc9-e0ed83aaa2f2",
   "metadata": {},
   "outputs": [
    {
     "name": "stdout",
     "output_type": "stream",
     "text": [
      "spicyyy\n"
     ]
    }
   ],
   "source": [
    "print(word_association['chilli'])  # extracting the value using its specific key. dictionary uses key to identify value"
   ]
  },
  {
   "cell_type": "code",
   "execution_count": 79,
   "id": "f6486cc5-ef95-4216-a020-2f09c320f993",
   "metadata": {},
   "outputs": [
    {
     "ename": "KeyError",
     "evalue": "'nosleep'",
     "output_type": "error",
     "traceback": [
      "\u001b[0;31m---------------------------------------------------------------------------\u001b[0m",
      "\u001b[0;31mKeyError\u001b[0m                                  Traceback (most recent call last)",
      "Cell \u001b[0;32mIn[79], line 1\u001b[0m\n\u001b[0;32m----> 1\u001b[0m \u001b[38;5;28mprint\u001b[39m(\u001b[43mword_association\u001b[49m\u001b[43m[\u001b[49m\u001b[38;5;124;43m'\u001b[39;49m\u001b[38;5;124;43mnosleep\u001b[39;49m\u001b[38;5;124;43m'\u001b[39;49m\u001b[43m]\u001b[49m)   \u001b[38;5;66;03m# so we cant extract a key using the value? \u001b[39;00m\n",
      "\u001b[0;31mKeyError\u001b[0m: 'nosleep'"
     ]
    }
   ],
   "source": [
    "print(word_association['nosleep'])   # so we cant extract a key using the value? "
   ]
  },
  {
   "cell_type": "code",
   "execution_count": 28,
   "id": "10d83445-138e-4252-aa1e-c4667dbbfca5",
   "metadata": {},
   "outputs": [
    {
     "name": "stdout",
     "output_type": "stream",
     "text": [
      "{'rachel': 'is old', 'real name': 'richrichrachel', 'age': '40', 'affiliation': 'next door neighbour', 'favourite food': 'nuts'}\n"
     ]
    }
   ],
   "source": [
    "print(personal_info)"
   ]
  },
  {
   "cell_type": "code",
   "execution_count": 33,
   "id": "a4212fc3-92ed-42a4-98d0-bd598ad1bc83",
   "metadata": {},
   "outputs": [],
   "source": [
    "### SUMMARY\n",
    "# round brackets for mathematics or functions \n",
    "# square brackets for lists of data \n",
    "# {} for dictionaries!\n",
    "\n",
    "# no speciic command needs to be called to form lists or dictionaries, just remember to format properly and use the appropriate punctuations!\n"
   ]
  },
  {
   "attachments": {},
   "cell_type": "markdown",
   "id": "1548f052",
   "metadata": {},
   "source": [
    "# Giving Python superpowers with Packages"
   ]
  },
  {
   "attachments": {},
   "cell_type": "markdown",
   "id": "ec49f68c",
   "metadata": {},
   "source": [
    "## Some Context"
   ]
  },
  {
   "cell_type": "code",
   "execution_count": 81,
   "id": "f581c340-7383-47ee-8e53-cbd0d0cbc8ad",
   "metadata": {},
   "outputs": [
    {
     "data": {
      "text/plain": [
       "40.5"
      ]
     },
     "execution_count": 81,
     "metadata": {},
     "output_type": "execute_result"
    }
   ],
   "source": [
    "# python by itself can carry out simple mathematical operations e.g \n",
    "1 * ((2 - 3) + 4) ** 5 / 6"
   ]
  },
  {
   "cell_type": "code",
   "execution_count": 83,
   "id": "cdd562ad-51e3-4538-ae91-b0ca8b949cfa",
   "metadata": {},
   "outputs": [
    {
     "ename": "NameError",
     "evalue": "name 'sqrt' is not defined",
     "output_type": "error",
     "traceback": [
      "\u001b[0;31m---------------------------------------------------------------------------\u001b[0m",
      "\u001b[0;31mNameError\u001b[0m                                 Traceback (most recent call last)",
      "Cell \u001b[0;32mIn[83], line 1\u001b[0m\n\u001b[0;32m----> 1\u001b[0m \u001b[43msqrt\u001b[49m(\u001b[38;5;241m25\u001b[39m)\n\u001b[1;32m      2\u001b[0m \u001b[38;5;66;03m# however, basic python is limited and does not recognise 'sqrt' as a function\u001b[39;00m\n\u001b[1;32m      3\u001b[0m \u001b[38;5;66;03m# we can import packages to give python newer functions \u001b[39;00m\n",
      "\u001b[0;31mNameError\u001b[0m: name 'sqrt' is not defined"
     ]
    }
   ],
   "source": [
    "sqrt(25)\n",
    "# however, basic python is limited and does not recognise 'sqrt' as a function\n",
    "# we can import packages to give python newer functions "
   ]
  },
  {
   "attachments": {},
   "cell_type": "markdown",
   "id": "7a385b30",
   "metadata": {},
   "source": [
    "## Importing the math package"
   ]
  },
  {
   "cell_type": "code",
   "execution_count": 99,
   "id": "d58fef61-3279-42e4-83cb-5430bd4068a8",
   "metadata": {},
   "outputs": [
    {
     "name": "stdout",
     "output_type": "stream",
     "text": [
      "<class 'float'>\n"
     ]
    }
   ],
   "source": [
    "import math \n",
    "\n",
    "math.sqrt(25)   # important to define the module that the function is from in front of the function \n",
    "\n",
    "print(type(math.sqrt(25)))   #the command is 'type()' and not 'class()' "
   ]
  },
  {
   "attachments": {},
   "cell_type": "markdown",
   "id": "806b8a4d",
   "metadata": {},
   "source": [
    "## Importing the numpy package"
   ]
  },
  {
   "cell_type": "code",
   "execution_count": 102,
   "id": "5d01a393-1757-4634-83a9-5a443738d8c7",
   "metadata": {},
   "outputs": [
    {
     "data": {
      "text/plain": [
       "2.0"
      ]
     },
     "execution_count": 102,
     "metadata": {},
     "output_type": "execute_result"
    }
   ],
   "source": [
    "# can import a module as a shorter name (i.e alias) so we can more easily call it later\n",
    "# however, we DO NOT need to use an alias to import \n",
    "import math as m\n",
    "\n",
    "m. cbrt(8)"
   ]
  },
  {
   "cell_type": "code",
   "execution_count": 110,
   "id": "d5bb5cdc-d97a-4277-8e1f-eeeac2c5c47b",
   "metadata": {},
   "outputs": [
    {
     "name": "stdout",
     "output_type": "stream",
     "text": [
      "2.833213344056216\n",
      "7.0\n"
     ]
    }
   ],
   "source": [
    "import numpy as np\n",
    "\n",
    "print(np.log(17))   #log base e (17) \n",
    "\n",
    "print(np.sqrt(49))"
   ]
  },
  {
   "attachments": {},
   "cell_type": "markdown",
   "id": "85d41c0d",
   "metadata": {},
   "source": [
    "## Why so many packages?"
   ]
  },
  {
   "cell_type": "code",
   "execution_count": 112,
   "id": "d772d561-a632-489e-ba5c-be954b9f653a",
   "metadata": {},
   "outputs": [
    {
     "ename": "TypeError",
     "evalue": "must be real number, not list",
     "output_type": "error",
     "traceback": [
      "\u001b[0;31m---------------------------------------------------------------------------\u001b[0m",
      "\u001b[0;31mTypeError\u001b[0m                                 Traceback (most recent call last)",
      "Cell \u001b[0;32mIn[112], line 3\u001b[0m\n\u001b[1;32m      1\u001b[0m \u001b[38;5;66;03m# there are differences in the capacilities and efficiencies of the same functions from different packages. e.g sqrt()\u001b[39;00m\n\u001b[0;32m----> 3\u001b[0m \u001b[38;5;28mprint\u001b[39m(\u001b[43mm\u001b[49m\u001b[38;5;241;43m.\u001b[39;49m\u001b[43m \u001b[49m\u001b[43msqrt\u001b[49m\u001b[43m(\u001b[49m\u001b[43m[\u001b[49m\u001b[38;5;241;43m4\u001b[39;49m\u001b[43m,\u001b[49m\u001b[38;5;241;43m9\u001b[39;49m\u001b[43m,\u001b[49m\u001b[38;5;241;43m16\u001b[39;49m\u001b[43m,\u001b[49m\u001b[38;5;241;43m25\u001b[39;49m\u001b[43m]\u001b[49m\u001b[43m)\u001b[49m)\n\u001b[1;32m      5\u001b[0m \u001b[38;5;28mprint\u001b[39m(np\u001b[38;5;241m.\u001b[39m sqrt([\u001b[38;5;241m4\u001b[39m,\u001b[38;5;241m9\u001b[39m,\u001b[38;5;241m16\u001b[39m,\u001b[38;5;241m25\u001b[39m]))\n",
      "\u001b[0;31mTypeError\u001b[0m: must be real number, not list"
     ]
    }
   ],
   "source": [
    "# there are differences in the capacilities and efficiencies of the same functions from different packages. e.g sqrt()\n",
    "\n",
    "print(m. sqrt([4,9,16,25]))   # sqrt() in math cannot do a list, only a single number "
   ]
  },
  {
   "cell_type": "code",
   "execution_count": 113,
   "id": "47d2e7b6-cd54-44b4-9344-04dedb616276",
   "metadata": {},
   "outputs": [
    {
     "name": "stdout",
     "output_type": "stream",
     "text": [
      "[2. 3. 4. 5.]\n"
     ]
    }
   ],
   "source": [
    "print(np. sqrt([4,9,16,25]))"
   ]
  },
  {
   "cell_type": "code",
   "execution_count": null,
   "id": "ea35f318-f3d6-45d5-8235-4d11360d7fd2",
   "metadata": {},
   "outputs": [],
   "source": [
    "# after importing once, we do not need to import again unless we restart python or the kernel "
   ]
  },
  {
   "attachments": {},
   "cell_type": "markdown",
   "id": "81207373",
   "metadata": {},
   "source": [
    "# The dot (.)"
   ]
  },
  {
   "cell_type": "code",
   "execution_count": 116,
   "id": "c969f3d7-ef4e-4d92-a3c7-cb2e8f8b2b3e",
   "metadata": {},
   "outputs": [],
   "source": [
    "# the dot indicates ownership e.g math.sqrt(4) means that sqrt(4) belongs under the math module\n",
    "# everything in python has functions and attributes belonging to them. the dot is used to access them \n"
   ]
  },
  {
   "cell_type": "code",
   "execution_count": 114,
   "id": "7da44d28-7699-430d-aebe-e9aed017d7df",
   "metadata": {},
   "outputs": [
    {
     "data": {
      "text/plain": [
       "2.0"
      ]
     },
     "execution_count": 114,
     "metadata": {},
     "output_type": "execute_result"
    }
   ],
   "source": [
    "math. sqrt(4)"
   ]
  },
  {
   "cell_type": "code",
   "execution_count": 33,
   "id": "9c7746d7-58be-4ac8-8964-c41e04c9e72d",
   "metadata": {},
   "outputs": [
    {
     "data": {
      "text/plain": [
       "'APPLE'"
      ]
     },
     "execution_count": 33,
     "metadata": {},
     "output_type": "execute_result"
    }
   ],
   "source": [
    "'apple'.upper()"
   ]
  },
  {
   "cell_type": "code",
   "execution_count": 36,
   "id": "78e485d0-3f06-45cb-a2ae-a2ff0410c432",
   "metadata": {},
   "outputs": [
    {
     "data": {
      "text/plain": [
       "'Apple'"
      ]
     },
     "execution_count": 36,
     "metadata": {},
     "output_type": "execute_result"
    }
   ],
   "source": [
    "'apple'.title()"
   ]
  },
  {
   "cell_type": "code",
   "execution_count": 117,
   "id": "6f3f2f31-ec39-419e-a521-10efd749a769",
   "metadata": {},
   "outputs": [
    {
     "data": {
      "text/plain": [
       "'apple'"
      ]
     },
     "execution_count": 117,
     "metadata": {},
     "output_type": "execute_result"
    }
   ],
   "source": [
    "'APPLE'.lower()"
   ]
  },
  {
   "cell_type": "code",
   "execution_count": 118,
   "id": "a68d7bf5-1b99-4e7d-8751-1d4fee24aa56",
   "metadata": {},
   "outputs": [
    {
     "data": {
      "text/plain": [
       "['1234']"
      ]
     },
     "execution_count": 118,
     "metadata": {},
     "output_type": "execute_result"
    }
   ],
   "source": [
    "x = 1234 \n",
    "y = str(x) \n",
    "y.split()      #1234 is taken as a number in itself and will not be split into '1','2','3','4'"
   ]
  },
  {
   "cell_type": "code",
   "execution_count": 34,
   "id": "943ad153-6475-4bce-9b58-255337130b44",
   "metadata": {},
   "outputs": [
    {
     "data": {
      "text/plain": [
       "'AB'"
      ]
     },
     "execution_count": 34,
     "metadata": {},
     "output_type": "execute_result"
    }
   ],
   "source": [
    "'A' + 'B' "
   ]
  },
  {
   "cell_type": "code",
   "execution_count": 35,
   "id": "130e3608-8be1-49ec-8331-9f72cc7f6286",
   "metadata": {},
   "outputs": [
    {
     "ename": "TypeError",
     "evalue": "can't multiply sequence by non-int of type 'str'",
     "output_type": "error",
     "traceback": [
      "\u001b[0;31m---------------------------------------------------------------------------\u001b[0m",
      "\u001b[0;31mTypeError\u001b[0m                                 Traceback (most recent call last)",
      "Cell \u001b[0;32mIn[35], line 1\u001b[0m\n\u001b[0;32m----> 1\u001b[0m \u001b[38;5;124;43m'\u001b[39;49m\u001b[38;5;124;43mA\u001b[39;49m\u001b[38;5;124;43m'\u001b[39;49m\u001b[43m \u001b[49m\u001b[38;5;241;43m*\u001b[39;49m\u001b[43m \u001b[49m\u001b[38;5;124;43m'\u001b[39;49m\u001b[38;5;124;43mB\u001b[39;49m\u001b[38;5;124;43m'\u001b[39;49m\n",
      "\u001b[0;31mTypeError\u001b[0m: can't multiply sequence by non-int of type 'str'"
     ]
    }
   ],
   "source": [
    "'A' * 'B'   "
   ]
  },
  {
   "cell_type": "code",
   "execution_count": 123,
   "id": "f4e0a03f-3fe1-4903-8e07-547989e830eb",
   "metadata": {},
   "outputs": [
    {
     "data": {
      "text/plain": [
       "['Live', 'in', 'the', 'momment,', 'but', 'not', 'for', 'the', 'moment']"
      ]
     },
     "execution_count": 123,
     "metadata": {},
     "output_type": "execute_result"
    }
   ],
   "source": [
    "\"Live in the momment, but not for the moment\".split()"
   ]
  },
  {
   "cell_type": "code",
   "execution_count": 122,
   "id": "757123df-cf92-4839-a5cf-c3776fad05fb",
   "metadata": {},
   "outputs": [
    {
     "data": {
      "text/plain": [
       "['woohooo']"
      ]
     },
     "execution_count": 122,
     "metadata": {},
     "output_type": "execute_result"
    }
   ],
   "source": [
    "\"woohooo\". split()   #split() function splits the words based on the space between them, but not singular alphabets from each other. "
   ]
  }
 ],
 "metadata": {
  "kernelspec": {
   "display_name": "Python 3 (ipykernel)",
   "language": "python",
   "name": "python3"
  },
  "language_info": {
   "codemirror_mode": {
    "name": "ipython",
    "version": 3
   },
   "file_extension": ".py",
   "mimetype": "text/x-python",
   "name": "python",
   "nbconvert_exporter": "python",
   "pygments_lexer": "ipython3",
   "version": "3.11.7"
  },
  "toc": {
   "base_numbering": 1,
   "nav_menu": {},
   "number_sections": true,
   "sideBar": true,
   "skip_h1_title": false,
   "title_cell": "Table of Contents",
   "title_sidebar": "Contents",
   "toc_cell": false,
   "toc_position": {},
   "toc_section_display": true,
   "toc_window_display": false
  },
  "vscode": {
   "interpreter": {
    "hash": "31f2aee4e71d21fbe5cf8b01ff0e069b9275f58929596ceb00d14d90e3e16cd6"
   }
  }
 },
 "nbformat": 4,
 "nbformat_minor": 5
}
