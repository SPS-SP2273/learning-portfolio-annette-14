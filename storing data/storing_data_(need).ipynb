{
 "cells": [
  {
   "attachments": {},
   "cell_type": "markdown",
   "id": "123456",
   "metadata": {},
   "source": [
    "<div style=\"text-align:left;font-size:2em\"><span style=\"font-weight:bolder;font-size:1.25em\">SP2273 | Learning Portfolio</span><br><br><span style=\"font-weight:bold;color:darkred\">Storing Data (Need)</span></div>"
   ]
  },
  {
   "cell_type": "code",
   "execution_count": 1,
   "id": "4a0c714f-df30-49fe-a1eb-02197a2d9526",
   "metadata": {},
   "outputs": [],
   "source": [
    "import numpy as np"
   ]
  },
  {
   "cell_type": "markdown",
   "id": "16b30537-2489-4d4c-b044-88b14e615016",
   "metadata": {},
   "source": [
    "non-comprehensive list of ways to store and manipulate data \n",
    "1. lists\n",
    "2. numpy arrays\n",
    "3. dictionaries\n",
    "4. tuples\n",
    "5. dataframes\n",
    "6. classes "
   ]
  },
  {
   "attachments": {},
   "cell_type": "markdown",
   "id": "27fc875a",
   "metadata": {},
   "source": [
    "# Lists, Arrays & Dictionaries"
   ]
  },
  {
   "attachments": {},
   "cell_type": "markdown",
   "id": "b8a5176f",
   "metadata": {},
   "source": [
    "## Let’s compare"
   ]
  },
  {
   "cell_type": "markdown",
   "id": "51359587-87dd-4196-8e28-d67ee3522b38",
   "metadata": {},
   "source": [
    "a. Python lists"
   ]
  },
  {
   "cell_type": "code",
   "execution_count": 3,
   "id": "b9a57c98-f002-414a-9ec9-da6c98bf4554",
   "metadata": {},
   "outputs": [],
   "source": [
    "py_super_names = [\"Black Widow\", \"Iron Man\", \"Doctor Strange\"]\n",
    "py_real_names = [\"Natasha Romanoff\", \"Tony Stark\", \"Stephen Strange\"]"
   ]
  },
  {
   "cell_type": "code",
   "execution_count": 2,
   "id": "7de7fede-d581-4b47-af51-b283a7c7c8d4",
   "metadata": {},
   "outputs": [],
   "source": [
    "this = [\"coffee\", \"sun\", \"python\"]\n",
    "that = [\"tea\", \"moon\", \"R\"] "
   ]
  },
  {
   "cell_type": "markdown",
   "id": "cc2ff6c2-1e32-47d9-a873-7d4bf5167b75",
   "metadata": {},
   "source": [
    "b. Numpy arrays"
   ]
  },
  {
   "cell_type": "code",
   "execution_count": 5,
   "id": "43574196-cc56-4a8b-b82c-64bb62f778b4",
   "metadata": {},
   "outputs": [],
   "source": [
    "np_super_names = np.array([\"Black Widow\", \"Iron Man\", \"Doctor Strange\"])\n",
    "np_real_names = np.array([\"Natasha Romanoff\", \"Tony Stark\", \"Stephen Strange\"])"
   ]
  },
  {
   "cell_type": "code",
   "execution_count": 3,
   "id": "049673c3-b559-44d4-b1b2-ddc382cf60a1",
   "metadata": {},
   "outputs": [],
   "source": [
    "np_this = np.array([\"coffee\", \"sun\", \"python\"])\n",
    "np_that = np.array([\"tea\", \"moon\", \"R\"])"
   ]
  },
  {
   "cell_type": "markdown",
   "id": "9b31428e-0b82-406a-8317-f8d688aadcc2",
   "metadata": {},
   "source": [
    "c. Dictionary"
   ]
  },
  {
   "cell_type": "code",
   "execution_count": 5,
   "id": "e60d4921-b3ef-489d-8348-fb084e6c392a",
   "metadata": {},
   "outputs": [],
   "source": [
    "#the first name in each line is the key and the second name is the value \n",
    "superhero_info = {\n",
    "    \"Natasha Romanoff\": \"Black Widow\",\n",
    "    \"Tony Stark\": \"Iron Man\",\n",
    "    \"Stephen Strange\": \"Doctor Strange\"\n",
    "}"
   ]
  },
  {
   "cell_type": "code",
   "execution_count": 28,
   "id": "be2bfe3b-d5af-468c-83e7-a408ad5d1e3c",
   "metadata": {},
   "outputs": [],
   "source": [
    "x=superhero_info.keys()  #cannot take index from dictionary \n"
   ]
  },
  {
   "cell_type": "code",
   "execution_count": 37,
   "id": "3ce1d4c2-095a-4d9f-b52f-0b845cb8d1c1",
   "metadata": {},
   "outputs": [
    {
     "data": {
      "text/plain": [
       "'Natasha Romanoff'"
      ]
     },
     "execution_count": 37,
     "metadata": {},
     "output_type": "execute_result"
    }
   ],
   "source": [
    "list(x)[0]    \n",
    "#to take out a specific item from the list, we need to index the list, tuple or array. \n",
    "#have to convert the dictionary to either of these first"
   ]
  },
  {
   "cell_type": "code",
   "execution_count": 39,
   "id": "c767bad7-7957-45c7-ae6b-47cee9061b32",
   "metadata": {},
   "outputs": [],
   "source": [
    "this_or_that = {\n",
    "    \"coffee\" : \"tea\", \n",
    "    \"sun\": \"moon\", \n",
    "    \"python\" : \"R\"\n",
    "}   #order matters since first element is always key and second element is always value \n"
   ]
  },
  {
   "attachments": {},
   "cell_type": "markdown",
   "id": "fa1432e6",
   "metadata": {},
   "source": [
    "## Accessing data from a list (or array)"
   ]
  },
  {
   "cell_type": "code",
   "execution_count": 49,
   "id": "54fd5bc0-675d-45c2-bda9-34414eaf7e03",
   "metadata": {},
   "outputs": [
    {
     "name": "stdout",
     "output_type": "stream",
     "text": [
      "['coffee', 'sun', 'python']\n",
      "{'coffee': 'tea', 'sun': 'moon', 'python': 'R'}\n",
      "{'coffee': 'tea', 'sun': 'moon', 'python': 'R'}\n"
     ]
    }
   ],
   "source": [
    "#converting a dictionary to a list \n",
    "list_this_or_that = list(this_or_that)\n",
    "array_this_or_that = np.array(this_or_that)   #note that array() is a command belonging to numpy module so cannot just put 'array(this_or_that)'\n",
    "\n",
    "print(list_this_or_that)\n",
    "print(array_this_or_that)\n",
    "print(this_or_that)"
   ]
  },
  {
   "cell_type": "code",
   "execution_count": 50,
   "id": "66f6711d-a1ab-4159-b6a4-d3cad9d87132",
   "metadata": {},
   "outputs": [
    {
     "name": "stdout",
     "output_type": "stream",
     "text": [
      "sun\n"
     ]
    },
    {
     "data": {
      "text/plain": [
       "'sun'"
      ]
     },
     "execution_count": 50,
     "metadata": {},
     "output_type": "execute_result"
    }
   ],
   "source": [
    "print(list_this_or_that[1])\n",
    "list_this_or_that[1]      #note the difference between simply calling out the index vs printing the called out indexed element "
   ]
  },
  {
   "attachments": {},
   "cell_type": "markdown",
   "id": "354eb5cf",
   "metadata": {},
   "source": [
    "## Accessing data from a dictionary"
   ]
  },
  {
   "cell_type": "code",
   "execution_count": 52,
   "id": "d378f486-0f04-4528-9133-0f79006052fd",
   "metadata": {},
   "outputs": [
    {
     "data": {
      "text/plain": [
       "dict_items([('coffee', 'tea'), ('sun', 'moon'), ('python', 'R')])"
      ]
     },
     "execution_count": 52,
     "metadata": {},
     "output_type": "execute_result"
    }
   ],
   "source": [
    "#functions of dictionaries \n",
    "\n",
    "this_or_that.items()"
   ]
  },
  {
   "cell_type": "code",
   "execution_count": 53,
   "id": "12c62e56-93cd-443b-9e33-5867a1b7d575",
   "metadata": {},
   "outputs": [
    {
     "data": {
      "text/plain": [
       "dict_keys(['coffee', 'sun', 'python'])"
      ]
     },
     "execution_count": 53,
     "metadata": {},
     "output_type": "execute_result"
    }
   ],
   "source": [
    "this_or_that.keys()"
   ]
  },
  {
   "cell_type": "code",
   "execution_count": 54,
   "id": "b645436d-fea8-4a30-abb2-fd54f2cfab05",
   "metadata": {},
   "outputs": [
    {
     "data": {
      "text/plain": [
       "dict_values(['tea', 'moon', 'R'])"
      ]
     },
     "execution_count": 54,
     "metadata": {},
     "output_type": "execute_result"
    }
   ],
   "source": [
    "this_or_that. values()"
   ]
  },
  {
   "cell_type": "code",
   "execution_count": 58,
   "id": "2ec4b347-9bb4-4b46-a2c8-b30e9cc1226f",
   "metadata": {},
   "outputs": [
    {
     "ename": "KeyError",
     "evalue": "'tea'",
     "output_type": "error",
     "traceback": [
      "\u001b[0;31m---------------------------------------------------------------------------\u001b[0m",
      "\u001b[0;31mKeyError\u001b[0m                                  Traceback (most recent call last)",
      "Cell \u001b[0;32mIn[58], line 1\u001b[0m\n\u001b[0;32m----> 1\u001b[0m \u001b[43mthis_or_that\u001b[49m\u001b[43m[\u001b[49m\u001b[38;5;124;43m\"\u001b[39;49m\u001b[38;5;124;43mtea\u001b[39;49m\u001b[38;5;124;43m\"\u001b[39;49m\u001b[43m]\u001b[49m\n",
      "\u001b[0;31mKeyError\u001b[0m: 'tea'"
     ]
    }
   ],
   "source": [
    " this_or_that[\"tea\"]    #cannot pull out key using the value "
   ]
  },
  {
   "cell_type": "code",
   "execution_count": 60,
   "id": "7bee39a3-58bb-42ea-80bc-4eb6e0515cd5",
   "metadata": {},
   "outputs": [
    {
     "data": {
      "text/plain": [
       "'tea'"
      ]
     },
     "execution_count": 60,
     "metadata": {},
     "output_type": "execute_result"
    }
   ],
   "source": [
    "this_or_that[\"coffee\"]    #can only pull out value using the key "
   ]
  },
  {
   "attachments": {},
   "cell_type": "markdown",
   "id": "8b54c6de",
   "metadata": {},
   "source": [
    "## Higher dimensional lists"
   ]
  },
  {
   "cell_type": "code",
   "execution_count": 65,
   "id": "57d17b53-77e8-4a40-86ea-4d05fbef1459",
   "metadata": {},
   "outputs": [],
   "source": [
    "#instead of having 2 lists for the keys and the values, instead just use a 2D list \n",
    "\n",
    "py_superhero_info = [['Natasha Romanoff', 'Black Widow'],\n",
    "                     ['Tony Stark', 'Iron Man'],\n",
    "                     ['Stephen Strange', 'Doctor Strange']]\n",
    "\n",
    "ls_this_or_that = [['coffee', 'tea'], \n",
    "                   ['sun', 'moon'],\n",
    "                   ['python', 'R']]     #remember to include a comma between 2 elements in a smaller list \n",
    "                                        #and to include a comma between smaller list within the bigger list\n"
   ]
  },
  {
   "cell_type": "code",
   "execution_count": 72,
   "id": "6b6820c2-df82-483d-ab50-8fc30bdaa462",
   "metadata": {},
   "outputs": [
    {
     "data": {
      "text/plain": [
       "['sun', 'moon']"
      ]
     },
     "execution_count": 72,
     "metadata": {},
     "output_type": "execute_result"
    }
   ],
   "source": [
    "ls_this_or_that[1]  #taking out one of the smaller lists "
   ]
  },
  {
   "cell_type": "code",
   "execution_count": 73,
   "id": "517fc108-7c0d-4468-8169-d731849065da",
   "metadata": {},
   "outputs": [
    {
     "data": {
      "text/plain": [
       "'moon'"
      ]
     },
     "execution_count": 73,
     "metadata": {},
     "output_type": "execute_result"
    }
   ],
   "source": [
    "ls_this_or_that[1][1]  #taking out an element of the smaller lists \n"
   ]
  },
  {
   "cell_type": "code",
   "execution_count": 74,
   "id": "08d7bc58-3a87-4f21-a896-446ee217b7ac",
   "metadata": {},
   "outputs": [
    {
     "data": {
      "text/plain": [
       "'moon'"
      ]
     },
     "execution_count": 74,
     "metadata": {},
     "output_type": "execute_result"
    }
   ],
   "source": [
    "(ls_this_or_that[1])[1]   #also works!"
   ]
  },
  {
   "attachments": {},
   "cell_type": "markdown",
   "id": "54080905",
   "metadata": {},
   "source": [
    "# Lists vs. Arrays"
   ]
  },
  {
   "cell_type": "markdown",
   "id": "8802fd27-2118-4b6d-9a80-d864edb8160b",
   "metadata": {},
   "source": [
    "important to take note of the similarities and differences between lists and arrays "
   ]
  },
  {
   "attachments": {},
   "cell_type": "markdown",
   "id": "53f30431",
   "metadata": {},
   "source": [
    "## Size"
   ]
  },
  {
   "cell_type": "code",
   "execution_count": 78,
   "id": "f24d53a9-83d7-4535-80eb-340fe7e74cdd",
   "metadata": {},
   "outputs": [
    {
     "data": {
      "text/plain": [
       "3"
      ]
     },
     "execution_count": 78,
     "metadata": {},
     "output_type": "execute_result"
    }
   ],
   "source": [
    "# for lists and arrays, len() gives the length i.e only the number of lists within the larger list \n",
    "len(list_this_or_that)    #even with\n",
    "len (this_or_that)\n",
    "# for arrays, var.shape gives both the number of lists within the larger list and the number of elements within each small list "
   ]
  },
  {
   "cell_type": "code",
   "execution_count": 77,
   "id": "3e5c799a-c7ae-4de8-8777-d8bd8f85315f",
   "metadata": {},
   "outputs": [
    {
     "data": {
      "text/plain": [
       "3"
      ]
     },
     "execution_count": 77,
     "metadata": {},
     "output_type": "execute_result"
    }
   ],
   "source": [
    "len (this_or_that)"
   ]
  },
  {
   "cell_type": "code",
   "execution_count": 82,
   "id": "4c7a3fca-10bb-4b1d-9c6b-ccabaadba7bf",
   "metadata": {},
   "outputs": [
    {
     "data": {
      "text/plain": [
       "10"
      ]
     },
     "execution_count": 82,
     "metadata": {},
     "output_type": "execute_result"
    }
   ],
   "source": [
    "x = 10\n",
    "y = x  #  here, before any of the 2 variables are modified, they have the same id \n",
    "x += 2   # here, once x is modified, the id of the two variables are different. (ref. to nice to know for more info)\n",
    "         #variables will have different ids when the type of data they store or the value of the data differs. \n",
    "y "
   ]
  },
  {
   "cell_type": "code",
   "execution_count": 90,
   "id": "9059e077-556f-438b-9ac6-55213397f331",
   "metadata": {},
   "outputs": [
    {
     "data": {
      "text/plain": [
       "array([[1, 2],\n",
       "       [3, 4],\n",
       "       [5, 6]])"
      ]
     },
     "execution_count": 90,
     "metadata": {},
     "output_type": "execute_result"
    }
   ],
   "source": [
    "test_array = np.array([[1,2],[3,4],[5,6]])\n",
    "test_array     #this will also give an output, no need for print(test_array) because in jupyter notebook, the last line  of code will always give an output "
   ]
  },
  {
   "cell_type": "code",
   "execution_count": 91,
   "id": "833fc61d-8e00-41d4-a395-e45d716f6b91",
   "metadata": {},
   "outputs": [
    {
     "data": {
      "text/plain": [
       "3"
      ]
     },
     "execution_count": 91,
     "metadata": {},
     "output_type": "execute_result"
    }
   ],
   "source": [
    "len(test_array)  "
   ]
  },
  {
   "cell_type": "code",
   "execution_count": 94,
   "id": "d44aab46-e622-458f-bd86-84496f9d6c59",
   "metadata": {},
   "outputs": [
    {
     "data": {
      "text/plain": [
       "(3, 2)"
      ]
     },
     "execution_count": 94,
     "metadata": {},
     "output_type": "execute_result"
    }
   ],
   "source": [
    "test_array.shape    #shape gives (number of rows, number of columns)\n"
   ]
  },
  {
   "attachments": {},
   "cell_type": "markdown",
   "id": "82d24979",
   "metadata": {},
   "source": [
    "## Arrays are fussy about type (lists not so fussy)"
   ]
  },
  {
   "cell_type": "code",
   "execution_count": 97,
   "id": "b617d242-f11a-49d4-976b-0065c98ca992",
   "metadata": {},
   "outputs": [
    {
     "name": "stdout",
     "output_type": "stream",
     "text": [
      "['3' '6' 'woohoo']\n"
     ]
    }
   ],
   "source": [
    "#arrays will only have a single data type while lists can accommodate different data types \n",
    "\n",
    "py_list = [3,6,'woohoo']\n",
    "np_array = np.array(py_list)\n",
    "print(np_array)     # if we convert a list with both str and int to an array, the array converts numbers to str "
   ]
  },
  {
   "attachments": {},
   "cell_type": "markdown",
   "id": "ad6afa1b",
   "metadata": {},
   "source": [
    "## Adding a number"
   ]
  },
  {
   "cell_type": "code",
   "execution_count": 102,
   "id": "eaca0535-7b30-4500-82b8-f7f3484eda9c",
   "metadata": {},
   "outputs": [
    {
     "data": {
      "text/plain": [
       "array([11, 12, 13, 14, 15])"
      ]
     },
     "execution_count": 102,
     "metadata": {},
     "output_type": "execute_result"
    }
   ],
   "source": [
    "py_list = [1,2,3,4,5] \n",
    "np_array = np.array(py_list)\n",
    "\n",
    "# can add a constant to ALL the elements in an array\n",
    "# can treat arrays as a variable in a mathematical operation \n",
    "\n",
    "np_array + 10 "
   ]
  },
  {
   "cell_type": "code",
   "execution_count": 104,
   "id": "50e91ded-677b-490e-b4e7-abbd30a560fe",
   "metadata": {},
   "outputs": [
    {
     "data": {
      "text/plain": [
       "13"
      ]
     },
     "execution_count": 104,
     "metadata": {},
     "output_type": "execute_result"
    }
   ],
   "source": [
    "np_array[2] + 10 #we can also use index to add a constant to a single element in the array "
   ]
  },
  {
   "cell_type": "code",
   "execution_count": 105,
   "id": "22481bc8-09cf-4727-9034-bc6e279ae1f6",
   "metadata": {},
   "outputs": [
    {
     "ename": "TypeError",
     "evalue": "can only concatenate list (not \"int\") to list",
     "output_type": "error",
     "traceback": [
      "\u001b[0;31m---------------------------------------------------------------------------\u001b[0m",
      "\u001b[0;31mTypeError\u001b[0m                                 Traceback (most recent call last)",
      "Cell \u001b[0;32mIn[105], line 1\u001b[0m\n\u001b[0;32m----> 1\u001b[0m \u001b[43mpy_list\u001b[49m\u001b[43m \u001b[49m\u001b[38;5;241;43m+\u001b[39;49m\u001b[43m \u001b[49m\u001b[38;5;241;43m10\u001b[39;49m \n",
      "\u001b[0;31mTypeError\u001b[0m: can only concatenate list (not \"int\") to list"
     ]
    }
   ],
   "source": [
    "py_list + 10   #we can add constants to ALL elements in arrays but not to lists simultaneously \n"
   ]
  },
  {
   "cell_type": "code",
   "execution_count": 107,
   "id": "24496ee8-a669-49cc-b0ff-27bccaf811df",
   "metadata": {},
   "outputs": [
    {
     "data": {
      "text/plain": [
       "13"
      ]
     },
     "execution_count": 107,
     "metadata": {},
     "output_type": "execute_result"
    }
   ],
   "source": [
    "py_list[2] + 10  #however, we can add constants to a specific element in a list "
   ]
  },
  {
   "attachments": {},
   "cell_type": "markdown",
   "id": "fe0dec82",
   "metadata": {},
   "source": [
    "## Adding another list"
   ]
  },
  {
   "cell_type": "code",
   "execution_count": 108,
   "id": "72c6e36a-5b77-484d-9982-8a58cf946adb",
   "metadata": {},
   "outputs": [
    {
     "name": "stdout",
     "output_type": "stream",
     "text": [
      "['Cambodia', 'Indonesia', 'Laos', 'Singapore', 'Philipines']\n",
      "['Cambodia' 'Indonesia' 'Laos' 'Singapore' 'Philipines']\n"
     ]
    }
   ],
   "source": [
    "SEA_list = ['Cambodia', 'Indonesia', 'Laos', 'Singapore', 'Philipines']\n",
    "Asian_list = ['China', 'Japan', 'Russia', 'Kazakhstan', 'India']\n",
    "\n",
    "SEA_array = np.array(SEA_list)\n",
    "Asian_array = np.array(Asian_list) \n",
    "\n",
    "print(SEA_list)     \n",
    "print(SEA_array)   \n"
   ]
  },
  {
   "cell_type": "code",
   "execution_count": 110,
   "id": "15eccc75-5d88-40c2-ab6d-5f0c9af822bc",
   "metadata": {},
   "outputs": [
    {
     "ename": "UFuncTypeError",
     "evalue": "ufunc 'add' did not contain a loop with signature matching types (dtype('<U10'), dtype('<U10')) -> None",
     "output_type": "error",
     "traceback": [
      "\u001b[0;31m---------------------------------------------------------------------------\u001b[0m",
      "\u001b[0;31mUFuncTypeError\u001b[0m                            Traceback (most recent call last)",
      "Cell \u001b[0;32mIn[110], line 2\u001b[0m\n\u001b[1;32m      1\u001b[0m SEA_list \u001b[38;5;241m+\u001b[39m Asian_list \n\u001b[0;32m----> 2\u001b[0m \u001b[43mSEA_array\u001b[49m\u001b[43m \u001b[49m\u001b[38;5;241;43m+\u001b[39;49m\u001b[43m \u001b[49m\u001b[43mAsian_array\u001b[49m    \u001b[38;5;66;03m#adding of list to list or arrays to arrays does not work if the elements are characters \u001b[39;00m\n",
      "\u001b[0;31mUFuncTypeError\u001b[0m: ufunc 'add' did not contain a loop with signature matching types (dtype('<U10'), dtype('<U10')) -> None"
     ]
    }
   ],
   "source": [
    "SEA_list + Asian_list \n",
    "SEA_array + Asian_array    #adding of list to list or arrays to arrays does not work if the elements are characters "
   ]
  },
  {
   "attachments": {},
   "cell_type": "markdown",
   "id": "d3d28a92",
   "metadata": {},
   "source": [
    "## Multiplying by a Number"
   ]
  },
  {
   "cell_type": "code",
   "execution_count": 7,
   "id": "e14971e1-6b1f-4f13-b937-237aea1d7334",
   "metadata": {},
   "outputs": [],
   "source": [
    "import numpy as np \n",
    "\n",
    "odd_list = [1,3,5,7,9,11,13,15]\n",
    "even_list = [2,4,6,8,10,12,14,16] \n",
    "\n",
    "odd_array = np.array(odd_list)\n",
    "even_array = np.array(even_list)\n"
   ]
  },
  {
   "cell_type": "code",
   "execution_count": 5,
   "id": "b6d9fbff-5065-4ee6-9540-e09034629cd6",
   "metadata": {},
   "outputs": [
    {
     "data": {
      "text/plain": [
       "[1, 3, 5, 7, 9, 11, 13, 15, 2, 4, 6, 8, 10, 12, 14]"
      ]
     },
     "execution_count": 5,
     "metadata": {},
     "output_type": "execute_result"
    }
   ],
   "source": [
    "odd_list + even_list "
   ]
  },
  {
   "cell_type": "code",
   "execution_count": 12,
   "id": "4a056d1e-843a-4894-bc6a-012f9e9fff67",
   "metadata": {},
   "outputs": [
    {
     "name": "stdout",
     "output_type": "stream",
     "text": [
      "8\n",
      "8\n"
     ]
    },
    {
     "data": {
      "text/plain": [
       "array([ 3,  7, 11, 15, 19, 23, 27, 31])"
      ]
     },
     "execution_count": 12,
     "metadata": {},
     "output_type": "execute_result"
    }
   ],
   "source": [
    "print(len(odd_array))\n",
    "print(len(even_array))\n",
    "odd_array + even_array  #the length of the arrays being added must be of the same length "
   ]
  },
  {
   "cell_type": "code",
   "execution_count": 22,
   "id": "e3bed339-3ed2-4d03-a9e7-5893d4097717",
   "metadata": {},
   "outputs": [],
   "source": [
    "# multiplication does not work for lists but works for arrays "
   ]
  },
  {
   "attachments": {},
   "cell_type": "markdown",
   "id": "0ce5d5bd",
   "metadata": {},
   "source": [
    "## Squaring"
   ]
  },
  {
   "cell_type": "code",
   "execution_count": 23,
   "id": "f5fb19ca-7bf9-4d15-bc38-ab2b7bb67290",
   "metadata": {},
   "outputs": [],
   "source": [
    "# squaring does not work for lists but works for arrays "
   ]
  },
  {
   "attachments": {},
   "cell_type": "markdown",
   "id": "87d555c5",
   "metadata": {},
   "source": [
    "## Asking questions"
   ]
  },
  {
   "cell_type": "code",
   "execution_count": 25,
   "id": "0023a2bc-6477-4096-85b6-bcf826f928b3",
   "metadata": {},
   "outputs": [],
   "source": [
    "# do not ask py_list == 3 (works but is not an answer to 'is 3 inside the list') FOR LIST\n",
    "# can ask np_array == 3. asking will give a list of true or false answer for each of the elements in the array \n",
    "\n",
    "# do not ask py_list >3 \n",
    "# can ask np_array > 3, this is asking if each of the elements (numbers) are greater than 3 or not \n",
    "\n",
    "# can ask np_array.sum() - asking for the total value after adding all the elements in the array together\n",
    "# asking sum for list works too "
   ]
  },
  {
   "attachments": {},
   "cell_type": "markdown",
   "id": "f360409b",
   "metadata": {},
   "source": [
    "## Mathematics"
   ]
  },
  {
   "attachments": {},
   "cell_type": "markdown",
   "id": "476f1fe9",
   "metadata": {},
   "source": [
    "# Exercises & Self-Assessment"
   ]
  },
  {
   "cell_type": "code",
   "execution_count": null,
   "id": "f966e332",
   "metadata": {},
   "outputs": [],
   "source": [
    "\n",
    "\n",
    "\n",
    "# Your solution here\n",
    "\n",
    "\n"
   ]
  }
 ],
 "metadata": {
  "kernelspec": {
   "display_name": "Python 3 (ipykernel)",
   "language": "python",
   "name": "python3"
  },
  "language_info": {
   "codemirror_mode": {
    "name": "ipython",
    "version": 3
   },
   "file_extension": ".py",
   "mimetype": "text/x-python",
   "name": "python",
   "nbconvert_exporter": "python",
   "pygments_lexer": "ipython3",
   "version": "3.11.7"
  },
  "toc": {
   "base_numbering": 1,
   "nav_menu": {},
   "number_sections": true,
   "sideBar": true,
   "skip_h1_title": false,
   "title_cell": "Table of Contents",
   "title_sidebar": "Contents",
   "toc_cell": false,
   "toc_position": {},
   "toc_section_display": true,
   "toc_window_display": false
  },
  "vscode": {
   "interpreter": {
    "hash": "31f2aee4e71d21fbe5cf8b01ff0e069b9275f58929596ceb00d14d90e3e16cd6"
   }
  }
 },
 "nbformat": 4,
 "nbformat_minor": 5
}
