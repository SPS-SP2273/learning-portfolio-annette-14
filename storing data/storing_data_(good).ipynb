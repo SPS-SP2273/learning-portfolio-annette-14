{
 "cells": [
  {
   "attachments": {},
   "cell_type": "markdown",
   "id": "123456",
   "metadata": {},
   "source": [
    "<div style=\"text-align:left;font-size:2em\"><span style=\"font-weight:bolder;font-size:1.25em\">SP2273 | Learning Portfolio</span><br><br><span style=\"font-weight:bold;color:darkred\">Storing Data (Good)</span></div>"
   ]
  },
  {
   "attachments": {},
   "cell_type": "markdown",
   "id": "f266ac37",
   "metadata": {},
   "source": [
    "# What to expect in this chapter"
   ]
  },
  {
   "attachments": {},
   "cell_type": "markdown",
   "id": "45a20e8a",
   "metadata": {},
   "source": [
    "# 1 Subsetting: Indexing and Slicing"
   ]
  },
  {
   "attachments": {},
   "cell_type": "markdown",
   "id": "57a8909b",
   "metadata": {},
   "source": [
    "## 1.1 Lists & Arrays in 1D | Subsetting & Indexing"
   ]
  },
  {
   "cell_type": "markdown",
   "id": "79dd824c-54b8-4632-83f8-bb2e1748e6fa",
   "metadata": {},
   "source": [
    "subsetting: selecting a subset of the data in a list or array. can be done through\n",
    "1. indexing (1 element) or\n",
    "2. slicing (range of elements)"
   ]
  },
  {
   "cell_type": "markdown",
   "id": "bd28b120-c0ab-4bd3-9bbe-b1af79a52ce6",
   "metadata": {},
   "source": [
    "arrays are good to store different kinds of data while lists are good for math \n",
    "\n",
    "numpy lists are difficult to lengthen but python lists are easier \n",
    "\n",
    "clarify how to centralise and align "
   ]
  },
  {
   "cell_type": "code",
   "execution_count": 3,
   "id": "950ba05c-6aef-4e1c-82f2-fbc5738ef69a",
   "metadata": {},
   "outputs": [],
   "source": [
    "py_list=[\"a1\", \"b2\", \"c3\", \"d4\", \"e5\",\n",
    "         \"f6\", \"g7\", \"h8\", \"i9\", \"j10\"]\n"
   ]
  },
  {
   "cell_type": "code",
   "execution_count": 4,
   "id": "fbf27216-4f72-4f8b-9542-45a68e52fb12",
   "metadata": {},
   "outputs": [
    {
     "data": {
      "text/plain": [
       "'a1'"
      ]
     },
     "execution_count": 4,
     "metadata": {},
     "output_type": "execute_result"
    }
   ],
   "source": [
    "py_list[0]"
   ]
  },
  {
   "cell_type": "code",
   "execution_count": 5,
   "id": "61ef6d34-a2e4-4885-88d2-4bda45f57616",
   "metadata": {},
   "outputs": [
    {
     "data": {
      "text/plain": [
       "'c3'"
      ]
     },
     "execution_count": 5,
     "metadata": {},
     "output_type": "execute_result"
    }
   ],
   "source": [
    "py_list[2]"
   ]
  },
  {
   "cell_type": "code",
   "execution_count": 8,
   "id": "2f181fef-59d3-4424-8efc-7ac2d8fcdf6c",
   "metadata": {},
   "outputs": [
    {
     "data": {
      "text/plain": [
       "['b2', 'c3', 'd4', 'e5', 'f6']"
      ]
     },
     "execution_count": 8,
     "metadata": {},
     "output_type": "execute_result"
    }
   ],
   "source": [
    "py_list[1:6]    #expected number of elements = 6 -1 = 5\n",
    "                #for a general formula of py_list[x, y] where y > x, expected no. of elements = y - x \n"
   ]
  },
  {
   "cell_type": "code",
   "execution_count": 10,
   "id": "04a5c6d7-265c-4f34-afb8-716f5a3bf106",
   "metadata": {},
   "outputs": [
    {
     "data": {
      "text/plain": [
       "['b2', 'd4', 'f6']"
      ]
     },
     "execution_count": 10,
     "metadata": {},
     "output_type": "execute_result"
    }
   ],
   "source": [
    "py_list[1:6:2]      #py_list[x:y:z], x is the start, y is the end element and z is the number of steps between each element "
   ]
  },
  {
   "cell_type": "code",
   "execution_count": 13,
   "id": "12173e7e-4c9f-4229-995a-846c6f9f6871",
   "metadata": {},
   "outputs": [
    {
     "data": {
      "text/plain": [
       "['c3', 'h8']"
      ]
     },
     "execution_count": 13,
     "metadata": {},
     "output_type": "execute_result"
    }
   ],
   "source": [
    "py_list [2::5]       #go from 3rd element to the last element, skipping 5 in between"
   ]
  },
  {
   "cell_type": "code",
   "execution_count": 15,
   "id": "567b1d3a-4013-4dd3-8ace-764f978755b5",
   "metadata": {},
   "outputs": [
    {
     "data": {
      "text/plain": [
       "['f6', 'g7', 'h8', 'i9', 'j10']"
      ]
     },
     "execution_count": 15,
     "metadata": {},
     "output_type": "execute_result"
    }
   ],
   "source": [
    "py_list [5:]         #6th element all the way to the last "
   ]
  },
  {
   "cell_type": "code",
   "execution_count": 16,
   "id": "e889e369-00e5-4e73-a900-90ac36079c51",
   "metadata": {},
   "outputs": [
    {
     "data": {
      "text/plain": [
       "['a1', 'b2', 'c3', 'd4', 'e5']"
      ]
     },
     "execution_count": 16,
     "metadata": {},
     "output_type": "execute_result"
    }
   ],
   "source": [
    "py_list [:5]          #first element all the way to the 6th element "
   ]
  },
  {
   "cell_type": "code",
   "execution_count": 18,
   "id": "f35f31de-580b-4630-a3ac-5292c11216a6",
   "metadata": {},
   "outputs": [
    {
     "data": {
      "text/plain": [
       "[]"
      ]
     },
     "execution_count": 18,
     "metadata": {},
     "output_type": "execute_result"
    }
   ],
   "source": [
    "py_list [5:2]         #nothing because going from the start to the back but 5>2] "
   ]
  },
  {
   "cell_type": "code",
   "execution_count": 20,
   "id": "9c53e189-7109-4ca4-a797-f7bab09cad4b",
   "metadata": {},
   "outputs": [
    {
     "data": {
      "text/plain": [
       "['f6', 'e5', 'd4']"
      ]
     },
     "execution_count": 20,
     "metadata": {},
     "output_type": "execute_result"
    }
   ],
   "source": [
    "py_list[5:2:-1]       #to work, need to instruct the code to go from the last to the first element "
   ]
  },
  {
   "cell_type": "code",
   "execution_count": 22,
   "id": "8dee14d6-e5f0-457a-9683-b1d3ce52979a",
   "metadata": {},
   "outputs": [
    {
     "data": {
      "text/plain": [
       "['j10', 'i9', 'h8', 'g7', 'f6', 'e5', 'd4', 'c3', 'b2', 'a1']"
      ]
     },
     "execution_count": 22,
     "metadata": {},
     "output_type": "execute_result"
    }
   ],
   "source": [
    "py_list[::-1]          #all the elements but in reverse order "
   ]
  },
  {
   "attachments": {},
   "cell_type": "markdown",
   "id": "d335aa1d",
   "metadata": {},
   "source": [
    "## 1.2 Arrays only | Subsetting by masking"
   ]
  },
  {
   "cell_type": "markdown",
   "id": "efcab115-2d43-4c48-a683-0df305e5f8e8",
   "metadata": {},
   "source": [
    "masking: show me all the true ones but dont show me all the alse ones "
   ]
  },
  {
   "cell_type": "code",
   "execution_count": 35,
   "id": "4340a9f2-1675-4f98-b621-20136c559e2d",
   "metadata": {},
   "outputs": [
    {
     "data": {
      "text/plain": [
       "array([False, False, False,  True,  True,  True,  True,  True,  True,\n",
       "        True])"
      ]
     },
     "execution_count": 35,
     "metadata": {},
     "output_type": "execute_result"
    }
   ],
   "source": [
    "import numpy as np\n",
    "\n",
    "np_array = np.array([1, 2, 3, 4, 5, 6, 7, 8, 9, 10])\n",
    "my_mask = np_array > 3\n",
    "my_mask"
   ]
  },
  {
   "cell_type": "code",
   "execution_count": 36,
   "id": "d96339e3-debe-4abf-a0c7-037a9df039d0",
   "metadata": {},
   "outputs": [
    {
     "data": {
      "text/plain": [
       "array([ 4,  5,  6,  7,  8,  9, 10])"
      ]
     },
     "execution_count": 36,
     "metadata": {},
     "output_type": "execute_result"
    }
   ],
   "source": [
    "np_array[my_mask]"
   ]
  },
  {
   "cell_type": "code",
   "execution_count": 37,
   "id": "a71385cf-a701-4bcc-a3f8-abe4181d3666",
   "metadata": {},
   "outputs": [
    {
     "data": {
      "text/plain": [
       "array([ 4,  5,  6,  7,  8,  9, 10])"
      ]
     },
     "execution_count": 37,
     "metadata": {},
     "output_type": "execute_result"
    }
   ],
   "source": [
    "np_array[np_array > 3]    #removing the need for the variable my_mask\n"
   ]
  },
  {
   "cell_type": "code",
   "execution_count": 40,
   "id": "7785f940-028b-451c-816f-d38d081c4caf",
   "metadata": {},
   "outputs": [
    {
     "data": {
      "text/plain": [
       "array([1, 2, 3])"
      ]
     },
     "execution_count": 40,
     "metadata": {},
     "output_type": "execute_result"
    }
   ],
   "source": [
    "np_array[~(np_array > 3)]                 # '~' means 'NOT'(bitwise not operator. we can also use invert.numpy()"
   ]
  },
  {
   "cell_type": "code",
   "execution_count": 41,
   "id": "0577abbd-def4-4b8d-8b89-101b647ebae7",
   "metadata": {},
   "outputs": [
    {
     "data": {
      "text/plain": [
       "array([4, 5, 6, 7])"
      ]
     },
     "execution_count": 41,
     "metadata": {},
     "output_type": "execute_result"
    }
   ],
   "source": [
    "np_array[(np_array > 3) & (np_array < 8)] # '&' means 'AND'"
   ]
  },
  {
   "cell_type": "code",
   "execution_count": 42,
   "id": "3565cb45-b502-4d1d-b2da-1848a57a809f",
   "metadata": {},
   "outputs": [
    {
     "data": {
      "text/plain": [
       "array([ 1,  2,  9, 10])"
      ]
     },
     "execution_count": 42,
     "metadata": {},
     "output_type": "execute_result"
    }
   ],
   "source": [
    "np_array[(np_array < 3) | (np_array > 8)] # '|' means 'OR'"
   ]
  },
  {
   "attachments": {},
   "cell_type": "markdown",
   "id": "725b3003",
   "metadata": {},
   "source": [
    "## 1.3 Lists & Arrays in 2D | Indexing & Slicing"
   ]
  },
  {
   "cell_type": "code",
   "execution_count": 79,
   "id": "be90d955-3575-4379-96b5-9a770402cd23",
   "metadata": {},
   "outputs": [
    {
     "name": "stdout",
     "output_type": "stream",
     "text": [
      "[['1' 'A']\n",
      " ['2' 'B']\n",
      " ['3' 'C']\n",
      " ['4' 'D']\n",
      " ['5' 'E']\n",
      " ['6' 'F']\n",
      " ['7' 'G']\n",
      " ['8' 'H']\n",
      " ['9' 'I']\n",
      " ['10' 'J']]\n"
     ]
    }
   ],
   "source": [
    "py_list_2d = [[1, \"A\"], [2, \"B\"], [3, \"C\"], [4, \"D\"],\n",
    "              [5, \"E\"], [6, \"F\"], [7, \"G\"], [8, \"H\"],\n",
    "              [9, \"I\"], [10, \"J\"]]\n",
    "\n",
    "np_array_2d = np.array(py_list_2d)\n",
    "\n",
    "print(np_array_2d)"
   ]
  },
  {
   "cell_type": "code",
   "execution_count": 44,
   "id": "c23258c0-ee4b-4a2e-bfb3-b11aff141989",
   "metadata": {},
   "outputs": [
    {
     "data": {
      "text/plain": [
       "[4, 'D']"
      ]
     },
     "execution_count": 44,
     "metadata": {},
     "output_type": "execute_result"
    }
   ],
   "source": [
    "py_list_2d[3]"
   ]
  },
  {
   "cell_type": "code",
   "execution_count": 44,
   "id": "3640f697-8280-4df7-8328-8358bc8e1cf6",
   "metadata": {},
   "outputs": [
    {
     "data": {
      "text/plain": [
       "[4, 'D']"
      ]
     },
     "execution_count": 44,
     "metadata": {},
     "output_type": "execute_result"
    }
   ],
   "source": [
    "py_list_2d[3]"
   ]
  },
  {
   "cell_type": "code",
   "execution_count": 47,
   "id": "6c8fdc66-c966-4d03-8787-6a7047ca1ba6",
   "metadata": {},
   "outputs": [
    {
     "data": {
      "text/plain": [
       "array(['4', 'D'], dtype='<U21')"
      ]
     },
     "execution_count": 47,
     "metadata": {},
     "output_type": "execute_result"
    }
   ],
   "source": [
    "np_array_2d[3]    #now the number 4 is converted from an integer to a string type. in array, everyhing is converted into string "
   ]
  },
  {
   "cell_type": "code",
   "execution_count": 51,
   "id": "2da24c55-2394-427e-adf2-694a3b0c09b9",
   "metadata": {},
   "outputs": [
    {
     "data": {
      "text/plain": [
       "4"
      ]
     },
     "execution_count": 51,
     "metadata": {},
     "output_type": "execute_result"
    }
   ],
   "source": [
    "py_list_2d[3][0]    #the number within the first [] specifies which element of the larger list to take out, \n",
    "                    #while the second [] specifies the element within the smaller list "
   ]
  },
  {
   "cell_type": "code",
   "execution_count": 53,
   "id": "90bfc6cb-446c-434c-a5d0-bfd32f7ea28e",
   "metadata": {},
   "outputs": [
    {
     "data": {
      "text/plain": [
       "'4'"
      ]
     },
     "execution_count": 53,
     "metadata": {},
     "output_type": "execute_result"
    }
   ],
   "source": [
    "np_array_2d[3, 0]     #the number before the comma specifies which element of the larger list to take out, \n",
    "                      #while number after the comma specifies the element within the smaller list "
   ]
  },
  {
   "cell_type": "code",
   "execution_count": 54,
   "id": "c0e68b62-85c9-44b1-86c7-792607ef58c8",
   "metadata": {},
   "outputs": [
    {
     "data": {
      "text/plain": [
       "[[1, 'A'], [2, 'B'], [3, 'C']]"
      ]
     },
     "execution_count": 54,
     "metadata": {},
     "output_type": "execute_result"
    }
   ],
   "source": [
    "py_list_2d[:3]"
   ]
  },
  {
   "cell_type": "code",
   "execution_count": 55,
   "id": "2201427d-b7f2-4fa6-a950-4a559d064b85",
   "metadata": {},
   "outputs": [
    {
     "data": {
      "text/plain": [
       "array([['1', 'A'],\n",
       "       ['2', 'B'],\n",
       "       ['3', 'C']], dtype='<U21')"
      ]
     },
     "execution_count": 55,
     "metadata": {},
     "output_type": "execute_result"
    }
   ],
   "source": [
    "np_array_2d[:3]"
   ]
  },
  {
   "cell_type": "code",
   "execution_count": 60,
   "id": "684365b5-0fa7-4db6-b129-390491767e79",
   "metadata": {},
   "outputs": [
    {
     "data": {
      "text/plain": [
       "[1, 'A']"
      ]
     },
     "execution_count": 60,
     "metadata": {},
     "output_type": "execute_result"
    }
   ],
   "source": [
    "py_list_2d[:3][0]     #clarify, shoulnt it be 1,2,3"
   ]
  },
  {
   "cell_type": "code",
   "execution_count": 61,
   "id": "2f1f6e86-679c-419d-933b-3b559129d912",
   "metadata": {},
   "outputs": [
    {
     "data": {
      "text/plain": [
       "array(['1', '2', '3'], dtype='<U21')"
      ]
     },
     "execution_count": 61,
     "metadata": {},
     "output_type": "execute_result"
    }
   ],
   "source": [
    "np_array_2d[:3, 0]    #yep shouldnt the one before this be be similar to this "
   ]
  },
  {
   "cell_type": "code",
   "execution_count": 62,
   "id": "42ed58ca-7cb4-48da-9c0f-0108712c038d",
   "metadata": {},
   "outputs": [
    {
     "data": {
      "text/plain": [
       "array(['1', '2', '3', '4', '5', '6', '7', '8', '9', '10'], dtype='<U21')"
      ]
     },
     "execution_count": 62,
     "metadata": {},
     "output_type": "execute_result"
    }
   ],
   "source": [
    "np_array_2d[:, 0]"
   ]
  },
  {
   "cell_type": "code",
   "execution_count": null,
   "id": "609e173c-5f3e-4d75-86df-41724f048e2e",
   "metadata": {},
   "outputs": [],
   "source": []
  },
  {
   "attachments": {},
   "cell_type": "markdown",
   "id": "b7c8bcaf",
   "metadata": {},
   "source": [
    "## 1.4 Growing lists"
   ]
  },
  {
   "cell_type": "code",
   "execution_count": 64,
   "id": "311f32f7-e4d9-41b0-a2f7-e462a6ee04cd",
   "metadata": {},
   "outputs": [
    {
     "data": {
      "text/plain": [
       "[1, 2, 1, 2, 1, 2, 1, 2, 1, 2]"
      ]
     },
     "execution_count": 64,
     "metadata": {},
     "output_type": "execute_result"
    }
   ],
   "source": [
    "x=[1, 2]*5\n",
    "x"
   ]
  },
  {
   "cell_type": "markdown",
   "id": "703e9841-a02a-4c89-b3df-cda830f0db41",
   "metadata": {},
   "source": [
    "methods to adding single elements to the list \n",
    "\n",
    "clarify - what is a touble , what is the difference between identity and type "
   ]
  },
  {
   "cell_type": "markdown",
   "id": "443aa62b-1e25-4e91-b6f9-deff8e21f1c5",
   "metadata": {},
   "source": [
    "#method 1\n",
    "x=[1]\n",
    "x= x + [2]\n",
    "x= x + [3]\n",
    "x= x + [4]\n",
    "x"
   ]
  },
  {
   "cell_type": "code",
   "execution_count": 67,
   "id": "79504d8d-7a24-442d-a850-1b1ae56a5a6b",
   "metadata": {},
   "outputs": [
    {
     "data": {
      "text/plain": [
       "[1, 2, 3, 4]"
      ]
     },
     "execution_count": 67,
     "metadata": {},
     "output_type": "execute_result"
    }
   ],
   "source": [
    "#method 2\n",
    "x=[1]\n",
    "x+= [2]\n",
    "x+= [3]\n",
    "x+= [4]\n",
    "x"
   ]
  },
  {
   "cell_type": "code",
   "execution_count": 69,
   "id": "29e8df35-b6b4-4ef9-9895-f007b9d9566a",
   "metadata": {},
   "outputs": [
    {
     "data": {
      "text/plain": [
       "[1, 2, 3, 4]"
      ]
     },
     "execution_count": 69,
     "metadata": {},
     "output_type": "execute_result"
    }
   ],
   "source": [
    "#method 3\n",
    "x=[1]\n",
    "x.append(2)\n",
    "x.append(3)\n",
    "x.append(4)\n",
    "x"
   ]
  },
  {
   "cell_type": "markdown",
   "id": "6503fad5-2a34-4c74-9109-805012f2311b",
   "metadata": {},
   "source": [
    "methods to adding multiple elements to the list \n"
   ]
  },
  {
   "cell_type": "code",
   "execution_count": 74,
   "id": "688fbbe1-aeb9-418c-8abc-45fa677dbb52",
   "metadata": {},
   "outputs": [
    {
     "data": {
      "text/plain": [
       "[1, 2, 3, 4, 5, 6]"
      ]
     },
     "execution_count": 74,
     "metadata": {},
     "output_type": "execute_result"
    }
   ],
   "source": [
    "#method 1\n",
    "x = [1, 2, 3]\n",
    "x += [4, 5, 6]\n",
    "x"
   ]
  },
  {
   "cell_type": "code",
   "execution_count": 75,
   "id": "3b810324-5210-4edd-8c10-6492e5077333",
   "metadata": {},
   "outputs": [
    {
     "data": {
      "text/plain": [
       "[1, 2, 3, 4, 5, 6]"
      ]
     },
     "execution_count": 75,
     "metadata": {},
     "output_type": "execute_result"
    }
   ],
   "source": [
    "#method 2\n",
    "x=[1, 2, 3]\n",
    "x.extend([4, 5, 6])\n",
    "x"
   ]
  },
  {
   "cell_type": "code",
   "execution_count": 78,
   "id": "8915a656-b823-48dc-bbf4-50563cd6dd3d",
   "metadata": {},
   "outputs": [
    {
     "data": {
      "text/plain": [
       "[1, 2, 3, [4, 5, 6]]"
      ]
     },
     "execution_count": 78,
     "metadata": {},
     "output_type": "execute_result"
    }
   ],
   "source": [
    "#method 3\n",
    "x=[1, 2, 3]\n",
    "x.append([4, 5, 6])\n",
    "x                            #note that the append allows us to add lists to a list, unlike the extend command which adds all the elements \n",
    "                             #as individual elements in the list. use append to add lists to a list"
   ]
  },
  {
   "cell_type": "code",
   "execution_count": 65,
   "id": "12544396-1dd8-4901-b1f8-6b7635e69457",
   "metadata": {},
   "outputs": [],
   "source": [
    "#for lists, we can change the value of a specific element. however, for tuples, we cannot change the values, like set in stone  "
   ]
  },
  {
   "attachments": {},
   "cell_type": "markdown",
   "id": "f7a76372",
   "metadata": {},
   "source": [
    "# Some loose ends"
   ]
  },
  {
   "attachments": {},
   "cell_type": "markdown",
   "id": "ffdb704d",
   "metadata": {},
   "source": [
    "## 1.5 Tuples"
   ]
  },
  {
   "attachments": {},
   "cell_type": "markdown",
   "id": "46a8834e",
   "metadata": {},
   "source": [
    "## 1.6 Be VERY careful when copying"
   ]
  },
  {
   "attachments": {},
   "cell_type": "markdown",
   "id": "0737d406",
   "metadata": {},
   "source": [
    "# Exercises & Self-Assessment"
   ]
  },
  {
   "cell_type": "code",
   "execution_count": null,
   "id": "61b6d663",
   "metadata": {},
   "outputs": [],
   "source": [
    "\n",
    "\n",
    "\n",
    "# Your solution here\n",
    "\n",
    "\n"
   ]
  },
  {
   "attachments": {},
   "cell_type": "markdown",
   "id": "816e7bae",
   "metadata": {},
   "source": [
    "## Footnotes"
   ]
  }
 ],
 "metadata": {
  "kernelspec": {
   "display_name": "Python 3 (ipykernel)",
   "language": "python",
   "name": "python3"
  },
  "language_info": {
   "codemirror_mode": {
    "name": "ipython",
    "version": 3
   },
   "file_extension": ".py",
   "mimetype": "text/x-python",
   "name": "python",
   "nbconvert_exporter": "python",
   "pygments_lexer": "ipython3",
   "version": "3.11.7"
  },
  "toc": {
   "base_numbering": 1,
   "nav_menu": {},
   "number_sections": true,
   "sideBar": true,
   "skip_h1_title": false,
   "title_cell": "Table of Contents",
   "title_sidebar": "Contents",
   "toc_cell": false,
   "toc_position": {},
   "toc_section_display": true,
   "toc_window_display": false
  },
  "vscode": {
   "interpreter": {
    "hash": "31f2aee4e71d21fbe5cf8b01ff0e069b9275f58929596ceb00d14d90e3e16cd6"
   }
  }
 },
 "nbformat": 4,
 "nbformat_minor": 5
}
