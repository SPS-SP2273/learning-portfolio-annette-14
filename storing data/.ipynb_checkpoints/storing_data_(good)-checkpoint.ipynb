{
 "cells": [
  {
   "attachments": {},
   "cell_type": "markdown",
   "id": "123456",
   "metadata": {},
   "source": [
    "<div style=\"text-align:left;font-size:2em\"><span style=\"font-weight:bolder;font-size:1.25em\">SP2273 | Learning Portfolio</span><br><br><span style=\"font-weight:bold;color:darkred\">Storing Data (Good)</span></div>"
   ]
  },
  {
   "attachments": {},
   "cell_type": "markdown",
   "id": "45a20e8a",
   "metadata": {},
   "source": [
    "# Subsetting: Indexing and Slicing"
   ]
  },
  {
   "cell_type": "code",
   "execution_count": null,
   "id": "efe854b5-a64c-469d-a56a-e255ad9a0418",
   "metadata": {},
   "outputs": [],
   "source": [
    "# subsetting - selecting a subset of the data in a list or array through \n",
    "# method 1: selecting one element - indexing \n",
    "# method 2: selecting a range of elements - slicing "
   ]
  },
  {
   "attachments": {},
   "cell_type": "markdown",
   "id": "57a8909b",
   "metadata": {},
   "source": [
    "## Lists & Arrays in 1D | Subsetting & Indexing"
   ]
  },
  {
   "cell_type": "code",
   "execution_count": 17,
   "id": "950ba05c-6aef-4e1c-82f2-fbc5738ef69a",
   "metadata": {},
   "outputs": [
    {
     "name": "stdout",
     "output_type": "stream",
     "text": [
      "a1\n",
      "c3\n",
      "['b2', 'c3', 'd4', 'e5', 'f6']\n",
      "['b2', 'd4', 'f6']\n",
      "['c3', 'h8']\n",
      "['f6', 'g7', 'h8', 'i9', 'j10']\n",
      "['a1', 'b2', 'c3', 'd4', 'e5']\n",
      "[]\n",
      "['f6', 'e5', 'd4']\n",
      "['j10', 'i9', 'h8', 'g7', 'f6', 'e5', 'd4', 'c3', 'b2', 'a1']\n"
     ]
    }
   ],
   "source": [
    "py_list=[\"a1\", \"b2\", \"c3\", \"d4\", \"e5\",\n",
    "         \"f6\", \"g7\", \"h8\", \"i9\", \"j10\"]\n",
    "\n",
    "print(py_list[0]) \n",
    "print(py_list[2])\n",
    "print(py_list[1:6])         # expected number of elements = 6 -1 = 5. for py_list[x, y] where y > x, expected no. of elements = y - x\n",
    "\n",
    "print(py_list[1:6:2])       # py_list[x:y:z], x is the start, y is the end element and z is the number of steps between each element \n",
    "print(py_list [2::5])       # go from 3rd element to the last element, skipping 5 in between\n",
    "\n",
    "print(py_list [5:])         # 6th element all the way to the last\n",
    "print(py_list [:5])         # first element all the way to the 6th element \n",
    "\n",
    "print(py_list [5:2])        # nothing because going from the start to the back but 5 > 2\n",
    "print(py_list[5:2:-1])      # to make code work, need to instruct the code to go from the last to the first element\n",
    "print(py_list[::-1])        # all the elements but in reverse order"
   ]
  },
  {
   "cell_type": "code",
   "execution_count": 5,
   "id": "b2946497-3a41-4a8c-a87b-d6038ccdcd79",
   "metadata": {},
   "outputs": [],
   "source": [
    "import numpy as np \n",
    "\n",
    "py_list = [\"hibiscus\", \"tulip\", \"rose\", \"dandelion\", \"baby's breath\",\n",
    "         \"hydrangea\", \"orchid\", \"sunflower\", \"gerbera\", \"morning glory\"]\n",
    "\n",
    "np_array = np.array(py_list)\n",
    "\n",
    "x = np_array"
   ]
  },
  {
   "cell_type": "code",
   "execution_count": 16,
   "id": "7a3062db-9965-440b-aa42-4e6d848f8de4",
   "metadata": {},
   "outputs": [
    {
     "name": "stdout",
     "output_type": "stream",
     "text": [
      "hibiscus\n",
      "morning glory\n",
      "['hibiscus' 'tulip' 'rose']\n",
      "['rose' 'dandelion']\n",
      "['rose' \"baby's breath\" 'orchid']\n",
      "['hibiscus' 'tulip' 'rose']\n",
      "['sunflower' 'gerbera' 'morning glory']\n",
      "['gerbera' 'sunflower' 'orchid' 'hydrangea']\n",
      "['morning glory' 'gerbera' 'sunflower' 'orchid' 'hydrangea'\n",
      " \"baby's breath\" 'dandelion' 'rose' 'tulip' 'hibiscus']\n"
     ]
    }
   ],
   "source": [
    "print(x[0])                # gives first element \n",
    "print(x[-1])               # gives last element \n",
    "\n",
    "print(x[0:3])              # gives the first 4 elements \n",
    "print(x[2:4])              # gives the third, fourth and fifth element \n",
    "print(x[2:8:2])            # from index 2 to 8 in steps of 2. gives the third, fifth and seventh elements \n",
    "\n",
    "print(x[:3])               # gives all elements up to the 3th element \n",
    "print(x[7:])               # gives all elements after the 7th element \n",
    "\n",
    "print(x[8:4:-1])           # gives all elements from the 9th element (index 8) up till the 6th element(index 5), in the reverse order\n",
    "print(x[::-1])             # gives all elements in the reserve order "
   ]
  },
  {
   "attachments": {},
   "cell_type": "markdown",
   "id": "d335aa1d",
   "metadata": {},
   "source": [
    "## Arrays only | Subsetting by masking"
   ]
  },
  {
   "cell_type": "markdown",
   "id": "efcab115-2d43-4c48-a683-0df305e5f8e8",
   "metadata": {},
   "source": [
    "masking: show me all the true ones but not the false ones "
   ]
  },
  {
   "cell_type": "code",
   "execution_count": 18,
   "id": "4340a9f2-1675-4f98-b621-20136c559e2d",
   "metadata": {},
   "outputs": [
    {
     "data": {
      "text/plain": [
       "array([False, False, False,  True,  True,  True,  True,  True,  True,\n",
       "        True])"
      ]
     },
     "execution_count": 18,
     "metadata": {},
     "output_type": "execute_result"
    }
   ],
   "source": [
    "np_array = np.array([1, 2, 3, 4, 5, 6, 7, 8, 9, 10])\n",
    "my_mask = np_array > 3\n",
    "my_mask"
   ]
  },
  {
   "cell_type": "code",
   "execution_count": 19,
   "id": "d96339e3-debe-4abf-a0c7-037a9df039d0",
   "metadata": {},
   "outputs": [
    {
     "data": {
      "text/plain": [
       "array([ 4,  5,  6,  7,  8,  9, 10])"
      ]
     },
     "execution_count": 19,
     "metadata": {},
     "output_type": "execute_result"
    }
   ],
   "source": [
    "np_array[my_mask]     # command to make an array of all the elements that fulfil the condition i.e True "
   ]
  },
  {
   "cell_type": "code",
   "execution_count": 37,
   "id": "a71385cf-a701-4bcc-a3f8-abe4181d3666",
   "metadata": {},
   "outputs": [
    {
     "data": {
      "text/plain": [
       "array([ 4,  5,  6,  7,  8,  9, 10])"
      ]
     },
     "execution_count": 37,
     "metadata": {},
     "output_type": "execute_result"
    }
   ],
   "source": [
    "np_array[np_array > 3]    # removing the need for the variable my_mask"
   ]
  },
  {
   "cell_type": "code",
   "execution_count": 40,
   "id": "7785f940-028b-451c-816f-d38d081c4caf",
   "metadata": {},
   "outputs": [
    {
     "data": {
      "text/plain": [
       "array([1, 2, 3])"
      ]
     },
     "execution_count": 40,
     "metadata": {},
     "output_type": "execute_result"
    }
   ],
   "source": [
    "np_array[~(np_array > 3)]                 # '~' means 'NOT'"
   ]
  },
  {
   "cell_type": "code",
   "execution_count": 41,
   "id": "0577abbd-def4-4b8d-8b89-101b647ebae7",
   "metadata": {},
   "outputs": [
    {
     "data": {
      "text/plain": [
       "array([4, 5, 6, 7])"
      ]
     },
     "execution_count": 41,
     "metadata": {},
     "output_type": "execute_result"
    }
   ],
   "source": [
    "np_array[(np_array > 3) & (np_array < 8)] # '&' means 'AND'"
   ]
  },
  {
   "cell_type": "code",
   "execution_count": 42,
   "id": "3565cb45-b502-4d1d-b2da-1848a57a809f",
   "metadata": {},
   "outputs": [
    {
     "data": {
      "text/plain": [
       "array([ 1,  2,  9, 10])"
      ]
     },
     "execution_count": 42,
     "metadata": {},
     "output_type": "execute_result"
    }
   ],
   "source": [
    "np_array[(np_array < 3) | (np_array > 8)] # '|' means 'OR'"
   ]
  },
  {
   "attachments": {},
   "cell_type": "markdown",
   "id": "725b3003",
   "metadata": {},
   "source": [
    "## Lists & Arrays in 2D | Indexing & Slicing"
   ]
  },
  {
   "cell_type": "code",
   "execution_count": 30,
   "id": "be90d955-3575-4379-96b5-9a770402cd23",
   "metadata": {},
   "outputs": [
    {
     "data": {
      "text/plain": [
       "array([['1', 'A'],\n",
       "       ['2', 'B'],\n",
       "       ['3', 'C'],\n",
       "       ['4', 'D'],\n",
       "       ['5', 'E'],\n",
       "       ['6', 'F'],\n",
       "       ['7', 'G'],\n",
       "       ['8', 'H'],\n",
       "       ['9', 'I'],\n",
       "       ['10', 'J']], dtype='<U21')"
      ]
     },
     "execution_count": 30,
     "metadata": {},
     "output_type": "execute_result"
    }
   ],
   "source": [
    "py_list_2d = [[1, \"A\"], [2, \"B\"], [3, \"C\"], [4, \"D\"],\n",
    "              [5, \"E\"], [6, \"F\"], [7, \"G\"], [8, \"H\"],\n",
    "              [9, \"I\"], [10, \"J\"]]\n",
    "\n",
    "np_array_2d = np.array(py_list_2d)\n",
    "\n",
    "np_array_2d"
   ]
  },
  {
   "cell_type": "code",
   "execution_count": 44,
   "id": "c23258c0-ee4b-4a2e-bfb3-b11aff141989",
   "metadata": {},
   "outputs": [
    {
     "data": {
      "text/plain": [
       "[4, 'D']"
      ]
     },
     "execution_count": 44,
     "metadata": {},
     "output_type": "execute_result"
    }
   ],
   "source": [
    "py_list_2d[3]"
   ]
  },
  {
   "cell_type": "code",
   "execution_count": 47,
   "id": "6c8fdc66-c966-4d03-8787-6a7047ca1ba6",
   "metadata": {},
   "outputs": [
    {
     "data": {
      "text/plain": [
       "array(['4', 'D'], dtype='<U21')"
      ]
     },
     "execution_count": 47,
     "metadata": {},
     "output_type": "execute_result"
    }
   ],
   "source": [
    "np_array_2d[3]    #now the number 4 is converted from an integer to a string type. in array, everyhing is converted into string "
   ]
  },
  {
   "cell_type": "code",
   "execution_count": 51,
   "id": "2da24c55-2394-427e-adf2-694a3b0c09b9",
   "metadata": {},
   "outputs": [
    {
     "data": {
      "text/plain": [
       "4"
      ]
     },
     "execution_count": 51,
     "metadata": {},
     "output_type": "execute_result"
    }
   ],
   "source": [
    "py_list_2d[3][0]    #the number within the first [] specifies which element of the larger list to take out, \n",
    "                    #while the second [] specifies the element within the smaller list "
   ]
  },
  {
   "cell_type": "code",
   "execution_count": 32,
   "id": "f57ab28d-f1c2-4c23-b872-59a5898e0cf2",
   "metadata": {},
   "outputs": [
    {
     "data": {
      "text/plain": [
       "'4'"
      ]
     },
     "execution_count": 32,
     "metadata": {},
     "output_type": "execute_result"
    }
   ],
   "source": [
    "np_array_2d[3][0]"
   ]
  },
  {
   "cell_type": "code",
   "execution_count": 53,
   "id": "90bfc6cb-446c-434c-a5d0-bfd32f7ea28e",
   "metadata": {},
   "outputs": [
    {
     "data": {
      "text/plain": [
       "'4'"
      ]
     },
     "execution_count": 53,
     "metadata": {},
     "output_type": "execute_result"
    }
   ],
   "source": [
    "np_array_2d[3, 0]     #the number before the comma specifies which element of the larger list to take out, \n",
    "                      #while number after the comma specifies the element within the smaller list "
   ]
  },
  {
   "cell_type": "code",
   "execution_count": 34,
   "id": "aa0ed018-2a8e-4ea4-ba0b-83f541371b2d",
   "metadata": {},
   "outputs": [
    {
     "ename": "TypeError",
     "evalue": "list indices must be integers or slices, not tuple",
     "output_type": "error",
     "traceback": [
      "\u001b[0;31m---------------------------------------------------------------------------\u001b[0m",
      "\u001b[0;31mTypeError\u001b[0m                                 Traceback (most recent call last)",
      "Cell \u001b[0;32mIn[34], line 1\u001b[0m\n\u001b[0;32m----> 1\u001b[0m \u001b[43mpy_list_2d\u001b[49m\u001b[43m[\u001b[49m\u001b[38;5;241;43m3\u001b[39;49m\u001b[43m,\u001b[49m\u001b[38;5;241;43m0\u001b[39;49m\u001b[43m]\u001b[49m       \u001b[38;5;66;03m#can use either [3][0] or [3,0] for arrays but only can use [3][0] for lists \u001b[39;00m\n",
      "\u001b[0;31mTypeError\u001b[0m: list indices must be integers or slices, not tuple"
     ]
    }
   ],
   "source": [
    "py_list_2d[3,0]       #can use either [3][0] or [3,0] for arrays but only can use [3][0] for lists "
   ]
  },
  {
   "cell_type": "code",
   "execution_count": 37,
   "id": "c0e68b62-85c9-44b1-86c7-792607ef58c8",
   "metadata": {},
   "outputs": [
    {
     "data": {
      "text/plain": [
       "[[1, 'A'], [2, 'B'], [3, 'C']]"
      ]
     },
     "execution_count": 37,
     "metadata": {},
     "output_type": "execute_result"
    }
   ],
   "source": [
    "py_list_2d[:3]      "
   ]
  },
  {
   "cell_type": "code",
   "execution_count": 55,
   "id": "2201427d-b7f2-4fa6-a950-4a559d064b85",
   "metadata": {},
   "outputs": [
    {
     "data": {
      "text/plain": [
       "array([['1', 'A'],\n",
       "       ['2', 'B'],\n",
       "       ['3', 'C']], dtype='<U21')"
      ]
     },
     "execution_count": 55,
     "metadata": {},
     "output_type": "execute_result"
    }
   ],
   "source": [
    "np_array_2d[:3]"
   ]
  },
  {
   "cell_type": "code",
   "execution_count": 39,
   "id": "684365b5-0fa7-4db6-b129-390491767e79",
   "metadata": {},
   "outputs": [
    {
     "name": "stdout",
     "output_type": "stream",
     "text": [
      "[1, 'A']\n",
      "['1' '2' '3']\n",
      "['1' 'A']\n"
     ]
    }
   ],
   "source": [
    "## take note of the differences in what list and arrays give when 2 indexes are used \n",
    "\n",
    "print(py_list_2d[:3][0])     # note that its not [1,2,3]. [:3] gives [[1,'A'][2,'B'][3,'C']]. \n",
    "                             # [0] hence takes the first element of this new list which is [1,'A'] \n",
    "\n",
    "print(np_array_2d[:3, 0])    # note that [:3, 0] gives different outputs than [3][0] for arrays  \n",
    "\n",
    "print(np_array_2d[:3][0])    "
   ]
  },
  {
   "cell_type": "code",
   "execution_count": 40,
   "id": "42ed58ca-7cb4-48da-9c0f-0108712c038d",
   "metadata": {},
   "outputs": [
    {
     "name": "stdout",
     "output_type": "stream",
     "text": [
      "['1' '2' '3' '4' '5' '6' '7' '8' '9' '10']\n",
      "['1' 'A']\n"
     ]
    }
   ],
   "source": [
    "print(np_array_2d[:, 0])\n",
    "# compared to \n",
    "print(np_array_2d[:][0])    # = print(np_array_2d[0])"
   ]
  },
  {
   "attachments": {},
   "cell_type": "markdown",
   "id": "b7c8bcaf",
   "metadata": {},
   "source": [
    "## Growing lists (not arrays!)"
   ]
  },
  {
   "cell_type": "code",
   "execution_count": null,
   "id": "2604042b-69dc-4baf-982b-9c7c8513c5f1",
   "metadata": {},
   "outputs": [],
   "source": [
    "## benefits of using lists vs arrays \n",
    "# lists: ease and efficiency in growing list \n",
    "# arrays: better for math operations (if we are not changing their size) "
   ]
  },
  {
   "cell_type": "code",
   "execution_count": 41,
   "id": "311f32f7-e4d9-41b0-a2f7-e462a6ee04cd",
   "metadata": {},
   "outputs": [
    {
     "data": {
      "text/plain": [
       "[1, 2, 1, 2, 1, 2, 1, 2, 1, 2]"
      ]
     },
     "execution_count": 41,
     "metadata": {},
     "output_type": "execute_result"
    }
   ],
   "source": [
    "x=[1, 2]*5    # recall difference in multiplying a list and an array by a constant\n",
    "x"
   ]
  },
  {
   "cell_type": "code",
   "execution_count": 57,
   "id": "58a6c60f-5662-438e-bc64-da4eef4be3f1",
   "metadata": {},
   "outputs": [],
   "source": [
    "## 3 methods to grow a list by appending on element at a time \n",
    "\n",
    "# main learning points: \n",
    "# 1. to add on multiple elements at once, use extend() or '+='. both works for numbers and string! \n",
    "# 2. append() runs at higher speeds than the other 2 methods "
   ]
  },
  {
   "cell_type": "code",
   "execution_count": 42,
   "id": "96fede3e-32b3-490b-b5f3-ebd6aee0cf5d",
   "metadata": {},
   "outputs": [
    {
     "data": {
      "text/plain": [
       "[1, 2, 3, 4]"
      ]
     },
     "execution_count": 42,
     "metadata": {},
     "output_type": "execute_result"
    }
   ],
   "source": [
    "#method 1\n",
    "x=[1]\n",
    "x= x + [2]\n",
    "x= x + [3]\n",
    "x= x + [4]\n",
    "x"
   ]
  },
  {
   "cell_type": "code",
   "execution_count": 67,
   "id": "79504d8d-7a24-442d-a850-1b1ae56a5a6b",
   "metadata": {},
   "outputs": [
    {
     "data": {
      "text/plain": [
       "[1, 2, 3, 4]"
      ]
     },
     "execution_count": 67,
     "metadata": {},
     "output_type": "execute_result"
    }
   ],
   "source": [
    "#method 2\n",
    "x=[1]\n",
    "x+= [2]\n",
    "x+= [3]\n",
    "x+= [4]\n",
    "x"
   ]
  },
  {
   "cell_type": "code",
   "execution_count": 69,
   "id": "29e8df35-b6b4-4ef9-9895-f007b9d9566a",
   "metadata": {},
   "outputs": [
    {
     "data": {
      "text/plain": [
       "[1, 2, 3, 4]"
      ]
     },
     "execution_count": 69,
     "metadata": {},
     "output_type": "execute_result"
    }
   ],
   "source": [
    "#method 3\n",
    "x=[1]\n",
    "x.append(2)\n",
    "x.append(3)\n",
    "x.append(4)\n",
    "x"
   ]
  },
  {
   "cell_type": "code",
   "execution_count": 47,
   "id": "7d875311-e702-4bd9-a201-f4272171f537",
   "metadata": {},
   "outputs": [],
   "source": [
    "## differences between using method 1,2 and 3 -> the execution speeds differ. append() runs about 1.5 times faster "
   ]
  },
  {
   "cell_type": "code",
   "execution_count": 55,
   "id": "0e2661b5-d2d3-4eb3-9210-735dced5439a",
   "metadata": {},
   "outputs": [
    {
     "data": {
      "text/plain": [
       "['brie', 'cheddar', 'gouda', 'mozarella', 'camembert']"
      ]
     },
     "execution_count": 55,
     "metadata": {},
     "output_type": "execute_result"
    }
   ],
   "source": [
    "# using extend() instead of append()\n",
    "\n",
    "x = ['brie']\n",
    "x.extend(['cheddar', 'gouda', 'mozarella', 'camembert'])\n",
    "x "
   ]
  },
  {
   "cell_type": "code",
   "execution_count": 54,
   "id": "696240c2-43ac-499d-87ac-20806518939a",
   "metadata": {},
   "outputs": [
    {
     "ename": "TypeError",
     "evalue": "list.append() takes exactly one argument (4 given)",
     "output_type": "error",
     "traceback": [
      "\u001b[0;31m---------------------------------------------------------------------------\u001b[0m",
      "\u001b[0;31mTypeError\u001b[0m                                 Traceback (most recent call last)",
      "Cell \u001b[0;32mIn[54], line 2\u001b[0m\n\u001b[1;32m      1\u001b[0m x \u001b[38;5;241m=\u001b[39m [\u001b[38;5;124m'\u001b[39m\u001b[38;5;124mbrie\u001b[39m\u001b[38;5;124m'\u001b[39m] \n\u001b[0;32m----> 2\u001b[0m \u001b[43mx\u001b[49m\u001b[38;5;241;43m.\u001b[39;49m\u001b[43mappend\u001b[49m\u001b[43m(\u001b[49m\u001b[38;5;124;43m'\u001b[39;49m\u001b[38;5;124;43mcheddar\u001b[39;49m\u001b[38;5;124;43m'\u001b[39;49m\u001b[43m,\u001b[49m\u001b[43m \u001b[49m\u001b[38;5;124;43m'\u001b[39;49m\u001b[38;5;124;43mgouda\u001b[39;49m\u001b[38;5;124;43m'\u001b[39;49m\u001b[43m,\u001b[49m\u001b[43m \u001b[49m\u001b[38;5;124;43m'\u001b[39;49m\u001b[38;5;124;43mmozarella\u001b[39;49m\u001b[38;5;124;43m'\u001b[39;49m\u001b[43m,\u001b[49m\u001b[43m \u001b[49m\u001b[38;5;124;43m'\u001b[39;49m\u001b[38;5;124;43mcamembert\u001b[39;49m\u001b[38;5;124;43m'\u001b[39;49m\u001b[43m)\u001b[49m \u001b[38;5;66;03m#list.append() can only take 1 argument i.e one element at a time \u001b[39;00m\n\u001b[1;32m      3\u001b[0m x                                                      \u001b[38;5;66;03m#to add on multiple elements at once, use extend()\u001b[39;00m\n",
      "\u001b[0;31mTypeError\u001b[0m: list.append() takes exactly one argument (4 given)"
     ]
    }
   ],
   "source": [
    "x = ['brie'] \n",
    "x.append('cheddar', 'gouda', 'mozarella', 'camembert') #list.append() can only take 1 argument i.e one element at a time \n",
    "x                                                      #to add on multiple elements at once, use extend()"
   ]
  },
  {
   "cell_type": "code",
   "execution_count": 66,
   "id": "b84b8a10-632a-4ae5-9e21-b499066bee42",
   "metadata": {},
   "outputs": [],
   "source": [
    "## methods to adding multiple elements to the list at once \n"
   ]
  },
  {
   "cell_type": "code",
   "execution_count": 63,
   "id": "688fbbe1-aeb9-418c-8abc-45fa677dbb52",
   "metadata": {},
   "outputs": [
    {
     "name": "stdout",
     "output_type": "stream",
     "text": [
      "[1, 2, 3, 4, 5, 6]\n",
      "['brie', 'cheddar', 'gouda', 'mozarella', 'camembert']\n"
     ]
    }
   ],
   "source": [
    "#method 1 (for both numbers and string)\n",
    "x = [1, 2, 3]\n",
    "x += [4, 5, 6]\n",
    "print(x)\n",
    "\n",
    "y = ['brie'] \n",
    "y += ['cheddar', 'gouda', 'mozarella', 'camembert']\n",
    "print(y) "
   ]
  },
  {
   "cell_type": "code",
   "execution_count": 64,
   "id": "3b810324-5210-4edd-8c10-6492e5077333",
   "metadata": {},
   "outputs": [
    {
     "data": {
      "text/plain": [
       "[1, 2, 3, 4, 5, 6]"
      ]
     },
     "execution_count": 64,
     "metadata": {},
     "output_type": "execute_result"
    }
   ],
   "source": [
    "#method 2 (for both numbers and string)\n",
    "x=[1, 2, 3]\n",
    "x.extend([4, 5, 6])\n",
    "x"
   ]
  },
  {
   "cell_type": "code",
   "execution_count": 65,
   "id": "8915a656-b823-48dc-bbf4-50563cd6dd3d",
   "metadata": {},
   "outputs": [
    {
     "name": "stdout",
     "output_type": "stream",
     "text": [
      "[1, 2, 3, [4, 5, 6]]\n"
     ]
    },
    {
     "ename": "TypeError",
     "evalue": "list.append() takes exactly one argument (4 given)",
     "output_type": "error",
     "traceback": [
      "\u001b[0;31m---------------------------------------------------------------------------\u001b[0m",
      "\u001b[0;31mTypeError\u001b[0m                                 Traceback (most recent call last)",
      "Cell \u001b[0;32mIn[65], line 8\u001b[0m\n\u001b[1;32m      5\u001b[0m                              \u001b[38;5;66;03m#as individual elements in the list. use append to add lists to a list\u001b[39;00m\n\u001b[1;32m      7\u001b[0m y \u001b[38;5;241m=\u001b[39m [\u001b[38;5;124m'\u001b[39m\u001b[38;5;124mbrie\u001b[39m\u001b[38;5;124m'\u001b[39m]\n\u001b[0;32m----> 8\u001b[0m \u001b[43my\u001b[49m\u001b[38;5;241;43m.\u001b[39;49m\u001b[43mappend\u001b[49m\u001b[43m(\u001b[49m\u001b[38;5;124;43m'\u001b[39;49m\u001b[38;5;124;43mcheddar\u001b[39;49m\u001b[38;5;124;43m'\u001b[39;49m\u001b[43m,\u001b[49m\u001b[43m \u001b[49m\u001b[38;5;124;43m'\u001b[39;49m\u001b[38;5;124;43mgouda\u001b[39;49m\u001b[38;5;124;43m'\u001b[39;49m\u001b[43m,\u001b[49m\u001b[43m \u001b[49m\u001b[38;5;124;43m'\u001b[39;49m\u001b[38;5;124;43mmozarella\u001b[39;49m\u001b[38;5;124;43m'\u001b[39;49m\u001b[43m,\u001b[49m\u001b[43m \u001b[49m\u001b[38;5;124;43m'\u001b[39;49m\u001b[38;5;124;43mcamembert\u001b[39;49m\u001b[38;5;124;43m'\u001b[39;49m\u001b[43m)\u001b[49m\n\u001b[1;32m      9\u001b[0m \u001b[38;5;28mprint\u001b[39m(y)   \n",
      "\u001b[0;31mTypeError\u001b[0m: list.append() takes exactly one argument (4 given)"
     ]
    }
   ],
   "source": [
    "#method 3 (only for numbers, not string)\n",
    "x=[1, 2, 3]\n",
    "x.append([4, 5, 6])\n",
    "print(x)                     #note that the append allows us to add lists to a list, unlike the extend command which adds all the elements \n",
    "                             #as individual elements in the list. use append to add lists to a list\n",
    "\n",
    "y = ['brie']\n",
    "y.append('cheddar', 'gouda', 'mozarella', 'camembert')\n",
    "print(y)   "
   ]
  },
  {
   "attachments": {},
   "cell_type": "markdown",
   "id": "ffdb704d",
   "metadata": {},
   "source": [
    "## Tuples"
   ]
  },
  {
   "cell_type": "code",
   "execution_count": 70,
   "id": "12544396-1dd8-4901-b1f8-6b7635e69457",
   "metadata": {},
   "outputs": [
    {
     "name": "stdout",
     "output_type": "stream",
     "text": [
      "[11, 21, 33, 44]\n"
     ]
    },
    {
     "ename": "TypeError",
     "evalue": "'tuple' object does not support item assignment",
     "output_type": "error",
     "traceback": [
      "\u001b[0;31m---------------------------------------------------------------------------\u001b[0m",
      "\u001b[0;31mTypeError\u001b[0m                                 Traceback (most recent call last)",
      "Cell \u001b[0;32mIn[70], line 8\u001b[0m\n\u001b[1;32m      5\u001b[0m \u001b[38;5;28mprint\u001b[39m(list_1)\n\u001b[1;32m      7\u001b[0m tuple_1 \u001b[38;5;241m=\u001b[39m (\u001b[38;5;241m11\u001b[39m,\u001b[38;5;241m22\u001b[39m,\u001b[38;5;241m33\u001b[39m,\u001b[38;5;241m44\u001b[39m) \n\u001b[0;32m----> 8\u001b[0m \u001b[43mtuple_1\u001b[49m\u001b[43m[\u001b[49m\u001b[38;5;241;43m1\u001b[39;49m\u001b[43m]\u001b[49m \u001b[38;5;241m=\u001b[39m \u001b[38;5;241m21\u001b[39m\n\u001b[1;32m      9\u001b[0m \u001b[38;5;28mprint\u001b[39m(\u001b[38;5;28mtuple\u001b[39m[\u001b[38;5;241m1\u001b[39m])\n",
      "\u001b[0;31mTypeError\u001b[0m: 'tuple' object does not support item assignment"
     ]
    }
   ],
   "source": [
    "#tuples are similar to lists except 1. cannot change or add values in the tuple 2. data stored within () and not []\n",
    "\n",
    "list_1 = [11,22,33,44]\n",
    "list_1[1] = 21 \n",
    "print(list_1)\n",
    "\n",
    "tuple_1 = (11,22,33,44) \n",
    "tuple_1[1] = 21\n",
    "print(tuple[1])"
   ]
  },
  {
   "cell_type": "code",
   "execution_count": 74,
   "id": "e7c965c9-988d-4d5f-8ba7-9e5104736627",
   "metadata": {},
   "outputs": [
    {
     "ename": "TypeError",
     "evalue": "can only concatenate tuple (not \"int\") to tuple",
     "output_type": "error",
     "traceback": [
      "\u001b[0;31m---------------------------------------------------------------------------\u001b[0m",
      "\u001b[0;31mTypeError\u001b[0m                                 Traceback (most recent call last)",
      "Cell \u001b[0;32mIn[74], line 2\u001b[0m\n\u001b[1;32m      1\u001b[0m tuple_1 \u001b[38;5;241m=\u001b[39m (\u001b[38;5;241m11\u001b[39m,\u001b[38;5;241m22\u001b[39m,\u001b[38;5;241m33\u001b[39m,\u001b[38;5;241m44\u001b[39m) \n\u001b[0;32m----> 2\u001b[0m \u001b[43mtuple_1\u001b[49m\u001b[43m \u001b[49m\u001b[38;5;241;43m+\u001b[39;49m\u001b[38;5;241;43m=\u001b[39;49m\u001b[43m \u001b[49m\u001b[38;5;241;43m21\u001b[39;49m\n\u001b[1;32m      3\u001b[0m \u001b[38;5;28mprint\u001b[39m(\u001b[38;5;28mtuple\u001b[39m[\u001b[38;5;241m1\u001b[39m]) \n",
      "\u001b[0;31mTypeError\u001b[0m: can only concatenate tuple (not \"int\") to tuple"
     ]
    }
   ],
   "source": [
    "tuple_1 = (11,22,33,44) \n",
    "tuple_1 += 21\n",
    "print(tuple[1])     #cannot add on new elements to the tuple. we need to make another new tuple "
   ]
  },
  {
   "cell_type": "code",
   "execution_count": 72,
   "id": "745f4274-9c07-4b0b-a957-c84aa7242c50",
   "metadata": {},
   "outputs": [
    {
     "data": {
      "text/plain": [
       "44"
      ]
     },
     "execution_count": 72,
     "metadata": {},
     "output_type": "execute_result"
    }
   ],
   "source": [
    "# however, indexing can still work on tuples to draw out values \n",
    "tuple_1[3] "
   ]
  },
  {
   "attachments": {},
   "cell_type": "markdown",
   "id": "46a8834e",
   "metadata": {},
   "source": [
    "## Be VERY careful when copying (lists or arrays)"
   ]
  },
  {
   "cell_type": "code",
   "execution_count": 85,
   "id": "61b6d663",
   "metadata": {},
   "outputs": [
    {
     "name": "stdout",
     "output_type": "stream",
     "text": [
      "4491308544\n",
      "4491308544\n",
      "4491308544\n",
      "[121, 153, 178, 197, 223, 257, 289]\n",
      "[121, 153, 178, 197, 223, 257, 289]\n",
      "[121, 153, 178, 197, 223, 257, 289]\n",
      "4491308544\n",
      "4491308544\n",
      "4491308544\n"
     ]
    }
   ],
   "source": [
    "# whenever we want to copy a list/array, use _.copy() function and not '=' function \n",
    "\n",
    "# wrong way: \n",
    "tic = [121,153,178,197]     # when we use '=', all 3 lists have the same ID \n",
    "tac = tic \n",
    "toe = tic \n",
    "\n",
    "print(id(tic))\n",
    "print(id(tac))\n",
    "print(id(toe))      \n",
    "\n",
    "tic += [223, 257, 289]      # adding to one of the lists results in ALL 3 lists being changed \n",
    "print(tic)                   \n",
    "print(tac) \n",
    "print(toe)\n",
    "\n",
    "print(id(tic))              # despite the change in the lists, note that the ID number remains the same \n",
    "print(id(tac))\n",
    "print(id(toe))  "
   ]
  },
  {
   "cell_type": "code",
   "execution_count": 86,
   "id": "0023ad84-8f12-44b5-86a8-44377fe2dac2",
   "metadata": {},
   "outputs": [
    {
     "name": "stdout",
     "output_type": "stream",
     "text": [
      "4490886976\n",
      "4490596992\n",
      "4490844096\n",
      "[121, 153, 178, 197, 223, 257, 289]\n",
      "[121, 153, 178, 197]\n",
      "[121, 153, 178, 197]\n",
      "4490886976\n",
      "4490596992\n",
      "4490844096\n"
     ]
    }
   ],
   "source": [
    "#instead do: \n",
    "tic = [121,153,178,197]\n",
    "tac = tic.copy()            # when we use .copy(), all 3 lists have different IDs \n",
    "toe = tic.copy()\n",
    "\n",
    "print(id(tic))\n",
    "print(id(tac))\n",
    "print(id(toe))      \n",
    "\n",
    "tic += [223, 257, 289]      # adding to one of the lists still leaves the other 2 lists unaffected \n",
    "print(tic)                  \n",
    "print(tac) \n",
    "print(toe)\n",
    "\n",
    "print(id(tic))             \n",
    "print(id(tac))             \n",
    "print(id(toe))"
   ]
  }
 ],
 "metadata": {
  "kernelspec": {
   "display_name": "Python 3 (ipykernel)",
   "language": "python",
   "name": "python3"
  },
  "language_info": {
   "codemirror_mode": {
    "name": "ipython",
    "version": 3
   },
   "file_extension": ".py",
   "mimetype": "text/x-python",
   "name": "python",
   "nbconvert_exporter": "python",
   "pygments_lexer": "ipython3",
   "version": "3.11.7"
  },
  "toc": {
   "base_numbering": 1,
   "nav_menu": {},
   "number_sections": true,
   "sideBar": true,
   "skip_h1_title": false,
   "title_cell": "Table of Contents",
   "title_sidebar": "Contents",
   "toc_cell": false,
   "toc_position": {},
   "toc_section_display": true,
   "toc_window_display": false
  },
  "vscode": {
   "interpreter": {
    "hash": "31f2aee4e71d21fbe5cf8b01ff0e069b9275f58929596ceb00d14d90e3e16cd6"
   }
  }
 },
 "nbformat": 4,
 "nbformat_minor": 5
}
