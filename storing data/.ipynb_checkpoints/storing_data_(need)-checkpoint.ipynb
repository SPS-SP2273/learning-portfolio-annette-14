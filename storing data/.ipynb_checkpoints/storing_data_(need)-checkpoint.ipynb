{
 "cells": [
  {
   "attachments": {},
   "cell_type": "markdown",
   "id": "123456",
   "metadata": {},
   "source": [
    "<div style=\"text-align:left;font-size:2em\"><span style=\"font-weight:bolder;font-size:1.25em\">SP2273 | Learning Portfolio</span><br><br><span style=\"font-weight:bold;color:darkred\">Storing Data (Need)</span></div>"
   ]
  },
  {
   "attachments": {},
   "cell_type": "markdown",
   "id": "7e2916f9",
   "metadata": {},
   "source": [
    "# What to expect in this chapter"
   ]
  },
  {
   "attachments": {},
   "cell_type": "markdown",
   "id": "27fc875a",
   "metadata": {},
   "source": [
    "# 1 Lists, Arrays & Dictionaries"
   ]
  },
  {
   "cell_type": "markdown",
   "id": "51359587-87dd-4196-8e28-d67ee3522b38",
   "metadata": {},
   "source": [
    "Python list"
   ]
  },
  {
   "cell_type": "code",
   "execution_count": 3,
   "id": "b9a57c98-f002-414a-9ec9-da6c98bf4554",
   "metadata": {},
   "outputs": [],
   "source": [
    "py_super_names = [\"Black Widow\", \"Iron Man\", \"Doctor Strange\"]\n",
    "py_real_names = [\"Natasha Romanoff\", \"Tony Stark\", \"Stephen Strange\"]"
   ]
  },
  {
   "cell_type": "markdown",
   "id": "cc2ff6c2-1e32-47d9-a873-7d4bf5167b75",
   "metadata": {},
   "source": [
    "Numpy Arrays"
   ]
  },
  {
   "cell_type": "code",
   "execution_count": 5,
   "id": "43574196-cc56-4a8b-b82c-64bb62f778b4",
   "metadata": {},
   "outputs": [],
   "source": [
    "import numpy as np\n",
    "np_super_names = np.array([\"Black Widow\", \"Iron Man\", \"Doctor Strange\"])\n",
    "np_real_names = np.array([\"Natasha Romanoff\", \"Tony Stark\", \"Stephen Strange\"])"
   ]
  },
  {
   "cell_type": "markdown",
   "id": "9b31428e-0b82-406a-8317-f8d688aadcc2",
   "metadata": {},
   "source": [
    "dictionary"
   ]
  },
  {
   "cell_type": "code",
   "execution_count": 9,
   "id": "e60d4921-b3ef-489d-8348-fb084e6c392a",
   "metadata": {},
   "outputs": [],
   "source": [
    "#the first name in each line is the key and the second name is the value \n",
    "superhero_info = {\n",
    "    \"Natasha Romanoff\": \"Black Widow\",\n",
    "    \"Tony Stark\": \"Iron Man\",\n",
    "    \"Stephen Strange\": \"Doctor Strange\"\n",
    "}"
   ]
  },
  {
   "cell_type": "code",
   "execution_count": 15,
   "id": "be2bfe3b-d5af-468c-83e7-a408ad5d1e3c",
   "metadata": {},
   "outputs": [
    {
     "ename": "KeyError",
     "evalue": "1",
     "output_type": "error",
     "traceback": [
      "\u001b[0;31m---------------------------------------------------------------------------\u001b[0m",
      "\u001b[0;31mKeyError\u001b[0m                                  Traceback (most recent call last)",
      "Cell \u001b[0;32mIn[15], line 1\u001b[0m\n\u001b[0;32m----> 1\u001b[0m \u001b[43msuperhero_info\u001b[49m\u001b[43m[\u001b[49m\u001b[38;5;241;43m1\u001b[39;49m\u001b[43m]\u001b[49m\u001b[38;5;241m.\u001b[39mkeys()\n",
      "\u001b[0;31mKeyError\u001b[0m: 1"
     ]
    }
   ],
   "source": [
    "superhero_info.keys()"
   ]
  },
  {
   "attachments": {},
   "cell_type": "markdown",
   "id": "b8a5176f",
   "metadata": {},
   "source": [
    "## 1.1 Let’s compare"
   ]
  },
  {
   "attachments": {},
   "cell_type": "markdown",
   "id": "fa1432e6",
   "metadata": {},
   "source": [
    "## 1.2 Accessing data from a list (or array)"
   ]
  },
  {
   "attachments": {},
   "cell_type": "markdown",
   "id": "354eb5cf",
   "metadata": {},
   "source": [
    "## 1.3 Accessing data from a dictionary"
   ]
  },
  {
   "attachments": {},
   "cell_type": "markdown",
   "id": "8b54c6de",
   "metadata": {},
   "source": [
    "## 1.4 Higher dimensional lists"
   ]
  },
  {
   "attachments": {},
   "cell_type": "markdown",
   "id": "54080905",
   "metadata": {},
   "source": [
    "# 2 Lists vs. Arrays"
   ]
  },
  {
   "attachments": {},
   "cell_type": "markdown",
   "id": "53f30431",
   "metadata": {},
   "source": [
    "## 2.1 Size"
   ]
  },
  {
   "cell_type": "code",
   "execution_count": 19,
   "id": "f24d53a9-83d7-4535-80eb-340fe7e74cdd",
   "metadata": {},
   "outputs": [],
   "source": [
    "# for lists and arrays, len() gives the length i.e only the number of lists within the larger list \n",
    "# for arrays, var.shape gives both the number of lists within the larger list and the number of elements within each small list "
   ]
  },
  {
   "attachments": {},
   "cell_type": "markdown",
   "id": "82d24979",
   "metadata": {},
   "source": [
    "## 2.2 Arrays are fussy about type"
   ]
  },
  {
   "attachments": {},
   "cell_type": "markdown",
   "id": "ad6afa1b",
   "metadata": {},
   "source": [
    "## 2.3 Adding a number"
   ]
  },
  {
   "cell_type": "code",
   "execution_count": 20,
   "id": "eaca0535-7b30-4500-82b8-f7f3484eda9c",
   "metadata": {},
   "outputs": [],
   "source": [
    "# can add a constant to ALL the elements in an array but not to elements in a list \n",
    "#can treat arrays as a variable in a mathematical operation "
   ]
  },
  {
   "attachments": {},
   "cell_type": "markdown",
   "id": "fe0dec82",
   "metadata": {},
   "source": [
    "## 2.4 Adding another list"
   ]
  },
  {
   "attachments": {},
   "cell_type": "markdown",
   "id": "d3d28a92",
   "metadata": {},
   "source": [
    "## 2.5 Multiplying by a Number"
   ]
  },
  {
   "cell_type": "code",
   "execution_count": 22,
   "id": "e3bed339-3ed2-4d03-a9e7-5893d4097717",
   "metadata": {},
   "outputs": [],
   "source": [
    "# multiplication does not work for lists but works for arrays "
   ]
  },
  {
   "attachments": {},
   "cell_type": "markdown",
   "id": "0ce5d5bd",
   "metadata": {},
   "source": [
    "## 2.6 Squaring"
   ]
  },
  {
   "cell_type": "code",
   "execution_count": 23,
   "id": "f5fb19ca-7bf9-4d15-bc38-ab2b7bb67290",
   "metadata": {},
   "outputs": [],
   "source": [
    "# squaring does not work for lists but works for arrays "
   ]
  },
  {
   "attachments": {},
   "cell_type": "markdown",
   "id": "87d555c5",
   "metadata": {},
   "source": [
    "## 2.7 Asking questions"
   ]
  },
  {
   "cell_type": "code",
   "execution_count": 25,
   "id": "0023a2bc-6477-4096-85b6-bcf826f928b3",
   "metadata": {},
   "outputs": [],
   "source": [
    "# do not ask py_list == 3 (works but is not an answer to 'is 3 inside the list') FOR LIST\n",
    "# can ask np_array == 3. asking will give a list of true or false answer for each of the elements in the array \n",
    "\n",
    "# do not ask py_list >3 \n",
    "# can ask np_array > 3, this is asking if each of the elements (numbers) are greater than 3 or not \n",
    "\n",
    "# can ask np_array.sum() - asking for the total value after adding all the elements in the array together\n",
    "# asking sum for list works too "
   ]
  },
  {
   "attachments": {},
   "cell_type": "markdown",
   "id": "f360409b",
   "metadata": {},
   "source": [
    "## 2.8 Mathematics"
   ]
  },
  {
   "attachments": {},
   "cell_type": "markdown",
   "id": "476f1fe9",
   "metadata": {},
   "source": [
    "# Exercises & Self-Assessment"
   ]
  },
  {
   "cell_type": "code",
   "execution_count": null,
   "id": "f966e332",
   "metadata": {},
   "outputs": [],
   "source": [
    "\n",
    "\n",
    "\n",
    "# Your solution here\n",
    "\n",
    "\n"
   ]
  },
  {
   "attachments": {},
   "cell_type": "markdown",
   "id": "d2ba0987",
   "metadata": {},
   "source": [
    "## Footnotes"
   ]
  }
 ],
 "metadata": {
  "kernelspec": {
   "display_name": "Python 3 (ipykernel)",
   "language": "python",
   "name": "python3"
  },
  "language_info": {
   "codemirror_mode": {
    "name": "ipython",
    "version": 3
   },
   "file_extension": ".py",
   "mimetype": "text/x-python",
   "name": "python",
   "nbconvert_exporter": "python",
   "pygments_lexer": "ipython3",
   "version": "3.11.7"
  },
  "toc": {
   "base_numbering": 1,
   "nav_menu": {},
   "number_sections": true,
   "sideBar": true,
   "skip_h1_title": false,
   "title_cell": "Table of Contents",
   "title_sidebar": "Contents",
   "toc_cell": false,
   "toc_position": {},
   "toc_section_display": true,
   "toc_window_display": false
  },
  "vscode": {
   "interpreter": {
    "hash": "31f2aee4e71d21fbe5cf8b01ff0e069b9275f58929596ceb00d14d90e3e16cd6"
   }
  }
 },
 "nbformat": 4,
 "nbformat_minor": 5
}
