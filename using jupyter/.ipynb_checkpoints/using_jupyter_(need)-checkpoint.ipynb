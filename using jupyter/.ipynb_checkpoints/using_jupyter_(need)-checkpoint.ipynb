{
 "cells": [
  {
   "attachments": {},
   "cell_type": "markdown",
   "id": "123456",
   "metadata": {},
   "source": [
    "<div style=\"text-align:left;font-size:2em\"><span style=\"font-weight:bolder;font-size:1.25em\">SP2273 | Learning Portfolio</span><br><br><span style=\"font-weight:bold;color:darkred\">Using Jupyter (Need)</span></div>"
   ]
  },
  {
   "attachments": {},
   "cell_type": "markdown",
   "id": "4d9a074d",
   "metadata": {},
   "source": [
    "# 1. Getting ready"
   ]
  },
  {
   "cell_type": "markdown",
   "id": "706a297c-fdd4-4094-862e-cadb11926e33",
   "metadata": {},
   "source": [
    "# 2. Getting started with Jupyter"
   ]
  },
  {
   "attachments": {},
   "cell_type": "markdown",
   "id": "768f891f",
   "metadata": {},
   "source": [
    "## 2.1 It is all about running cells"
   ]
  },
  {
   "cell_type": "markdown",
   "id": "08ddaafd-26fb-40ce-8a60-4d1f4204519b",
   "metadata": {},
   "source": [
    "## 2.2 A traditional start"
   ]
  },
  {
   "cell_type": "code",
   "execution_count": 1,
   "id": "5b8c5049-bee1-461b-b960-19c5b4e4366a",
   "metadata": {},
   "outputs": [
    {
     "name": "stdout",
     "output_type": "stream",
     "text": [
      "Hello World\n"
     ]
    }
   ],
   "source": [
    "print(\"Hello World\")"
   ]
  },
  {
   "cell_type": "code",
   "execution_count": 2,
   "id": "31589c50-39df-4d49-89d4-4c9038a3352b",
   "metadata": {},
   "outputs": [
    {
     "name": "stdout",
     "output_type": "stream",
     "text": [
      "We love mango strawberry smoothie yomz\n"
     ]
    }
   ],
   "source": [
    "print(\"We love mango strawberry smoothie yomz\")\n"
   ]
  },
  {
   "cell_type": "code",
   "execution_count": 3,
   "id": "2ff5ccfb-c408-4464-97e4-5ecf0488d0c6",
   "metadata": {},
   "outputs": [
    {
     "name": "stdout",
     "output_type": "stream",
     "text": [
      "christmas <3\n"
     ]
    }
   ],
   "source": [
    "print(\"christmas <3\")"
   ]
  },
  {
   "cell_type": "markdown",
   "id": "dc3f1110-7a8d-4a7b-9e08-a30d12bf9abf",
   "metadata": {},
   "source": [
    "# 3. All about markdown"
   ]
  },
  {
   "cell_type": "markdown",
   "id": "50c7d173-b7c0-4eda-9e11-8c97160495b3",
   "metadata": {},
   "source": [
    "## 3.1 Rendering Markdown cells"
   ]
  },
  {
   "cell_type": "markdown",
   "id": "a1cec79f-1789-4934-9f8a-c0e07d2cbace",
   "metadata": {},
   "source": [
    "testing out the shortcut to make a markdown cell #ESC + M "
   ]
  },
  {
   "cell_type": "markdown",
   "id": "beb13f42-f5c0-4dcc-9105-a70f189dfc85",
   "metadata": {},
   "source": [
    "i love love sushii!! love unagi and tempura and i rly rly want to go back to japan.. ahh"
   ]
  },
  {
   "cell_type": "markdown",
   "id": "7c5c90cc-0aa8-4f28-9c50-1be848f3dc4c",
   "metadata": {},
   "source": [
    "The ships *hung in the sky* in much the same way that **bricks don’t.**<sup>1</sup><sub>QUOTE</sub>\n"
   ]
  },
  {
   "cell_type": "markdown",
   "id": "4dbd4c12-3d2f-4815-95d7-531328b1577a",
   "metadata": {},
   "source": [
    "chickens in cinnamon"
   ]
  },
  {
   "attachments": {},
   "cell_type": "markdown",
   "id": "efba66f4",
   "metadata": {},
   "source": [
    "## 3.2 Some basic syntax"
   ]
  },
  {
   "cell_type": "markdown",
   "id": "ad1d1eb6-3aa8-4a95-a76f-e963e67c32c6",
   "metadata": {},
   "source": [
    "the following are all in Markdown. hashtags, just to make things for uniform will be more comments"
   ]
  },
  {
   "cell_type": "markdown",
   "id": "5724aefe-cfa0-420e-8cf1-f1bba185cda7",
   "metadata": {},
   "source": [
    "### 3.2.1 Bold"
   ]
  },
  {
   "cell_type": "markdown",
   "id": "ab97eddd-4285-4c9c-b395-72dbbf3913cf",
   "metadata": {},
   "source": [
    "## 3.3 Headings"
   ]
  },
  {
   "attachments": {},
   "cell_type": "markdown",
   "id": "fa1697eb",
   "metadata": {},
   "source": [
    "## 3.4 Displaying Code"
   ]
  },
  {
   "cell_type": "markdown",
   "id": "db4fa44a-00a2-4d52-8148-368387511869",
   "metadata": {},
   "source": [
    "## 3.5 Links"
   ]
  },
  {
   "attachments": {},
   "cell_type": "markdown",
   "id": "352be873",
   "metadata": {},
   "source": [
    "## 3.6 Images"
   ]
  },
  {
   "attachments": {},
   "cell_type": "markdown",
   "id": "d8fc637a",
   "metadata": {},
   "source": [
    "## 3.7 Tables"
   ]
  },
  {
   "attachments": {},
   "cell_type": "markdown",
   "id": "e47c86a4",
   "metadata": {},
   "source": [
    "## 3.8 Lists"
   ]
  },
  {
   "attachments": {},
   "cell_type": "markdown",
   "id": "95e34aec",
   "metadata": {},
   "source": [
    "## 3.9 Equations"
   ]
  },
  {
   "attachments": {},
   "cell_type": "markdown",
   "id": "1d3217da",
   "metadata": {},
   "source": [
    "##Footnotes"
   ]
  },
  {
   "cell_type": "code",
   "execution_count": null,
   "id": "d46734a0-af56-4364-9bbc-0b0a652205e4",
   "metadata": {},
   "outputs": [],
   "source": []
  },
  {
   "cell_type": "code",
   "execution_count": null,
   "id": "cc7a870f-b541-422d-aae6-0962500080da",
   "metadata": {},
   "outputs": [],
   "source": []
  },
  {
   "cell_type": "code",
   "execution_count": null,
   "id": "545bbfea-7805-48a0-b996-e60beb36ebd5",
   "metadata": {},
   "outputs": [],
   "source": []
  },
  {
   "cell_type": "code",
   "execution_count": null,
   "id": "1991d748-62c1-445f-97b9-8c7e52f53dcf",
   "metadata": {},
   "outputs": [],
   "source": []
  },
  {
   "cell_type": "code",
   "execution_count": null,
   "id": "f62662e7-31b8-4b3e-bc46-b15e8e67d8dc",
   "metadata": {},
   "outputs": [],
   "source": []
  },
  {
   "cell_type": "code",
   "execution_count": null,
   "id": "4cd81c6a-01ec-4c58-ac86-4811ad29d58e",
   "metadata": {},
   "outputs": [],
   "source": []
  },
  {
   "cell_type": "code",
   "execution_count": null,
   "id": "1e0b8a9f-e858-48ab-8e1a-0726378a46e0",
   "metadata": {},
   "outputs": [],
   "source": []
  },
  {
   "cell_type": "code",
   "execution_count": null,
   "id": "f395ce88-cd8d-4998-ad6e-f88ec282c087",
   "metadata": {},
   "outputs": [],
   "source": []
  },
  {
   "cell_type": "code",
   "execution_count": null,
   "id": "f6b5553c-b022-4331-b463-791d1fc8a19d",
   "metadata": {},
   "outputs": [],
   "source": []
  },
  {
   "cell_type": "code",
   "execution_count": null,
   "id": "e010cc4f-70dd-4e9c-b4d9-267a807a285a",
   "metadata": {},
   "outputs": [],
   "source": []
  },
  {
   "cell_type": "code",
   "execution_count": null,
   "id": "f219c341-e290-4dc7-9974-41f37c38c03d",
   "metadata": {},
   "outputs": [],
   "source": []
  },
  {
   "cell_type": "code",
   "execution_count": null,
   "id": "23b65631-f267-47d2-87d2-af547c14e939",
   "metadata": {},
   "outputs": [],
   "source": []
  },
  {
   "cell_type": "code",
   "execution_count": null,
   "id": "ffd448cd-3bc1-4518-b7f3-f1997d64cc22",
   "metadata": {},
   "outputs": [],
   "source": []
  },
  {
   "cell_type": "code",
   "execution_count": null,
   "id": "89230dfd-7a7c-4277-863f-f891f979d2ed",
   "metadata": {},
   "outputs": [],
   "source": []
  },
  {
   "cell_type": "code",
   "execution_count": null,
   "id": "13af00a4-6fec-4a93-87cb-524f09692605",
   "metadata": {},
   "outputs": [],
   "source": []
  },
  {
   "cell_type": "code",
   "execution_count": null,
   "id": "fda88cd6-4403-46ff-88e2-98fc273670ff",
   "metadata": {},
   "outputs": [],
   "source": []
  },
  {
   "cell_type": "code",
   "execution_count": null,
   "id": "7105d730-e6b7-454d-928b-7a3d4f2c424b",
   "metadata": {},
   "outputs": [],
   "source": []
  },
  {
   "cell_type": "code",
   "execution_count": null,
   "id": "dc16dd08-8cee-4c8b-ad1c-4b4389cb82d1",
   "metadata": {},
   "outputs": [],
   "source": []
  },
  {
   "cell_type": "code",
   "execution_count": null,
   "id": "805d91d6-0208-46ba-afa5-a9a351845df1",
   "metadata": {},
   "outputs": [],
   "source": []
  },
  {
   "cell_type": "code",
   "execution_count": null,
   "id": "40165d3a-12e0-450e-885a-4772aa87e565",
   "metadata": {},
   "outputs": [],
   "source": []
  },
  {
   "cell_type": "code",
   "execution_count": null,
   "id": "bfeb9e84-99d6-4291-8806-450cd23ffa10",
   "metadata": {},
   "outputs": [],
   "source": []
  },
  {
   "cell_type": "code",
   "execution_count": null,
   "id": "67511047-04e9-4a1a-a7a0-72baa5324fa4",
   "metadata": {},
   "outputs": [],
   "source": []
  },
  {
   "cell_type": "code",
   "execution_count": null,
   "id": "c1fc40a3-d5ff-443a-b958-7667077d40df",
   "metadata": {},
   "outputs": [],
   "source": []
  }
 ],
 "metadata": {
  "kernelspec": {
   "display_name": "Python 3 (ipykernel)",
   "language": "python",
   "name": "python3"
  },
  "language_info": {
   "codemirror_mode": {
    "name": "ipython",
    "version": 3
   },
   "file_extension": ".py",
   "mimetype": "text/x-python",
   "name": "python",
   "nbconvert_exporter": "python",
   "pygments_lexer": "ipython3",
   "version": "3.11.7"
  },
  "toc": {
   "base_numbering": 1,
   "nav_menu": {},
   "number_sections": true,
   "sideBar": true,
   "skip_h1_title": false,
   "title_cell": "Table of Contents",
   "title_sidebar": "Contents",
   "toc_cell": false,
   "toc_position": {},
   "toc_section_display": true,
   "toc_window_display": false
  },
  "vscode": {
   "interpreter": {
    "hash": "31f2aee4e71d21fbe5cf8b01ff0e069b9275f58929596ceb00d14d90e3e16cd6"
   }
  }
 },
 "nbformat": 4,
 "nbformat_minor": 5
}
