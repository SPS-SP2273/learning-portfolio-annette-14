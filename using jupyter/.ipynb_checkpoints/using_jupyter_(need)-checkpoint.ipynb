{
 "cells": [
  {
   "attachments": {},
   "cell_type": "markdown",
   "id": "123456",
   "metadata": {},
   "source": [
    "<div style=\"text-align:left;font-size:2em\"><span style=\"font-weight:bolder;font-size:1.25em\">SP2273 | Learning Portfolio</span><br><br><span style=\"font-weight:bold;color:darkred\">Using Jupyter (Need)</span></div>"
   ]
  },
  {
   "attachments": {},
   "cell_type": "markdown",
   "id": "4d9a074d",
   "metadata": {},
   "source": [
    "# 1. Getting ready"
   ]
  },
  {
   "cell_type": "markdown",
   "id": "706a297c-fdd4-4094-862e-cadb11926e33",
   "metadata": {},
   "source": [
    "# 2. Getting started with Jupyter"
   ]
  },
  {
   "attachments": {},
   "cell_type": "markdown",
   "id": "768f891f",
   "metadata": {},
   "source": [
    "## 2.1 It is all about running cells"
   ]
  },
  {
   "cell_type": "code",
   "execution_count": 1,
   "id": "3f993832-9814-4032-b90f-53712ac90a2d",
   "metadata": {},
   "outputs": [],
   "source": [
    "#to run cells, use 'run' or 'command + enter' "
   ]
  },
  {
   "cell_type": "markdown",
   "id": "08ddaafd-26fb-40ce-8a60-4d1f4204519b",
   "metadata": {},
   "source": [
    "## 2.2 A traditional start"
   ]
  },
  {
   "cell_type": "code",
   "execution_count": 1,
   "id": "5b8c5049-bee1-461b-b960-19c5b4e4366a",
   "metadata": {},
   "outputs": [
    {
     "name": "stdout",
     "output_type": "stream",
     "text": [
      "Hello World\n"
     ]
    }
   ],
   "source": [
    "print(\"Hello World\")"
   ]
  },
  {
   "cell_type": "code",
   "execution_count": 2,
   "id": "31589c50-39df-4d49-89d4-4c9038a3352b",
   "metadata": {},
   "outputs": [
    {
     "name": "stdout",
     "output_type": "stream",
     "text": [
      "We love mango strawberry smoothie yomz\n"
     ]
    }
   ],
   "source": [
    "print(\"We love mango strawberry smoothie yomz\")\n"
   ]
  },
  {
   "cell_type": "code",
   "execution_count": 3,
   "id": "2ff5ccfb-c408-4464-97e4-5ecf0488d0c6",
   "metadata": {},
   "outputs": [
    {
     "name": "stdout",
     "output_type": "stream",
     "text": [
      "christmas <3\n"
     ]
    }
   ],
   "source": [
    "print(\"christmas <3\")"
   ]
  },
  {
   "cell_type": "markdown",
   "id": "dc3f1110-7a8d-4a7b-9e08-a30d12bf9abf",
   "metadata": {},
   "source": [
    "# 3. All about markdown"
   ]
  },
  {
   "cell_type": "markdown",
   "id": "50c7d173-b7c0-4eda-9e11-8c97160495b3",
   "metadata": {},
   "source": [
    "## 3.1 Rendering Markdown cells"
   ]
  },
  {
   "cell_type": "markdown",
   "id": "a1cec79f-1789-4934-9f8a-c0e07d2cbace",
   "metadata": {},
   "source": [
    "testing out the shortcut to make a markdown cell #ESC + M "
   ]
  },
  {
   "cell_type": "markdown",
   "id": "beb13f42-f5c0-4dcc-9105-a70f189dfc85",
   "metadata": {},
   "source": [
    "i love love sushii!! love unagi and tempura and i rly rly want to go back to japan.. ahh"
   ]
  },
  {
   "cell_type": "markdown",
   "id": "7c5c90cc-0aa8-4f28-9c50-1be848f3dc4c",
   "metadata": {},
   "source": [
    "The ships hung in the sky in much the same way that bricks don’t.\n"
   ]
  },
  {
   "cell_type": "markdown",
   "id": "4dbd4c12-3d2f-4815-95d7-531328b1577a",
   "metadata": {},
   "source": [
    "chickens in cinnamon"
   ]
  },
  {
   "attachments": {},
   "cell_type": "markdown",
   "id": "efba66f4",
   "metadata": {},
   "source": [
    "## 3.2 Some basic syntax"
   ]
  },
  {
   "cell_type": "code",
   "execution_count": 6,
   "id": "32d8920a-e1ba-4a1c-8598-06c756dd81f4",
   "metadata": {},
   "outputs": [],
   "source": [
    "# ** or __ for bold\n",
    "# * or _ for italics\n",
    "# <sub> and </sub> for subscript and <sup> and </sup> for superscript \n",
    "# *** for bold and italics together "
   ]
  },
  {
   "cell_type": "markdown",
   "id": "5e07eab8-c11b-44a4-bc7b-855714da064e",
   "metadata": {},
   "source": [
    "The ships *hung in the sky* in much the same way that **bricks don’t.**<sup>1</sup><sub>QUOTE</sub>"
   ]
  },
  {
   "cell_type": "code",
   "execution_count": 21,
   "id": "c1286f05-c497-4aba-b7e4-8d79aeee0602",
   "metadata": {},
   "outputs": [],
   "source": [
    "# question! why doesnt '<3' become bold? "
   ]
  },
  {
   "cell_type": "markdown",
   "id": "eecce720-cf0e-4d04-a841-fdd0d61a8f3f",
   "metadata": {},
   "source": [
    "the chickens at cinnamon college are *super* cute **<3** i love love chicken both <sup>cooked</sup> or <sub>alive</sub>"
   ]
  },
  {
   "cell_type": "markdown",
   "id": "af719b0b-27e6-4ab4-810b-666f429e55cc",
   "metadata": {},
   "source": [
    "**^3**   #bolding works on numbers and symbols, even when both are adjacent to each other\n"
   ]
  },
  {
   "cell_type": "code",
   "execution_count": 5,
   "id": "4b31f087-325d-4895-8427-23cc45f7b52c",
   "metadata": {},
   "outputs": [],
   "source": [
    "# why is it that the 'when' below is also in superscript format? "
   ]
  },
  {
   "cell_type": "markdown",
   "id": "a6c1f39c-ad72-419e-ae62-33cff53e735a",
   "metadata": {},
   "source": [
    "arent those <sup>moments</sub> when <sub>consciousness</sub> suddenly hits so ***beautiful***... "
   ]
  },
  {
   "cell_type": "markdown",
   "id": "62a60e61-23f7-4e74-876c-5b8663efc780",
   "metadata": {},
   "source": [
    "**>** chickens "
   ]
  },
  {
   "cell_type": "markdown",
   "id": "ad1d1eb6-3aa8-4a95-a76f-e963e67c32c6",
   "metadata": {},
   "source": [
    "the following are all in Markdown. hashtags, just to make things for uniform will be more comments"
   ]
  },
  {
   "cell_type": "markdown",
   "id": "ab97eddd-4285-4c9c-b395-72dbbf3913cf",
   "metadata": {},
   "source": [
    "## 3.3 Headings"
   ]
  },
  {
   "cell_type": "markdown",
   "id": "bb2c70df-11f7-4937-a041-3048ad6016d1",
   "metadata": {},
   "source": [
    "# BIGGEST "
   ]
  },
  {
   "cell_type": "markdown",
   "id": "09d2cd4f-191d-4a9a-9c91-353b8de18ea1",
   "metadata": {},
   "source": [
    "## BIGGER "
   ]
  },
  {
   "cell_type": "markdown",
   "id": "fdaa96e7-e127-4c45-ba73-2715c877556f",
   "metadata": {},
   "source": [
    "### BIG "
   ]
  },
  {
   "cell_type": "markdown",
   "id": "b75e828e-8202-4cf4-b71b-d71ff36977ac",
   "metadata": {},
   "source": [
    "#### smol"
   ]
  },
  {
   "cell_type": "markdown",
   "id": "3e797283-692f-48cd-94d0-66cda1047833",
   "metadata": {},
   "source": [
    "##### smoller "
   ]
  },
  {
   "cell_type": "markdown",
   "id": "8e31d750-e260-4ed4-b5d8-5cb1ceab0f5d",
   "metadata": {},
   "source": [
    "###### smollest"
   ]
  },
  {
   "attachments": {},
   "cell_type": "markdown",
   "id": "fa1697eb",
   "metadata": {},
   "source": [
    "## Displaying Code"
   ]
  },
  {
   "cell_type": "markdown",
   "id": "a5a68c5a-64a1-46cb-9c87-4ca641abfb0e",
   "metadata": {},
   "source": [
    "`print('Hello World')`"
   ]
  },
  {
   "cell_type": "markdown",
   "id": "d7c8e0c9-f0c5-46e2-a290-5de313a7294e",
   "metadata": {},
   "source": [
    "`import math`"
   ]
  },
  {
   "cell_type": "markdown",
   "id": "02a5f77f-6103-481c-b0b7-a6de7e28d5b8",
   "metadata": {},
   "source": [
    "`while 3 == 0`"
   ]
  },
  {
   "cell_type": "markdown",
   "id": "680bd6d6-94bd-41a9-aecf-b579e5c40094",
   "metadata": {},
   "source": [
    "`for i in range(25)`"
   ]
  },
  {
   "cell_type": "markdown",
   "id": "db4fa44a-00a2-4d52-8148-368387511869",
   "metadata": {},
   "source": [
    "## 3.5 Links"
   ]
  },
  {
   "cell_type": "markdown",
   "id": "9dfef997-f46e-46ae-a9cf-8fd33b9955d6",
   "metadata": {},
   "source": [
    "some songs ive been hooked to recently!  positive and full of hope but not too upbeat <3 somehow a lot tend to be sad love songs HAHAH \n",
    "\n",
    "every 2 weeks or so i add more songs that i keep hearing on loop HAHAH so these songs are just some i found this week :)\n"
   ]
  },
  {
   "cell_type": "markdown",
   "id": "9eceaa7c-77be-462f-a101-388547e25915",
   "metadata": {},
   "source": [
    "[Something To Remember by Matt Hansen](https://www.youtube.com/watch?v=2vtbBZZVnNY)"
   ]
  },
  {
   "cell_type": "markdown",
   "id": "a8169a75-5090-43d5-a0b6-01cba6c40c9a",
   "metadata": {},
   "source": [
    "[London by Mokita](https://www.youtube.com/watch?v=XNwO78G41Tc) "
   ]
  },
  {
   "cell_type": "markdown",
   "id": "84af07cf-2532-4fed-8042-58b7b16bee86",
   "metadata": {},
   "source": [
    "I **RLY** LIKE SOME OF SHAUN'S SONGS! they make the moments of consciousness a bit more frequent, peaceful and slow"
   ]
  },
  {
   "cell_type": "markdown",
   "id": "1f36aeb2-7e85-4cc4-b703-0ac34d24f9e4",
   "metadata": {},
   "source": [
    "[That Summer](https://www.youtube.com/watch?v=39vKFcMdW9Q)"
   ]
  },
  {
   "cell_type": "markdown",
   "id": "a1bcb6ef-bdbb-4933-97e9-33f3b73f37ef",
   "metadata": {},
   "source": [
    "[Closed Ending](https://www.youtube.com/watch?v=K9dJYwIhBYM)"
   ]
  },
  {
   "cell_type": "markdown",
   "id": "725e9a4d-0585-4254-851a-49eef26a9c2a",
   "metadata": {},
   "source": [
    "<sub>okok</sub> HAHAHAH ive suddenly started listening to my hits.. time to do more workk!! "
   ]
  },
  {
   "attachments": {},
   "cell_type": "markdown",
   "id": "352be873",
   "metadata": {},
   "source": [
    "## 3.6 Images"
   ]
  },
  {
   "cell_type": "markdown",
   "id": "131a9081-e4ef-4c75-bb48-f0c54fc26854",
   "metadata": {},
   "source": [
    "my gosh okok!! im going to put some pictures of food i rly love or places i rly rly want to goo HAHAHA hope that its something u'll enjoy looking at too!! maybe it'd make u hungry HAHAH"
   ]
  },
  {
   "cell_type": "markdown",
   "id": "02bb4638-6944-4239-853e-65d6ea198cc6",
   "metadata": {},
   "source": [
    "![](https://whattocooktoday.com/wp-content/uploads/2021/10/homemade-dao-xiao-mian-20.jpg)"
   ]
  },
  {
   "cell_type": "markdown",
   "id": "f75a1e61-630b-48b3-92d0-2c2087948d6e",
   "metadata": {},
   "source": [
    "knife cut noodles with sesame oil, soy sauce, tons of garlic, spring onions and chives and soup or steamed dumplings on the side.. YUMMM i made this recipe before and the noods were so chewy and doughy.. mmm... "
   ]
  },
  {
   "cell_type": "markdown",
   "id": "6813654b-ad0e-4ce9-a5a6-8a5bafb08d69",
   "metadata": {},
   "source": [
    "![](https://media.hswstatic.com/eyJidWNrZXQiOiJjb250ZW50Lmhzd3N0YXRpYy5jb20iLCJrZXkiOiJnaWZcL2dldHR5aW1hZ2VzLTEzMTM4Mzg4ODMuanBnIiwiZWRpdHMiOnsicmVzaXplIjp7IndpZHRoIjo4Mjh9LCJ0b0Zvcm1hdCI6ImF2aWYifX0=)"
   ]
  },
  {
   "cell_type": "markdown",
   "id": "583cf018-4832-4890-abc8-ab1ecb4c98f0",
   "metadata": {},
   "source": [
    "sushiiii!! nigiri, gunkan, maki, YOMZZ.. wah its late at night but my stomach is growling "
   ]
  },
  {
   "cell_type": "markdown",
   "id": "8fdb5ce0-d588-459a-91e9-8d409e16502e",
   "metadata": {},
   "source": [
    "![](https://eatlittlebird.com/wp-content/uploads/2016/04/bun-cha-29.jpg)"
   ]
  },
  {
   "cell_type": "markdown",
   "id": "dfcbe52c-5ab6-4678-8415-2e594128810e",
   "metadata": {},
   "source": [
    "Vietnamese Bunchaaa! I tried it for the first time in Da Nang, Vietnam annddd i found a dish i crave more than pho <3 i went crazy with it for a period of time but i've calmed down.. still crave it sometimes thoo.. this or spring rolls.. the sauce they give with is (made out of lemongrass, coconut water, lime juice, fish oil, and some other ingredients..) so so addictive and tasty.. "
   ]
  },
  {
   "attachments": {},
   "cell_type": "markdown",
   "id": "d8fc637a",
   "metadata": {},
   "source": [
    "## 3.7 Tables"
   ]
  },
  {
   "cell_type": "markdown",
   "id": "acdf1d61-7fdb-4cbd-abe7-73b505ae488d",
   "metadata": {},
   "source": [
    "|   A   |   B    |    C   |\n",
    "|:------|:------:|-------:|\n",
    "|   a1  |   b1   |   c1   |\n",
    "|   a2  |   b2   |   c2   | \n",
    "|   a3  |   b2   |   c3   |"
   ]
  },
  {
   "cell_type": "markdown",
   "id": "aa0270a9-e5fe-4254-9fea-4e7d2de37daa",
   "metadata": {},
   "source": [
    "| substance added  | concentration/mM      |    volume required/uM (microM) |\n",
    "|:-----------------|:---------------------:|-------------------------------:|\n",
    "| DNA nucleotides  |   0.40                |   25.0                         |\n",
    "|   Taq polymerase |   0.04                |   4.0                          | \n",
    "|   Template DNA   |   0.07                |   5.0                          |\n",
    "| Forward primers  |   0.12                |   7.0                          |\n",
    "| Reverse primers  |   0.12                |   7.0                          | \n",
    "| Deionised water  |   -                   |   75.0                         | \n",
    "\n",
    "disclaimer: values are totally random and not mean to be taken seriously\n"
   ]
  },
  {
   "cell_type": "markdown",
   "id": "1aa5c70a-c7df-4d30-81d1-c1238faa793e",
   "metadata": {},
   "source": [
    "| genres of music  | no. of people who voted as favourite genre   |  \n",
    "|:-----------------|---------------------------------------------:|\n",
    "|  Classical       |   20                 |  \n",
    "|  Popular         |   28                 |   \n",
    "|  Rock and Funk   |   18                 |   \n",
    "|  RnB             |   22                 |   \n",
    "|  Jazz            |   16            | \n",
    "|  Indie           |   20            | \n",
    "\n",
    "#the straight line bars dont have to be aligned for the table to turn out well "
   ]
  },
  {
   "attachments": {},
   "cell_type": "markdown",
   "id": "e47c86a4",
   "metadata": {},
   "source": [
    "## 3.8 Lists"
   ]
  },
  {
   "cell_type": "markdown",
   "id": "d4d38e65-539a-4b40-8a94-80c1269bf390",
   "metadata": {},
   "source": [
    "#numbering \n",
    "instructions to bake a chiffon cake (its so fluffy i love making it yumyum)\n",
    "1. prepare 8 egg yolks in a bowl and the whites of the 8 eggs in another bowl\n",
    "   - careful not to let them mix!\n",
    "3. whisk the egg yolks before adding granulated sugar then continue whisking until pale yellow\n",
    "   - add the granulated sugar in smaller batches\n",
    "5. add milk and oil to the egg yolk mixture and continue to whisk until the mixture becomes slightly thicker \n",
    "6. grate the peel of some oranges and lemons, about 1 of each, then add to the egg yolk mixture. add the orange juice of about 1.5 oranges into the mixture. whisk the juice in to incorporate. \n",
    "7. add sugar to the egg whites and whisk until stiff peaks form\n",
    "8. measure out and sift cake flour. add baking soda and baking power into the flour before whisking thoroughly.\n",
    "   - peferably use a weighing scale to measure the mass \n",
    "10. add the flour into the egg yolk mixture and mix until a homogeneous cake batter is formed.\n",
    "11. oil the sides of the cake mould and then pour the batter into a chiffon cake mould.\n",
    "    - to make it easier to remove the cake after it has been baked \n",
    "13. bake it in the oven!!"
   ]
  },
  {
   "cell_type": "markdown",
   "id": "d21831ec-d62f-4a72-937e-09bf63bb2e3f",
   "metadata": {},
   "source": [
    "#numbering 2 list with one being part of the other \n",
    "#im not quite sure why my com gives A, B C instead of 1, 2, 3 but i did ask about it and i think its just inbuild into my com to do so \n",
    "\n",
    "my personal guide to video editing holiday vlogs \n",
    "1. plan before the trip\n",
    "   1. use google maps to check out the different sites to be visited and have in mind the shots to get\n",
    "   2. consider what time ull be at the differens sites and hence the type of camera settings required\n",
    "   3. consider how u can transit from one shot at one place to another\n",
    "   4. organise the short takes in chronological order or based on theme e.g in the city vs in the rural countryside\n",
    "2. during the trip, dont go crazy with the shots! remember to soak in the moment\n",
    "   1. film the people! i realised that at least to me, that was the best shots <3\n",
    "   2. i love to take moving shots so i always have to remind myself to take some still shots where im just filming people walking across the road, the view out of a cafe window, store fronts, still ponds etc.\n",
    "3. after the trip\n",
    "   1. DONT BE A PERFECTIONIST. dont get stuck on the same frame just editing until the first 10s are perfect but the remaining 10 minutes isnt done.. i still struggle big time with this\n",
    "   2. watch other vlogs to be inspired\n",
    "   3. i personally find it easier to pick the music first then edit the track on!! i love also cutting moments of the song to include some funny dialogue or including bloopers HAHAHA "
   ]
  },
  {
   "attachments": {},
   "cell_type": "markdown",
   "id": "95e34aec",
   "metadata": {},
   "source": [
    "## 3.9 Equations"
   ]
  },
  {
   "attachments": {},
   "cell_type": "markdown",
   "id": "1d3217da",
   "metadata": {},
   "source": [
    " $\\sqrt{b^2-4ac}$"
   ]
  },
  {
   "cell_type": "markdown",
   "id": "dbf4d6f9-fd8a-45f4-b934-e1eca55b9d28",
   "metadata": {},
   "source": [
    "$$\n",
    "x = \\dfrac{-b \\pm \\sqrt{b^2-4ac}}{2a}\n",
    "$$"
   ]
  },
  {
   "cell_type": "markdown",
   "id": "4a51cf34-3358-4c2d-83d6-86a9883c332a",
   "metadata": {},
   "source": [
    "\n",
    "volume of sphere = $\\dfrac{4}{3}πr^{3}$"
   ]
  },
  {
   "cell_type": "markdown",
   "id": "2e1f5999-5e25-484b-9cd5-30a0302aeee1",
   "metadata": {},
   "source": [
    "$\\sum_{k=1}^{n}\\dfrac{1}{k(k+1)(k+2)} = \\dfrac{n(n+1)(n+2)(n+3)}{4}$"
   ]
  },
  {
   "cell_type": "markdown",
   "id": "d6e03f08-d4f5-45ba-96d3-e861e61471d4",
   "metadata": {},
   "source": [
    "$\\int\\dfrac{1}{|x|\\sqrt{(x^{2}-1}}dx = sec^{-1}x + C$   \n",
    "\n",
    "#remember that its { and not ("
   ]
  }
 ],
 "metadata": {
  "kernelspec": {
   "display_name": "Python 3 (ipykernel)",
   "language": "python",
   "name": "python3"
  },
  "language_info": {
   "codemirror_mode": {
    "name": "ipython",
    "version": 3
   },
   "file_extension": ".py",
   "mimetype": "text/x-python",
   "name": "python",
   "nbconvert_exporter": "python",
   "pygments_lexer": "ipython3",
   "version": "3.11.7"
  },
  "toc": {
   "base_numbering": 1,
   "nav_menu": {},
   "number_sections": true,
   "sideBar": true,
   "skip_h1_title": false,
   "title_cell": "Table of Contents",
   "title_sidebar": "Contents",
   "toc_cell": false,
   "toc_position": {},
   "toc_section_display": true,
   "toc_window_display": false
  },
  "vscode": {
   "interpreter": {
    "hash": "31f2aee4e71d21fbe5cf8b01ff0e069b9275f58929596ceb00d14d90e3e16cd6"
   }
  }
 },
 "nbformat": 4,
 "nbformat_minor": 5
}
