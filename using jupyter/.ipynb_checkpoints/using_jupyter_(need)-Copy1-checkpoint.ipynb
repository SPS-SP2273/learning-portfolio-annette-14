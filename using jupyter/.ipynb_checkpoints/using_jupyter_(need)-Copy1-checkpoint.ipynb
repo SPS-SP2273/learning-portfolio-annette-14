{
 "cells": [
  {
   "attachments": {},
   "cell_type": "markdown",
   "id": "123456",
   "metadata": {},
   "source": [
    "<div style=\"text-align:left;font-size:2em\"><span style=\"font-weight:bolder;font-size:1.25em\">SP2273 | Learning Portfolio</span><br><br><span style=\"font-weight:bold;color:darkred\">Using Jupyter (Need)</span></div>"
   ]
  },
  {
   "cell_type": "code",
   "execution_count": null,
   "id": "6b5498fb-a039-486f-941b-39222d72c940",
   "metadata": {},
   "outputs": [],
   "source": []
  },
  {
   "cell_type": "code",
   "execution_count": 2,
   "id": "56e18190-e9c0-43f2-860c-0b614c7c59f8",
   "metadata": {},
   "outputs": [
    {
     "name": "stdout",
     "output_type": "stream",
     "text": [
      "Hello World\n"
     ]
    }
   ],
   "source": [
    "print(\"Hello World\")"
   ]
  },
  {
   "cell_type": "markdown",
   "id": "74b0767d-aec3-46ec-a6e1-3f0f00fb7182",
   "metadata": {},
   "source": [
    "# 1. Getting ready"
   ]
  },
  {
   "cell_type": "code",
   "execution_count": 3,
   "id": "31589c50-39df-4d49-89d4-4c9038a3352b",
   "metadata": {},
   "outputs": [
    {
     "name": "stdout",
     "output_type": "stream",
     "text": [
      "We love mango strawberry smoothie yomz\n"
     ]
    }
   ],
   "source": [
    "print(\"We love mango strawberry smoothie yomz\")\n"
   ]
  },
  {
   "cell_type": "code",
   "execution_count": 4,
   "id": "2ff5ccfb-c408-4464-97e4-5ecf0488d0c6",
   "metadata": {},
   "outputs": [
    {
     "name": "stdout",
     "output_type": "stream",
     "text": [
      "christmas <3\n"
     ]
    }
   ],
   "source": [
    "print(\"christmas <3\")"
   ]
  },
  {
   "cell_type": "code",
   "execution_count": null,
   "id": "c1209c19-0614-4539-8f7b-0c6f583aac6a",
   "metadata": {},
   "outputs": [],
   "source": []
  },
  {
   "cell_type": "code",
   "execution_count": null,
   "id": "c5547a64-f34e-4f7f-8fdc-2fcee7c0e7ac",
   "metadata": {},
   "outputs": [],
   "source": []
  },
  {
   "cell_type": "code",
   "execution_count": null,
   "id": "16dba914-ab47-4ae7-82b1-5eca6b84255f",
   "metadata": {},
   "outputs": [],
   "source": []
  },
  {
   "cell_type": "code",
   "execution_count": null,
   "id": "b1b2be8c-0084-4190-b796-43728d430b5c",
   "metadata": {},
   "outputs": [],
   "source": []
  },
  {
   "cell_type": "markdown",
   "id": "c7354d8f-c72d-4e0f-a2ff-8ffb2df077d8",
   "metadata": {},
   "source": [
    "# Getting started with Jupyter"
   ]
  },
  {
   "cell_type": "markdown",
   "id": "7c5c90cc-0aa8-4f28-9c50-1be848f3dc4c",
   "metadata": {},
   "source": [
    "The ships *hung in the sky* in much the same way that **bricks don’t.**<sup>1</sup><sub>QUOTE</sub>\n"
   ]
  },
  {
   "cell_type": "markdown",
   "id": "4dbd4c12-3d2f-4815-95d7-531328b1577a",
   "metadata": {},
   "source": [
    "chickens in cinnamon"
   ]
  },
  {
   "attachments": {},
   "cell_type": "markdown",
   "id": "768f891f",
   "metadata": {},
   "source": [
    "## 2.1 It is all about running cells"
   ]
  },
  {
   "cell_type": "markdown",
   "id": "94a48bcd-f2a4-4a3c-bfa6-2fa65c84ee3d",
   "metadata": {},
   "source": [
    "## A traditional start"
   ]
  },
  {
   "cell_type": "markdown",
   "id": "b5bb983b-1211-40de-8192-8b646bfd04fd",
   "metadata": {},
   "source": [
    "# 3. All about markdown"
   ]
  },
  {
   "cell_type": "markdown",
   "id": "fcd72474-81f5-466e-afa3-f7a0ce08c92e",
   "metadata": {},
   "source": [
    "Why did the _**chicken**_ cross the road?"
   ]
  },
  {
   "cell_type": "markdown",
   "id": "3b2f7b69-06ab-4193-b308-ba9c125ae165",
   "metadata": {},
   "source": [
    "## Rendering Markdown Cells"
   ]
  },
  {
   "cell_type": "markdown",
   "id": "2f24d1c1-57bf-40df-b3a7-a7c612706421",
   "metadata": {},
   "source": [
    "## Some basic syntax"
   ]
  },
  {
   "attachments": {},
   "cell_type": "markdown",
   "id": "efba66f4",
   "metadata": {},
   "source": [
    "# 1.4 Some basic syntax"
   ]
  },
  {
   "cell_type": "markdown",
   "id": "64506a9a-673c-48cb-95a7-36627483eb7c",
   "metadata": {},
   "source": [
    "[SP2273 Website](https://sps.nus.edu.sg/sp2273)"
   ]
  },
  {
   "cell_type": "markdown",
   "id": "f24099df-98b4-43fb-9343-371c71e723f4",
   "metadata": {},
   "source": [
    "## The second largest heading "
   ]
  },
  {
   "attachments": {},
   "cell_type": "markdown",
   "id": "fa1697eb",
   "metadata": {},
   "source": [
    "## Displaying Code"
   ]
  },
  {
   "cell_type": "markdown",
   "id": "db4fa44a-00a2-4d52-8148-368387511869",
   "metadata": {},
   "source": [
    "##1.4Links"
   ]
  },
  {
   "cell_type": "markdown",
   "id": "30e83ba0-7492-4293-95c8-de644663c1a1",
   "metadata": {},
   "source": [
    "[NUS libraries](https://nus.edu.sg/nuslibraries)"
   ]
  },
  {
   "attachments": {},
   "cell_type": "markdown",
   "id": "352be873",
   "metadata": {},
   "source": [
    "## Images"
   ]
  },
  {
   "cell_type": "markdown",
   "id": "3371553d-21b7-4f87-8eb8-3babd6c46149",
   "metadata": {},
   "source": [
    "![](https://nus.edu.sg/images/default-source/base/logo.png)"
   ]
  },
  {
   "cell_type": "markdown",
   "id": "6f7eb01d-6f52-4bde-8433-a09727a39045",
   "metadata": {},
   "source": [
    "![happybara!](https://upload.wikimedia.org/wikipedia/commons/3/34/Hydrochoeris_hydrochaeris_in_Brazil_in_Petrópolis%2C_Rio_de_Janeiro%2C_Brazil_09.jpg)"
   ]
  },
  {
   "attachments": {},
   "cell_type": "markdown",
   "id": "d8fc637a",
   "metadata": {},
   "source": [
    "## Tables"
   ]
  },
  {
   "cell_type": "markdown",
   "id": "7c3be6a5-78d6-47cf-835c-18662400d493",
   "metadata": {},
   "source": [
    "| A    |  B   |    C |\n",
    "| :--- | :--: | ---: |\n",
    "| a1   |  b1  |   c1 |\n",
    "| a2   |  b2  |   c2 |\n",
    "| a3   |  b3  |   c3 |"
   ]
  },
  {
   "attachments": {},
   "cell_type": "markdown",
   "id": "e47c86a4",
   "metadata": {},
   "source": [
    "## Lists"
   ]
  },
  {
   "attachments": {},
   "cell_type": "markdown",
   "id": "95e34aec",
   "metadata": {},
   "source": [
    "## Equations"
   ]
  },
  {
   "cell_type": "markdown",
   "id": "e6cb836e-7b69-49e6-8621-705e8eddbbcb",
   "metadata": {},
   "source": [
    "1. Master Yoda\n",
    "1. Luke Skywalker\n",
    "1. Anakin Skywalker"
   ]
  },
  {
   "cell_type": "markdown",
   "id": "e37a3782-fe92-43b1-a32c-605e5a40e016",
   "metadata": {},
   "source": [
    "- Master Yoda\n",
    "- Luke Skywalker\n",
    "- Anakin Skywalker"
   ]
  },
  {
   "attachments": {},
   "cell_type": "markdown",
   "id": "1d3217da",
   "metadata": {},
   "source": [
    "##Footnotes"
   ]
  },
  {
   "cell_type": "markdown",
   "id": "ca84b87c-e736-40a4-a821-ca49393485a4",
   "metadata": {},
   "source": [
    "   \n",
    "\n",
    "<ol type=\"1\">\n",
    "    \n",
    "1. Master Yoda\n",
    "    1. Was a Jedi\n",
    "    2. Was a bit green\n",
    "1. Luke Skywalker\n",
    "    1. Was a Jedi\n",
    "    2. Is Anakin's son.\n",
    "1. Anakin Skywalker\n",
    "    1. Was a Jedi then became a baddie\n",
    "    2. Is famous for saying 'Luke, I am your father'\n",
    "  \n",
    "</div>"
   ]
  },
  {
   "cell_type": "markdown",
   "id": "c68fddd2-7ebc-4169-8bf9-b6cc738e6626",
   "metadata": {},
   "source": [
    "# Heading"
   ]
  },
  {
   "cell_type": "code",
   "execution_count": null,
   "id": "c1fc40a3-d5ff-443a-b958-7667077d40df",
   "metadata": {},
   "outputs": [],
   "source": []
  }
 ],
 "metadata": {
  "kernelspec": {
   "display_name": "Python 3 (ipykernel)",
   "language": "python",
   "name": "python3"
  },
  "language_info": {
   "codemirror_mode": {
    "name": "ipython",
    "version": 3
   },
   "file_extension": ".py",
   "mimetype": "text/x-python",
   "name": "python",
   "nbconvert_exporter": "python",
   "pygments_lexer": "ipython3",
   "version": "3.11.7"
  },
  "toc": {
   "base_numbering": 1,
   "nav_menu": {},
   "number_sections": true,
   "sideBar": true,
   "skip_h1_title": false,
   "title_cell": "Table of Contents",
   "title_sidebar": "Contents",
   "toc_cell": false,
   "toc_position": {},
   "toc_section_display": true,
   "toc_window_display": false
  },
  "vscode": {
   "interpreter": {
    "hash": "31f2aee4e71d21fbe5cf8b01ff0e069b9275f58929596ceb00d14d90e3e16cd6"
   }
  }
 },
 "nbformat": 4,
 "nbformat_minor": 5
}
