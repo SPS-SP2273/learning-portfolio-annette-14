{
 "cells": [
  {
   "attachments": {},
   "cell_type": "markdown",
   "id": "123456",
   "metadata": {},
   "source": [
    "<div style=\"text-align:left;font-size:2em\"><span style=\"font-weight:bolder;font-size:1.25em\">SP2273 | Learning Portfolio</span><br><br><span style=\"font-weight:bold;color:darkred\">Storing Data (Need) Exercises</span></div>"
   ]
  },
  {
   "cell_type": "markdown",
   "id": "86518a0a-4146-4bcf-808a-e97356badea6",
   "metadata": {},
   "source": [
    "Exercise 1\n",
    "\n",
    "1. Similarities between lists and arrays\n",
    "   1. using indexes, we can pull out specific elements from lists and arrays\n",
    "   2. _some commands work similarly on both lists and arrays e.g len()_, split(), append()\n",
    "\n",
    "2. Differences between lists and arrays\n",
    "   1. carrying out mathematical operations on lists and arrays differs\n",
    "      1. multiping a list would make the length of the list grow longer with the elements having the same value. but multiplying an array multiples the value of each individual variable\n",
    "      2. we can square an array but not a list\n",
    "      3. _adding two lists or two arrays of the similar length has different implications for arrays and lists_\n",
    "      4. _using '+' will work on an array (each element in the array will increase by the added value) but not on lists_\n",
    "   2. lists store elements which may be of different types e.g numbers and string while arrays will only store data in a single type, converting numbers into string. \n",
    "\n",
    "3. What is a dictionary?\n",
    "   - dictionaries store data in the form of keys and values where 2 values associated with each other are arranged in a list in a specific order.\n",
    "   - this enables us to retrieve the value by simply calling out the respective key. therefore, this allows us to neatly store data and retrieve it easily. \n"
   ]
  },
  {
   "cell_type": "markdown",
   "id": "52a5a34d-c54f-4349-bb2c-bd38cc5e92e4",
   "metadata": {},
   "source": [
    "Exercise 2 (Indexing)"
   ]
  },
  {
   "cell_type": "code",
   "execution_count": 13,
   "id": "58e585d8-a963-4ab5-9c3b-baffbd786b9d",
   "metadata": {},
   "outputs": [
    {
     "name": "stdout",
     "output_type": "stream",
     "text": [
      "a1\n",
      "c3\n",
      "e5\n",
      "g7\n",
      "i9\n"
     ]
    }
   ],
   "source": [
    "py_list = [\"a1\", \"b2\", \"c3\", \"d4\", \"e5\", \"f6\", \"g7\", \"h8\", \"i9\", \"j10\"]\n",
    "\n",
    "print(py_list[0])\n",
    "print(py_list[2])\n",
    "print(py_list[4])\n",
    "print(py_list[6])\n",
    "print(py_list[8])\n"
   ]
  },
  {
   "cell_type": "markdown",
   "id": "9baf6008-4720-44c9-aaea-e4f62474c396",
   "metadata": {},
   "source": [
    "Exercise 3 (Index again)"
   ]
  },
  {
   "cell_type": "code",
   "execution_count": 5,
   "id": "9e6caa0f-7112-4a35-80cd-4517845babbc",
   "metadata": {},
   "outputs": [
    {
     "name": "stdout",
     "output_type": "stream",
     "text": [
      "Boron\n",
      "Boron\n"
     ]
    }
   ],
   "source": [
    "elements = ['Hydrogen',\n",
    "            'Helium', 'Lithium',\n",
    "            'Beryllium', 'Boron', 'Carbon',\n",
    "            'Nitrogen', 'Oxygen',\n",
    "            'Fluorine',\n",
    "            'Neon']\n",
    "\n",
    "print(elements[4])   #accessing element at index 4 using forward indexing \n",
    "print(elements[-6])   #accessing element at index 4 using reverse indexing "
   ]
  },
  {
   "cell_type": "markdown",
   "id": "382ebe6b-58cc-4d7f-9d66-0436e9500f87",
   "metadata": {},
   "source": [
    "Exercise 4 (How many ones)"
   ]
  },
  {
   "cell_type": "code",
   "execution_count": 4,
   "id": "e4cad67f-7232-42d9-bef6-c847f491e12b",
   "metadata": {},
   "outputs": [
    {
     "data": {
      "text/plain": [
       "9"
      ]
     },
     "execution_count": 4,
     "metadata": {},
     "output_type": "execute_result"
    }
   ],
   "source": [
    "import numpy as np \n",
    "\n",
    "numbers=[45, 60, 1, 30, 96, 1, 96, 57, 16, 1,\n",
    "        99, 62, 86, 43, 42, 60, 59, 1, 1, 35,\n",
    "        83, 47, 34, 28, 68, 23, 22, 92, 1, 79,\n",
    "        1, 29, 94, 72, 46, 47, 1, 74, 32, 20,\n",
    "        8, 37, 35, 1, 89, 29, 86, 19, 43, 61]  \n",
    "\n",
    "numbers_array = np.array(numbers) \n",
    "(numbers_array==1).sum()   # behind the screen: the true is 1 and false is 0 "
   ]
  },
  {
   "cell_type": "code",
   "execution_count": 3,
   "id": "af4fc986-8b4b-4bfc-9937-9bbdde748cc5",
   "metadata": {},
   "outputs": [
    {
     "data": {
      "text/plain": [
       "9"
      ]
     },
     "execution_count": 3,
     "metadata": {},
     "output_type": "execute_result"
    }
   ],
   "source": [
    "# other method (less preferred)\n",
    "numbers=[45, 60, 1, 30, 96, 1, 96, 57, 16, 1,\n",
    "        99, 62, 86, 43, 42, 60, 59, 1, 1, 35,\n",
    "        83, 47, 34, 28, 68, 23, 22, 92, 1, 79,\n",
    "        1, 29, 94, 72, 46, 47, 1, 74, 32, 20,\n",
    "        8, 37, 35, 1, 89, 29, 86, 19, 43, 61]  \n",
    "\n",
    "numbers.count(1)   #.count() does not work on arrays, only on lists"
   ]
  }
 ],
 "metadata": {
  "kernelspec": {
   "display_name": "Python 3 (ipykernel)",
   "language": "python",
   "name": "python3"
  },
  "language_info": {
   "codemirror_mode": {
    "name": "ipython",
    "version": 3
   },
   "file_extension": ".py",
   "mimetype": "text/x-python",
   "name": "python",
   "nbconvert_exporter": "python",
   "pygments_lexer": "ipython3",
   "version": "3.11.7"
  },
  "toc": {
   "base_numbering": 1,
   "nav_menu": {},
   "number_sections": true,
   "sideBar": true,
   "skip_h1_title": false,
   "title_cell": "Table of Contents",
   "title_sidebar": "Contents",
   "toc_cell": false,
   "toc_position": {},
   "toc_section_display": true,
   "toc_window_display": false
  },
  "vscode": {
   "interpreter": {
    "hash": "31f2aee4e71d21fbe5cf8b01ff0e069b9275f58929596ceb00d14d90e3e16cd6"
   }
  }
 },
 "nbformat": 4,
 "nbformat_minor": 5
}
