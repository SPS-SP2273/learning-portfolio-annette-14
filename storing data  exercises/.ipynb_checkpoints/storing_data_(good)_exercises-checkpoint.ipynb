{
 "cells": [
  {
   "attachments": {},
   "cell_type": "markdown",
   "id": "123456",
   "metadata": {},
   "source": [
    "<div style=\"text-align:left;font-size:2em\"><span style=\"font-weight:bolder;font-size:1.25em\">SP2273 | Learning Portfolio</span><br><br><span style=\"font-weight:bold;color:darkred\">Storing Data (Good) Exercises</span></div>"
   ]
  },
  {
   "cell_type": "markdown",
   "id": "6349d018-e63d-469e-ad28-68c6e022413d",
   "metadata": {},
   "source": [
    "Exercise 1 "
   ]
  },
  {
   "cell_type": "markdown",
   "id": "a4e482ef-ff15-4cfb-83e6-6fec622aa23b",
   "metadata": {},
   "source": [
    "|  Term                |  Brief description                        | \n",
    "|:---------------------|------------------------------------------:|\n",
    "| Subsetting           |  Selecting out a subset of a list, array or tuple be it one or multiple elements   |\n",
    "| Indexing             |  A method of subsetting which involves selecting one specific element from a list, tuple or array using the position of the element in the data |\n",
    "| Slicing              |  A method of subsetting which involves selecting a range of elements from a list, tuple or array using positions of elements in the data  | \n",
    "| Masking              |  Uses Boolean logic to pick out specific elements from a list or array depending on whether they fulfil a condition|"
   ]
  },
  {
   "cell_type": "markdown",
   "id": "e3e0172e-8896-45c9-92a5-2b47107b9f0f",
   "metadata": {},
   "source": [
    "Exercise 2 "
   ]
  },
  {
   "cell_type": "code",
   "execution_count": 36,
   "id": "7821cef3-3c05-4c40-89b7-cd43e526a24c",
   "metadata": {},
   "outputs": [
    {
     "name": "stdout",
     "output_type": "stream",
     "text": [
      "[['A' 'C' 'E' 'G' 'I']]\n"
     ]
    }
   ],
   "source": [
    "import numpy as np \n",
    "\n",
    "np_array_2d = np.array([[1, \"A\"], [3, \"C\"], [2, \"B\"], [4, \"D\"],\n",
    "                        [5, \"E\"], [7, \"G\"], [6, \"F\"], [8, \"H\"],\n",
    "                        [10, \"J\"], [9, \"I\"]])\n",
    "\n",
    "numbers_str = np_array_2d[:,0]                   # obtaining the digits of each small list within the array \n",
    "\n",
    "import pandas as pd               \n",
    "\n",
    "numbers_int = numbers_str.astype(int)            # since arrays store all the numbers as string, here we'convert' str for int temporarily\n",
    "numbers_odd = np.array(~(numbers_int%2 == 0))    # sieving out the odd numbers in another array \n",
    "\n",
    "indexes_odd = np.where(numbers_odd)              # identifying the list of indexes for which the alphabets of interest are in \n",
    "\n",
    "print(np_array_2d[indexes_odd, 1])                      # extracting out the lists in those index positions and then extracting out the alphabets only \n"
   ]
  }
 ],
 "metadata": {
  "kernelspec": {
   "display_name": "Python 3 (ipykernel)",
   "language": "python",
   "name": "python3"
  },
  "language_info": {
   "codemirror_mode": {
    "name": "ipython",
    "version": 3
   },
   "file_extension": ".py",
   "mimetype": "text/x-python",
   "name": "python",
   "nbconvert_exporter": "python",
   "pygments_lexer": "ipython3",
   "version": "3.11.7"
  },
  "toc": {
   "base_numbering": 1,
   "nav_menu": {},
   "number_sections": true,
   "sideBar": true,
   "skip_h1_title": false,
   "title_cell": "Table of Contents",
   "title_sidebar": "Contents",
   "toc_cell": false,
   "toc_position": {},
   "toc_section_display": true,
   "toc_window_display": false
  },
  "vscode": {
   "interpreter": {
    "hash": "31f2aee4e71d21fbe5cf8b01ff0e069b9275f58929596ceb00d14d90e3e16cd6"
   }
  }
 },
 "nbformat": 4,
 "nbformat_minor": 5
}
