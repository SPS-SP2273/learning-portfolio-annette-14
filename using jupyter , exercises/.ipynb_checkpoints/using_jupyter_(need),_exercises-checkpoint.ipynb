{
 "cells": [
  {
   "attachments": {},
   "cell_type": "markdown",
   "id": "123456",
   "metadata": {},
   "source": [
    "<div style=\"text-align:left;font-size:2em\"><span style=\"font-weight:bolder;font-size:1.25em\">SP2273 | Learning Portfolio</span><br><br><span style=\"font-weight:bold;color:darkred\">Using Jupyter (Need), Exercises</span></div>"
   ]
  },
  {
   "attachments": {},
   "cell_type": "markdown",
   "id": "855e6334",
   "metadata": {},
   "source": [
    "# Quadratic Equations"
   ]
  },
  {
   "attachments": {},
   "cell_type": "markdown",
   "id": "d98c040b",
   "metadata": {},
   "source": [
    "## Introduction"
   ]
  },
  {
   "cell_type": "markdown",
   "id": "7b78d669-3efd-467e-8546-8543def0ba92",
   "metadata": {},
   "source": [
    "![](https://upload.wikimedia.org/wikipedia/commons/f/f8/Polynomialdeg2.svg)"
   ]
  },
  {
   "cell_type": "markdown",
   "id": "04b0a66c-16e4-4c72-8d23-4bfe92b5e227",
   "metadata": {},
   "source": [
    "_(Image from the [Wikepedia page on Quadratic equations](https://en.wikipedia.org/wiki/Quadratic_equation))_"
   ]
  },
  {
   "cell_type": "markdown",
   "id": "7c4aa90a-3991-41a1-a75d-4c1dd97f88e2",
   "metadata": {},
   "source": [
    "The general form of a quadratic equation is:"
   ]
  },
  {
   "cell_type": "markdown",
   "id": "c3a276c4-0a96-4ccd-85b5-11cb1121b889",
   "metadata": {},
   "source": [
    "$ax^2 + bx + c = 0$"
   ]
  },
  {
   "attachments": {},
   "cell_type": "markdown",
   "id": "e089feea",
   "metadata": {},
   "source": [
    "## Solutions"
   ]
  },
  {
   "cell_type": "markdown",
   "id": "4e2d4243-caea-4351-ab60-e0aba0466de0",
   "metadata": {},
   "source": [
    "Provided $a \\ne 0$, we can use an elementary algebraic method called [completeing the square](https://en.wikipedia.org/wiki/Completing_the_square) to show that a quadratic equation has the following solution:"
   ]
  },
  {
   "cell_type": "markdown",
   "id": "33aaa29e-c831-4fa1-adc4-f8b48c1d2115",
   "metadata": {},
   "source": [
    "$x$ = $\\dfrac{-b{\\pm}\\sqrt{b^2-4ac}}{2a}$"
   ]
  },
  {
   "attachments": {},
   "cell_type": "markdown",
   "id": "93e9bc78",
   "metadata": {},
   "source": [
    "## Discriminant"
   ]
  },
  {
   "cell_type": "markdown",
   "id": "e354e6cb-6cf2-486a-8ebb-e75d23951d9b",
   "metadata": {},
   "source": [
    "The quantity $\\Delta = b^2 - 4ac$ is called the **discriminant** of the equation and decides the nature of its solutions. The table below shows the various possibilities. "
   ]
  },
  {
   "cell_type": "markdown",
   "id": "8142f7da-0bf1-4b3d-9586-989e770fbb73",
   "metadata": {},
   "source": [
    "|         Discriminat         |  Roots                                  | \n",
    "| :-------------------------: | :-------------------------------------: | \n",
    "|   $\\Delta = b^2 - 4ac = 0$  |  A single solution of $-b/(2a)$         | \n",
    "|   $\\Delta = b^2 - 4ac > 0$  |  Two distinct solutions                 |\n",
    "|   $\\Delta = b^2 - 4ac < 0$  |  No real solutions; both are complex.   |"
   ]
  },
  {
   "cell_type": "code",
   "execution_count": null,
   "id": "facbe0d1-134b-4b7e-bb8a-d7a7d4573ae9",
   "metadata": {},
   "outputs": [],
   "source": []
  },
  {
   "cell_type": "code",
   "execution_count": null,
   "id": "bc94f8f0-b6d8-406b-9113-8cda7c40f3c6",
   "metadata": {},
   "outputs": [],
   "source": []
  }
 ],
 "metadata": {
  "kernelspec": {
   "display_name": "Python 3 (ipykernel)",
   "language": "python",
   "name": "python3"
  },
  "language_info": {
   "codemirror_mode": {
    "name": "ipython",
    "version": 3
   },
   "file_extension": ".py",
   "mimetype": "text/x-python",
   "name": "python",
   "nbconvert_exporter": "python",
   "pygments_lexer": "ipython3",
   "version": "3.11.7"
  },
  "toc": {
   "base_numbering": 1,
   "nav_menu": {},
   "number_sections": true,
   "sideBar": true,
   "skip_h1_title": false,
   "title_cell": "Table of Contents",
   "title_sidebar": "Contents",
   "toc_cell": false,
   "toc_position": {},
   "toc_section_display": true,
   "toc_window_display": false
  },
  "vscode": {
   "interpreter": {
    "hash": "31f2aee4e71d21fbe5cf8b01ff0e069b9275f58929596ceb00d14d90e3e16cd6"
   }
  }
 },
 "nbformat": 4,
 "nbformat_minor": 5
}
