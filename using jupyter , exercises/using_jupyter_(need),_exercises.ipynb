{
 "cells": [
  {
   "attachments": {},
   "cell_type": "markdown",
   "id": "123456",
   "metadata": {},
   "source": [
    "<div style=\"text-align:left;font-size:2em\"><span style=\"font-weight:bolder;font-size:1.25em\">SP2273 | Learning Portfolio</span><br><br><span style=\"font-weight:bold;color:darkred\">Using Jupyter (Need), Exercises</span></div>"
   ]
  },
  {
   "cell_type": "markdown",
   "id": "f33bab10-1da9-4603-a77f-a23203c3e698",
   "metadata": {},
   "source": [
    "**Exercise 1 :**"
   ]
  },
  {
   "attachments": {},
   "cell_type": "markdown",
   "id": "855e6334",
   "metadata": {},
   "source": [
    "# Quadratic Equations"
   ]
  },
  {
   "attachments": {},
   "cell_type": "markdown",
   "id": "d98c040b",
   "metadata": {},
   "source": [
    "## Introduction"
   ]
  },
  {
   "cell_type": "markdown",
   "id": "7b78d669-3efd-467e-8546-8543def0ba92",
   "metadata": {},
   "source": [
    "![](https://upload.wikimedia.org/wikipedia/commons/f/f8/Polynomialdeg2.svg)"
   ]
  },
  {
   "cell_type": "markdown",
   "id": "04b0a66c-16e4-4c72-8d23-4bfe92b5e227",
   "metadata": {},
   "source": [
    "_(Image from the [Wikepedia page on Quadratic equations](https://en.wikipedia.org/wiki/Quadratic_equation))_"
   ]
  },
  {
   "cell_type": "markdown",
   "id": "7c4aa90a-3991-41a1-a75d-4c1dd97f88e2",
   "metadata": {},
   "source": [
    "The general form of a quadratic equation is:"
   ]
  },
  {
   "cell_type": "markdown",
   "id": "c3a276c4-0a96-4ccd-85b5-11cb1121b889",
   "metadata": {},
   "source": [
    "$$ax^2 + bx + c = 0$$"
   ]
  },
  {
   "attachments": {},
   "cell_type": "markdown",
   "id": "e089feea",
   "metadata": {},
   "source": [
    "## Solutions"
   ]
  },
  {
   "cell_type": "markdown",
   "id": "4e2d4243-caea-4351-ab60-e0aba0466de0",
   "metadata": {},
   "source": [
    "Provided $a \\ne 0$, we can use an elementary algebraic method called [completeing the square](https://en.wikipedia.org/wiki/Completing_the_square) to show that a quadratic equation has the following solution:"
   ]
  },
  {
   "cell_type": "markdown",
   "id": "33aaa29e-c831-4fa1-adc4-f8b48c1d2115",
   "metadata": {},
   "source": [
    "$$x = \\dfrac{-b{\\pm}\\sqrt{b^2-4ac}}{2a}$$"
   ]
  },
  {
   "attachments": {},
   "cell_type": "markdown",
   "id": "93e9bc78",
   "metadata": {},
   "source": [
    "## Discriminant"
   ]
  },
  {
   "cell_type": "markdown",
   "id": "e354e6cb-6cf2-486a-8ebb-e75d23951d9b",
   "metadata": {},
   "source": [
    "The quantity $\\Delta = b^2 - 4ac$ is called the **discriminant** of the equation and decides the nature of its solutions. The table below shows the various possibilities. "
   ]
  },
  {
   "cell_type": "markdown",
   "id": "8142f7da-0bf1-4b3d-9586-989e770fbb73",
   "metadata": {},
   "source": [
    "|         Discriminant        |  Roots                                  | \n",
    "| :-------------------------: | :-------------------------------------: | \n",
    "|   $\\Delta = b^2 - 4ac = 0$  |  A single solution of $-b/(2a)$         | \n",
    "|   $\\Delta = b^2 - 4ac > 0$  |  Two distinct solutions                 |\n",
    "|   $\\Delta = b^2 - 4ac < 0$  |  No real solutions; both are complex.   |"
   ]
  },
  {
   "cell_type": "markdown",
   "id": "5814277c-a0e1-4a2c-b493-4150b9b82eae",
   "metadata": {},
   "source": [
    "**Exercise 2 :**"
   ]
  },
  {
   "cell_type": "markdown",
   "id": "7b8e202e-9be6-4db3-92fe-bc7f07efcae1",
   "metadata": {},
   "source": [
    "1. What is a GIT repository?\n",
    "   \n",
    "A GIT repository is a central online platform in which is used by programmers to collaborate by sharing and editing any codes they are working on together. GIT repository specifically makes use of GIT which is a system that keeps track of the multiple versions and changes made to the code by each programmer. Git is hence useful for tracking and storing past versions and the progress of projects that programmers may be working on in the repository. "
   ]
  },
  {
   "cell_type": "markdown",
   "id": "d77128fc-e36c-4a1d-a518-4cfa4bf1a32b",
   "metadata": {},
   "source": [
    "2. Git keeps tracks of **changes** in the files in our repository."
   ]
  },
  {
   "cell_type": "markdown",
   "id": "7cbca3c1-c548-483f-a3e1-abd98b57d53f",
   "metadata": {},
   "source": [
    "3. What is a commit?\n",
    "\n",
    "Committing changes made to a file in the local workspace (i.e my laptop) involves me selecting the changes I want to 'sync' and upload up into the remote GitHub repository through the 'push' function later. Committing is similar to selecting the changes we made that we want to apply in the remote central GitHub repository for others to view along with a short message of what changes we made. \n"
   ]
  },
  {
   "cell_type": "markdown",
   "id": "a8c915a3-e48a-4373-b2bb-760ff74b2839",
   "metadata": {},
   "source": [
    "4. What is a push?\n",
    "\n",
    "Pushing involves uploading or syncing of the selected changes we have committed locally to the cloud or the online repository which is GitHub. Pushing enables for others who have access to the repository to be able to view, edit and comment on the edits we have made. "
   ]
  },
  {
   "cell_type": "markdown",
   "id": "2027da63-93cc-42fa-b1b0-b5d1733732c4",
   "metadata": {},
   "source": [
    "5. What is a pull?\n",
    "\n",
    "Pulling involves 'downloading' or fetching the latest changes made by other members of the project from the online GitHub repository and merging the changes with the local copy of the codes on the local workspace (e.g my laptop). This ensures that I am working on the most updated version of the code. "
   ]
  },
  {
   "cell_type": "markdown",
   "id": "f070b12a-aba7-4df9-8269-7f39773a34ae",
   "metadata": {},
   "source": [
    "6. What is the difference between GitHub and GitHub Desktop?\n",
    "\n",
    "GitHub along refers to the online repository that all other members of the project have access to and can open the different documents to view. It is similar to a remote repository and can be referred to as the cloud. On GitHub, all members can push and pull changes into or from their own local workspaces/laptops. GitHub Desktop on the other hand is a local repository in which any changes made to the files are only available to the user of the local workspace until a commit has been made and changes have been pushed to the cloud. On GitHub desktop, the user must first pull to fetch any changes made before editing and then pushing to upload changes made. The changes to the files are not automatically synced to the online repository, GitHub.  "
   ]
  }
 ],
 "metadata": {
  "kernelspec": {
   "display_name": "Python 3 (ipykernel)",
   "language": "python",
   "name": "python3"
  },
  "language_info": {
   "codemirror_mode": {
    "name": "ipython",
    "version": 3
   },
   "file_extension": ".py",
   "mimetype": "text/x-python",
   "name": "python",
   "nbconvert_exporter": "python",
   "pygments_lexer": "ipython3",
   "version": "3.11.7"
  },
  "toc": {
   "base_numbering": 1,
   "nav_menu": {},
   "number_sections": true,
   "sideBar": true,
   "skip_h1_title": false,
   "title_cell": "Table of Contents",
   "title_sidebar": "Contents",
   "toc_cell": false,
   "toc_position": {},
   "toc_section_display": true,
   "toc_window_display": false
  },
  "vscode": {
   "interpreter": {
    "hash": "31f2aee4e71d21fbe5cf8b01ff0e069b9275f58929596ceb00d14d90e3e16cd6"
   }
  }
 },
 "nbformat": 4,
 "nbformat_minor": 5
}
