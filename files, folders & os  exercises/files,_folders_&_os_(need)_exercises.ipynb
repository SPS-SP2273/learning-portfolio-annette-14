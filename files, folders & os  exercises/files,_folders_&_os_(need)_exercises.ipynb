{
 "cells": [
  {
   "attachments": {},
   "cell_type": "markdown",
   "id": "123456",
   "metadata": {},
   "source": [
    "<div style=\"text-align:left;font-size:2em\"><span style=\"font-weight:bolder;font-size:1.25em\">SP2273 | Learning Portfolio</span><br><br><span style=\"font-weight:bold;color:darkred\">Files, Folders & OS (Need) Exercises</span></div>"
   ]
  },
  {
   "cell_type": "markdown",
   "id": "264b1232-5213-4641-9d94-0dbc10ebffe6",
   "metadata": {},
   "source": [
    "# Exercise 1 (Tidying a collaboration)"
   ]
  },
  {
   "cell_type": "markdown",
   "id": "3a58b175-cbf4-48e1-b2d3-3228c505254d",
   "metadata": {},
   "source": [
    "The scenario: You are a member of an international team analysing environmental pollution. The project involves ten cities: Cairo, Dhaka, Jakarta, Karachi, Manila, Melbourne, Osaka, Shanghai, Singapore, and Tokyo.\n",
    "\n",
    "Your task is to process and organise data from various environmental measurements. The provided zip file, os-collaboration-exercise-data.zip, contains all relevant data files for the past year.\n",
    "\n",
    "**Things to note**\n",
    "\n",
    "1. **Data File**s: Each data file is named in the format month-date_city.txt (e.g., may-10_singapore.txt).\n",
    "2. **Data Collection**: Data was recorded sporadically; not all days of each month have corresponding data files. The dates of data collection vary across the cities.\n",
    "3. **Exclusion of Files**: Ignore any non-text files, such as those in .pdf, .png, or .jpg formats."
   ]
  },
  {
   "cell_type": "code",
   "execution_count": 3,
   "id": "df859ead-0a80-48f5-a171-ad3592bb30b1",
   "metadata": {},
   "outputs": [],
   "source": [
    "import os \n",
    "import shutil \n",
    "import glob"
   ]
  },
  {
   "cell_type": "markdown",
   "id": "da495614-9fd7-42f0-a4f8-3e98656eab59",
   "metadata": {},
   "source": [
    "## Task 1 "
   ]
  },
  {
   "cell_type": "code",
   "execution_count": 2,
   "id": "ed0df420-abe0-4857-a811-1d82a7e0e990",
   "metadata": {},
   "outputs": [
    {
     "name": "stdout",
     "output_type": "stream",
     "text": [
      "/Users/annettechua/Documents/NUS /Y1S2/SP2273/learning-portfolio-annette-14/files, folders & os  exercises\n"
     ]
    }
   ],
   "source": [
    "!pwd"
   ]
  },
  {
   "cell_type": "code",
   "execution_count": 2,
   "id": "00df3d1b-5a18-498d-a011-4bc1f5683acc",
   "metadata": {},
   "outputs": [
    {
     "name": "stdout",
     "output_type": "stream",
     "text": [
      "oct-10-singapore.txt\n"
     ]
    }
   ],
   "source": [
    "month_dict = {'jan': '01', 'feb': '02', 'mar': '03',\n",
    "'apr': '04', 'may': '05', 'jun': '06',\n",
    "'jul': '07', 'aug': '08', 'sep': '09',\n",
    "'oct': '10', 'nov': '11', 'dec': '12'\n",
    "}\n",
    "\n",
    "filename = 'oct-10-singapore.txt'\n",
    "broken_filename = old_filename.split('-')\n",
    "if broken_filename[0] == 'oct':\n",
    "    filename = '10-08-singapore.txt'\n",
    "\n",
    "print (filename)\n"
   ]
  },
  {
   "cell_type": "markdown",
   "id": "656c1154-43a2-4891-9758-0e77cdb6c9ed",
   "metadata": {},
   "source": [
    "## Task 2 "
   ]
  },
  {
   "cell_type": "code",
   "execution_count": 3,
   "id": "3edfca5d-07ae-4e8a-9204-693228c38698",
   "metadata": {},
   "outputs": [
    {
     "ename": "NameError",
     "evalue": "name 'sqrt' is not defined",
     "output_type": "error",
     "traceback": [
      "\u001b[0;31m---------------------------------------------------------------------------\u001b[0m",
      "\u001b[0;31mNameError\u001b[0m                                 Traceback (most recent call last)",
      "Cell \u001b[0;32mIn[3], line 2\u001b[0m\n\u001b[1;32m      1\u001b[0m z \u001b[38;5;241m=\u001b[39m \u001b[38;5;241m4\u001b[39m\n\u001b[0;32m----> 2\u001b[0m y \u001b[38;5;241m=\u001b[39m \u001b[43msqrt\u001b[49m(z)\n\u001b[1;32m      3\u001b[0m \u001b[38;5;28mprint\u001b[39m(y)\n",
      "\u001b[0;31mNameError\u001b[0m: name 'sqrt' is not defined"
     ]
    }
   ],
   "source": [
    "z = 4\n",
    "y = sqrt(z)\n",
    "print(y)"
   ]
  },
  {
   "cell_type": "code",
   "execution_count": 4,
   "id": "0f168855-17db-496e-9f02-9e2da88708c8",
   "metadata": {},
   "outputs": [
    {
     "ename": "NameError",
     "evalue": "name 'sqrt' is not defined",
     "output_type": "error",
     "traceback": [
      "\u001b[0;31m---------------------------------------------------------------------------\u001b[0m",
      "\u001b[0;31mNameError\u001b[0m                                 Traceback (most recent call last)",
      "Cell \u001b[0;32mIn[4], line 4\u001b[0m\n\u001b[1;32m      1\u001b[0m \u001b[38;5;28;01mimport\u001b[39;00m \u001b[38;5;21;01mnumpy\u001b[39;00m \u001b[38;5;28;01mas\u001b[39;00m \u001b[38;5;21;01mnp\u001b[39;00m \n\u001b[1;32m      3\u001b[0m z \u001b[38;5;241m=\u001b[39m \u001b[38;5;241m4\u001b[39m\n\u001b[0;32m----> 4\u001b[0m y \u001b[38;5;241m=\u001b[39m \u001b[43msqrt\u001b[49m(z)\n\u001b[1;32m      5\u001b[0m \u001b[38;5;28mprint\u001b[39m(y)\n",
      "\u001b[0;31mNameError\u001b[0m: name 'sqrt' is not defined"
     ]
    }
   ],
   "source": [
    "import numpy as np \n",
    "\n",
    "z = 4\n",
    "y = sqrt(z)\n",
    "print(y)"
   ]
  },
  {
   "cell_type": "code",
   "execution_count": 6,
   "id": "b60297d8-6c17-44ea-9ac0-c0de12a3ca2e",
   "metadata": {},
   "outputs": [
    {
     "name": "stdout",
     "output_type": "stream",
     "text": [
      "[['A' 'C' 'E' 'G' 'I']]\n"
     ]
    }
   ],
   "source": [
    "import numpy as np \n",
    "\n",
    "np_array_2d = np.array([[1, \"A\"], [3, \"C\"], [2, \"B\"], [4, \"D\"],\n",
    "                        [5, \"E\"], [7, \"G\"], [6, \"F\"], [8, \"H\"],\n",
    "                        [10, \"J\"], [9, \"I\"]])\n",
    "\n",
    "numbers_str = np_array_2d[:,0]                   # obtaining the digits of each small list within the array \n",
    "\n",
    "numbers_int = numbers_str.astype(int)            # since arrays store all the numbers as string, here we'convert' str for int temporarily\n",
    "numbers_odd = np.array(~(numbers_int%2 == 0))    # sieving out the odd numbers in another array \n",
    "\n",
    "print(np_array_2d[np.where(~(numbers_int%2 == 0)), 1])                      # extracting out the lists in those index positions and then extracting out the alphabets only \n",
    "\n"
   ]
  },
  {
   "cell_type": "markdown",
   "id": "66e460a7-40d0-4f42-86a1-c47e592c43c5",
   "metadata": {},
   "source": [
    "## Task 3 "
   ]
  },
  {
   "cell_type": "code",
   "execution_count": null,
   "id": "c69780e6-79d3-4e4a-b468-7d317147aca9",
   "metadata": {},
   "outputs": [],
   "source": []
  },
  {
   "cell_type": "markdown",
   "id": "06e9b172-d024-4989-b9a9-74ec12c640e3",
   "metadata": {},
   "source": [
    "## Task 4 "
   ]
  },
  {
   "cell_type": "code",
   "execution_count": null,
   "id": "82d0b537-7c4a-4c0f-9b77-bc932194176a",
   "metadata": {},
   "outputs": [],
   "source": []
  },
  {
   "cell_type": "markdown",
   "id": "b063719f-bfec-44df-8ad7-a1b426a84c35",
   "metadata": {},
   "source": [
    "## Task 5 "
   ]
  },
  {
   "cell_type": "code",
   "execution_count": null,
   "id": "c54a29cb-fc3e-45f3-a3d7-9f6e14314b5e",
   "metadata": {},
   "outputs": [],
   "source": []
  },
  {
   "cell_type": "markdown",
   "id": "db358f39-9e06-43a6-b9be-4c1dd11e9bdf",
   "metadata": {},
   "source": [
    "## Task 6 "
   ]
  },
  {
   "cell_type": "code",
   "execution_count": null,
   "id": "92b30267-2bba-46ac-95ca-8e6c24629aaa",
   "metadata": {},
   "outputs": [],
   "source": []
  },
  {
   "cell_type": "markdown",
   "id": "2bfdfa61-24e7-4468-92a0-eb45add3982f",
   "metadata": {},
   "source": [
    "## Task 7 "
   ]
  },
  {
   "cell_type": "code",
   "execution_count": null,
   "id": "257ef194-bef6-46ad-a928-0b7994c209ea",
   "metadata": {},
   "outputs": [],
   "source": []
  }
 ],
 "metadata": {
  "kernelspec": {
   "display_name": "Python 3 (ipykernel)",
   "language": "python",
   "name": "python3"
  },
  "language_info": {
   "codemirror_mode": {
    "name": "ipython",
    "version": 3
   },
   "file_extension": ".py",
   "mimetype": "text/x-python",
   "name": "python",
   "nbconvert_exporter": "python",
   "pygments_lexer": "ipython3",
   "version": "3.11.7"
  },
  "toc": {
   "base_numbering": 1,
   "nav_menu": {},
   "number_sections": true,
   "sideBar": true,
   "skip_h1_title": false,
   "title_cell": "Table of Contents",
   "title_sidebar": "Contents",
   "toc_cell": false,
   "toc_position": {},
   "toc_section_display": true,
   "toc_window_display": false
  },
  "vscode": {
   "interpreter": {
    "hash": "31f2aee4e71d21fbe5cf8b01ff0e069b9275f58929596ceb00d14d90e3e16cd6"
   }
  }
 },
 "nbformat": 4,
 "nbformat_minor": 5
}
