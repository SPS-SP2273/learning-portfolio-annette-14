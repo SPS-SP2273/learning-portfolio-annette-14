{
 "cells": [
  {
   "attachments": {},
   "cell_type": "markdown",
   "id": "123456",
   "metadata": {},
   "source": [
    "<div style=\"text-align:left;font-size:2em\"><span style=\"font-weight:bolder;font-size:1.25em\">SP2273 | Learning Portfolio</span><br><br><span style=\"font-weight:bold;color:darkred\">Functions (Need) Exercises</span></div>"
   ]
  },
  {
   "cell_type": "markdown",
   "id": "79fa3f6b-32bf-4ea6-904f-0f06ada4cbf7",
   "metadata": {},
   "source": [
    "Exercise 1 (Do you know why?)"
   ]
  },
  {
   "cell_type": "code",
   "execution_count": 48,
   "id": "9bd2545c-692d-408d-901c-f8f5340b50b4",
   "metadata": {},
   "outputs": [
    {
     "name": "stdout",
     "output_type": "stream",
     "text": [
      "Hello Batman! So, nice to meet you!\n",
      "Hello Black Widow!\n"
     ]
    }
   ],
   "source": [
    "def greeting(name):\n",
    "    if name == 'Batman':\n",
    "        return 'Hello Batman! So, nice to meet you!'\n",
    "    return f'Hello {name}!'\n",
    "\n",
    "print(greeting('Batman'))\n",
    "print(greeting('Black Widow'))\n"
   ]
  },
  {
   "cell_type": "code",
   "execution_count": 50,
   "id": "c7a2135c-ad10-45ca-a042-56462751ddd4",
   "metadata": {},
   "outputs": [
    {
     "name": "stdout",
     "output_type": "stream",
     "text": [
      "Hello Batman! So, nice to meet you!\n",
      "None\n"
     ]
    }
   ],
   "source": [
    "## experimenting with the code\n",
    "def greeting(name):\n",
    "    if name == 'Batman':\n",
    "        return 'Hello Batman! So, nice to meet you!'\n",
    "\n",
    "print(greeting('Batman'))\n",
    "print(greeting('Black Widow'))"
   ]
  },
  {
   "cell_type": "markdown",
   "id": "eef04381-f8f1-483e-9197-4bf0e78073b8",
   "metadata": {},
   "source": [
    "The 'else' statement is not strictly required when using an 'if' statement. If the 'if' condition is not met, the code will simply skip the block of code under 'if' and move on to the next line of code after the 'if' block of code. Therefore, in the code given, if name is not 'Batman', the block of code under 'if' is skipped and the line of code instructing to return f'Hello{name}!' is run. Since there is a return command in both events of the if condition being met or not fulfilled, the code will not bring about an error. "
   ]
  },
  {
   "cell_type": "markdown",
   "id": "c09f2599-c7fb-4d5a-a75a-779737b10727",
   "metadata": {},
   "source": [
    "Exercise 2 (Chubby or not)"
   ]
  },
  {
   "cell_type": "code",
   "execution_count": 28,
   "id": "b91baefc-46e9-4709-8abd-779f35f77cc1",
   "metadata": {},
   "outputs": [],
   "source": [
    "## (wrong) iteration 1\n",
    "def calculate_bmi(weight, height):\n",
    "    BMI = weight/(height**2)\n",
    "    return BMI \n",
    "    if BMI < 18.5:\n",
    "        print(\"Status: Underweight\")\n",
    "    elif 18.5 <= BMI <= 24.9:\n",
    "        print(\"Status: Normal weight\")\n",
    "    elif 25 <= BMI <= 29.9:\n",
    "        print(\"Status: Overweight\")\n",
    "    else:\n",
    "        print(\"Status: Obesity\")\n"
   ]
  },
  {
   "cell_type": "code",
   "execution_count": 41,
   "id": "231cbfc2-6c40-42db-b8a2-da0b4d31e18c",
   "metadata": {},
   "outputs": [],
   "source": [
    "## (wrong) iteration 2:\n",
    "def calculate_bmi(weight, height):\n",
    "    BMI = weight/(height**2)\n",
    "    return BMI \n",
    "    if BMI < 18.5:\n",
    "        status = \"Underweight\"\n",
    "    elif 18.5 <= BMI <= 24.9:\n",
    "       status = \"Normal weight\"\n",
    "    elif 25 <= BMI <= 29.9:\n",
    "        status = \"Overweight\"\n",
    "    else:\n",
    "        status = \"Obesity\"\n",
    "    print(status) \n"
   ]
  },
  {
   "cell_type": "code",
   "execution_count": 43,
   "id": "b45449cf-d3c0-46e0-8f6e-9c33a56db729",
   "metadata": {},
   "outputs": [
    {
     "data": {
      "text/plain": [
       "23.875114784205696"
      ]
     },
     "execution_count": 43,
     "metadata": {},
     "output_type": "execute_result"
    }
   ],
   "source": [
    "calculate_bmi (65, 1.65)   #testing function. not printing the status yet "
   ]
  },
  {
   "cell_type": "code",
   "execution_count": 44,
   "id": "3f4ca989-f8c1-424c-b728-764446b98119",
   "metadata": {},
   "outputs": [],
   "source": [
    "## (can still be improved) iteration 3:\n",
    "\n",
    "def calculate_bmi(weight, height):\n",
    "    BMI = weight/(height**2) \n",
    "    if BMI < 18.5:\n",
    "        status = \"Underweight\"\n",
    "    elif 18.5 <= BMI <= 24.9:\n",
    "       status = \"Normal weight\"\n",
    "    elif 25 <= BMI <= 29.9:\n",
    "        status = \"Overweight\"\n",
    "    else:\n",
    "        status = \"Obesity\"\n",
    "    return BMI, status "
   ]
  },
  {
   "cell_type": "code",
   "execution_count": 45,
   "id": "5444625c-c889-4822-847a-284be3d0182e",
   "metadata": {},
   "outputs": [
    {
     "data": {
      "text/plain": [
       "(19.531249999999996, 'Normal weight')"
      ]
     },
     "execution_count": 45,
     "metadata": {},
     "output_type": "execute_result"
    }
   ],
   "source": [
    "\n",
    "calculate_bmi(50, 1.6)  #testing function. can be improved since its not rly entirely string "
   ]
  },
  {
   "cell_type": "code",
   "execution_count": 46,
   "id": "af8bd73a-d0fb-4010-b6c1-74b3ca0a0f78",
   "metadata": {},
   "outputs": [],
   "source": [
    "## FINAL ANSWER \n",
    "\n",
    "def calculate_bmi(weight, height):\n",
    "    BMI = weight/(height**2) \n",
    "    if BMI < 18.5:\n",
    "        status = \"Underweight\"\n",
    "    elif 18.5 <= BMI <= 24.9:\n",
    "       status = \"Normal weight\"\n",
    "    elif 25 <= BMI <= 29.9:\n",
    "        status = \"Overweight\"\n",
    "    else:\n",
    "        status = \"Obesity\"\n",
    "    return(print(f\"BMI is {BMI}, indiciating that status : {status}\"))\n"
   ]
  },
  {
   "cell_type": "code",
   "execution_count": 47,
   "id": "13d74b4a-0380-459f-93af-c45d6b4698ac",
   "metadata": {},
   "outputs": [
    {
     "name": "stdout",
     "output_type": "stream",
     "text": [
      "BMI is 23.437499999999996, indiciating that status : Normal weight\n"
     ]
    }
   ],
   "source": [
    "calculate_bmi (60,1.6)   #testing function "
   ]
  }
 ],
 "metadata": {
  "kernelspec": {
   "display_name": "Python 3 (ipykernel)",
   "language": "python",
   "name": "python3"
  },
  "language_info": {
   "codemirror_mode": {
    "name": "ipython",
    "version": 3
   },
   "file_extension": ".py",
   "mimetype": "text/x-python",
   "name": "python",
   "nbconvert_exporter": "python",
   "pygments_lexer": "ipython3",
   "version": "3.11.7"
  },
  "toc": {
   "base_numbering": 1,
   "nav_menu": {},
   "number_sections": true,
   "sideBar": true,
   "skip_h1_title": false,
   "title_cell": "Table of Contents",
   "title_sidebar": "Contents",
   "toc_cell": false,
   "toc_position": {},
   "toc_section_display": true,
   "toc_window_display": false
  },
  "vscode": {
   "interpreter": {
    "hash": "31f2aee4e71d21fbe5cf8b01ff0e069b9275f58929596ceb00d14d90e3e16cd6"
   }
  }
 },
 "nbformat": 4,
 "nbformat_minor": 5
}
