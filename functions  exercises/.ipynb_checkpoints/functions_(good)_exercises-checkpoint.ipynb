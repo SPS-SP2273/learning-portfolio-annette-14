{
 "cells": [
  {
   "attachments": {},
   "cell_type": "markdown",
   "id": "123456",
   "metadata": {},
   "source": [
    "<div style=\"text-align:left;font-size:2em\"><span style=\"font-weight:bolder;font-size:1.25em\">SP2273 | Learning Portfolio</span><br><br><span style=\"font-weight:bold;color:darkred\">Functions (Good) Exercises</span></div>"
   ]
  },
  {
   "cell_type": "markdown",
   "id": "21c4524b-adac-47eb-9375-d0685c685e8e",
   "metadata": {},
   "source": [
    "Exercise 1 (Celsius to Farenheit or Kelvin)"
   ]
  },
  {
   "cell_type": "code",
   "execution_count": 29,
   "id": "ee29d48f-baab-48c3-b6fd-522c4b939c6c",
   "metadata": {},
   "outputs": [
    {
     "name": "stdout",
     "output_type": "stream",
     "text": [
      "104.0\n",
      "86.0\n",
      "293.15\n",
      "Not an appropriate temperature scale!\n"
     ]
    }
   ],
   "source": [
    "def convert_celsius(temperature_celsius, target_scale = \"Farenheit\"):\n",
    "    if target_scale == \"Farenheit\":\n",
    "        return temperature_celsius * 1.8 + 32\n",
    "    elif target_scale == \"Kelvin\" :\n",
    "        return temperature_celsius + 273.15\n",
    "    else: \n",
    "        return\"Not an appropriate temperature scale!\"\n",
    "\n",
    "print(convert_celsius(40))\n",
    "\n",
    "print(convert_celsius(30, \"Farenheit\"))\n",
    "\n",
    "print(convert_celsius(20, \"Kelvin\"))\n",
    "\n",
    "print(convert_celsius(10, \"winter\"))"
   ]
  },
  {
   "cell_type": "markdown",
   "id": "a74bba1d-176e-405d-b695-0bb91d105f39",
   "metadata": {},
   "source": [
    "Exercise 2 (Farenheit to Celsius or Kelvin )"
   ]
  },
  {
   "cell_type": "code",
   "execution_count": 39,
   "id": "6ba62030-df97-47de-a350-49bb03d6407d",
   "metadata": {},
   "outputs": [
    {
     "name": "stdout",
     "output_type": "stream",
     "text": [
      "37.77777777777778\n",
      "60.0\n",
      "299.81666666666666\n",
      "Not an appropriate temperature scale!\n"
     ]
    }
   ],
   "source": [
    "def convert_farenheit(temperature_farenheit, target_scale = \"Celsius\"):\n",
    "    if target_scale == \"Celsius\":\n",
    "        return (temperature_farenheit- 32) * 5/9\n",
    "    elif target_scale == \"Kelvin\":\n",
    "        return (temperature_farenheit -32)*(5/9) + 273.15\n",
    "    else: \n",
    "        return \"Not an appropriate temperature scale!\"\n",
    "\n",
    "print(convert_farenheit(100))\n",
    "\n",
    "print(convert_farenheit(140, \"Celsius\"))\n",
    "\n",
    "print(convert_farenheit(80, \"Kelvin\"))\n",
    "\n",
    "print(convert_farenheit(90, \"summer\"))"
   ]
  },
  {
   "cell_type": "markdown",
   "id": "29d4e921-e5d4-4c93-9552-3f39bd096831",
   "metadata": {},
   "source": [
    "Exercise 3 (General Temperature Conversion)"
   ]
  },
  {
   "cell_type": "code",
   "execution_count": 43,
   "id": "cc260913-02b4-4cb0-94cc-ef14859db4c6",
   "metadata": {},
   "outputs": [],
   "source": [
    "def convert_kelvin(temperature_kelvin, target_scale):\n",
    "    if target_scale == \"Celsius\": \n",
    "        return temperature_kelvin - 273.5\n",
    "    elif target_scale == \"Farenheit\": \n",
    "        return (temperature_kelvin - 273.15) * 1.8 + 32\n",
    "    else: \n",
    "        return \"Not an appropriate temperature scale!\""
   ]
  },
  {
   "cell_type": "code",
   "execution_count": 44,
   "id": "ae7a07c4-cdc8-4b87-86ad-fbd99cbf71e4",
   "metadata": {},
   "outputs": [
    {
     "ename": "TypeError",
     "evalue": "convert_celsius() missing 1 required positional argument: 'temperature_celsius'",
     "output_type": "error",
     "traceback": [
      "\u001b[0;31m---------------------------------------------------------------------------\u001b[0m",
      "\u001b[0;31mTypeError\u001b[0m                                 Traceback (most recent call last)",
      "Cell \u001b[0;32mIn[44], line 13\u001b[0m\n\u001b[1;32m     10\u001b[0m     \u001b[38;5;28;01melse\u001b[39;00m: \n\u001b[1;32m     11\u001b[0m         \u001b[38;5;28;01mreturn\u001b[39;00m \u001b[38;5;124m\"\u001b[39m\u001b[38;5;124mNot an appropriate temperature scale!\u001b[39m\u001b[38;5;124m\"\u001b[39m \n\u001b[0;32m---> 13\u001b[0m \u001b[38;5;28mprint\u001b[39m(\u001b[43mconvert_temperature\u001b[49m\u001b[43m(\u001b[49m\u001b[38;5;241;43m50\u001b[39;49m\u001b[43m,\u001b[49m\u001b[43m \u001b[49m\u001b[38;5;124;43m\"\u001b[39;49m\u001b[38;5;124;43mCelsius\u001b[39;49m\u001b[38;5;124;43m\"\u001b[39;49m\u001b[43m,\u001b[49m\u001b[43m \u001b[49m\u001b[38;5;124;43m\"\u001b[39;49m\u001b[38;5;124;43mKelvin\u001b[39;49m\u001b[38;5;124;43m\"\u001b[39;49m\u001b[43m)\u001b[49m)\n",
      "Cell \u001b[0;32mIn[44], line 5\u001b[0m, in \u001b[0;36mconvert_temperature\u001b[0;34m(temperature, source_scale, target_scale)\u001b[0m\n\u001b[1;32m      3\u001b[0m \u001b[38;5;28;01mdef\u001b[39;00m \u001b[38;5;21mconvert_temperature\u001b[39m(temperature, source_scale, target_scale):\n\u001b[1;32m      4\u001b[0m     \u001b[38;5;28;01mif\u001b[39;00m source_scale \u001b[38;5;241m==\u001b[39m \u001b[38;5;124m\"\u001b[39m\u001b[38;5;124mCelsius\u001b[39m\u001b[38;5;124m\"\u001b[39m:\n\u001b[0;32m----> 5\u001b[0m         \u001b[38;5;28;01mreturn\u001b[39;00m \u001b[43mconvert_celsius\u001b[49m\u001b[43m(\u001b[49m\u001b[43m)\u001b[49m\n\u001b[1;32m      6\u001b[0m     \u001b[38;5;28;01melif\u001b[39;00m source_scale \u001b[38;5;241m==\u001b[39m \u001b[38;5;124m\"\u001b[39m\u001b[38;5;124mFarenheit\u001b[39m\u001b[38;5;124m\"\u001b[39m:\n\u001b[1;32m      7\u001b[0m         \u001b[38;5;28;01mreturn\u001b[39;00m convert_farenheit()\n",
      "\u001b[0;31mTypeError\u001b[0m: convert_celsius() missing 1 required positional argument: 'temperature_celsius'"
     ]
    }
   ],
   "source": [
    "# (wrong) iteration 1 \n",
    "\n",
    "def convert_temperature(temperature, source_scale, target_scale):\n",
    "    if source_scale == \"Celsius\":\n",
    "        return convert_celsius()\n",
    "    elif source_scale == \"Farenheit\":\n",
    "        return convert_farenheit()\n",
    "    elif source_scale == \"Kelvin\":\n",
    "        return convert_kelvin()\n",
    "    else: \n",
    "        return \"Not an appropriate temperature scale!\" \n",
    "\n",
    "print(convert_temperature(50, \"Celsius\", \"Kelvin\"))"
   ]
  },
  {
   "cell_type": "code",
   "execution_count": 45,
   "id": "ef230d49-360e-4a46-bd3f-26af9f51cda6",
   "metadata": {},
   "outputs": [
    {
     "ename": "NameError",
     "evalue": "name 'temperature_celsius' is not defined",
     "output_type": "error",
     "traceback": [
      "\u001b[0;31m---------------------------------------------------------------------------\u001b[0m",
      "\u001b[0;31mNameError\u001b[0m                                 Traceback (most recent call last)",
      "Cell \u001b[0;32mIn[45], line 13\u001b[0m\n\u001b[1;32m     10\u001b[0m     \u001b[38;5;28;01melse\u001b[39;00m: \n\u001b[1;32m     11\u001b[0m         \u001b[38;5;28;01mreturn\u001b[39;00m \u001b[38;5;124m\"\u001b[39m\u001b[38;5;124mNot an appropriate temperature scale!\u001b[39m\u001b[38;5;124m\"\u001b[39m \n\u001b[0;32m---> 13\u001b[0m \u001b[38;5;28mprint\u001b[39m(\u001b[43mconvert_temperature\u001b[49m\u001b[43m(\u001b[49m\u001b[38;5;241;43m50\u001b[39;49m\u001b[43m,\u001b[49m\u001b[43m \u001b[49m\u001b[38;5;124;43m\"\u001b[39;49m\u001b[38;5;124;43mCelsius\u001b[39;49m\u001b[38;5;124;43m\"\u001b[39;49m\u001b[43m,\u001b[49m\u001b[43m \u001b[49m\u001b[38;5;124;43m\"\u001b[39;49m\u001b[38;5;124;43mKelvin\u001b[39;49m\u001b[38;5;124;43m\"\u001b[39;49m\u001b[43m)\u001b[49m)\n",
      "Cell \u001b[0;32mIn[45], line 5\u001b[0m, in \u001b[0;36mconvert_temperature\u001b[0;34m(temperature, source_scale, target_scale)\u001b[0m\n\u001b[1;32m      3\u001b[0m \u001b[38;5;28;01mdef\u001b[39;00m \u001b[38;5;21mconvert_temperature\u001b[39m(temperature, source_scale, target_scale):\n\u001b[1;32m      4\u001b[0m     \u001b[38;5;28;01mif\u001b[39;00m source_scale \u001b[38;5;241m==\u001b[39m \u001b[38;5;124m\"\u001b[39m\u001b[38;5;124mCelsius\u001b[39m\u001b[38;5;124m\"\u001b[39m:\n\u001b[0;32m----> 5\u001b[0m         \u001b[38;5;28;01mreturn\u001b[39;00m convert_celsius(\u001b[43mtemperature_celsius\u001b[49m, target_scale)\n\u001b[1;32m      6\u001b[0m     \u001b[38;5;28;01melif\u001b[39;00m source_scale \u001b[38;5;241m==\u001b[39m \u001b[38;5;124m\"\u001b[39m\u001b[38;5;124mFarenheit\u001b[39m\u001b[38;5;124m\"\u001b[39m:\n\u001b[1;32m      7\u001b[0m         \u001b[38;5;28;01mreturn\u001b[39;00m convert_farenheit(temperature_farenheit, target_scale)\n",
      "\u001b[0;31mNameError\u001b[0m: name 'temperature_celsius' is not defined"
     ]
    }
   ],
   "source": [
    "# (wrong) iteration 2 \n",
    "\n",
    "def convert_temperature(temperature, source_scale, target_scale):\n",
    "    if source_scale == \"Celsius\":\n",
    "        return convert_celsius(temperature_celsius, target_scale)\n",
    "    elif source_scale == \"Farenheit\":\n",
    "        return convert_farenheit(temperature_farenheit, target_scale)\n",
    "    elif source_scale == \"Kelvin\":\n",
    "        return convert_kelvin(temperature_kelvin, target_scale)\n",
    "    else: \n",
    "        return \"Not an appropriate temperature scale!\" \n",
    "\n",
    "print(convert_temperature(50, \"Celsius\", \"Kelvin\"))"
   ]
  },
  {
   "cell_type": "code",
   "execution_count": 48,
   "id": "5778e266-369d-41f6-9472-25c4a85b8e00",
   "metadata": {},
   "outputs": [
    {
     "name": "stdout",
     "output_type": "stream",
     "text": [
      "323.15\n",
      "122.0\n",
      "26.666666666666668\n",
      "299.81666666666666\n",
      "-173.5\n",
      "-279.66999999999996\n",
      "Not an appropriate temperature scale!\n"
     ]
    }
   ],
   "source": [
    "# FINAL ANSWER \n",
    "\n",
    "def convert_temperature(temperature, source_scale, target_scale):\n",
    "    if source_scale == \"Celsius\":\n",
    "        return convert_celsius(temperature, target_scale)     # since temperature_celsius, _farenheit or _kelvin was an argument NOT included \n",
    "                                                              # (con't) in convert_temperature() function, we must use temperature as te argument instead \n",
    "    elif source_scale == \"Farenheit\":\n",
    "        return convert_farenheit(temperature, target_scale)\n",
    "        \n",
    "    elif source_scale == \"Kelvin\":\n",
    "        return convert_kelvin(temperature, target_scale)\n",
    "        \n",
    "    else: \n",
    "        return \"Not an appropriate temperature scale!\" \n",
    "\n",
    "print(convert_temperature(50, \"Celsius\", \"Kelvin\"))  #printout is correct!\n",
    "\n",
    "print (convert_temperature(50, \"Celsius\", \"Farenheit\"))  #printout is correct!\n",
    "\n",
    "print(convert_temperature(80, \"Farenheit\", \"Celsius\"))  #printout is correct!\n",
    "\n",
    "print(convert_temperature(80, \"Farenheit\", \"Kelvin\")) #printout is correct!\n",
    "\n",
    "print(convert_temperature(100, \"Kelvin\", \"Celsius\"))   #printout is correct!\n",
    "\n",
    "print(convert_temperature(100, \"Kelvin\", \"Farenheit\"))  #printout is correct!\n",
    "\n",
    "print(convert_temperature(110, \"spring\", \"autumn\")) #printout is correct!"
   ]
  }
 ],
 "metadata": {
  "kernelspec": {
   "display_name": "Python 3 (ipykernel)",
   "language": "python",
   "name": "python3"
  },
  "language_info": {
   "codemirror_mode": {
    "name": "ipython",
    "version": 3
   },
   "file_extension": ".py",
   "mimetype": "text/x-python",
   "name": "python",
   "nbconvert_exporter": "python",
   "pygments_lexer": "ipython3",
   "version": "3.11.7"
  },
  "toc": {
   "base_numbering": 1,
   "nav_menu": {},
   "number_sections": true,
   "sideBar": true,
   "skip_h1_title": false,
   "title_cell": "Table of Contents",
   "title_sidebar": "Contents",
   "toc_cell": false,
   "toc_position": {},
   "toc_section_display": true,
   "toc_window_display": false
  },
  "vscode": {
   "interpreter": {
    "hash": "31f2aee4e71d21fbe5cf8b01ff0e069b9275f58929596ceb00d14d90e3e16cd6"
   }
  }
 },
 "nbformat": 4,
 "nbformat_minor": 5
}
